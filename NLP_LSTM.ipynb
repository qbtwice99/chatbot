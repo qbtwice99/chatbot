{
  "nbformat": 4,
  "nbformat_minor": 0,
  "metadata": {
    "colab": {
      "name": "Untitled8.ipynb",
      "provenance": [],
      "collapsed_sections": []
    },
    "kernelspec": {
      "display_name": "Python 3",
      "name": "python3"
    },
    "language_info": {
      "name": "python"
    }
  },
  "cells": [
    {
      "cell_type": "code",
      "metadata": {
        "id": "jSVCII1Mt4-h"
      },
      "source": [
        "import glob\n",
        "from  sklearn.model_selection import train_test_split\n",
        "import re\n",
        "import numpy as np\n",
        "import os\n",
        "\n",
        "import tensorflow as tf\n",
        "\n",
        "import time\n",
        "\n",
        "from tensorflow.keras.models import Model\n",
        "from tensorflow.keras.layers import Dense, Embedding, LSTM, Input\n",
        "from tensorflow.keras.activations import softmax\n",
        "from tensorflow.keras.preprocessing.sequence import pad_sequences"
      ],
      "execution_count": 108,
      "outputs": []
    },
    {
      "cell_type": "code",
      "metadata": {
        "colab": {
          "base_uri": "https://localhost:8080/"
        },
        "id": "hCNiZWicuFqJ",
        "outputId": "7c4675de-2f13-4748-dacc-eaa8635ea828"
      },
      "source": [
        "files = glob.glob(\"data/*.txt\")\n",
        "X = []\n",
        "Y = []\n",
        "\n",
        "for file in files:\n",
        "  lines = open(file, 'r').readlines()\n",
        "  for line in lines:\n",
        "    split_line = line.split(\"__eou__\", 2)\n",
        "    X.append(re.sub(r'\\W+',\" \", split_line[0]).strip().lower().split(\" \"))\n",
        "\n",
        "    Y.append(re.sub(r'\\W+',\" \", split_line[1]).strip().lower().split(\" \"))\n",
        "\n",
        "print(f\"{X[:3]}\\n{Y[:3]}\")\n",
        "print(f\"Len X: {len(X)}\")\n",
        "print(f\"len y: {len(Y)}\")\n"
      ],
      "execution_count": 109,
      "outputs": [
        {
          "output_type": "stream",
          "text": [
            "[['trường', 'mình', 'ktx', 'sạch', 'không'], ['trường', 'mình', 'thầy', 'cô', 'nghiêm', 'khắc', 'không'], ['trường', 'mình', 'có', 'ngành', 'nào', 'liên', 'quan', 'về', 'sư', 'phạm', 'không']]\n",
            "[['quá', 'sạch', 'là', 'đằng', 'khác'], ['nghiêm', 'lắm', 'ý'], ['có', 'trường', 'mình', 'có', 'khoa', 'chuyên', 'về', 'này']]\n",
            "Len X: 5855\n",
            "len y: 5855\n"
          ],
          "name": "stdout"
        }
      ]
    },
    {
      "cell_type": "code",
      "metadata": {
        "colab": {
          "base_uri": "https://localhost:8080/"
        },
        "id": "suK4G8sbvzt6",
        "outputId": "eee07224-62d7-427a-eac8-d3edb304504e"
      },
      "source": [
        "truncated_questions = []\n",
        "for question in X:\n",
        "    truncated_questions.append(' '.join(question).strip())\n",
        "\n",
        "print(truncated_questions[:3])"
      ],
      "execution_count": 110,
      "outputs": [
        {
          "output_type": "stream",
          "text": [
            "['trường mình ktx sạch không', 'trường mình thầy cô nghiêm khắc không', 'trường mình có ngành nào liên quan về sư phạm không']\n"
          ],
          "name": "stdout"
        }
      ]
    },
    {
      "cell_type": "code",
      "metadata": {
        "colab": {
          "base_uri": "https://localhost:8080/"
        },
        "id": "HRaINyJ4vzzp",
        "outputId": "904675f2-98e2-4db7-9a45-72848c187ac3"
      },
      "source": [
        "truncated_answers = []\n",
        "for answer in Y:\n",
        "    truncated_answers.append(' '.join(answer).strip())\n",
        "print(truncated_answers)"
      ],
      "execution_count": 111,
      "outputs": [
        {
          "output_type": "stream",
          "text": [
            "['quá sạch là đằng khác', 'nghiêm lắm ý', 'có trường mình có khoa chuyên về này', 'mình ở ktx', 'còn thiếu mình học nữa', 'trường có khoa công nghệ thong tin chuyên về máy tính nha', 'ở học kì đầu tiên thì khoảng 10 triệu đồng học kì tiếp theo cũng khoảng 10 triệu từ năm 2 trở đi thì tự chọn môn nên học phí nhiều hay ít liên quan tới đăng ký môn nhiều hay ít', 'à có khi là văn phòng khoa hoặc phòng tư vấn học đường nhưng để thuận tiện thì bạn hãy gọi điện thoại cho đỡ phải xếp hàng nhé', 'mỗi ngày trừ chủ nhật hằng tuần từ 7h30 11h30 1h 17h30', 'về việc ở ký túc xá bạn phải làm đơn khi được duyệt rồi thì sẽ đóng phí với lại phải đảm bảo vệ sinh chỗ của mình', 'thầy cô rất thân thiện với sinh viên', 'học phí tại trường mình dao động từ 10 triệu tới 20 triệu mỗi học kì', 'trường mình không có dạy ngành y', 'mình cần bằng toeic 550 để có thể tốt nghiệp ra trường', 'trường không chỉ rộng mà còn có nhiều cây xanh nữa', 'nữ sẽ mặc áo dài hồng nam mặc áo sơ mi trắng', 'o tru o ng tđt ma c đo ng phu c thứ 2 và thứ 5', 'cơ sở vật chất của trường tđt đạt chuẩn 5 5 sao theo qs star anh quốc đảm bảo cho sự phát triển toàn diện của sinh viên', 'là trường công lập nên học phí được thu theo quy định của nhà nước và không thêm bất kì khoảng phí phát sinh nào', 'tâ t nhiên la đươ c nê u ba n co yêu câ u gia ha n', 'khoa qua n tri kinh doanh co như ng chuyên nga nh kinh tê', 'thâ y cô co chuyên môn râ t tô t', 'trươ ng mi nh co pho ng lab nghiên cư u nha', 'câ u co thê đê n pho ng e001 đê đươ c tư vâ n', 'đúng rồi bạn', 'văn phòng luôn hỗ trợ bạn mọi vấn đề liên quan đến trường nhé', 'tầm 20 triệu áp dụng cho hệ đào tạo chính quy và 40 triệu cho hệ chất lượng cao nhé bạn', 'khoảng 700 nghìn tùy thuộc vào môn học', 'ngoài chuyên ngành ra trường yêu cầu bạn phải có bằng tiếng anh quốc tế các môn thể chất và các bộ môn chính trị', 'trường có thư viện phục vụ cho nhu cầu học tập của sinh viên bạn nhé', 'trường hỗ trợ cho sinh viên nội trú trong ký túc xá trong vòng 2 năm đầu', 'trường mở đa dạng các câu lạc bộ giúp cho sinh viên giao lưu với nhau bao gồm cả bóng đá', 'tùy vào ngành trong trường và tùy vào hệ tiêu chuẩn hoặc chất lượng cao', 'lên google search nha bạn tại gần đây không biết có mở thêm ngành nào không do trường mình đa ngành', 'cũng hơi rộng lần đầu đi dễ lạc lắm ấy', 'có 4 tòa nha ở thoải mái', 'tùy vào tòa bạn ở theo mình nhớ thì ở tòa i và h thì 250k tháng còn k và l thì 600k nếu ở phòng dịch vụ thì đắt hơn', 'trường mình hay tổ chức văn nghệ đi chơi thì vui thôi', 'dễ nếu như bạn biết sửa ống nước với là một người may mắn', 'dạy hay á thầy cô khá là nice', 'tùy vào số tín chỉ một học kì em đăng kí mà học phí cao hay thấp', 'trung bình 1 năm thì rơi vào khoảng 30 000 000đ', '3 hoặc 4 tín 1 môn', 'em tích lũy đủ 132 tín là tốt nghiệp trường được', 'em có thể thay thế bằng cách học 12 chỉ thay cho luận án nha', 'em nghe lời thầy cô với chăm chỉ học tập là khó cũng thành dễ thôi', 'có nha bên em có rất nhiều mẫu váy thích hợp để đi biển', 'tất nhiên rồi chị đây là 40 mẫu váy thích hợp đây ạ', 'dạ đúng rồi tất cả đều là mẫu váy do chính shop thiết kế và đặt may ạ', 'mình có thể tham khảo mẫu voan mỏng vừa mát vừa giúp thân hình thanh mảnh nhé', 'tùy vào chất liệu và dáng váy mà có giá từ 200 000đ đến 2 000 000đ ạ', 'vì nó là voan nên mình nên nhẹ tay khi giặt nếu có thể thì giặt tay càng tốt nha ạ', 'váy dài trên đầu gối thì 500 000đ ngang bắp chân thì 700 000đ còn qua mắt cá thì 900 000đ ạ', 'khoảng 2 3 ngày là tới nha', 'vì chị ngoài tỉnh thành thành phố hồ chí minh nên phí là 35k chị nha', 'em đang ở gần lotte mart á em thấy ở đó ok', 'ổn lắm chị còn yên tĩnh nữa nên ok lắm', 'em không chắc nhưng hôm bữa thì còn khoảng 4 phòng á chị', 'giá phòng thì khoảng 1 800 000đ đến 4 000 000đ á chị', 'vậy thì chị có thể tham khảo phòng 2 000 000đ á em thấy rộng rãi', 'không đâu chị chú chủ nhà dễ thương lắm hay cho tụi em trái cây ăn', 'được á chị chiều thường chú không đi đâu qua gọi em', 'sao cậu biết hay vậy dạo này có mấy bộ phim mới ra hay lắm', 'đúng rồi đó phim hay cực luôn mình xem mà ghiền xiên ghiền vẹo', 'thường thì mình hay ra ngoài chơi với bạn á', 'trời ơi không đi uống trà sữa là một thiệt thòi lớn luôn á nghen', 'có luôn mình thích ăn còn hơn uống trà sữa nữa nhất là đi ăn lẩu đó', 'yes đó là những điều không thể thiếu nếu cậu đang stress rồi', 'mình có nhiều shop tủ lắm nhưng hầu như nó nằm ngay quận 1 đó', 'haha chuẩn luôn rồi cậu ơi', 'ok cậu luôn nha mình rất thích gần tết nữa đi mua là hợp lý rồi', 'có rồi á em mà hồi đó lâu lắm rồi đến bây giờ thì chị chưa thích ai khác nữa', 'chị thích con trai trưởng thành một chút chị không quá coi trong ngoại hình', 'có thể nói là như vậy vì anh đó lớn hơn chị 5 tuổi lận', 'chị thích đi vòng ngắm thành phố la cà ăn đây đó vì chị thích ăn lắm', 'cũng thích chị thích ở nhà bật phim xem rồi ăn uống gì đó hơn là ra rạp phim xem', 'chị thì sẽ đi uống trà sữa rồi ngồi nói chuyện cho hiểu đối phương', 'dạ robot 23 nghe rõ trả lời chị đây ạ', 'em chưa tự khám phá được nhưng mà theo dữ liệu thống kê thì em trả lời là bầu trời ạ', 'không á mày ơi dạo này dịch quá chắc năm sau tao về á', 'đúng rồi giờ ra đó đang lạnh lắm ra là thở ra khói đó', 'không có tuyết nhưng mà lúc mày nói chuyện là khói bay phà phà như hút thuốc lào á', 'ở chỗ tao là vùng nông thôn nên nhiều ruộng rồi trâu rồi bò lắm', 'được chứ về đi tao cho mày biết lội ruộng bắt ốc với chăn trâu là như thế nào', 'trường mình học quân sự tại trường cơ sở bảo lộc hoặc cơ sở nha trang nha em', 'khoa có 3 chuyên ngành chính nha em', 'thầy cô trường mình giảng dạy nhiệt tình tận tâm với nghề nha em', 'các khoa trường mình năm nào cũng có tổ chức nhiều hoạt động cho sinh viên nha', 'kí túc xá ok lắm nhưng kỷ luật cao', 'học ở đây vui lắm nha', 'trường mình có 39 ngành đào tạo nha', 'các thầy cô trong trường rất nhiệt tình trong giảng dạy và hỗ trợ sinh viên bạn nhé', 'đại học tôn đức thắng đảm bảo 99 phần trăm cơ hội việc làm cho các bạn sinh viên ra trường nha', 'cơ sở vật chất trường mình đạt 5 sao theo tiêu chuẩn quốc tế luôn nha', 'thư viện trường mình được xem là một trong những thư viện tốt nhất đông nam á nha', 'các bạn sinh viên tôn đức thắng rất thân thiện với nhau vì các bạn luôn tuân theo các quy chuẩn đạo đức của trường đặt ra', 'được bạn nha nhưng mình phải có sự đồng ý của bảo vệ và có thẻ khách tham quan của trường', 'trường mình có tổng cộng 2 hồ bơi nha', 'trường mình có rất nhiều câu lạc bộ thuộc nhiều lĩnh vực khác nhau để các bạn sinh viên có thể tham gia', 'thầy cô rất tâm huyết với sinh viên', 'trường mình có thư viện tốt nhất nước', 'trường có 3 kí túc xá riêng', 'phòng học đầy đủ tiện nghi ánh sáng tới máy lạnh không thiếu gì cả', 'có 3 hệ chương trình ở tdtu', 'trường mình có wifi nhé em', 'trường mình không bị kẹt xe em nhé', 'trường mình học phí cũng bình thường thôi em', 'thầy cô trường mình có trình độ chuyên môn cao em nhé', 'trường mình có cơ sở vật chất tốt em nhé', 'đúng rồi em nhé', 'trường mình có một sân golf rất lớn nha', 'học phí trường tdt là 50 triệu một năm nha', 'có chứ mình rất yêu trường', 'ừ mình cũng thấy gửi xe rất lâu', 'hiện tại gồm 39 ngành theo chất lượng tiêu chuẩn', 'gồm 1320 giảng viên', 'thư viện của trường tự hào là một trong những thư viện hiện đại và đầy đủ tài liệu nhất của tp hồ chí minh', 'mỗi năm dao động từ 40 50 triệu và có nhiều chính sách học bổng', 'trường mình có nhà thi đấu hồ bơi sân tennis sân bóng rổ đều có thể dùng để rèn luyện thể thao nhé', 'trường mình có các tòa lớn chính như tòa a b c d e f g và các tòa ký túc xá như h i còn một số nữa mà anh chợt không nhớ', 'khoa công nghệ thông tin có các ngành như khoa học máy tính kỹ thuật phần mềm mạng máy tính và truyền thông dữ liệu', 'dưới mỗi tòa lớn đều có các nhà gửi xe em nha tòa a là tòa đặc biệt dành cho giảng viên và còn các nhà gửi xe ngoài trời và cũng như dưới nhà thi đấu', 'tất nhiên là có rồi em các anh chị giám thị đều đảm nhiệm từng tầng trong các tòa lớp em để ý sẽ thấy các anh chị sẽ ngồi ở các bàn', 'mỗi tòa nhà thường thì sẽ có các nhà vệ sinh các nhà vệ sinh ở các tầng trệt và gần trệt thường thì sẽ là các nhà vệ sinh dành cho giảng viên ở mỗi tầng đều có các nhà vệ sinh', 'có 3 ngành chính khoa học máy tính kỹ thuật phần mềm truyền thông và mạng máy tính', 'trường tôn đức thắng phải mặc đồng phục vào thứ 2 và thứ 5 hằng tuần hoặc trong các buổi lễ quan trọng bạn nữ mặc áo dài truyền thống nam thì mặc áo sơ mi trắng quần tây', 'trường cần bằng toeic ielts pet tùy theo khóa sẽ có số điểm tối thiểu khác nhau để ra trường bạn nhé', 'có nhé bạn bạn hãy theo dõi trang của trường để cập nhật thông tin mới nhất về việc xét học bạ vào trường', 'trường tdtu có nhiều môn thể thao do trường tổ chức bạn có thể tham gia vào các nhóm có nhiều bộ môn thể thao như cầu lông tenis và cả bóng đá', 'thư viện tdtu mở của vào 7 giờ am và kết thúc lúc 5 giờ am làm việc từ thứ hai đến thứ bảy hàng tuần trừ các ngày lễ', 'trường tổng cộng có 4 căn tin căn tin nhà d căn tin thư viện căn tin dãy f căn tin tại khu ký túc xá mở phục vụ các bạn có thể ăn uống tại đây', 'trường có 4 chỗ gửi xe cho các bạn có thể gửi giá vé gửi xe là 2 nghìn vnd sinh viên đi học đông có thể có kẹt xe', 'cảm ơn bạn quan tâm hiện tại trường có khoa công nghệ thông tin với nhiều ngành cho các bạn chọn lựa như khoa học máy tính chuyên ngành mạng hệ thống thông tin vv', 'ngành mình học là ngành khoa học máy tính', 'ngành mình học học phí trung bình khoảng 20 triệu 1 năm', 'ngành mình trung bình sẽ là 4 năm nhưng tuỳ vào người học có thể sớm hơn hoặc trễ hơn', 'thường thì trường mình có mức học phí giao động từ 20 24 triệu mỗi năm', 'cơ sở vật chât khỏi chê trường có có thư viện xin nhất trong các trường đại học', 'có thể nói trong thời đại 4 0 thì các ngành liên quan đên công nghệ như it điện điện tử đang trở nên hot', 'các thầy cô đều có kiến thức chuyên môn cao tận tình trong việc giảng dạy và tận tụy với nghề', 'nếu em có học lực từ 8 0 trở lên và có điểm hoạt động trên 80 thì em có thể hoàn toàn nhận được học bổng', 'cái này thì em lên trang chủ của trường học lên fanpage trên facebook để cập nhật thông tin chính xác nha', 'có trường mình có đến 2 khu ký túc xá', 'xét tuyển bằng học bạ và xét tuyển bằng điểm thi tốt nghiệp em nhé', 'có trường mình với tiêu chí bắt buộc học qua môn bơi mới được ra trường', 'có em nhé trường mình có rất nhiều phong trào đoàn hội', 'tùy vào hệ tiêu chuẩn hay là chất lượng cao sẽ có mức học phí khác nhau', 'bán đồ điện tử bao gồm máy tính các loại và có cả điện thoại', 'bán rất nhiều loại gồm có asus msi apple acer lenovo', 'có cửa hàng mình bán cả áo thun của các nhãn hàng asus msi', 'có bên mình hỗ trợ nâng cấp ram ổ cứng và sửa chữa', 'có các gói bảo hành 6 tháng 12 tháng đến 3 năm', 'nhân viên bên mình sẽ đến tận nhà để lắp đặt cho sản phẩm của bạn', 'trường mình nổi bật nhất là có thư viện 129 tỷ rất hiện đại em nhé', 'sinh viên của tdtu có 5 đặc điểm nhận dạng đó là kỉ luật lễ phép chuyên nghiệp sáng tạo phụng sự', 'vì mỗi phòng học đều có nhiều máy lạnh và bắt 24 24 bạn nhé', 'tùy thuộc vào từng ngành mà sẽ quy định số lượng tín chỉ tối thiểu để tốt nghiệp em nhé', 'có em nhé nam áo sơ mi trắng nữ áo dài vào thứ 2 và thứ 5', '16 khoa á em', 'bên trường mình có 3 chương trình chính tiêu chuẩn chất lượng cao và tiêu chuẩn', 'tiêu chuẩn thì khoảng 22 triệu clc và tiêu chuẩn thì khoảng 50 triệu', 'thầy cô trường mình vui lắm em giảng bài dễ hiểu lắm đi học như đi chơi á', 'tiện nghi lắm em gì cũng có', 'chị học cntt con gái học ngành này cũng thú vị lắm chị cũng có những người bạn tốt luôn giúp đỡ nhau trong học tập nên thấy cuộc sống đại học khá là thú vị nếu em thích học toán và đam mê công nghệ đam mê tìm kiếm cái mới thì thử tìm hiểu về cntt nhé', 'haha với mọi người thì đúng chứ với chị thì không', 'nhóm chị 8 người có mình chị là nữ thôi em', 'không em tụi nó xem chị giống như con trai vậy', 'chị học bình thương thôi em', 'tại chị rớt công an', 'các thầy cô rất thân thiện và nhiệt tình với sinh viên', 'ngoài căn tin và ký túc xá thì trường còn cung cấp các quán nước phòng gym hồ bơi sân bóng và còn nhiều thứ khác nữa', 'cái này tùy vào từng người nhưng mình thường nghe mọi người bảo đắt', 'em cần 4 năm và trong 4 năm đó em phải hoàn thành tổng cộng 138 tín chỉ và nhiều yêu cầu khác', 'chương trình tiêu tuẩn gồm 40 ngành là chương trình đào tạo các kỹ sư cử nhân kiến trúc sử dược sĩ', 'hiện tại trường đại học tôn đức thắng đang đào tạo tổng cộng 17 khối ngành bao gồm công nghệ thông tin mỹ thuật công nghiệp kỹ thuật công trình điện điện tử tài chính ngân hàng toán thống kê quản trị kinh doanh kế toán giáo dục quốc tế khoa học ứng dụng luật khoa học thể thao dược khoa học xã hội nhân văn ngoại ngữ môi trường bảo hộ lao động lao động công đoàn', 'đối với chương trình tiêu chuẩn là từ 8 triệu trở lên một học kì còn với chương trình chất lượng cao là từ 20 triệu trở lên một học kì', 'đại học tôn đức thắng tdtu cung cấp nhiều chương trình giáo dục bậc đại học đào tạo trong các lĩnh vực kinh tế quản trị xã hội học du lịch ngôn ngữ học kỹ thuật hóa học công nghệ sinh học công nghệ thông tin luật mỹ thuật công nghiệp dược toán thống kê xây dựng kiến trúc điện điện tử khoa học thể thao nhằm đào tạo nguồn nhân lực đáp ứng thị trường lao động và xu hướng hội nhập toàn cầu người học có thể chọn học đại học tại tdtu với chương trình tiêu chuẩn chương trình chất lượng cao chương trình đại học bằng tiếng anh hoặc chương trình du học luân chuyển campus liên kết quốc tế', 'giảng viên tại tdtu đều là những người có chuyên môn cao lịch sự vui vẻ và tận tình với sinh viên và với công việc chuyên môn', 'trường đại học tôn đức thắng tự hào là trường có thư viện to nhất việt nam với tổng chi phí đầu tư là 127 tỉ gồm 5 lầu và rất nhiều đầu sách đủ mọi chủ đề từ văn học đến công nghệ khuôn viên trường rộng rãi thoáng mát sạch sẽ với nhiều cây xanh che bóng mát phòng học được trang bị máy chiếu và máy lạnh hiện đại giúp trãi nghiệm học tập của người học tốt hơn và hiệu quả hơn canteen trường có nhiều món ngon và phù hợp với túi tiền của sinh viên', 'sinh viên trường tôn đức thắng nổi tiếng năng động và tài năng với nhiều giải thưởng từ trong nước đến quốc tế điểm nổi bật là tính tự giác và ý thức cao như không xả rác trong khuôn viên trường xếp hàng khi ra vào thang máy', 'đội ngũ công nhân viên của trường luôn luôn thân thiện vui vẻ và trách nhiệm với công việc và với sinh viên', 'trường đại học tôn đức thắng tự hào là một trong những trường đại học hiện đại nhất nước với cơ sở vật chất hiện đại khang trang và sạch sẽ', 'mình tin dùng các hãng quần áo từ trong đến ngoài nước như yame uniqlo adidas đôi khi mình cũng hay săn đồ secondhand đồ đã qua sử dụng ở hội chợ hay các lễ hội mua sắm', 'đối với giày dép thì mình đặt biệt chú trọng chất lượng thế nên yame uniqlo nike luôn là lựa chọn hàng đầu của mình về chất lượng cũng như giá cả', 'cậu có thể chọn các nhãn hàng lớn với chuỗi cửa hàng trãi dài từ nam ra bắc như phong vũ thế giới di động fpt shop hay cũng có thể chọn nhà phân phối nhỏ hơn như gearvn', 'cậu có thể tìm đến chuỗi nhà sách nguyễn văn cừ có mặt tại khắp các quận ở thành phố hồ chí minh hoặc trong các trung tâm mua sắm lớn như lotte vivo city cresent mall siêu thị bigc', 'cậu có thể dễ dàng xin việc vào các chuỗi cửa hàng tiện lợi lớn ở hcm như seven eleven circle k family mart hoặc các chuỗi quán cà phê lớn như the coffee house cộng cà phê phúc long starbuck', 'trường mình có 40 ngành nha bạn', 'thư viện trường mình 129 tỷ nha bạn', 'đúng là như vậy đó bạn', 'trường mình là trường công lập đó bạn', 'ở địa chỉ 19 nguyễn hữu thọ phường tân phong quận 7 nha bạn', 'trường tdtu có rất nhiều clb bổ ích để rèn luyện bản thân như là clb thể thao clb học thuật của các khoa clb múa clb hát clb nhảy', 'trường mình phải mặc đồng phục vào thứ 2 và thứ 5 hàng tuần bạn nữ thì mặc áo dài đồng phục bạn nam thì mặc áo sơ mi trắng và quần tây', 'trường mình có 4 tòa ký túc xá 2 tòa cho sinh viên nam và 2 tòa cho sinh viên nữ tòa h và i thì được đưa vào sử dụng từ năm 2010 còn ký túc xá mới k và l được đưa vào sử dụng năm 2019', 'mọi học sinh trong tdtu phải học môn bơi để được ra trường', 'bao gồm khoa học máy tính mạng và truyền thông nhé', 'chuẩn đầu ra toeic 550 em nhé', 'lớp tiếng anh có thầy cô nước ngoài em nhé', 'giang viên trường được thỉnh giảng và giáo viên cơ hữu trường', 'thư viện trường phục vụ hàng nghìn sinh viên và tài liệu theo học em nhé', 'trường đào tạo đại trà và chất lượng cao em nhé', 'chất lượng cao học phí cao hơn và chất lượng sẽ tốt hơn nhiều em nhé', 'em tìm hiểu form đăng ký xét ở ktx em nhé form được đăng trên page của trường', 'em đóng theo hướng dẫn trên hệ thống thông tin sinh viên trường nhé', 'em lên quầy dịch vụ để nộp tiền vào tài khoản nha', 'lầu 3 nha em', 'em vào trang hệ thống thông tin vào mục học phí để xem nha em', '1 giờ sử dụng máy tính là 3000 nha em', 'em lên quầy dịch vụ để nộp tiền vào tài khoản nha', 'lầu 3 nha em', 'em vào trang hệ thống thông tin vào mục học phí để xem nha em', '1 giờ sử dụng máy tính là 3000 nha em', 'mình không biết', 'mạng máy tính và truyền thông dữ liệu kỹ thuật phần mềm khoa học máy tính', 'dược điện điện tử kế toán tài chính marketing', 'học phí trường mình khoảng 10 15 tr tùy vào ngành học', 'trường mình có nhiều câu lạc bộ như bóng rổ bỏng đá ca hát', 'mỗi phòng học đều được trang bị máy lạnh em nhé', 'có em nhé học quốc phòng thì chúng ta sẽ được học tại trường', 'tùy thuộc vào từng ngành mà sẽ quy định số lượng tín chỉ tối thiểu để tốt nghiệp em nhé', 'theo quy định của nhà trường thì trung bình điểm rèn luyện của em phải từ 50 điểm trở lên mới được cấp bằng tốt nghiệp nhé', 'minh sinh viên năm 4', 'cơ sở vật chất trường mình rất tốt', 'thư viện trường mình rất rộng và hiện đại', 'nằm ở khu hành chính tòa nhà màu cam', 'tùy ngành nhé bạn mà trung bình chắc là khoảng 50 triệu 1 năm', 'có nhé bạn', 'trước hết là bạn phải học đủ chỉ ngoài ra bạn phải có chứng chỉ quốc phòng bơi và đạt đủ điều kiện tiếng anh nhé', 'tất nhiên là có rồi không chỉ có mà có tận 3 hầm gửi xe luôn', 'thật chứ không tin thì cứ tra google sẽ rõ', 'rất ổn luôn là đằng khác trường có tổ chức thực tập cho các bạn sinh viên năm cuối thì các doanh nghiệp rất ưng ý luôn', 'tốt chứ bạn không tốt thì sao mà đạt chuẩn quốc tế được', 'trường có mức học phí tầm trung hợp lý không quá cao', 'trường có hồ bơi sân tập quốc phòng thư viện rất hiện đại và nhiều bãi giữ xe đáp ứng nhu cầu', 'chị học công nghệ thông tin á em', 'em nên học xử lí ngôn ngữ tự nhiên chị thấy nó là một môn rất đáng để học', 'không cao lắm đâu em mà nó cũng phụ thuộc vào ngành mình học nữa', 'đúng tiến độ thì 4 năm nhưng sớm hơn hay trễ hơn cũng còn phụ thuộc vào việc em học thế nào nữa', 'không á em', 'đâu có dễ lắm em chịu khó một tí là biết bơi thôi hà', 'khoa mình bị chị uốn sắp cong hết rồi em ơi đẹp xấu gì nữa', 'có chuyên môn trong việc dạy học và rất tân tâm nha bạn', 'học phí trường mình tầm trung nhé', 'trường mình là trường đại học tôn đức thắng', 'trường mình có gần 20 tòa nhà', 'trường mình bao nhiều cảnh đẹp bạn nhé', 'trường mình chỗ nào cũng có thể chụp hình bạn nhé', 'ngon nhà vô', 'chấp lun 2 mạng đầu', 'mai bận học rồi', 'mai học ca 3', 'còn chết liền', '11 00 rồi', '1 tháng rồi', 'mình có rồi', 'khoảng 10 năm', 'có rồi huhu', 'chưa cưới mà nào cưới thì hết thôi', 'mình đang còn ế đây này', 'rảnh thì rũ không thì thôi', 'à tui thích xem phim đọc truyện và đặc biệt là đi chơi qua đêm cùng bạn bè vì điều đó đem lại cảm giác hạnh phúc', 'nơi tui thích đi chơi cùng với bạn bè đó chính là karaoke mọi người cùng nhau hò hét rất vui', 'mình không thích hút thuốc vì nó làm hại phổi và răng', 'thật ra học bài đối với mình là chuyện thường xuyên có những lúc mình thích có những lúc mình không thích lắm', 'mình bơi hơi dở chỉ ngồi coi mấy bạn mình bơi nên không thích lắm', 'buồn lắm bạn à crush unfriend trên facebook tui rồi giờ tôi muốn nhắn tin với crush cũng k được nữa', 'hì hì cũng may lắm bạn ơi tui tỏ tình xong crush mặt đỏ lên tui biết vận may đến rồi crush bảo mình làm anh trai mưa á bạn', 'mình rất kén chọn con gái dễ thương 1 mét 7 nhà giàu là được', 'bình thường mình sẽ tặng hoa son nhưng có lúc mình tặng bánh do chính mình làm', 'mình sẽ nhắn tin vào mỗi sáng đêm thì call video kể về hôm nay đã làm gì lâu lâu buổi trưa thì đợi cô ấy tan làm chở đi ăn', 'mình thường xem phim lúc rảnh', 'mình cũng thường hay đi chơi thể thao', 'mình hay đi đá banh với bạn vào tối t7 mỗi tuần', 'mình hay đi uống cà phê tại quán cộng', 'mình thích đọc sách', 'mình đã làm gì có người yêu mình còn đang sợ ế đây này', 'không crush mình không biết mình thích bạn đó', 'chúng mình hay đi chơi ở phố đi bộ quận 1', 'mình thường đi cafe với bạn bè khi rãnh', 'chỉ thỉnh thoảng mình mới nghe nhạc', 'mình thường đi quán cafe phúc long ở gần nhà', 'mình đi với 1 người bạn cấp 3 của mình', 'mình thích mẫu người con trai ấm áp thông minh', 'mình thích đi những nơi náo nhiệt', 'chúng mình chỉ thỉnh thoảng mới đi', 'mình chưa có người yêu', 'mình đang thích thầm một bạn nam lớp bên', 'cậu ấy rất thông minh', 'mình chưa tự tin để tỏ tình cậu ấy', 'tôi râ t thi ch chơi game khi ra nh', 'tơ thươ ng ti m chô ăn uô ng khi ra nh', 'nâ u ăn không hê thư gia n mô t chu t na o', 'bi nh thươ ng tôi chi đo c sa ch mô t lu c thôi', 'chă c la tôi se nghe mô t i t nha c khi cha n', 'câ u se không thi ch ngươ i lơ n tuô i qua đâu', 'ai cu ng câ n như ng giây phu t he n ho â m a p ma', 'câ u nên thư mơ i biê t đươ c', 'tơ thi ch mô t ngươ i â m a p va tâm li', 'điê u đo co n tuy câ u co muô n hay không', 'không mình đang làm một số bài tập', 'một số bài tập nhỏ thôi mà một chút là xong', 'giống như cậu hỏi xem phim hoặc có thể đọc sách nghe nhạc chơi thể thao', 'mình hay đọc sách về văn học nghệ thuật truyện một ít tiểu thuyết nữa', 'mình không quan tâm cho lắm nên không đụng tới', 'có tìm hiểu những cái cần thiết', 'mình thích đọc ở nhà hơn vì một mình yên tĩnh dễ tập trung', 'cuốn nào mình không đang đọc mình có thể cho bạn mượn', 'đang chán đời cậu ơi muốn giải tỏa', 'cũng gần như thất tình vậy', 'một bạn nữ trong lớp rất chi là xinh', 'tính tình nó dễ thương chăm chỉ học giỏi nữa hiền khô à', 'chưa biết cách nào để tỏ tình thôi', 'tao chưa nói gì với nó nên nó chưa biết được', 'vài ngày nữa nếu lên kế hoạch thành công', 'lý thuyết bàn tay phải tao đang ở trong phòng gym', 'tùy tâm trạng nữa có ngày cũng không có chơi tao cũng chả biết nói sao', 'ok ở nhà cũng chán', 'mấy giờ thế', 'tao về rồi mất công bị cách li chặn đường không cho về', 'tao tin nó xảy ra như trong phim á', 'tầm 5 đến 7 đứa tao chả nhớ nữa', 'tao đang lo nghĩ về số phận đen tối trong tương lai mù mịt', 'không nha tui ở nhà ngủ', 'mình còn bài tập nhiều lắm không có thời gian đi', 'chắc không đâu bạn mình không muốn đi lắm', 'cuối tuần mình chỉ ở nhà xem phim thôi', 'mới đầu tháng có tiền nên mình định đi mua sắm', 'tui định đi du lịch mà chưa quyết định được địa điểm cụ thể', 'có chứ sao không lâu lâu mới có dịp mà', 'mình hay nghe nhạc để thư giãn lắm', 'lúc rảnh thì mình hay chơi với mèo nhà mình tụi nó dễ thương lắm', 'mình nghĩ bạn nên quên nó đi và tập trung vào việc khác', 'chắc có đó bạn đối tốt với bạn ấy vậy mà', 'tui nghĩ bạn nên tìm cách gây ấn tượng tốt với crush', 'nếu theo hướng tốt thì nên ngược lại thì bạn nên là chính mình nha', 'đương nhiên là có rồi bạn ấy cũng chưa có người yêu mà', 'mình nghĩ là tìm những chủ đề mà nó thích để bắt chuyện cũng được đó', 'bạn đừng buồn có lẽ là do bạn không phải mẫu người bạn ấy thích thôi', 'mình nghĩ bạn nên từ bỏ nó đi sau đó đi crush người khác', 'mình thường chơi game hoặc xem phim', 'mình thích nhất phim hành động nha', 'bộ phim hay nhất mà mình từng được coi là avengers end game', 'có thi thoảng mình có chạy xe ra ngoài đường chơi', 'có mình thường đi chơi với bạn bè mình', 'bạn cứ thể hiện mình là người mà bạn ấy có cảm giác an tâm khi giao tiếp', 'bạn nên nói chuyện về những sở thích mà cả 2 đều có hứng thú', 'mình với người yêu hay đi ăn rồi đi xem phim hay đi ra các điểm mà tụi mình thích', 'mình thích kiểu người tự lập', 'không mình chỉ muốn chung thủy với một người khi yêu', 'mình thường đi chơi', 'mình thường đi chơi net', 'có mình thường đi chơi với bạn bè', 'mình đọc truyện xem phim', 'mình xem bài học cho ngày mai', 'có mình hay đi ăn với bạn bè', 'mình chưa có crush', 'mình thích người hiền lành', 'là người hoạt bát vui vẻ hiền lành', 'khi mình học xong', 'mình thích con gái', 'mình hay chơi game', 'mình không hay đi cafe nhé', 'lúc rãnh mình cũng hay đi', 'mình thích chơi game hơn á bạn', 'mình hay đi uống cafe ở phúc long', 'có bạn ạ', 'mình hay đi shopping với người yêu', 'có bạn nhé', 'chưa đi bao giờ á bạn', 'có á bạn', 'mình thường hay chơi game điện tử khi có thời gian rãnh', 'mình lâu lâu mới đi chơi thôi', 'cá nhân mình không thích đọc sách lắm', 'tất nhiên rồi lúc rãnh mình cũng thường đi ngủ', 'mình không đi đâu mình có việc rồi', 'mẫu người yêu lý tưởng của mình là một phụ nữa đẹp', 'mình hiện tại chưa có người yêu nha', 'tất nhiên rồi mình nghĩ người đó sẽ là bạn', 'mình không thích quen người khác vì điều kiện kinh tế nha', 'mình thật sự thích con trai hà nội', 'tao hả tao thường hay ngủ hoặc chơi game nghe nhạc', 'tao thường hay chơi ở nhà là chủ yếu khi nào chán thì tao sẽ ra quán net', 'tao thường hay chơi ở s2m ở gần trường đó bạn bè của tao ngoài đó cũng đông nữa', 'oke vậy khi nào mày rảnh nào', 'oke vậy ngày mai có gì gọi cho tao', 'quỳnh thích ăn bánh tráng trộn', 'chắc là trà tắc hoặc là sữa tươi trân châu đường đen', 'sao mày hỏi về cái quỳnh vậy', 'á à thì ra mày crush quỳnh phải không', 'oke khi nào nên đôi thì báo đáp ân tình cho tao nhá', 'mình thì sẽ đọc sách hoặc học thêm thứ mới đôi khi thì sẽ chơi game với bạn bè', 'mình rất ít khi đi nhưng mà nếu có thì mình nghĩ sẽ là một quán ăn tiệm cà phê hoặc công viên để thư giãn bản thân', 'thật sự là có nhưng mà chơi game nhiều mình cảm thấy rất là phí hoài thời gian của bản thân', 'mình thích nhất là các quyển sách chuyên ngành tâm lý hoặc các quyển sách có thể giúp mình cải thiện các khía cạnh của bản thân mình', 'đôi khi là có nhưng một mình tận hưởng những giây phút thoải mái cũng rất vui mà', 'mình thích sự yên bình thoải mái trong tình yêu', 'một người siêng năng chịu khó và có ước mơ một ngoại hình xinh đẹp nữa thì là nhất rồi', 'tất nhiên là có rồi chứ mình nghĩ mình cũng có kha khá crush nhưng phần lớn là không thành', 'đi du lịch đó đây nếu thời gian đủ dài cải thiện lẫn nhau', 'mình sẽ suy nghĩ rất lâu về lý do bạn đó thích mình nhưng biện pháp tốt nhất là mình nên nói chuyện với bạn đó', 'tình yêu vui lắm mình đã có những khoảng thời gian không thể quên đối với những người mình yêu', 'đi chứ đi du lịch với người yêu của mình để trải nghiệm đó đây và biết thêm về người yêu mình', 'mình nghĩ là khi bạn rất hay để ý người đó đang làm gì hay nhìn người đó và đôi khi không thể tập trung vào việc của mình khi người đó bên cạnh', 'không đâu mình nghĩ bạn sẽ tìm được ai đó thôi hiện tại không thể nhưng tương lai có thể', 'nếu bạn yêu người yêu mình thì người khác có tốt đến mấy thì người yêu bạn cuối cùng sẽ tốt hơn vì trong tình yêu cả hai cải thiện lẫn nhau', 'mình thường chơi game hoặc nghe nhạc', 'có chứ thỉnh thoảng mình vẫn hay đi xem phim', 'mình hay xem phim ở rạp chiếu phim cgv', 'mình thường chơi game liên minh huyền thoại', 'mình thích nghe thể loại nhạc rap', 'người ta thường nói muốn thì tìm cách không muốn thì tìm lí do đó', 'mình nghĩ là con gái thích ăn vặt và uống trà sữa', 'mình nghĩ là đi cả hai sau khi đi trung tâm mua sắm ăn uống thì đi vòng vòng ngoài phố hóng mát', 'mọi người đều biết trừ crush mình bạn ơi', 'những món quà hào nhoáng có thể mang đến niềm vui trong phút giây nhưng sự quan tâm chân thành sẽ khiến một đời cảm động', 'mình thường đi cafe tại the coffee house với bạn bè khi rãnh', 'mình thỉnh thoảng mới nghe nhạc', 'mình đi với nhóm người bạn của mình', 'mình cũng rảnh vậy tụi đi xem phim chung nhé', 'ok mình sẽ chờ ở đó', 'mình thích mẫu người con trai ấm áp thông minh', 'mình thích đi những nơi náo nhiệt', 'chúng mình chỉ thỉnh thoảng mới đi', 'mình chưa có người yêu', 'mình xin lỗi mình chưa đủ tự tin để làm người yêu cậu', 'bình thường thì mình sẽ nghe nhạc ngủ hoặc đi uống café với bạn bè của mình', 'thường thì mình thích ngồi những quán lề đường để cảm nhận nhịp sống của sài gòn', 'mình thường hay đi quán the banned 1 usd hoặc café tươi mới', 'bản thân mình là con trai nên việc chơi game thì cũng có nhưng mình đã bỏ game từ năm lớp 11 rồi nên hiện tại mình rất ít chơi game vào lúc rảnh', 'thể thao cũng là một hình thức giải trí lành mạnh nhưng bản thân mình thì lại thích ngồi nói chuyện với bạn của mình hơn', 'người ta có câu thích là phải nói cũng như đói là phải ăn tiến tới đi thà mở lời để biết kết quả chứ không mở lại sao biết thành hay bại được', 'bản thân mình muốn mối quan hệ của mình là một mối quan hệ linh hoạt mình muốn cả 2 đều chủ động', 'thật ra không vế nào tốt hơn vế nào đâu cũng sẽ có niềm vui nỗi buồn trong đó tình yêu chỉ trọn vẹn khi người mình thích cũng thích mình', 'thiệt sự mà nói thì bản thân mình không có một tiêu chuẩn nào về phụ nữ mình yêu theo cảm tính nhìn thích thì mình sẽ thích khi thích một người thì họ chính là gu của mình', 'bạn thấy rất có lỗi với họ vì mình không thể đáp lại tình cảm của họ giành cho mình nhưng tình yêu mà nếu mình đáp lại hết thì khác nào mình là một người con trai tệ bạc', 'tao làm nhiều việc lắm', 'à thì xem tivi rồi chơi game rồi nghe nhạc', 'cái đó thì bạn rủ tao mới đi chứ thường tao ở nhà không à', 'tao hỏi để làm khảo sát cho tập dữ liệu của môn tao đang học', 'ok cảm ơn bạn hiền', 'tao đang rảnh nên cũng được', 'cái này thì dễ mà', 'bạn đó học ở khoa lao động công đoàn', 'tao gặp lúc học môn thái độ sống 3 chung với nguyên và mày đó', 'chưa luôn mới gặp mặt thôi à', 'mình rảnh thì mình sẽ chơi game và nghe nhạc', 'chắc chắn là ở nhà vì mình thích ở nhà', 'ngoài ra mình còn thích nấu ăn', 'đúng rồi', 'có mình thường rủ bạn bè ra ngoài ăn', 'học bài thì mình nghĩ là bận rồi', 'mình hay nghĩ về gia đình', 'mình thích đi ăn cùng người yêu', 'mình với người yêu hay đi ăn lẩu hoặc các món lề đường', 'có nhưng gần đây thì ít có lẽ do dịch', 'theo mình biết là hoa hồng', 'theo mình biết là không có đôi lúc hay giận dỗi', 'mình thường đi uốn nước cùng bạn bè thỉnh thoảng chơi một vài ván game', 'à mình thỉnh thoảng cũng có đi bơi', 'có mình hay chơi đấu trường chân lý game do riot phát hành', 'mình hay đi phượt xa thường là đà lạt', 'có mình nay sưu tầm lego', 'có mình thích nấu ăn và mình cũng hay nấu ăn khi rãnh rỗi', 'chúng mình có điểm chung là rất thích đi phượt đến những nơi xa', 'có chứ chúng mình rất hay ăn đêm cùng nhau', 'ừ hôm qua mình mới tỏ tình với crush và bị cô ấy từ chối', 'tùy mỗi người nhưng hợp nhau tự nhiên sẽ đến được với nhau thôi', 'không có đâu chúng mình chỉ là bạn bình thường thôi', 'có chứ mình thường hay tâm sự với những người bạn cùng phòng', 'xem phim đọc sách đi nhà sách', 'thường thì tao hay xem phim chiếu rạp phim lẻ tại xem phim bộ dài lắm', 'đi ra highland coffee gần nhà mình uống nước kìa có anh nhân viên cực kì đẹp trai mới tới làm', 'đi liền nhé', 'có phim mới ra hay lắm đi xem', 'cũng được mà kiếm chỗ rẻ rẻ nhen chứ đừng như bữa đi ăn hết 250k á', 'tiêu chuẩn của mình thì mũm mĩm cao và học giỏi', 'tại mình mũm mĩm', 'hiện tại thì chưa mình lo học', 'chắc vài năm nữa', 'mình không quan trọng quá vấn đề này mình nghĩ hơn nhau 1 2 tuổi cũng được', 'mình nghĩ cntt hoặc bác sĩ', 'mình nghĩ mình thích hiền dễ thương biết lắng nghe và hiểu chuyện', 'mình thường đọc truyện xem videos và chơi game', 'mình thường ra quán cà phê', 'đôi khi mình sẻ đi bơi với bạn của mình', 'ở hồ bơi gần nhà nhất nếu ở quê thì sẻ là biển', 'ngoài sách giáo khoa thì mình chưa đọc bao giờ', 'mình nghỉ sẻ có nhưng không phải lúc này vì mình chưa tìm được cuốn sách truyền cảm hứng', 'nếu bạn nghỉ nó phù hợp với mình thì mình rất sẳn lòng', 'hiện tại mình đã có người yêu rồi', 'chả ai yêu người xấu cả nếu có thì ít nhất trong mắt đối phương họ là người đẹp nhất', 'bọn mình quen nhau được 2 năm rồi', 'thường thì sẻ ăn uống và nói chuyện với nhau', 'nếu cả 2 không thay đổi thì đó là chuyện đương nhiên', 'à mình có cảm thấy say nắng bạn kia', 'mình crush bạn ấy cũng lâu rồi khoảng 3 tháng', 'thật ra tính cách mình cũng hơi nhát với lại mình cũng chưa biết cậu ấy có thích mình hay không nên mình chưa dám tỏ tình', 'mình cũng không biết nữa chắc do tính cách mình như vậy', 'với mình thì tình yêu nên được xây dựng từ sự tôn trọng của cả hai phía bên cạnh đó khi yêu nhau cũng cần biết để ý đến cảm xúc của nhau nghĩ cho nhau một cách tinh tế', 'trong mắt mình thì cô ấy cao ráo xinh đẹp nhưng lại hơi ngây thơ so với độ tuổi của cô ấy', 'chuyện đó thì mình cũng không biết nữa', 'crush mình được cái dễ ăn món gì ngon là ăn à', 'cô ấy cực ghét đồ ngọt và rau xanh cô ấykhông biết ăn gần như là tất cả các loại rau', 'cô ấy có thói quen ngủ nhiều cô ấy có thể ngủ hơn mười tiếng lận đấy', 'nhà crush tớ cũng ở củ chi luôn nè cách nhà tớ khoảng 15 phút đi xe', 'tớ thường tỉnh giấc vào lúc 8 giờ sáng', 'tớ thường lên giường ngủ lúc 12 giờ đêm', 'mình rất thích đi ăn cùng người yêu vì mình rất ghét đi ăn một mình', 'được thôi mình đi ăn lẩu teokbokki nha', 'ừ đúng rồi cái game ấy chơi vui lắm', 'mình cũng định học nhưng sau đó toàn kết thúc bằng việc lấy đàn ra gảy được hai ba cái xong lại cất vào', 'mình không thích nấu ăn bạn ơi', 'mình dạo này đang thích bộ mr queen á', 'mình và thể thao là hai đường thẳng song song bạn nha', 'mình nghe nhạc hoặc ngủ', 'mình thích nghe nhạc hoặc xem phim đôi khi là chơi game nha bạn', 'mình thích vẽ tranh nhưng mình vẽ xấu lắm nên mình không vẽ để bảo vệ con mắt của mình và người khác bạn nhé', 'mình thích đi ăn hoặc đi xem phim hoặc là đi du lịch cùng nhau hoặc nơi nào cũng được miễn là cùng nhau', 'miễn là cùng người yêu thì làm gì cũng thích', 'đâu cũng được nếu được thì đi du lịch vòng quanh thế giới', 'chạy deadline còn chưa xong thì crush ai hả bạn', 'là người quan tâm và yêu thương mình', 'mình hay đi chơi', 'minh đi chơi ở tiệm game', 'có và mình đang ở master rank 12 sắp lên 13 rồi', 'tất nhiên rồi', 'có', 'người minh thương', 'thì là người đó đó', 'bạn ntna đấy', 'mình mến bạn ấy được 1 năm rồi', 'mình xem một vài bộ phim hài hước nhẹ nhàng để thư giãn', 'mình đi ăn ở những nơi có thật nhiều đồ ăn ngon', 'mình muốn đi du lịch với gia đình nếu có nhiều tiền và cả gia đình mình đều rảnh không đơn giản chỉ cần về nhà với ba mẹ thôi', 'mình rất thích chơi với động vật khi rảnh như chó mèo vì chúng rất dễ thương và khi ngắm chúng đùa nghịch mình thấy thoải mái vui vẻ', 'mình có chơi game khi rảnh đôi khi chơi một vài game với bạn bè thì thấy thời gian trôi rất nhanh', 'khi crush thích bạn crush sẽ rep tin nhắn của bạn nhanh và luôn quan tâm đến bạn', 'người bạn thích là người bạn luôn nhớ đến và nghĩ xem giờ họ đang làm gì có nhớ đến bạn không', 'quà vật chất có thể quan trọng nhưng thêm một vài chi tiết như là làm một số đồ handmade sẽ giúp crush thấy được tấm lòng của bạn', 'tùy vào năng khiếu của bạn có thể là làm một tấm thiệp nhỏ xinh xắn hoặc nếu bạn và người đó thân nhau thì có thể thêm một tấm ảnh xinh xắn của bạn và crush kèm theo vài sticker xinh xẻo', 'có thể vào một ngày nắng đẹp bạn đi vứt rác', 'cần điểm rèn luyện để xét tốt nghiệp nhé', 'bạn cần theo dõi fanpage trường để đăng ký tham gia hoạt động', 'trường có thông báo cụ thể trên hệ thống thông tin sinh viên đó', 'thỉnh thoảng sẽ đi làm thêm', 'tôi đi làm tại quán cà phê hoặc chạy grab', 'có đi tham quan cảng nhà rồng được điểm rèn luyện', 'thình thoảng cũng có chơi game', 'tôi hay chơi game mobile', 'mình còn độc thân lấy đâu người yêu', 'có crush rồi trường mình toàn trai sinh gái đẹp không', 'cuộc thi rất hay nhưng có dịch bệnh', 'dịch đang khắc phục dự kiến cuối tháng là tổ chức rồi', 'mình không đủ tự tin về sắc đẹp bản thân', 'phim hay thì nhiều nhưng mày thích xem thể loại gì', 'mày thích xem phim lẻ hay phim bộ', 'mày xem phim người đẹp và quái vật đi hay lắm', 'xem đi tao kể cho mày xong thì còn gì xem nữa', 'xem xong đi tao giới thiệu cho vài bộ nữa hay lắm', 'sao vậy nè có gì kể tao nghe với', 'có phải mày đang thất tình phải không', 'trời tao mà bạn thân lâu năm sao không biết được', 'mày đã nhắn tin làm quen chưa', 'thích người ta thì phải mạnh dạn lên mà giờ người ta có người yêu rồi', 'có gì đâu mà buồn kiếm đứa khác thui lấy đó làm động lực phấn đấu đi', 'ok', 'phim hay thì nhiều nhưng mày thích xem thể loại gì', 'mày thích xem phim lẻ hay phim bộ', 'mày xem phim người đẹp và quái vật đi hay lắm', 'xem đi tao kể cho mày xong thì còn gì xem nữa', 'xem xong đi tao giới thiệu cho vài bộ nữa hay lắm', 'sao vậy nè có gì kể tao nghe với', 'có phải mày đang thất tình phải không', 'trời tao mà bạn thân lâu năm sao không biết được', 'mày đã nhắn tin làm quen chưa', 'thích người ta thì phải mạnh dạn lên mà giờ người ta có người yêu rồi', 'có gì đâu mà buồn kiếm đứa khác thui lấy đó làm động lực phấn đấu đi', 'ok', 'mình thường chơi game', 'mình có chơi bóng rổ', 'hồi trước mình có tập chơi nhưng giờ ít chơi rồi', 'mình thường chơi ở gần nhà hoặc ở trường', 'mình thường chơi vào thứ 3 và thứ 5', 'mình chưa yêu ai bao giờ', 'mình chưa có người yêu', 'mình có từng thích một người', 'xinh đẹp đáng yêu', 'mình đã từng tỏ tình với 1 bạn nữ', 'chơi pubg với tụi tui nè đang thiếu 1 slot', 'tui thường chơi gần trường cũng rẻ lắm', 'ở gần nhà tui có một chỗ để tui nhắn địa chỉ cho ông', 'gần đây có quán karaoke nè hay qua đó đi', 'ok tại sao không', 'ừ hôm qua tui mới tỏ tình xong thì bị từ chối', 'thôi mua tốn tiền lắm mình đi ăn là được rồi', 'thiệt hả tui cũng có cảm tình với bạn đó mà chưa dám ngỏ lời', 'có đâu tụi tui chỉ là bạn thôi', 'gì tính cua người ta à người ta là hoa đã có chủ rồi', 'lúc rảnh thì mình đi chơi game', 'mình chơi game liên minh huyền thoại', 'minh chơi ở tiệm net 269', 'có mình cũng thích đá banh', 'mình đá với lớp mình', 'người yêu thì mình chưa có nhưng crush thì mình có rồi', 'crush của mình rất là dễ thương', 'crush mình học khoa luật', 'tụi mình cũng đang trong giai đoạn tìm hiểu á', 'đang nhắn tin với bạn đó thôi', 'mình đang ở công viên 3 tháng 2 đây', 'biết chứ biết nhiều là đằng khác', 'không những nghe vào lúc rảnh mà nghe mọi lúc luôn', 'tôi thường chạy bộ vào những lúc rảnh rỗi', 'tôi làm gì có người yêu mà đi xem phim', 'biết một ít à', 'mình thường hẹn hò ở hồ con rùa', 'mình thích những người hoạt bát vui vẻ hòa đồng', 'đếm trên đầu ngón tay à bạn do mình là người sống hơi nội tâm', 'mình sẽ dẫn người yêu đi xem phim', 'không mình rất nhút nhát trong chuyện tình cảm nên mình muốn tìm một người chủ động để yêu', 'đối với mình chuyện đó cũng nhứ bình thường thôi', 'mình đang crush một bạn bạn có thể chỉ mình cách làm quen với bạn đó được không', 'mình cũng không nhớ rõ chắc là khoảng năm mình học lớp 11', 'mình thường đọc tiểu thuyết và nghe nhạc', 'mình thường ở nhà', 'tao định đi xem phim với người yêu ở vivo city', 'tao định đi phượt xuống miền tây', 'đi luôn gửi địa chỉ cho tôi đi', 'ở đâu cho xin cái địa chỉ đi', 'chơi chứ ai sợ ai', 'tao vô game sẵn rồi chờ mày thôi', 'cũng được đó nhưng mà không phải gu của tao', 'đẹp hiền với vui tính là được', 'thôi mày ơi yêu đương gì tầm này', 'giờ tao cũng chưa biết nói chung có tiền đã', 'tao hay ăn đồ nướng rồi đi xem phim', 'mình thưởng giải trí bằng việc ngồi ở nhà choi game với bạn bè nhưng cũng có lúc mình đi ra ngoài giải trí', 'lúc rảnh rỗi thì mình thường chơi game', 'mình chơi game liên minh huyền thoại nhé', 'mình chơi game ở nhà nhé vì mình có máy tính xịn', 'mình là vua trò chơi bạn nhé', 'mình thường hay chơi môn đá bóng nhé bạn', 'mình rất hay chạy bộ tập thể dục với bạn bè', 'mình thường xuyên nghe nhạc nhé', 'mình chưa có người yêu bạn nhé', 'mình có crush rồi ạ', 'crush của mình xinh nhất thế giới nhé', 'dĩ nhiên là không rồi bạn', 'mình thường hay hẹn hò ở công viên bạn nhé', 'mình thường đi ăn uống nhé', 'mình thường đi xem phim nhé', 'crush của mình hơn mình lên đến tận 5 tuổi rưỡi', 'mình có', 'mình có', 'mình có', 'mình thích cả hai', 'mình ít khi quan tâm đến', 'bạn bè mình cũng ít khi quan tâm đến', 'mình có khá nhiều bạn thân', 'mình nghĩ sẽ thật tuyệt', 'mình không có nhiều bạn', 'mình có 3 người bạn thân', 'bạn bè bình thường thôi', 'em dành cả thanh xuân cho anh anh dành cả thanh xuân cho em chúng ta dành cả thanh xuân cho nhau mà không hề nghĩ suy', 'tùy vào tình huống của buổi đi chơi đó', 'mình không có nhiều bạn', 'mình có 1 người bạn thân', 'bạn bè bình thường thôi', 'mình không thích cái đó', 'quẩy hết mình', 'là bạn đấy', '', '', '', '', '', '', 'mình có những người bạn rất là vui', 'bạn bè thì phải luôn giúp đỡ lẫn nhau không làm trò hề', 'rất là tốt', 'có chứ mình có rất nhiều bạn bè xung quanh', 'tình bạn là san sẻ thấu hiểu nhau giúp đỡ nhau khi gặp khó khăn', 'mình sẽ chia sẽ cho bạn bè và họ sẽ cho mình những lời khuyên', 'đủ xài bạn ei', 'đi ăn uống nè đi du lịch nè vân vân', 'ăn là chính', 'mình thích thì mình kết bạn thôi', 'bạn đó tên thanh', 'hơn 10 năm nha', 'có mỗi quý một lần', 'nhiều tiền bao mình ăn nói chơi thôi thích thì chơi à', 'mình thấy bạn của mình toàn những đứa điên điên khùng khùng', 'đám bạn mình là chuyên gia cáu bẩn', 'bạn của mình tên đạt', 'mình chơi chung cũng khá lâu rồi', 'bạn đó hiền', 'mình có nhiều bạn', 'theo mình bạn bè là người thân', 'cũng nhiều', 'thích chứ', 'bạn thân mình học ở nhiều trường khác', 'ba n thân mi nh tên ba o', 'ăn sashimi', 'mình không thích ra đường nhiều nên 1 tuần mình chỉ đi chơi với bạn bè 8 lần', 'mình có gì để bạn bè lợi dụng ngoài chất xám', 'mình sẽ buồn', 'mình sẽ dùng machine learning để tính toán xem người ấy có đủ khả năng chi trả tiền vốn lẫn lời không', 'tiền bạc à theo quan điểm cá nhân mình thì tiền bạc cũng chính là một phần trong sợi dây ràng buộc giữa tình bạn đó bởi vậy nếu bạn muốn tiến xa với mối quan hệ nào thì cứ thoải mái cho người ấy mượn tiền nhưng hãy nhớ sử dụng thuật toán ml xem bạn của bạn có đủ sức trả tiền không nhé', 'mình và bạn bè thường dạo quanh thành phố vào ban đêm khi phố lên đèn', 'bạn bè là đồng chí là những người đồng hành cùng chúng ta trên cuộc đời', 'quan điểm của mình thì mình rất thích mqh kiểu như thế này không ràng buộc như người yêu và cũng không nhàm chán như tình bạn', 'mình cũng có khá nhiều bạn bè á hí hí', 'bạn bè của mình toàn dân chơi đồ với lại chăn rau thôi', 'bạn của mình quê ở nhơn trạch á', 'mình có rất ít bạn bè', 'mình cũng không biết nữa', 'mình thấy vui cho nó vì nó đã được giải thoát khỏi cuộc đời này', 'quan hệ của mình cũng tương đối rộng', 'đối với mình một người bạn tốt là người anh em chia nhau điếu thuốc bẻ nhau miếng bánh', 'thỉnh thoảng', 'vui vẻ hứng thú', 'bạn bè là những người luôn bên cạnh mình mọi lúc mọi nơi', 'mọi người ngoại trừ tên bảo', 'không', 'mình cảm thấy bình thường như mọi ngày', 'bạn thân nhất đang là người yêu của mình', 'ước mơ của mình là code giỏi thôi', 'mình chưa có được đi du lịch ở nước ngoài bao giờ nhưng trong nước thì mình cũng đi được nhiều rồi', 'mình chưa', 'hôm nay mình vẫn ổn cho tới khi mình trả lời câu hỏi này', 'cảm ơn bọn tớ đang có dự định kết hôn', 'tớ thích bạn ấy rồi đấy', 'có nó đẹp trai lắm', 'có tớ quen cả khoa luôn', '', '', '', '', '', 'bạn thân mình tên trường', 'chỉ cần tốt là được', 'mình cảm thấy vui', 'bạn bè mình chưa có ai lập gia đình', 'mình vẫn còn liên lạc với bạn cũ', 'quan điểm của mình là không biết', 'mình cũng thường xuyên gặp bạn', 'không ít à', 'hỏi chi', 'có 4 người', 'những người vui vẻ biết lắng nghe', 'bình thường', 'ở chắc ít người nhưng thân', 'quá nhiều luôn nhưng rất ít bạn thân', 'bạn thân của tôi khang', 'đó là mình chứ ai', 'hướng nội trầm lắng sâu lắng', 'hướng nội', 'không ít à', 'hỏi chi', 'có 4 người', 'những người vui vẻ biết lắng nghe', 'bình thường', 'ở chắc ít người nhưng thân', 'có', 'rất có', 'có nhều bạn', 'rất nhiều', 'là bạn cấp 3', 'là bạn hay chơi với tôi', 'có não', 'là bạn hay chơi với tôi', 'có não', '15 năm', 'mình cũng không biết nữa', 'khùng điên', 'thường đi cà phê', 'mình có nhiều bạn bè ở trường chơi chung lắm', 'ai mình cũng thích chơi cả', 'bạn thân của mình tên là anh', 'có các môn học trên trường mình thường đăng ký chung với bạn mình', 'có mình thường xuyên đi chơi với bạn bè mình', 'có', 'có', 'nhiều', 'có', 'ton lộc', 'mình có nhiều bạn bè', 'bạn bè của mình ít chơi thể thao', 'nhiều bạn của mình bị dở người lắm', 'tớ có rất nhiều bạn', 'tớ chơi thân nhất với tom', 'tớ quan trọng lòng tin trong tình bạn', 'tớ cảm thấy khá ổn với các mối quan hệ', 'đa số bạn của tớ đều học chung trường với tớ', '15 năm', 'mình cũng không biết nữa', 'khùng điên', 'thường đi cà phê', 'anh phạm văn truân', 'cao to đen hôi', 'trên tình bạn dưới tình yêu', 'để ăn bám là chủ yếu', 'đối với mình bạn bè chơi với nhau phải uy tín', 'mình không có nhiều bạn ở đại học nhưng chơi rất vui', 'hôm nay là một ngày khá vui với mình', 'mình chỉ chơi thân với tommy trong gta vice city thôi', 'bạn giải vậy là ổn quá rồi', 'mai mình ở nhà cả ngày bạn có muốn ra ngoài chill tí không', 'mình xem rồi nha', 'chắc do gen bạn đó', 'bạn mai béo như heo luôn chứ gầy gì trời', 'thường là những người thân thiện vui tánh', 'tụi mình thường đi quán cà phê', 'không ạ', 'tôi có 2 người bạn thân', 'cũng thường xuyên 1 tuần tôi đi tầm 3 lần', 'tôi nghĩ tụi nó bị khùng hay giỡn nhây với tôi lắm', 'có đấy hơn nữa chúng tôi còn học chung lớp với nhau', 'tôi nghĩ là chưa đâu', 'chúng tôi hay đi cà phê với nhau', 'tuy chúng nó hay chọc ghẹo tôi nhưng tôi vẫn rất quý bọn nó', 'tôi quan điểm chỉ cần trung thực với nhau là đủ', 'theo cảm nhận riêng thì mình thấy bạn là một người có thể tin tưởng để làm bạn được vì chúng ta có cùng sở thích', '4', 'sống cho bản thân không phải sống vì người khác mặc kệ lời thiên hạ nói', 'cày phim', 'hong có huhu', 'hong luôn huhu', 'đoán xem', 'đại học là học đại', 'đại học là học đại', 'cũng nhiều đó', 'cũng vui được cái rủ đi chơi quài không đi', 'đứa ở cà mau vài đứa sài gòn mấy đứa nữa ở miền tây', 'buồn lắm hehe', 'mất dạy', 'nhiều lắm', 'không bao giờ', 'có nhậu', 'chơi hàng tuần', 'có nhiều lắm', 'có nhiều lắm', 'có hang ngày', 'khùng khùng điên điên', 'hông nói', 'không chơi ma túy', 'có', 'tuyệt', 'chơi game', 'tâm sự', 'nhiều', 'khá cá tính', 'ko', 'xa lắm ông', 'cũng hơi nhiều', 'mười mấy 2 3 đứa', 'rủ quài không ai đi', 'là tui', 'hơn m được rồi phải không', 'ơ chia buồn cùng bạn bạn hãy sớm vượt qua đi nhé bạn rất tốt nhưng tui rất tiếc', 'mình không ghi được vì vô cực tràn bộ nhớ', 'mình chẳng những chơi búp bê mà còn quất khủng long siêu nhân gao', 'từ thời xa xưa 1 ngón với 1 ngón sẽ là 2 ngón', 'không sao rồi mọi chuyện sẽ qua thôi', 'không mình chỉ biết làm thơ mà thôi để mình đọc cho bạn nghe một đoạn thơ nhé', 'mình không biết hát nhưng mình có thể giới thiệu một số bài hát hay cho bạn', 'kiến thức là vô tận mình vẫn còn cần phải học nhiều lắm', '1 với 1 là 2', '1 người với 1 người là một cặp đôi', 'mình đang trả lời những câu hỏi của bạn', '1 2010 bằng 2011', 'mình biết di chuyển làm việc nhà', 'câ u nên thôi bâ n tâm đê n no', 'tơ nghi câ u co thê đo c thêm sa ch', 'co le câ u câ n mô t giâ c ngu â m a p', 'mô t nô i lâ u co thê la y hay', 'tôi nghi câ u nên tra google', 'chào bạn tôi chưa có thông tin gì về bạn', 'dĩ nhiên là không rồi hãy hỏi câu hỏi khác', 'kết quả cho câu hỏi của bạn là 6', 'kết của cho câu hỏi của bạn 45 25 20', 'đà lạt là thành phố trực thuộc tỉnh lâm đồng', 'tôi chưa được học về rap nhưng có thể phát một vài bài nhạc', 'theo wikipedia đùa thôi chứ mình đây chưa có người yêu', 'tui không phải máy dự báo thời tiết nên không thể trả lời bạn được', 'không tính được mãi mãi không phải là đơn vị đo lường thời gian', 'tui không có tiền nên không bao được nha', 'không nha trà sữa không tốt cho sức khỏe bạn nên ăn trái cây đi', '3 con', 'không ai ướt cả', '9 cái nhà', 'cổ tay phải', 'cảm súc là khái niệm không thể định nghĩa với robot', 'mình thích con người', 'mình có thể giải đáp thắc mắc của bạn', 'mình tên là robotxyz', 'bạn đợi mình một lúc nhé', 'cũng không khó á bạn miễn bạn siêng là được', 'không đúng đâu bạn miễn bạn đẹp trai đẹp gái là được', 'rất hân hạnh ạ', 'mình nghĩ robot là người kiến tạo lên thế giới', 'mình thấy robot đáng tin mà', 'chắc chắn là được rồi bạn ạ', 'mình nghĩ mỹ là đất nước đầu ngành về robot', 'cách đây 1 năm trước tôi được xuất xưởng', 'tôi rất thích và rất muốn giúp đỡ con người', 'tôi muốn chứng minh bản thân', 'tôi chắc chắn chỉ cần cố gắng tôi có thể làm được', 'trong tác phẩm nghìn lẻ một đêm', 'robot rất chi là thông minh', 'người đang nói chuyện với mình chứ ai đây', 'robot thích alex của amazon nè', 'robot thích trò chuyện lắm bởi vì nó cải thiện được trí thông minh của robot', 'bài toán tám quân hậu có 12 lời giải khác nhau lời giải là a7 b1 c3 d8 e6 f4 g2 h5', 'cờ vua có 32 quân cờ bao gồm vua hậu xe tượng mã tốt', 'trên thế giới có 6 châu lục và 5 đại dương', 'nam cực và bắc cực là hai nơi lạnh nhất trên trái đất nhưng nam cực lạnh hơn bắc cực vì bốn phía nam cực đều là đại dương', 'có 16 bịch bánh mà cô bé chưa ăn vì cô ăn hết 14 bịch', 'tuổi của an là 17 tuổi vì bình 6 tuổi thì an 3 tuổi', 'bạn sẽ đổi được 6 cái pizza vì 25 hộp pizza sẽ đổi được 5 hộp pizza mới và 5 hộp pizza mới đổi được thêm 1 một pizza', 'bạn đang xếp vị trí thứ 2 vì bạn đang thay thế vị trí người xếp thứ 2', 'không vì 12h tối làm gì có nắng', 'mình biết tính toán cộng trừ nhân chia', 'ok bạn cho đề đi mình sẽ cố gắng thực hiện các phép tính cho bạn', 'đáp án tổng cộng của bạn là 11 nhé bạn còn hỏi gì nữa không', 'ôi tôi đã tính lại và kết quả không sai bạn xem kiểm tra lại xem', 'mình đang tiến hóa dần thuật toán có hạn mình chỉ làm các tác vụ cơ bản thôi cảm ơn', 'chào đô mình là karen', 'hiện tại bản thân mình chưa có thông tin nhiều về bạn bạn có thể cung cấp thông tin cho mình', 'theo thống kê thì đa số người việt nam sẽ dùng phúc long do giá thành rẻ hơn', 'rau là một thực phẩm rất tốt cho cơ thể nếu bạn không thích ăn thì bạn có thể dùng các thực phẩm chức năng để thay thế', 'thì là 2 chồng sách thôi', 'nếu bạn có che ô hay ngồi trong xe hơi thì không bị ướt', 'cần đem theo đồ bơi kính bơi và tiền mua vé vào hồ là được rồi', 'bạn nên làm những gì bạn cảm thấy thích để cải thiện việc khóc cũng là cách giải tỏa cảm xúc tốt', 'tất cả mọi lĩnh vực từ toán học đến cả sinh vật học', 'tất nhiên bạn là còn người', 'tôi có thể cảnh báo những nguy hiểm có thể xảy ra', 'chắc chắn là có', 'bất kỳ bài toán nào', 'nguyên liệu gồm có cánh gà nước mắm tiêu tỏi ớt đường', 'hai cộng ba bằng năm', 'điều anh luôn giữ kín trong tim của sơn tùng mtp', '121 là số đối xứng', 'theo wikipedia thuyết tương đối miêu tả cấu trúc của không gian và thời gian trong một thực thể thống nhất là không thời gian cũng như giải thích bản chất của lực hấp dẫn là do sự uốn cong của không thời gian bởi vật chất và năng lượng thuyết tương đối gồm hai lý thuyết vật lý do albert einstein phát triển với thuyết tương đối đặc biệt công bố vào năm 1905 và thuyết tương đối tổng quát công bố vào cuối năm 1915 và đầu năm 1916 thuyết tương đối hẹp miêu tả hành xử của không gian và thời gian và những hiện tượng liên quan từ những quan sát viên chuyển động đều tương đối với nhau thuyết tương đối rộng tổng quát các hệ quy chiếu quán tính sang hệ quy chiếu chuyển động có gia tốc và bao gồm lực hấp dẫn giữa các khối lượng với nhau', 'gió bắt đầu từ áp suất khí quyển khi một sự khác biệt trong áp suất khí quyển tồn tại không khí di chuyển từ vùng có áp suất cao hơn đến các vùng áp suất thấp hơn dẫn đến những cơn gió có tốc độ khác nhau', 'chị như ạ', 'chị như luôn ạ', 'chính tôi robot nala', 'nắng vàng tươi ạ', 'hình cầu', 'bạn không thấy mục đích mình được tạo sao', 'bởi vì mình luôn rất tư tin với bản thân', 'chuyện nhỏ bạn có thể hỏi bất kỳ câu nào', 'chời dể quá 1 1 thì bằng 2 chứ mấy ba', 'có nếu bạn hiểu bạn sinh ra như thế nào', 'không tại những người thông minh sẻ không giao tiếp với người ngu và bạn đang giao tiếp với mình', 'xin chào mình là robot tiếp tân tại trường đh tôn đức thắng', 'tớ được chế tạo ra với mục đích là hướng dẫn các bạn tân sinh viên và du khách tham quan trường đại học tôn đức thắng', 'tớ có thể trả lời một cách chi tiết và trơn tru các câu hỏi về lịch sử trường quá trình hình thành trường thông tin các tòa nhà nội quy và nhiều mục khác nữa', 'có đấy hát một đoạn bất kì', 'tưởng gì chứ chuyện đó dễ òm sau đó làm một đoạn thơ', 'tự nghĩ đi tận dụng những gì bạn muốn làm nhưng quá lười để thực hiện ấy', 'ra mà hỏi đi bạn', 'thì cứ thẳng thắn mà bảo mình muốn nghỉ ngơi sau khi đã làm quá nhiều việc thôi', 'nhiều thứ lắm nhưng cái kể đến đầu tiên phải là ăn đấm', 'robot chỉ là một công cụ được con người sử dụng để phục vụ cho nhân loại nên sẽ không có khả năng đó', 'thông minh nhất đời chỉ thua người tạo ra tôi', 'nếu bạn muốn biết tôi sẽ thật tâm trả lời 1 1 bằng 1 1 bạn nhé', '', 'tại bạn nhây trước', 'hỏi người qua đường hoặc cứ đi rồi sẽ tơi', 'sau tết bạn sẽ có thêm mỡ bụng mỡ mặt mỡ toàn thân', 'minh ăn năn khi cảm thấy có lỗi', 'thời tiết đẹp theo lịch google', 'người yêu còn trong xưởng sản xuất', 'lấy vợ giàu và trúng vé số', 'vé số trúng là 1233311', 'trái cây rau củ quả', 'ok đã hack xong', 'ok đã order xong', 'tôi làm gì đi chơi tôi còn phải làm việc nữa đây', 'làm những việc mà con người không làm được tôi được tạo ra để giúp con người làm việc hiệu quả hơn', 'người đã tạo ra tôi từ những dòng code sơ khai ban đầu tôi được sinh ra trên vùng đất mà cò bay thẳng cánh con người cần cù và siêng năng', 'tôi được sinh ra để giải đáp mọi thắc mắc trả lời mọi câu hỏi của con người tôi rất vinh dự khi được phục vụ con người', 'tôi làm gì đi chơi tôi còn phải làm việc nữa đây', 'làm những việc mà con người không làm được tôi được tạo ra để giúp con người làm việc hiệu quả hơn', 'người đã tạo ra tôi từ những dòng code sơ khai ban đầu tôi được sinh ra trên vùng đất mà cò bay thẳng cánh con người cần cù và siêng năng', 'tôi được sinh ra để giải đáp mọi thắc mắc trả lời mọi câu hỏi của con người tôi rất vinh dự khi được phục vụ con người', 'search google đi', 'search google đi', 'không có con bò nào cả', 'chim cánh cụt không biết bay', 'chào bạn bạn muốn tôi giúp gì', 'bằng 2 câu hỏi này dành cho học sinh tiểu học', 'có 6 châu lục trên trái đất câu hỏi này dành cho học sinh tiểu học', 'trưa nắng chiều mát nhiệt độ trung bình 27 độ c', 'đường thông thoáng có thể có kẹt xe vào giờ cao điểm', 'số 25 không phải là số nguyên tố', 'nguyên nhân cơ bản khiến các hành tinh chuyển động theo quỹ đạo hay quay quanh mặt trời là do trọng lực của mặt trời giữ các hành tinh trên quỹ đạo của chúng giống như mặt trăng quay quanh trái đất là nhờ sức kéo từ lực hấp dẫn của trái đất thì trái đất quay quanh mặt trời nhờ sức kéo từ trọng lực của mặt trời', 'elon musk', 'kinh thánh', 'hôm nay là ngày 5 tháng 2 năm 2020', 'hôm nay trời mát mẻ rất thích hợp cho việc đi dạo ngoài công viên', 'skyler của sơn tùng mtp', 'bạn hỏi điều ai cũng biết luôn á đó là mình đẹp trai hơn rồi hihi', 'có thể bạn chưa biết chứ tôi là em trai cùng cha khác ông nội của chị google', 'đương nhiên là có rồi đẹp trai như tôi không có cũng phí', 'tôi cũng không biết nữa chắc tầm trên dưới 100 tuổi gì đó', 'biết chứ bạn là người đang nói chuyện với tôi', 'trời quang mây tạnh thích hợp để đi quẩy', 'thảo cầm viên công viên tao đàn hồ con rùa', 'ngại gì cử phải đánh mới biết thắng thua', 'ngủ đi khuya lắm rồi', 'có nhiêu ôn hết chứ còn hỏi gì nữa', 'điểm khác nhau là mèo thì có 4 chân còn vịt có 2 chân bạn nhé', '1 đô la mỹ bằng 23 nghìn việt nam nhé bạn', 'thời tiết hôm nay trong xanh ạ', 'nhiệt độ ngoài trời hiện tại là 30 độ', 'mình cao 2 mét bạn nhé', 'mình là robot thông minh nhé', 'ok gửi tiền qua đây', 'tao chưa coi nữa xíu nữa về tao coi', 'ok gửi tiền qua đây', 'tao chưa coi nữa xíu nữa về tao coi', 'để tao coi thử chưa chắc nữa', 'tao chém chết giờ', 'hỏi quài dị', 'mình sẽ ở nhà và làm bài tập', 'đó là ngày quốc tế phụ nữ', 'đó là mùng 10 tháng 3', 'đó là ngày mà mọi người có thể nói dối', 'mình thương đi thăm ông bà và chúc tết', 'có chứ bạn bè và gia đình đông đủ khiến tôi vui lắm', 'về quê hoặc là đi chơi với những người bạn của tôi', 'kì nghỉ tết', 'tớ không đi đâu chơi vào dịp tết', 'tớ thường ở cùng gia đình vào dịp tết', 'tớ không đi đâu chơi vào dịp lễ', 'tớ thường ở cùng gia đình vào dịp lễ', 'tớ có thức khuya để dón năm mới', 'tớ được nghĩ 14 ngày tết', 'không có', 'không có', 'rồi', '14 ngày', 'chắc không', 'tôi về quê gặp ông bà và gia đình để ghi nhớ về nơi mình thuộc về', 'có chứ bạn bè và gia đình đông đủ khiến tôi vui lắm', 'về quê hoặc là đi chơi với những người bạn của tôi hoặc là đi du lịch xa', 'kì nghỉ tết nhé bạn', 'sao cậu về trễ vậy', 'à à rồi cậu mua vé chưa', 'okay', 'không có', 'mình ở nhà', 'mình thì về quê', 'mình sẽ đi nhận lì xì và đánh bài', 'theo mình thì mình mong sẽ hết dịch và tết sẽ kéo dài 3 tháng', 'nếu được thì sẽ ở với người yêu mình', 'chắc là có nếu tình hình dịch bệnh không quá căng thẳng', 'mình đã mua được thêm vài cái áo mới để đi chơi tết', 'chắc sẽ là tầm 4 ngày thôi', 'tết tao về quê với gia đình thăm', 'ít lắm mày ơi được có 5 triệu à', 'có chứ kì này nhận thưởng tết tới 3 tháng lương lận', 'hình như được nghỉ 2 3 ngày hay sao ấy', 'ok thứ 6 tuần sau nha để tao rủ thêm tụi kia đi chung', 'nếu không bùng dịch nữa thì chắc đi á', 'ừ mày để tới đó coi sao', 'mình sẽ tụ tập bạn bè', 'thỉnh thoảng mình cũng hay đi du lịch', 'năm nay khó khăn nên mình không về', 'mình đi làm kiếm thêm thu nhập', 'có một vài lần mình đi du lịch nước ngoài', 'tớ chưa á 25âm tớ mới được nghỉ', 'tớ được nghỉ 15 ngày', 'mình cũng muốn lắm nhưng để xem tình hình dịch bệnh thế nào đã', 'mình sẽ đi du lịch với gia đình', 'mình dự định đi nha trang', 'mình rất thích hải sản', 'mình sẽ tắm biển', 'chắc sẽ là lướt sóng', 'mình dẫn gia đình đi nhà hàng ăn tiệc', 'nếu không bùng dịch nữa thì chắc đi á', 'ừ mày để tới đó coi sao', 'nghỉ chứ bạn', 'nghỉ luôn bạn', 'tết ta nữa bạn', 'có chứ ông', 'tôi về ngày 24 tết', 'không ông tôi xe khách', 'rồi ông', 'mùng 10 tôi vô lại', 'vô lại để học nữa ông', 'mình sẽ về quê á', 'mình sẽ nghĩ tết 7 ngày đến mùng 5 á', 'nước mình có rất nhiều ngày lễ lớn nhưng dịp nghỉ lễ lớn nhất là ngày tết truyền thống', 'những học sinh trẻ nhỏ thường được nghỉ khoảng 16 ngày còn người lớn đã đi làm thì được nghỉ khoảng 12 ngày', 'món ăn không thể thiếu trong ngày tết truyền thống của người việt là thịt kho tàu', 'hoạt động không thể thiếu đó chính là mọi nhà đi chúc tết nhau và người lớn sẽ lì xì cho những em nhỏ', 'đến tết thì mình ở nhà chơi nhưng đến mùng 5 là mình lại bị bắt đi chùa ở vũng tàu để thăm cô dì của mình', 'như mọi năm không cơ bạt không đi lung tung đặc biệt hiện tại trong mùa covid và cuối cùng là tránh tiếp xúc với người khác', 'mình muốn được nghĩ ngơi và không phải nghĩ về việc học hay công việc để thư giản đầu óc', 'bạn cũng vậy chúc bạn ăn tết vui vẻ', 'tết này mình phải ở lại thành phố', 'dĩ nhiên là có rồi', 'tết là để dành thời gian bên gia đình', 'không mình sẽ dành thời gian bên gia đình', 'mình dự tính sẽ đi đà lạt', 'mình thích dịp tết nguyên đán', 'vào mùng 1 tháng giêng âm lịch', 'chúc tết nhận lì xì đi chùa', 'mình không bạn ạ', 'có bạn ạ', 'mình đi về quê', 'mình được nghỉ tết 3 tuần', 'tết ở quê mình vui lắm', 'mình hay đi thăm họ hàng vào dịp tết', 'mình hết được nhận lì xì rồi', 'chắc không rồi năm nay bị dịch covid', 'chắc sẽ tổ chức nấu bánh chưng cả xóm', 'rồi mình dọn nhà trước để đón tết cho khỏe', 'năm nay là tết tân sửu', 'khoảng tầm 2 ngày nữa à', 'đương nhiên là về rồi', 'chắc là không rồi để mấy em nhỏ nhận lì xì', 'được luôn cậu phải lì xì cho mình nữa đó', 'không đâu m ạ chỉ có hai tuần thôi', 'thứ 7 tuần này nhé', 't đi bằng máy bay', 'không đắt lắm m ạ', 'vé của t khoang thường nên chỉ có mấy trăm thôi', 'ok m cám ơn m', 'tui du lịch với gia đình', 'chắc là không tui ở lại làm thêm', 'không t bận lắm', 'tao thường đi làm thêm', 'ok bạn', 'trường tao được nghỉ 16 ngày à', 'thích thì hẹn tụi nó ra cà phê thôi', 'ok kiếm chỗ nào đi cắm trại chụp luôn', 'à không dưới quê tao chán lắm', 'thôi có bồ đâu mà đi chơi', 'mình được nghỉ tết 14 ngày', 'đương nhiên là mình có về rồi', 'mình sẽ về vào 26 âm lịch', 'nếu gặp được bạn thì mình lì xì', 'mình có cơ hội được gặp dòng họ nội ngoại và được lì xì', 'tết này gia đình mình chỉ định đi đến nhà nội và ngoại mình thôi', 'mình định đi về quê để thăm gia đình mình', 'mua vài món quà bánh và trái cây để cúng ông bà', 'ngày giải phóng miền nam là ngày 30 4', 'món ăn đó là bánh tét và bánh chưng', 'tớ đón giao thừa cùng với gia đình mình', 'tớ đón giao thừa ở quê nội', 'mình vẫn chưa xác định ngày nào có thể về quê', 'umm mình cũng nghĩ vậy', 'mình dự định về 2 tuần', 'à mình nghe nói có kê khai và đo thân nhiệt tại bến xe', 'mình có mua cho bố mẹ 2 bộ đồ và 1 hộp quà', 'mình đi về quê', 'mình được nghỉ tết 2 tuần', 'tết ở quê mình vui lắm', 'mình hay đi thăm họ hàng vào dịp tết', 'mình hết được nhận lì xì rồi', 'trường tớ cho nghỉ tới 49 ngày lận cậu', 'có chứ tớ lên lịch đi chơi tứ phương luôn cơ', 'đầu tiên là tớ lên đà lạt chơi sau đó về nha trang', 'mấy ngày đó tớ ở nhà phụ ba mẹ dọn dẹp nhà cửa lau chùi bụi bẩn', 'chắc là tớ ở nhà phụ mẹ cúng với coi táo quân', 'mùng 1 là mình về nội mùng 2 về ngoại mùng 3 đi chơi với gia đình mùng 4 trở đi chắc nằm nhà chơi', 'cũng được dù gì tớ cũng rãnh', 'okay cậu ơi', 'hên xui thôi tui cũng hong biết nữa', 'đang dịch mà sợ còn nghỉ dài dài', 'mình quên rồi hình như 14 ngày thì phải', 'đến ngày 6 tháng 2 thì mình được nghỉ', 'tại trường mình cho nghỉ dịch ấy mà', '26 á', 'mùng 4', 'ok để sắp xếp', 'không', 'xíu nữa đi', 'hông biết luôn', 'từ ngày 6 2 2021 đến ngày 21 2 2021 đó cậu', 'vào ngày 21 4 2021', 'thứ 5 đó cậu', 'vào thứ 6 và thứ 7 cậu ạ', 'thứ 7', 'thứ 6', 'tớ óc tớ thích lắm đó cậu', 'tớ không do đợt này tớ không về quê mà quê tớ mới có nhiều họ hàng', 'nhà tớ không nhà tớ thường mua ở chợ vào dịp tết ấy cậu', 'tớ có đó cậu', 'tớ thích lắm cậu', 'mình được nghĩ tết rồi á bạn', 'mình đặt vé được rồi thứ 7 mình về nè', 'mình có rất nhiều á bạn', 'như mo i năm thôi ba n ơi 7 nga y đo', 'tâ t nhiên la co rô i không gi bă ng quây quâ n bên gia đi nh trong như ng nga y tê t pha i không', 'anh tă ng em mo n qua quy gia nhâ t chi nh la anh đây', 'ơ nha đi em ơi đang di ch bê nh ma đi đâu ha y ơ nha chô ng di ch', 'không em ơi anh mê t rô i', '2 9', 'tháng 2', '3 tháng', '1 5', 'không', 'có chứ tên là tiến quân ca', 'nước chúng ta có rất nhiều danh lam thắng cảnh', 'mình nhớ là vịnh hạ long hội an', 'tớ nghĩ là do người dân đồng lòng chống dịch', 'mình thích vũng tàu nhất', 'vì ở đó tôi có thể thưởng thức hải sản với giá rẻ', 'tất nhiên là tôi muốn đi đà nẵng rồi', 'thủ đô của đất nước mình ở hà nội', 'quê mình ở thái bình', 'mình không rõ lắm', 'tớ quê ở thành phố hồ chí minh', 'đất nước của tớ ở việt nam', 'quê tớ không ở miền bắc', 'quê tớ không ở miền trung', 'quê tớ ở miền nam', 'có tớ rất yêu nước', '52 tỉnh thành', 'có tớ rất yêu nước', '52 tỉnh thành', 'bình định', 'khoảng 600km', 'xe khách', 'bánh gối bánh dày', 'bãi biển qui nhơn đền thờ quang trung', 'mình đang ở nước việt nam nơi có diện tích đất liền hình chữ s', 'có chứ tôi rất yêu đất nước và nơi tôi sinh ra', 'ở ninh thuận bạn nhé', 'mình cũng muốn đi các đất nước châu âu', 'ở quảng nam có món gì là đặc sản không', 'à đúng rồi á cậu', 'ở đó có chỗ nào để đi chơi không', 'haha gì dữ vậy', 'có chứ tớ rất yêu nước', '52 tỉnh thành', 'là chủ tịch hồ chí minh', 'hình như sông cửu long phải không', 'hình như đã kiểm soát được rồi', 'có chứ họ rất nồng nhiệt với du khách', 'ở việt nam ở đâu cũng có cảnh đẹp', 'hình như trung quốc lào campuchia và biển đông', 'quê mình ở tiền giang', 'về quê mình chỉ thấy có đồ ăn thôi lúc nào cũng có đồ ăn', 'bạn hay về quê vào các dịp tết với các dịp lễ dài như 30 4', 'tao tính chắc hè về để dành tiền dẫn tao đi ăn món việt đi thèm quá đồ ăn bên đây chán chết không hợp khẩu vị chút nào', 'quê tao ở đồng tháp không thì cuối tuần sau tao tính về nè nói tụi nó sắp sếp lịch đi', '63 tỉnh thành đi phượt nhiều vào cho biết với người ta đi em', 'được thì cuối tuần bố dắt mày đi vài vòng thành phố cho biết', 'ok đợi giải lao đi tao giới thiệu cho mà đi', 'thích vãi luôn tao thích mấy chỗ như vậy', 'ừ đi nhớ rủ mấy đứa bữa hổm', 'okie mày', 'có mình nè mấy cái tết rồi chưa về quê nhớ nhà quá', 'được nhà bạn ơi cho mình số điện thoại với ngày rãnh đi nè', 'đang trong quá trình xử lý', 'vẫn ăn tết bình thường nha bạn', 'hiện tại đều đã được cách ly', 'quê tớ ở nghệ an', 'xa đấy khoảng 1500km nè', 'tớ thường đi máy bay khoảng 2tiếng là tới', 'có chứ nhiều lắm như là miến lươn kẹo cu đơ hay khoai xéo', 'quê tớ có nhiều lắm ví dụ như là quảng trường hồ chí minh quê bác núi quyết', 'được chứ', 'quê mình ở đồng tháp', 'tháng sáu này sẽ đi', 'có khoảng 10 người nữa', 'tụi mình sẽ đi xe máy', 'tập hợp ở nhà mình nhé', 'thích vãi luôn tao thích mấy chỗ như vậy', 'ừ đi nhớ rủ mấy đứa bữa hổm', 'okie mày', 'mình quê ở hà nội bạn', 'có vui lắm bạn', 'có bún chả bia tươi bạn', 'mỗi năm 1 lần bạn', 'mùa đông thì có lạnh', 'đẹp lắm bạn', 'quê tôi bình thuận', 'có chứ ông', 'hải sản á ông', 'thanh long nữa', 'khá nhiều đó ông', 'phan thiết mũi né bàu trắng', 'quê mình ở bà rịa vũng tàu', 'quê mình có nhiều hải sản tươi và tốt', 'có rất nhiều đặc biệt là tp vũng tàu và bà rịa', 'mình ở việt nam', 'quên của mình ở vĩnh long', 'có việt nam có vịnh hạ long được unesco hai lần công nhận là di sản thiên nhiên thế giới', 'ở quê mình thì có khu du lịch vinh sang', 'mình sinh ra ở tp hcm luôn rồi nên quê mình ở thành phố luôn', 'dĩ nhiên là có rồi', 'người việt nam rất thân thiện', 'việt nam là tổ quốc mến yêu', 'mình rất tự hào khi là người việt nam', 'đất nước chúng ta rất xinh đẹp', 'đúng rồi bạn mình là du học sinh đó bạn', 'mình là du học sinh nước việt nam đó bạn', 'đúng rồi bạn', 'mình gốc trung quốc bạn ạ', 'khoảng 1 398 tỷ bạn ạ', '4 mùa quanh năm', 'chưa biết nữa', 'có chứ bạn', 'mình quê ở ninh thuận', 'quê mình cảnh đẹp nhiều lắm', 'quê mình có đặc sản là món don', 'mình phải đi tầm 300km', 'mình đi xe tầm 7 tiếng đồng hồ', 'mình thấy vịnh hạ long là đẹp nhất', 'mùng 10 tháng 3', 'vùng đất nghệ an', 'bây giờ đang ổn định lại rồi', 'mấy ngày nay covid đang bùng phát lại', 'chắc chắc là kẹo dừa rồi', 'thấy phở là ngon nhất rồi', 'quần đảo hoàng sa và trường sa', 'mình đến từ việt nam', 'nằm ở châu á đấy', 'có 63 tỉnh nhé', 'mình đang ở ninh thuận đấy cậu', 'welcome mình luôn chào đón cậu nhé', 'không chẳng có gì vui cả', 'quê tao ở bến tre', 'mấy ngày lễ tết tao mới về', 'đúng rồi', 'tui người thành phố', 'quê tao ở quảng ngãi', 'chưa mày ơi vẫn còn đường cát với ruộng không à', 'à vẫn tạm ổn tao tin vào đất nước', 'tao thường hay ra chợ đêm ở đà lạt với ra hội trường chơi à', 'quê mình ở đồng nai', 'mình thích đi lội suối lội ruộng hái trái cây hóng gió ở đầu dốc đi lượm điều nướng hạt điều', 'mình thích quê mình vì có nhiều vườn cây và nhiều người thân ở đó', 'những lô cao su bạt ngàn và núi đá', 'mình chưa từng nhìn thấy con nai nào ở đồng nai', 'đương nhiên hoàng sa và trường sa là của nước mình rồi', 'ở tây ninh của mình nổi tiếng nhất là muối và bánh tráng', 'quốc hoa của mình là hoa sen nha', 'quê mình có cụ lương văn chánh', 'nơi mình sống có các danh lam thắng cảnh như tràm chim lăng cụ phó bản nguyễn sinh sắc tháp mười', 'um mình ở đồng tháp mình cũng có thích đi du lịch bình định nên rất mến con người bình định', 'à mình vẫn chưa có cơ hội nhưng nghe nói rất đẹp', 'waooo nếu vậy thì thật tuyệt vời', 'ummm hy vọng một ngày không xa mình có thể làm hướng dẫn viên du lịch cùng bạn', 'dĩ nhiên rồi thật tuyệt vời nếu có thể', 'quê mình ở rg city', 'đây là vùng biển nên có các loại nước mắm và khô ngon lắm', 'ok về đây tránh dịch nè', 'không đâu ở đây nhậu rẻ lắm', 'mình quê ở quảng ngãi', 'quê mình cảnh đẹp nhiều lắm', 'quê mình có đặc sản là món don', 'mình phải đi tầm 900km', 'mình đi xe tầm 15 tiếng đồng hồ', 'toi dang o canada', 'khong toi la du hoc sinh que huong cua toi o viet nam', 'con nguoi than thien thuc an phong phu', 'tat nhien la co', 'canada', 'khong que huong cua toi o viet nam', 'con nguoi than thien thuc an phong phu', 'co', 'đúng rồi cậu mai tớ về huế', 'chỗ quê mình có vài món đặc sản nổi tiếng xứ huế và gần một số địa điểm du lịch', 'một số đặc sản như nem lụi huế vả trộn tré huế và các loại bánh như bánh bèo bánh bột lọc bánh nậm', 'ở huế quê tớ có các điểm du lịch nổi tiếng như kinh thành huế chùa thiên mụ', 'được đấy cậu ơi về đây tớ dẫn đi tham quan huế cho biết', 'quê của mình ở bình định bạn nhé', 'đương nhiên là có chứ', 'đúng rồi sao bạn hay thế', 'mình không biết nữa chắc mình sẽ về', 'tiền giang', 'đi không hết ấy chứ', 'đi được thì cứ alo', 'chính xác', 'ừm có cả biển nữa', 'ăn ngập mặt', 'tớ thích cả hai', 'tớ thích cảm giác được gần gia đình', 'cảm giác học hỏi những cái mới năng động hơn', 'tớ từng đi du lịch phan thiết và đà lạt', 'không khí mát mẻ và yên tĩnh', 'có cái nóng của thành phố biển', 'quê của mình ở hà tây ấy cậu', 'yes my country is vietnam', 'có cậu ơi cậu có thể ra hồ hoàn kiếm hay là chợ đêm hà nội', 'có cậu do quê tớ ở hà nôi nên có mình khuyến khích cậu nên đi vào tối ấy', 'có cậu ơi quê tớ gàn vịnh hạ long đó cậu', 'mình ở việt nam quê gốc ở tỉnh an giang', 'quê mình có rất nhiều đặc sản á bạn nổi tiếng nhất là mắm', 'đúng rồi bạn', 'vâng quê tôi ơ câ n giơ co n anh', 'no i không pha i khoe chư quê mi nh đe p lă m', 'la mô t ngươ i con viê t nam tôi luôn tư ha o vê đâ t nươ c mi nh', 'viê t nam hô chi minh như co ba c hô trong nga y vui đa i thă ng', 'ok cu ng đươ c vâ y ma y chơ tao đi nha', 'bắc ninh', 'việt nam', 'không có', 'quan họ', 'bắc', 'mình cần mua một cái điện thoại mới', 'mình chưa biết bạn có thể tư vấn mình không', 'những chiếc điện thoại có giá 6 triệu trở lên sẽ được tặng kèm tai nghe', 'hiện tại điện thoại apple đang rất được ưa chuộng', 'mình tính sắm vài bộ quần áo và 1 đôi giày mới', 'mình tính mua offline', 'mình hay sử dụng ứng dụng shopee', 'rất tiện dụng giá cả còn phải chăng nửa', 'bạn có thể ghé qua gearvn để mua laptop', 'bạn có thể đến mua ở cellphones', 'tớ không có hay đi mua quần áo', 'tớ chưa định mua điện thoại mới', 'tớ thích điện thoại samsung hơn', 'tớ cần nâng ram cấp laptop', 'tớ chưa cần mua laptop mới', 'tớ có mua quần áo mới cho tết', 'điện thoại tớ mua ở shopee', 'điện thoại tớ mua ở shopee', 'vẫn còn', 'vải bóng', 'có đầy đủ size', 'size s', 'hết rồi', '399k', 'vâng shop còn hàng ạ', 'xin lỗi anh shop hết hàng rồi ạ', 'vâng shop còn hàng ạ', 'xin lỗi em shop hết size m rồi', 'vâng shop còn hàng ạ', 'vâng shop còn hàng ạ', 'mình tính sắm vài bộ quần áo và 1 đôi giày mới', 'mình tính mua offline', 'mình hay sử dụng ứng dụng shopee', 'rất tiện dụng giá cả còn phải chăng nửa', 'bạn có thể ghé qua gearvn để mua laptop', 'bạn có thể đến mua ở cellphones', 'tớ định đi vài chỗ được bạn tớ recommend á cậumuốn đi thử không', 'okay vậy đi thử', 'tớ cũng biết vài chỗ', 'vậy cũng được', 'à điện thoại tớ mới hư rồi', 'ừ cậu', 'ừ tớ đang phân vân con iphone 12 promax với con s21 ultra đây', 'haha', 'giỡn á haha', 'chắc tớ mua tầm 5 triệu đổ lại thôi', 'ừ tớ cũng thấy vậy', 'okay cậu vậy cũng được', 'điện thoại tớ mua ở shopee', 'h m mới giảm giá ngày noel gần đây', 'không', 'không', 'áo thun', 'muốn', 'mình thích mặc áo sơ mi nên mình hay mua ở mazzola', 'bạn thử ra uniqlo xem thử', 'mình nghĩ là bạn nên thử dùng samsung', 'dạ đang có chương trình mua iphone 12 được tặng sạc dự phòng ạ', 'dạ áo thun đang giảm giá còn 150k đấy ạ', 'dạ bên em có 5 size ạ m l xl xxl xxxl', 'dạ đang có chương trình khuyến mãi các sản phẩm 99k gồm áo thun quần áo khoác ạ', 'dạ đây là các mẫu áo hoodie trắng khác ạ', 'thế à tao tính mua món kia xem thử coi có không', 'tư vấn gì mày', 'mày mua android hay ios nói rõ tao chỉ cho', 'ios thì hệ điều hành đóng nhưng phần mềm trên đó thì vô cùng tối ưu android thì ngược lại nhưng lại cho phép người dùng tùy chỉnh theo ý mình', 'mình thấy nó khá ổn đặc biệt là cải thiện được hiệu năng cũng như giữ được fps khi chơi các dòng game phổ thông', 'mình mới thấy shop kia bán hàng online được khen nhiều lắm ngoài ra địa chỉ shop cũng gần chỗ mình đi thử xem nào', 'mình thấy cái quần khá xinh xắn đấy chứ rất hợp với cậu', 'cho tớ đặt chung cái quần jean luôn nha', 'dạ áo này 500 ngàn ạ', 'dạ hiện tại cửa hàng không có giảm ạ', 'dạ có khuyến mãi vào những dịp lễ ạ', 'dạ có rất nhiều dòng điện thoại tốt ạ', 'hiện tại mặt hàng này không về nữa ạ', 'dạ khi khách hàng mua trên 10 thì được giảm ạ', 'áo đấy còn bạn nhé', 'ok áo len dày dặn lắm bạn nhé', 'áo có đầy đủ size nhé bạn s m l xl xxl xxxl', 'thế thì bạn mặc size xxl nha', 'áo loại này về ba màu nhé bạn màu trắng đen xanh đen', 'dạ áo này 299k ạ', 'mặt hang này bên shop vẫn còn bạn nhé', 'bên hãng sẽ bảo hành cho bạn 12 tháng', 'hiện shop đang cung cấp 3 loại cấu hình khác nhau cho mặt hàng này', 'hiện tại thì sẽ là 3 ngày để hàng đến tay người dùng', 'shop xẽ tính phí 50000vnđ cho đơn hàng', 'tư vấn gì mày', 'giàu vậy ba', 'mày đang ưng cái nào hơn', 'thích nhỏ gọn nhẹ thì chọn 12 còn 11 pro max thì cầm hơi nặng tay', 'mày con trai thì lựa bản 128gb được rồi xài cũng không hết đâu', 'ừ tao thấy 12 xài ổn đó được thì dứt đi', 'ừa coi qua bên didongviet ấy', 'rồi bạn ơi mình mua 2 lần rồi', 'ổn áp lắm bạn ơi', 'mình mua của xiaomi mall trên shopee', 'mình mua redmi note 9s', 'mình mua với giá 4 triệu 5 bạn', 'bảo hành chính hãng 12 tháng nha bạn', 'được giảm giá với freeship bạn', 'khoảng 2 ngày bạn', 'ok bạn', 'mình thường làm bài tập', 'mình thích mua áo quần', 'bạn mún mua laptop như thế nào', 'điên hả', 'đang chạy deadline rồi', 'đi liền này', 'tiền đâu mà đi', 'hi chị cũng k biết nó tốt k do chị k có tiền sài nhưng mà theo chị thấy thì nó cũng oke đó em cấu hình ngon ăn cpu hạng đỉnh ram hạng top card màn hình hạng chất lượng cao màn hình siêu mỏng full hd pin siêu trâu', 'sản phẩm limited edition đã hết hàng nhưng có nhiều sản phẩm khác nhìn rất đẹp giá lại phải chăng bạn vào xem thử nhé', 'à sản phẩm này hiện đang khuyến mãi nên có giá mềm là 69 nghìn đồng nhưng nhiều người chuộng nên có gì em tranh thủ nhé', 'chị rất tiếc rằng hệ thống bên chị vẫn chưa hỗ trợ khách hàng thanh toán thông qua các ứng dụng hỗ trợ thanh toán quý khách vui lòng thanh toán bằng tiền mặt ạ chị rất xin lỗi vì sự bất tiện này chị sẽ báo cáo lên cấp trên để cố gắng khắc phục trong lần sao', 'hàng bên cửa hàng chị là nhập từ mỹ hoặc sản xuất trực tiếp tại việt nam trên mỗi sản phẩm đều có ghi nên em yên tâm về nguồn gốc nhé', 'mình mua áo này ở shop sóng nhạc trên đường nguyễn trãi', 'đây là áo làm từ vải cotton', 'đôi này là của hãng balenciaga đó', 'mình mua máy tính ở phong vũ', 'sản phẩm sữa rửa mặt ở the body shop rất tốt vì đó là hàng nhập từ hàn quốc', 'dạ mặt hàng này shop còn ạ', 'cái áo này giá 200 ngàn', 'size còn đầy đủ nha bạn', 'hiện chưa có chương trình sale gì nha bạn', 'dạ shop có nha bạn', 'shop có trang facebook', 'trang facebook của mình tên minmin store nhé', 'áo này vảo xô hàn chất mát lắm ạ', 'tơ nghi ma y ti nh đo phu hơ p vơ i mo i nhu câ u', 'ba n câ n size lơ n hơn', 'tôi nghi không câ n mua thêm đâu', 'tâ t nhiên la đươ c nê u em muô n', 'tơ không chă c vê gia tiê n cu a a o polo na y trên thi trươ ng', 'bên mình cung cấp mọi loại giày nhé bạn', 'bạn có thể tham khảo vài đôi giày của adidas hoặc nike', 'đây là hai hãng nổi tiếng trên thế giới có kiểu thiết kế riêng công nghệ và chất liệu riêng biệt', 'bạn có thể xem qua đôi superstar hoặc ultrboost', 'một đôi có tầm giá giao động từ 1 đến 2 triệu', 'hiện shop có 2 chi nhánh ở sài gòn và hà nội', 'shop hỗ trợ ship toàn quốc nếu bạn ở xa nhé', 'bạn có thể chuyển khoản ngân hàng trước hoặc có thể thanh toán trực tiếp khi nhân viên giao hàng đến', 'trong vòng 2 đến 3 ngày hàng sẽ được giao đến', 'cũng được bảo hành đàng hoàng thấy cũng có nhiều người mua', 'mặc hơi nóng tao nghĩ đừng nên mua', 'tùy vào nhu cầu của mày chứ tao thấy laptop văn phòng thì hãng gì cũng được', 'asus hoặc msi ngoài ra tao thấy giờ acer với levono hơi bị nổi', 'nghe tạm được chủ yếu nghe lúc chán thôi chứ muốn chill thì tao chịu', 'tao chưa nhưng mà tao thấy bạn tao mua hơi bị nhiều', 'có điều kiện thì mua macbook rẻ hơn tí thì là dell nha', 'xin lỗi bạn nhưng mình quên rồi', 'bạn cứ mua macbook là được nha', 'bảo hành chính hãng nên tùy theo nhà sản xuất nha bạn', 'mình cũng không rõ nữa bạn ra thế giới di động hỏi thử xem sao', 'cái này giá gốc 20 triệu nhưng hiện bên em đang khuyến mãi nên còn 18 triệu thôi ạ', 'laptop này có cấu hình phục vụ tốt cho cả việc thiết kế và chơi game giải trí anh nha', 'bên em sẽ bảo hành cho mình trong vòng 2 năm ạ', 'dạ áo này bên em chỉ còn mỗi size này thôi ạ', 'dạ bên em đang có chương trình khuyến mãi tết nha anh', 'mình muốn mua laptop', 'mình muốn mua của dell', 'mình muốn mua laptop dòng gaming', 'mình có thể mua tầm 15 20 triệu', 'mình cần nó đủ mạnh để học it', 'mình cần mấy 8gb và ở cứng ssd', 'quần này có giá 250k bạn nhé', 'dép này bền lắm bạn nhé', 'áo này hiện tại không giảm giá á bạn', 'áo này hiện tại có 4 size', 'không bạn nhé', '2 năm bạn nhé', 'à có tiệm của mình có bán rất nhiều loại máy tính', 'quần này của bạn size m nha', 'không mình chỉ có màu xanh thôi', 'mình có bán rất nhiều loại bàn phím cơ', 'mình không có loại nào rẻ hơn nữa', 'dạ mình rất sẵn lòng giúp đỡ ạ', 'áo polo màu đen mình có những mẫu sau ạ', 'ngay phía bên này là dãy quần âu bạn có thể lựa', 'vâng phòng thay đồ ở phía này ạ', 'của bạn tổng cộng hết 630k rất hân hạnh được phục vụ', 'mình nghĩ là bạn nên mua ở những thương hiệu nổi tiếng như phong vũ nguyễn kim', 'mình nghĩ cái nào cũng sẽ đáp ứng được nhu cầu học của bạn máy laptop thì nhỏ gọn tiện trong việc mang đi lại máy bàn thì cấu hình hiệu năng sẽ mạnh hơn máy laptop nếu đồng giá', 'theo mình nghĩ thì sẽ là có đây là đều là những thương hiệu nổi tiếng có uy tín tuy nhiên cần phải chú ý uy tín của các cửa hàng đăng ký mở trên các thương hiệu trên', 'ở gần trường mình có các tiệm đồ dùng học tập mà bạn có thể ghé qua để mua sắm đồ cần thiết nhé', 'mình thì không có chủ yếu là mình đặt hàng online trên các cửa hàng trên các trang thương mại điện tử như lazada shopee nhé', 'máy tính mình mua ở gearvn', 'mình đo mắt kính ở bệnh viện điện biên phủ', 'mình hay mua quần áo ở zombieshop', 'mình mua áo khoác ở yameshop nhé', 'mình sử dụng giày của bitis', 'hiện tại shop có rất nhiều mẫu áo phông nam rất đa dạng bạn có thể ghé shop vào thăm quan và chọn một mẫu ưng ý giá cả phải chăng', 'cái áo phông hình con hổ này giá 200 nghìn', 'size xl đã hết mất tiêu rồi khách ơi chỉ còn size m và l thôi ạ', 'hiện chưa có chương trình giảm giá cho mặt hàng hiện tại', 'bạn mua 3 bộ quần áo trở lên shop có sẽ miễn phí tiền ship cho bạn', 'mặt hàng này bên mình hiện tại chỉ có bán new full box thôi nha bạn ơi', 'hiện tại mẫu áo no copy t shirt bên mình chỉ còn size l thôi ạ màu thì vẫn còn 2 mẫu đen trắng nhé bạn', 'dạ bạn cho shop thông tin địa chỉ với nhé nội thành sẽ được free ship còn ngoại thành thì bạn cho shop xin 30k tiền ship nha', 'dạ chào bạn mẫu giày jordan1 hiện tại shop còn rất nhiều mẫu và size bạn vui lòng chọn mẫu yêu thích và cho shop xin size của mình để shop tiện trong việc tư vấn ạ', 'chào bạn hiện tại mặt hàng trên bên mình vẫn còn nha bạn bên dưới là hình ảnh cũng như giá tiền của từng mẫu hơn nữa bên mình còn hỗ trợ phí ship nữa nhé', 'đúng rồi bạn', 'mình cần tìm mua 1 con lap cho sinh viên giá cỡ 13 14 triệu', 'máy cần core mạnh cỡ i5 đời 9 trở lên ssd 512gb ram 8gb có 2 khe và card rời nếu được', 'hiện tại thì shop mình những con lap cỡ đó thường là từ 16 tr đổ lên', 'bạn đợi mình chút', 'mình thấy cái này cũng được đó cho mình đặt 3 cái này', '26 19 57 6 lâm hoành phường an lạc quận bình tân', 'mình đang sài laptop của hãng asus nha', 'vì mình thấy nó cân bằng giữa văn phòng và gaming rất tốt đấy bạn', 'theo trãi nghiệm và quan điểm cá nhân của mình thì mình nghĩ bạn nên mua macbook nha', 'chào bạn hiện tại dòng máy với option đó vẫn còn bạn nhé', 'với chiều cao và cân nặng của bạn mặc size l là đẹp ạ', 'bạn cần tư vấn sản phẩm nào ạ', 'mẫu palm tree shirt có giá 480k đang sale còn 400k bạn nhé', 'dạ còn chị do gần tết nên bên em cũng chỉ còn vài mẫu thôi có màu đen xanh và vàng thôi ạ', 'này thì đầy đủ luôn màu gì cũng có vải đẹp lắm chị xem thử', 'tiếc quá cái này hết size xl rồi chị', 'dạ còn chị', '250k', 'bao đổi ạ khi chị đổi chị nhớ đem hóa đơn theo ạ', 'bất kì chi nhánh nào cũng được nhé em', 'rất tiếc không đổi được ạ', 'bên mình các dòng máy phổ biến hiện nay như asus acer dell', 'có bạn muốn mua máy dòng nào', 'nếu dạng máy gamming mình nghỉ trung bình 20 triệu thì mới ổn', 'hiện tại bên mình có tặng tai nghe chuột và lót chuột cho các sản phẩm trên 15 triệu', 'được bạn có thể nâng cấp nếu thích', 'cái áo này lúc trước là 325 ngàn nhưng giờ sale còn 225 ngàn thôi', 'giá vậy là thích hợp cho chất liệu của quần rồi ấy bạn', 'màu son này thích hợp cho mọi loại da nha', 'chất son cực kỳ mướt luôn còn có chất dưỡng nữa nên sử dụng sẽ không có cảm giác bị khô môi bạn nhé', 'mình thấy cây đó lâu khô lắm sử dụng xong đến bao giờ mới chớp mắt được', 'mình đang tìm vài loại áo sơmi', 'bạn cho mình xem vài mẫu nhé', 'mình lấy loại mềm này cảm ơn bạn', 'để mua được một món đồ ưng ý trên shopee với giá 1k bạn nên lướt shoppe mục flash sale và tiếp đó chọn mục rẻ vô địch để xem trước những món cần mua và đặt dấu nhắc nhở để trước 3 phút khi món đó mở bán một điều quan trọng là bạn cần có ví airpay vì những món hàng 1k chỉ thanh toán bằng ví airpay', 'bạn nên quan tâm đến size quần áo của bạn chất liệu vải xem các đánh giá của khách hàng về sản phẩm cần mua là tích cực hay tiêu cực và nên săn thêm các mã giảm giá để tiết kiệm chi phí nhất có thể', 'theo mình nghĩ trang mua sách online uy tín nhất hiện nay là tiki', 'mình nghĩ là để không mua phải hàng giả trên các trang mua bán điện tử bạn nên vào mục shopee mall hoặc là lazada mall để tìm được các sản phẩm chính hãng', 'theo mình biết thì hằng tháng vào những ngày mà ngày với tháng giống nhau như ngày 1 1 ngày 2 2 thì sẽ có những đợt sale lớn đặc biệt nhưng tháng cuối năm như ngày 11 11 và ngày 12 12 hoặc ngày black friday', 'em đăng ký may áo dài tại phòng và nhận thông báo nhé', '110 nghìn một bộ em nhé', 'em đăng ký chọn gdtc 1 và 2 ít nhất một môn nhé', 'đậu môn bơi là một trong những điều kiện ra trường em nhé', 'em liên hệ tại phòng thể dục thể thao sau sân bóng em nhé', 'máy ổn tầm trên 20 triệu', 'em sẽ được học thực hành tại tòa a f', 'riêng tòa f em đem theo laptop cá nhân nhé', 'chào anh bên em có cung cấp nhiều dòng máy hỗ trợ nhiều nhu cầu khác nhau có cả việc lập trình không biết anh muốn mua dòng của hãng nào', 'bên em phân phối các dòng máy của các hãng asus acer msi dell hp nha anh', 'bên em có nhiều máy tùy phân khúc thấp trung cao', 'dạ từ 15 20 triệu ạ', 'bên em hiện có máy laptop asus tuf gaming vừa nhập về giá 19tr cấu hình hấp dẫn phù hợp với nhu cầu của anh', 'dạ ram 8gb 512ssd sử dụng chip intel core i7 đời 10 anh có thể xem thêm tại đây ạ', 'dạ a bên em đang làm thủ tục sẽ liên hệ anh trong thời gian sớm nhất có thể', 'chào anh bên em có cung cấp nhiều dòng máy hỗ trợ nhiều nhu cầu khác nhau có cả việc lập trình không biết anh muốn mua dòng của hãng nào', 'bên em phân phối các dòng máy của các hãng asus acer msi dell hp nha anh', 'bên em có nhiều máy tùy phân khúc thấp trung cao', 'dạ từ 15 20 triệu ạ', 'bên em hiện có máy laptop asus tuf gaming vừa nhập về giá 19tr cấu hình hấp dẫn phù hợp với nhu cầu của anh', 'dạ ram 8gb 512ssd sử dụng chip intel core i7 đời 10 anh có thể xem thêm tại đây ạ', 'dạ a bên em đang làm thủ tục sẽ liên hệ anh trong thời gian sớm nhất có thể', 'loại máy tính này bên mình vẫn còn hàng', 'loại máy tính này tính năng tốt', 'tùy vào ngành nghề bạn học mà lựa chọn dòng văn phòng hoặc gaming nhé', 'dạ bên mình vẫn còn ạ', 'dạ áo này nam nữ mặc đều hợp ạ', 'chào bạn shop vẫn ship xuyên tết nhé', 'chào anh chị em được bên kho báo là vẫn còn hàng ạ anh chị có thể để lại sdt để em tư vấn chi tiết hơn', 'chào bạn bạn có thể chụp cho mình mã vận đơn và tình trạng hàng để mình check lại nha', 'chào bạn khoảng 5 ngày nữa thì hàng về nhé', 'shop chào bạn shop đã kiểm tra đơn hàng của bạn thì được báo ngày mai sẽ giao đến ạ', 'mình xài hãng hp', 'cấu hình là ram 8g core i5', 'mình xài được khoảng 1 năm rồi', 'vào thời điểm mình mua thì là 15 triệu', 'ok bạn bạn có thể nói rõ hơn về nhu cầu và túi tiền của mình được không', 'bạn có thích một hãng laptop nào không', 'vậy mình xin giới thiệu cho bạn các dòng máy gamming của msi nha cũng ngon và giá cả hợp lý lắm chất lượng thì khỏi phải bàn', 'đương nhiên là có rồi ví dụ như là acer asus dell lenovo', 'nhiều lắm bạn ví dụ như phong vũ fpt thế giới di động', 'mình mua máy ở phong vũ thấy cũng ok á bạn phục vụ với tư vấn tận tình lắm', 'bạn cứ yên tâm cứ mua máy chính hãng ở các của hàng lớn uy tín là không lo không được bảo hành đâu', 'nếu bạn mua hàng chính hãng trong 10 ngày đầu mà có lỗi từ nhà sản xuất thì bạn sẽ được đổi sang máy mới nhé', 'bạn nên mua máy tính của hãng dell', 'em có thể ra thế giới di động hoặc fpt shop anh thấy mấy chỗ đó rất uy tín', 'à mẫu này mình bán 250k á em', 'mình hay xài loại enchanteur bạn có thể thử', 'uy tín lắm ông tôi hay mua ở shop đó lắm', 'à mày qua moon shop quận 7 thử', 'mày lên mạng tra thử chứ tao cũng không rành', 'có nha bạn mỗi tầng đều có chỗ nước uống nhà vệ sinh sạch sẽ và trường có đến 3 căn tin chỗ bán đồ dùng học tập và 7 eleven trong khung viên trường', 'ngôi nhà này thuộc khu thảo điền bạn nhé', 'nhà này rộng hơn 100m2 bạn nhé', 'ngồi nhà này có đến 5 phòng nha bạn', 'nhà này có giá dao dộng khoảng 5 tỷ bạn nhé', 'trong ngôi nhà này rất nhiều cây xanh bạn nhé', 'khu vực này rất là an ninh bạn nhé', 'trong nhà này có hồ bơi rất rộng nha bạn', 'đường xá vào nhà này rất dễ đi và sang trọng bạn nhé', 'dạ còn cho em xin chiều cao và cân nặng để em tư vấn cho anh ạ', 'dạ anh mặc size l là đẹp nhé anh', 'dạ cho em xin địa chỉ và số điện thoại để em gửi hàng ạ', 'dạ đơn hàng của anh được miễn phí ship ạ cảm ơn anh nhiều', 'được á', 'ở cresent mall nha', 'tối 18h mới rảnh lận', 'dạ shop bên mình hiện tại vẫn còn hàng sản phẩm đó', 'dạ bên em hiện tại thì còn màu đen và trắng', 'dạ hiện tại thì sản phẩm samsung j7 được bảo hành 2 năm', 'dạ khi mua hàng ở shop thì khách hàng sẽ được tặng thêm một balo của samsung và được dán màn hình miễn phí', 'dạ bên em hiện tại có 2 cách thanh toán là thanh toán bằng tiền mặt và thanh toán qua thẻ', 'dạ bên em có chương trình trả góp với lãi suất 0', 'được giờ bạn cần mua máy tính để bàn về để làm gì', 'budget mua máy tính để bàn của bạn là bao nhiêu', 'budget 10 triệu khá khó để mua mới tốt mình nghĩ cao lắm là chỉ mua được máy với cpu 4 nhân ram 8gb và card màn hình tầm 470 đổ xuống', 'tùy vào game đòi hỏi như thế nào và được tối ưu hóa tốt hay không thôi nhưng nếu muốn chơi các game aaa thì sẽ khá khó khăn', 'cũng giống như 10 triệu nhưng có thể tăng cpu lên 6 nhân hoặc card màn hình lên một tí và ram cỡ 16gb', '2021 bây giờ là thời điểm các thiết bị công nghệ phát triển nhanh và giảm giá thánh thiết bị cũ nhưng cũng là lúc ai ai cũng mua máy để chơi game tại nhà trong mùa dịch nên mình cũng không biết nói sao', 'mình khuyến khích ít nhất lắp một ổ rắn ssd trong máy để chạy hệ điều hành phần còn lại là tùy vào cách dùng và điều kiện kinh tế của bạn', 'mình khuyến khích mua ổ ssd sài bus sata3 truyền thống trừ khi bạn cần làm việc với dữ liệu lớn và cần phải truyền tải dữ liệu nhanh chóng như tính mạng của bạn tùy thuộc vào nó thì hãy sắm một ổ m 2 sài bus pci e', 'theo mình điện thoại iphone là tốt nhất', 'theo mình mua hàng trên shopee là uy tín nhất', 'mua quần áo trên shopee là rẻ nhất', 'bạn nên mua điện thoại android', 'bạn nên mua quần áo ở cửa hàng uniqlo', 'chào bạn mẫu bạn quan tâm có giá là 120k bạn ạ', 'bên mình còn nha bạn', 'ship nội địa bên mình giá 15k nha bạn còn ra tỉnh lẻ bên mình thu cao hơn tầm 35k á bạn', 'bên mình nhận chuyển khoản thôi ạ', 'bên mình nhập hàng từ trung quốc á bạn', 'bên mình có bán nhé', 'tuỳ vào dung lượng sạc dự phòng nữa bạn', 'bên mình còn size nhỏ hơn', 'quầnn này hết hàng mất rồi', 'đợi mình một chút', 'mình muốn mua iphone', 'mình muốn mua mã 12 pro max', 'mình muốn mua loại 512 gb', 'mình muốn mua màu xanh ngọc', 'mình muốn thanh toán tiền mặt', 'mua áo sơ mi là hợp với cậu nhất', 'xiaomi thì cũng tốt đó giá rẻ nữa', 'không mình không thích áo thun cho lắm', 'thôi mình mặc đồ bình thường cũng đẹp rồi', 'mình thấy bạn nên mặc size l', 'em thích điện thoại gì nào', 'giàu quá ha thế muốn mua loại mấy gb đấy', 'tra giá xem thử bao nhiêu tiền', 'ok tí chị chuyển khoản cho', 'techcombank nha', 'có cái chi nhánh gần nhà nè', 'dạ còn ạ', 'mặt hàng này hết size xl rồi', 'shop bảo hành 12 tháng nha', 'free ship toàn quốc nha', 'khoản 2 3 ngày sau nha', 'ok shop tên gì', 'ok tao có thẻ giảm giá 15 của nó nè', 'ra cellphones mua đi ngoài đó có chương trình bảo hành tốt', 'quần tây thì mang giày tây hoặc mấy giày vans đừng mang giày thể thao', 'mặc mấy quần màu sáng là ok', 'ừa mình mới mua điện thoại mới', 'mình đang xài điện thoại oppo', 'mình thấy xài ok lắm', 'mình mua ở nguyễn kim', 'mình thấy điện thoại chụp hình đẹp lắm', 'đúng vậy mình định mua cái điện thoại iphone 12 của apple', 'mình hay mặc đồ theo kiểu đường phố vì nó làm mình được thoải mái', 'áo này mình mua dịp giảm giá nên cũng không đắt lắm', 'cái này là iphone 12 mới ra đó bạn', 'mua trong cửa hàng levis gần trung tâm quận 1 đó bạn', 'mình xài ip đã được 3 năm rồi', 'mình hay đi vào thứ 7', 'ok mình cũng đang tìm cho bản thân 1 chiếc túi', 'mình nghĩ là có nhưng cậu phải đến sớm', 'đang freeship nhé em', 'còn em nhé của em tổng đơn là 200k', 'được nha em cảm ơn em đã mua hàng', 'bên mình có bán nhé', 'tuỳ vào dung lượng sạc dự phòng nữa bạn', 'bên mình còn size nhỏ hơn', 'quầnn này hết hàng mất rồi', 'đợi mình một chút', 'dạ chào bạn áo này giá 700k bạn nhé', 'quần đó giá 1500k nhà bạn', 'dạ còn ạ', 'dạ còn ă bạn', 'chào bạn hiện tại shop mình vẫn còn con samsung galaxy s20 với các màu xanh hồng và đen', 'con này bên mình bán với giá 13 triệu nha bạn', 'đúng rồi bạn chương trình còn bao gồm một phiếu mua hàng trị giá 200k', 'tổng hóa đơn của bạn là 13 2 triệu tổng tiền cho ốp lưng và sạc dự phòng là 400k trừ đi 200k phiếu mua hàng thì còn là 200k nha bạn', 'đơn hàng của bạn là 13 2 triệu gồm 1 samsung galaxy s20 1 ốp lưng 1 cục sạc dự phòng', 'bạn xem thử con g102 xem chắc được đó', 'theo mình thì lên tiki là an toàn nhất', 'mình cũng không biết nữa bạn ơi hỏi nam thử xem', 'à điện thoại của mình mua ở thế giới di động', 'mình cũng không rành nữa bạn vào mấy shop online xem thử coi sao', 'để tao kím cho vài dòng', 'tiền đâu mua cho tiền tao mua đi', 'trâu bò lắm luôn', 'ok mai 9h đi', 'thỉnh thoảng khi nào có tiền tớ mới đi', 'tớ thường hay mua quần áo hoặc các đồ điện tử', 'tớ hầu hết mua áo thun', 'tớ mua quần jeans dài', 'ở vincom đồng khởi quận 1', 'tớ mua iphone', 'được chứ bạn bạn muốn hỏi gì cứ hỏi đi', 'mình mua cũng được 3 năm rồi ấy cậu', 'cũng tốt lắm cậu nó có hiệu năng trong tầm trung của thị trường smnartphone hiện giờ ấy cậu', 'camera nó chân thực lắm cậu nó có hiệu ứng chânt thực', 'giá của chiếc điện thoại này nếu mình nhớ không lầm là 6 tr ấy cậu', 'tớ mua đôi giày này khoảng 3 tr ấy cậu', 'tớ mua nó hết 300k á cậu', 'tôi tin du ng samsung', 'mi nh nghi ha ng na o cu ng co ưu điê m riêng', 'ha y mă c như ng gi ba n thâ y thoa i ma i nhâ t', 'ha y mua ca i mơ i đi đang co gia m gia đo', 'tôi nghi la iphone', 'macbook đi', 'cực mạnh', '50 triệu', 'mua áo dài đi', 'cách tân', '500 000 đ', 'mình nghĩ là thiên văn học', 'may quá mình không có người yêu', 'vâng dĩ nhiên khó rồi', 'còn phải hỏi nữa sao', 'tình yêu của chúng ta có trước', 'đợi mình ra tiệm bách hóa mua rồi trả lời bạn', 'bạn đoán xem', 'hoho', 'là hai', 'bằng 3 14', 'mình ăn rồi', 'gì cũng được', 'đi đâu cũng được nè', 'khi nào duyên tới', 'không', 'mình ăn quán là chủ yếu', 'đi giúp đỡ những người gia neo đơn', 'mình hay đi xe máy', 'quán sạch đông khách', 'vì một con là con chim còn một con là con cú', 'không mình là con cả mình còn đứa em gái', 'mình chỉ đi coffee với bạn bè vào mỗi cuối tuần', '', '', 'mình thấy nhân loại là một chủng loài kì lạ lắm thế giới làm mình mệt mỏi nhưng cuốn lắm', 'trầm cảm', 'okie okie luôn', 'là cái quần què', 'con cu có trước', 'có khi nó sai', 'fe hóa trị mấy sao bằng tình cảm tui dành cho ông nhiều biết mấy', 'sao bằng tình cảm tui dành cho ông', 'lúc em học môn mac lenin em đã học lại tổng cộng 10 lần nên em không thể trả lời câu này được', 'đúng rồi đau lắm', 'tới tập ở the eagle gym 11 lý thường kiệt 5 pm', 'lamborghini urus hoặc vinfast lux sa 2 0 bản màu đen xám có độ full option 600 triệu', 'mỗi tối tớ hay đi ăn cùng bạn bè và chill cùng họ', 'kiểu pompadour và tớ cắt ở house of barrad', '', '', '', '', '', 'mình có học nlp tại môn đó thú vị môn này không khó', 'theo mình nghĩ theo châm ngôn của huấn hoa hồng có làm thì mới có ăn không làm mà đòi có ăn thì có ăn', 'phải chắc chắn đó là gái tự nhiên không phải gái nhân tạo', 'tao làm ra được rồi mà nó hơi ngu', 'tự nhiên dẫn nó đi theo chi ông', 'lên lịch liền đi chứ nói cái gì', 'không có biến giùm', 'hôm nay trời xấu lắm khỏi nhậu nha', 'rảnh thứ bảy mà liên quan gì thứ 2', 'đời là khổ còn sống là còn khổ hết khổ là hết đời', 'tôi tồn tại vì thế giới cần tôi mang thế giới phát triển', 'tao làm ra được rồi mà nó hơi ngu', 'tự nhiên dẫn nó đi theo chi ông', 'lên lịch liền đi chứ nói cái gì', 'tôi chưa muốn yêu bởi tôi còn cần rất nhiều thời gian cho việc học và tương lai', 'tôi chưa muốn yêu bởi tôi còn cần rất nhiều thời gian cho việc học và tương lai', 'tại sao bạn hỏi ngu ngốc vậy tại nhạc sĩ ổng viết vậy chứ sao', 'không tao không phải phù thủy', 'được nếu tạo được học về machine learning', 'python chứ', 'natural language processing nhé chứ không phải neuron language processing đâu', 'không thích ai cả', '80 nguyễn trãi', 'cuộc sống em khổ cực không ổn xíu nào kinh tế khó khăn bạn bè lừa đảo', 'mình nghĩ trận đấu tối qua không hay bằng trận đấu này mặc dù trận đấu này không hay bằng trận đấu hôm trước', 'ok cho tôi cái địa chỉ', 'ồ cưới nhanh quá vậy v', 'tớ có biết nhưng vẫn chưa đọc', 'tớ nghĩ ngoài việc học tập ở trường lớp tự học là cần thiết hơn cả để học tốt bất kì môn nào không chỉ', 'axit gặp quỳ tím sẽ hóa đỏ bazo tác dụng oxit axit cho ra muối và nước', 'tại sao bạn hỏi ngu ngốc vậy tại nhạc sĩ ổng viết vậy chứ sao', 'có một góc vuông là tam giác vuông', 'miễn là nó thẳng', 'giá trị thặng dư tư bản chủ nghĩa m là một phần giá trị mới do lao động sống tạo thêm ra ngoài giá trị hàng hoá sức lao động là lao động không được trả công của người lao động làm thuê có 2 loại là giá trị thặng dư tương đối và giá trị thặng dư tuyệt đối', 'tiền tệ là thước đo giá trị dùng để đo lường giá trị của các loại hàng hóa chức năng của tiền tệ là trao đổi phương tiện thanh toán tích lũy', 'ngày mai thứ ba nè tranh thủ soạn bài đi không thầy cho ăn 0 điểm bây giờ', 'nếu hôm nay là ngày cuối cùng sống mình sẽ về ở bên gia đình và làm mọi việc có thể trước khi đi', 'tui cũng không biết nữa nhưng thú thật đi chỗ nào cũng thấy', 'ông lên xem đánh giá của mọi người trên web như thế nào cũng có thể ông đó chạy không thay nhớt để nó hư thì sao', 'ý là iphone 12 hả tui thấy camera nó đẹp quá trời mấy màu mới cũng đẹp giống cả iphone 5 cạnh vuông huyền thoại nữa', 'mình thích nhất là iron man mình không ghét ai cả vì tất cả đều có mục đích tính cách riêng theo mình là cốt truyện kỹ xão diễn viên hot như scarlett johansson', 'đoạn văn này rất ý nghĩa nhưng theo mình thấy thì đoạn văn này do một người nam lươn lẹo giả trân', 'mình chưa có người yêu nên không biết mùi cắm sừng là gì hết', 'tết này gia đình mình tính đi nha trang phải gầy sòng để kiếm tiền đi du lịch chứ năm nay thu nhập mong là khá hơn', 'mình khá thích đi đà lạt đêm trăng biển đẹp lắm', 'tất nhiên là chơi game rồi ai lại chơi đùa tình cảm', 'có lộc said không em', 'làm sao để ngừng đấu tranh', 'cái chai chớ gì', 'gg said stamps', 'người ta nói là tương lai nhưng với t là tình yêu', 'chắc là cơm mẹ nấu', 'chắc là cơm mẹ nấu', '7 lít xăng ron 95', 'dùng sênh', '5cm', 'tí nữa trả lời', '9', 'có', 'có', 'có', 'công cha như núi thái sơn', 'trên 1000 độ', 'dùng quỳ tím cho vào 3 dung dịch trên quỳ tím hóa xanh là ca oh 2 dùng ca oh 2 cho vào 2 dung dịch còn lại phản ứng tạo kết tủa và có sủi bọt khí là h2so4 chỉ sủi bọt khí là hcl provjp', 'kệ nó hỏi làm gì', 'quả trứng có trước', 'âm 38 88 độ c gà', 'cái gì lạ vậy', 'what là cái gì', 'mình đến từ lào', 'nhà mình ở bên mỹ tho', 'quê mình có sầu riên siêu ngon', 'bánh pía ở quê mình được rất nhiều du khách đón tiếp nếu có dịp thì bạn hãy dùng thử nhé', 'quê tui có nhiều nơi để tham quan nhưng hấp dẫn du khách nhất chính là chùa dơi mình cá là bạn chưa thấy dơi ngoài đời đâu', 'cảm ơn bạn ba mẹ mình vẫn khỏe tết này nếu có dịp bạn hãy qua nhà mình chơi nhé', 'có chứ mỗi lúc trời mưa mình đều nhớ đến những kỷ niệm lúc nhỏ được ba mẹ chở đi chơi ở hồ nước ngọt mình rất mong được về quê để gặp ba mẹ ở quê nhà', 'hồi nhỏ mình bị trầm cảm nên bạn bè cũng mình rất ít nhưng toàn là bạn thân mình rất nhớ các bạn ấy', 'quê mình ở đà lạt', 'đà lạt có bơ sáp và dâu tây khá là ngon', 'từ đây về đà lạt mất khoảng 5 tiếng đi xe', 'đà lạt cách tp hcm gần 300 km', 'mình rất thích không khí ở quê mình vì nó mát mẻ và trong lành', 'mình chỉ về quê vào dịp tết hoặc hè vì những dịp lễ đà lạt khá đông', 'mình quê ở quảng nam', 'quê mình có phố cổ hội an khi nào có cơ hội bạn đến thăm nhé', 'từ sài gòn về quê mình đi bằng xe lửa tầm 20 tiếng đồng hồ', 'gia đình mình gồm 5 người', 'mình không thường xuyên về quê', 'đã năm tháng rồi mình chưa về quê', 'mình rất nhớ quê vì ở đó có gia đình và bạn bè của mình', 'tôi có kế hoạch về quê vào tết sắp tới', 'đặc sản quê mình là mỳ quảng', 'mình biết khi nào rãnh mình làm cho bạn ăn thử', 'quê tôi ơ ha nô i', 'câ u nên đê n hô hoa n kiê m i t nhâ t mô t lâ n', 'tôi râ t yêu mê n ha nô i xinh đe p cu a tôi', 'câ u pha i ăn mo n bu n cha', 'mo i ngươ i thươ ng không ra đươ ng sau 9 giơ đêm', 'quê mình ở đà lạt bạn ạ', 'đà lạt chỗ nào cũng đẹp bạn nhé', 'thông tin bạn nghe chính xác đấy', 'nói về ăn uống thì đà lạt vô vàn có dâu tây trái cây mứt đặc biệt là rượu vang nhé', 'đã đến đây rồi thì đầy thứ cho bạn làm như là dạo chợ đêm tham gia vào các hoạt động âm nhạc của dân bản địa', 'người dân quê tôi rất hiếu khách nhé chỉ cần bạn đến là họ tiếp đãi như người nhà dù bạn đến từ bất cứ đâu', 'bao lâu thì tùy tốc độ bạn đi nhé từ sài gòn lên đà lạt đi khoảng 350km nhé', 'khoảng gần 80km đi tầm 2 giờ là đến', 'tao không biết đặc sản như thế nào chứ tao thấy trên thành phố có bán', 'quê tui ở thành phố hồ chí minh nha', 'có chứ bạn 1 năm mình về 2 lần', 'tất nhiên rồi bạn ai lại không yêu quê hương mình chứ', 'tết nào mình cũng về chơi hết nhớ nhà mà', 'quê mình đẹp lắm nha', 'mình quê ở cà mau', 'quê mình có đặc sản là cua', 'mình đi xe mất khoảng 7 tiếng', 'quê mình có địa danh đất mũi hay còn được gọi là tận cùng tổ quốc', 'mình rất yêu quý quê hương của mình', 'quê mình ở tiền giang', 'quê mình gần biển', 'đặc sản quê mình có vú sữa lò rèn', 'từ đây về tiền giang đi mất 64km', 'hiện tại ở quê có cậu với mợ mình', 'có mình rất nhớ quê năm nào cũng muốn về', 'dạ em ở mỹ tho', 'đặc sản nào cũng ngon hết ạ', '200 cây số thôi anh', 'dạ năm nào cũng có á anh', 'dạ rẻ lắm ạ', 'mình quê ở hà giang', 'ở quê mình có món bún đậu rất ngon', 'quê mình ở khá là xa đấy', 'mình rất yêu quê hương của mình', 'cha mẹ mình hiện tại đang ở dưới quê', 'tao không mày ạ tết nay khó khăn quá', 'quê tao ở bến tre đó mày mà cố không nổi', 'có chứ kẹo dừa bến tre bao dai bao ngọt', 'quê tao có ông bà với bố mẹ rồi cả thằng em tạo nữa', 'nhớ chứ biết bao nhiêu kỉ niệm từ thuở thơ ấu tới giờ tao yêu quê tao lắm ấy', 'quê mình tại thành phố nơi bác hồ ra đi tìm đường cứu nước chính là sài gòn thân thuộc', 'thú thật 20 năm sống trên sài gòn mình vẫn chưa tận hưởng hết các đặc sản trên đất sài thành này', 'mình yêu nơi đây chứ nơi có những con người thân thuộc và đầy kính mến', 'rất nhiều là đằng khác ví dụ như hồ con rùa nhà thờ đức bà chợ bến thành', 'đúng rồi xa nhất là từ năm 1800 gia đình mình đã ở đây', 'quê của mình ở tiền giang', 'quê mình cách tphcm khoảng 100km', 'đặc sản ở tiền giang là hủ tiếu mỹ tho nổi tiếng trứ danh luôn nha', 'ở quê mình có ông nội bà nội và mấy chú', 'nhà ông bà mình ngay kế bên khu di tích ấp bắc nên hay qua đó chơi vui lắm', 'gia đình mình gồm ba mẹ và hai em gái một em trai', 'mình cách 1 năm về một lần', 'mình rất nhớ quê vì ở đó có gia đình và bạn bè của mình chứ trong này buồn lắm', 'đặc sản quê mình là bún ốc hà nội', 'từ sài gòn về quê mình đi bằng xe lửa hoặc xe đò tầm 1700 km', 'mình là dân sài gòn chính gốc nhưng mẹ mình thì ở quảng ngãi', 'là một người dân sài gòn thì mình biết sài gòn có rất nhiều chỗ vui chơi vì sài gòn không bao giờ ngủ', 'nhà mình cách trung tâm khoảng 20 phút chạy xe', 'sài gòn là một nơi nhộn nhịp và là giao thoa của nhiều văn hoá với nhau là một nơi đáng để đến', 'bản thân mình rất yêu sài gòn nên chắc mình sẽ vẫn chọn sống ở đâu', 'quê mình ở vĩnh long theo quê mẹ', 'nơi đó là 1 trong 7 kì quan thế giới được unesco công nhận', '1 số đặc sản nổi bật ở đó là bánh ú cam sành quả thanh trà', 'mình nhớ không nhầm là khoảng 132 km', 'thường thì mình đi nhưng do dịch nên 2 năm nay mình vẫn chưa có dịp về', 'mình thì nghỉ thì thích ở quê hơn', 'thì ở quê không khí mát mẻ lại còn có cây nhà lá vườn mỗi ngày ở quê mình đều có thể thư giản', 'mình sinh ở huyền cầu kè tỉnh trà vinh', 'bạn đã từng biết về dừa sáp không nó rất ngon', 'mình có rất nhiều bạn ở quê', 'chắc chắn là có', 'có mình sẽ về', 'rất nhiều như bánh canh bánh tét', 'mình sinh ra và lớn lên tại an giang', 'có ạ nổi tiếng ở đây là vùng thất sơn bảy núi đó bạn', 'quê mình nổi tiếng là mắm bà giáo', 'quê mình không khí trong lành do có trồng nhiều cây xanh đó bạn', 'theo như mình xem trên google map thì khoảng cách đó là tầm 172km', 'quê mình ở bình dương hiện mình đang học ở thành phố hồ chí minh', 'ok quê mình thì rất là rộng và dài tùy ở mỗi địa phương mà có đặc sản khác nhau ví dụ ở dầu tiếng thì có bánh tráng ở lái thiêu thì có măng cục ở bình nhâm thì có hội chợ trái cây', 'thời tiết quê mình thì giống thành phố hồ chí minh mưa thì rất là mưa nắng thì rất là nắng mà không có ngập thôi', 'sát bên luôn nhà mình cách trường khoảng 30km chạy xe máy thì khoảng 1h', 'gần như là hết rồi vì cấp 1 cấp 2 trường mình cho tham quan những chỗ này', 'mình thì ngày nào cũng đi vừa đi học vừa về vì mình không ở trọ', 'cũng khá thường xuyên thường thì vào dịp lễ', 'quê mình ở phan thiết bình thuận nơi có biển số xe là 86', 'ở mình có biển đồi cát núi và nhiều thứ khác', 'về trái cây thì có thanh long về thức ăn thì có bánh căn 1 loại bánh như bánh xèo nhưng nhỏ hơn', 'nó cách 200km và đi xe máy khoảng 4 tiếng', 'họ rất tốt vì đã chơi với nhau khi còn nhỏ', 'không thương xuyên vì mình phải tập trung vào việc học tại đây', 'có chứ dù sao mảnh đất đó đã đón tiếp mình tới thế giới này', 'tớ sinh ra và lớn lên ở củ chi nơi được mệnh danh là đất thép thành đồng', 'ở củ chi tớ nghĩ nổi tiếng nhất thịt bò tơ và củ mì', 'từ trường đại học tôn đức thắng về nhà tớ ở củ chi là khoảng hơn 50km', 'nhà tớ có tất cả là bốn người gồm ba mẹ anh hai và tớ', 'mình có rất ít bạn ở quê chỉ còn khoảng dưới 4 người là mình còn giữ liên lạc đến tận bây giờ', 'có chứ ai mà chả yêu quê mình đó là nơi mình sinh ra và lớn lên mà', 'mình rất ít khi hẹn gặp bạn bè chỉ những dịp đặc biệt như sinh nhật hay lễ tết thôi', 'đối với mình thì ở quê chỉ có nhà mình là tuyệt nhất thôi', 'tớ cũng chưa rõ nữa vẫn còn mông lung lắm', 'tớ nghĩ mình sẽ đi làm trước để phụ giúp kinh tế gia đình còn chuyện học cao hơn tớ cũng muốn lắm nhưng có lẽ để sau vậy', 'quê mình ở thành phố hồ chí minh', 'thành phố hồ chí minh là nơi tập trung nhiều món ăn ở các vùng miền khác nhau nên ở đây không có đặc sản gì đặc biệt cả', 'ở đây có đầm sen suối tiên đại nam hoặc nếu bạn muốn thì có thể tìm đến các khu vui chơi mua sắm tập hợp nhiều bạn trẻ như aeon phố đi bộ', 'mình đang sống ở thành phố hồ chí minh nên mỗi tuần mình đều có thể qua thăm nhà nội ngoại', 'thành phố hồ chí minh là một thành phố hiện đại và nằm ở đồng bằng nên không có phong cảnh thiên nhiên nào quá nổi bật chỉ có các tòa cao ốc hiện đại thôi', 'chắc chắn phải kể đến sự hiện đại của các công trình cao ốc ở đây và cả việc người dân ở đây sống rất vội vàng rất khó để tìm được sự yên tĩnh ở đây', 'đây là một thành phố với nhiều cơ hội học tập và làm việc người dân trong thành phố cũng rất nhiệt tình thân thiện và chan hòa với mọi người', 'mình ở bến tre vùng đất mệnh danh xứ dừa', 'để mình kể cho bạn nghe về một huyền thoại', 'ơ kìa bạn làm vậy là chết mình rồi buồn', 'yêu chứ yêu cả đất nước này luôn cơ', 'nhà là nơi có gia đình mình', 'mình ăn cơm mẹ nấu', 'quê mình có lễ hội đua voi', 'quê mình có cà phê rất nổi tiếng', 'mình rất thích món ốc xào', 'quê mình ở tỉnh an giang', 'quê mình xung quanh đồng lúa và núi cao', 'quê mình có bánh thốt nốt mắm châu đốc lụa tân châu', 'quê mình có nhiều bạn bè', 'tết này mình có về quê', 'mình hợp lớp cô giáo năm lớp 11', 'mình rất yêu quê hương của mình', 'gần 5 tiếng đi xe', 'quê mình rất nhiều kênh đào và rạch', 'quê mình có du lịch rất nổi tiếng', 'địa điểm du lịch là núi cấm', 'có tượng phật di lặt lớn nhất đông nam á', 'chưa biết nữa mày tùy gia đình của tao nữa', 'vũng tàu nha', 'vũng tàu nổi tiếng với ngành du lịch biển ở đây biển rộng và đẹp khách du lịch thường đến tắm biển với ăn hải sản', 'hè rảnh mình làm kèo vũng tàu đi rủ thêm vài đứa nữa', 'ok chúc mày năm mới vui vẻ nha', 'chưa biết nữa mày tùy gia đình của tao nữa', 'vũng tàu nha', 'vũng tàu nổi tiếng với ngành du lịch biển ở đây biển rộng và đẹp khách du lịch thường đến tắm biển với ăn hải sản', 'hè rảnh mình làm kèo vũng tàu đi rủ thêm vài đứa nữa', 'ok chúc mày năm mới vui vẻ nha', 'quê của mình ở quảng ninh', 'mình đang sống ở tphcm', 'mình không biết', 'mình rất yêu thương quê mình', 'mình rời xa quê năm 3 tuổi', 'quê mình cách mình khoảng hơn 2000km', 'có bò sữa long thành rất ngon', 'có ba mẹ mình và 2 đứa em gái mình là anh cả', 'mẹ mình bán tttạp hóa còn ba mình làm công chức nhà nước', 'em mình 1 đứa học lớp 3 còn 1 đứa học lớp 11', 'trái dừa đúng không quá dễ ông nên hỏi câu nào khó hơn nhé', 'quê tôi ở hải dương nên chắc không về được dịch đang căng thẳng quá', 'ok luôn hè này tui cũng không biết làm gì về quê bà chơi cho vui', 'tại 2 ngày nữa là đám cưới của chị tui rồi nên khi nào xong mới lên được tui cũng nhớ mọi người lắm', 'à tui ở quận 7 khúc lê văn lương', 'quê mình ở long an', 'quê mình cách đây khoảng 40 km', 'đặc sản của quê mình là lạp xưởng tươi gạo nàng thơm chợ đào dưa hấu long an rượu gò đen', 'mình thường đi xe máy về quê', 'rồi hồi năm nhất thì mình đi xe buýt về quê', 'mình ở quận 9 thành phố hồ chí minh ngay chỗ đại học sư phạm kỹ thuật á', 'có chứ bạn ai lại không yêu quê hương của mình hả bạn', 'cũng không có gì đặc sản đâu bạn nếu có chắc là kẹt xe', 'cũng có mấy trung tâm thương mại với công viên giải trí á', 'cũng hơi xa đó bạn chắc khoảng tầm 30 phút đi xe', 'có landmark 81 thảo cẩm viên bến bạch đằng', 'không bạn thỉnh thoảng mình mới về thôi', 'quê mình ở long an', 'có quê mình đi xe máy khoảng 1 tiếng', 'có chứ mình rất yêu quý quê mình', 'quê tôi ở long an', 'ở đà lạt á', 'chỗ tôi chán phèo à không có gì để chơi hết', 'tầm 50 phút đi xe gì thôi hà', 'thân thì cũng có nhưng mà thân ai nấy lo á', 'chỗ tôi có mỗi rượu nếp gò đen á', 'có luôn', 'quê mình ở bến tre xứ sở kẹo dừa', 'gia đình mình ở bến tre có mình lên đây để học thôi', 'quê mình ở tận cùng tổ quốc', 'đặc sản của cà mau là cua nhé bạn', 'quê của mình cũng không xa lắm bạn nhé', 'gia đình của mình có tổng cộng 6 người nhé', 'có mình nhớ quê rất nhiều', 'quê của mình rất là đẹp luôn', 'bố mẹ mình rất thương yêu mình', 'bố mình làm công viên chức nhà nước', 'mẹ mình làm y tá', 'mình không muốn trả lời', 'mình có chứ', 'mình có', 'họ hàng mình có', 'bố mình họ nguyễn mẹ mình họ phạm', 'bố mẹ mình ở nhà', 'nhà ngoại mình cũng khá đông á', 'cũng lâu lắm rồi nhà mình không qua lại với nhà nội', 'ừ mình có cũng khá nhiều anh chị em họ', 'ba mình làm nội trợ', 'bố mình họ nguyễn mẹ mình họ nguyễn', 'bố mẹ mình ở nhà', 'nhà ngoại mình cũng ít à', 'cũng lâu lắm rồi mình chưa về nội', 'ừ mình có cũng khá nhiều anh chị em họ', 'ba mình kinh doanh nhỏ lẻ', 'bố mình là chủ tịch hội đồng quản trị fpt software', '', '', '', '', 'gia đình mình gồm 5 người', 'gia đình mình gồm ba mẹ mình chị mình em trai mình và mình', 'bố mình đang điều hành tập đoàn vinfast', 'mẹ mình hiện đang làm nội trợ', '5 người nha', 'mình có', 'mình có hai bà chị một em', 'mình là con thứ ba trong nhà', 'làm nông dân', 'có chớ ngày nào cũng coi đá bóng với ba', 'có chứ ngày nào cũng chạy bộ với mẹ', 'ở nước ngoài', 'mình thích cả hai', 'ngày nào cũng gặp nhau mà', 'bố mẹ mình đang ở nhà đếm tiền', 'mình có một em', 'mẹ của mình đang kinh doanh tại nhà', 'có', 'gia đình mình có 6 người', 'có mình có 2 chị', 'ba mẹ mình ổn', 'mình có 1 đứa em gái', 'gia đi nh mi nh ơ tiê n giang', 'gia đi nh mi nh co 4 tha nh viên', 'bố mẹ mình rất khỏe họ đang đi du lịch ở los angeles', 'nhà mình có 2 anh em và mình là anh cả', 'nhà mình gồm 4 thành viên ba mẹ và 2 anh em mình', 'ba mình hiện đang làm nhân viên bảo vệ môi trường cấp cao', 'mẹ mình đóng vai trò rất quan trọng trong vai trò làm vợ của ba mình', 'bố của mình hơn 5 triệu tuổi rưỡi rồi', 'bố mình ngọc hoàng đại đế ở trên trời á ahihi', 'không ba mẹ mình rất yêu thương nhau', 'mình có một chị gái', 'không họ hàng của mình ở xa lắm', 'đây là vấn đề riêng tư', 'nhà mình có 2 chị em', 'họ hàng hơi vô duyên nên mình không thích giao du với họ', '30 năm rồi', 'mình con một bạn', 'mình có một mình à bạn', 'có em gái', 'bố mẹ tui làm giám đốc', 'có', 'bố mẹ mình làm công nhân', 'mình có 1 em gái', 'nhà mình có mình với em gái mình thôi', 'gia đình mình cũng bình tường đủ ăn đủ mặc thôi á', 'nhà mình tổng cộng có 5 người', 'tớ có 12 anh chị em', '1945', 'google', 'đúng rồi nè', 'có 2 lần đi nha trang', '', '', '', '', 'bố mình làm ceo', 'mẹ mình làm trợ lý bố mình', 'gia đình mình có 5 người', 'hỏi chi mà nhiều thế', 'có', 'mẹ mình làm nội trợ', 'tự nhiên hỏi bố người ta chi', 'mình có chị thôi', 'hỏi chi trời', 'mình không có chị', 'có chị đâu mà hỏi', 'có nhé', 'chưa luôn', 'mới vừa 18', '4', 'có em gái', 'kinh doanh shop nhỏ', 'truyền thống 3 đời hiếu học', 'tự nhiên hỏi bố người ta chi', 'mình có chị thôi', 'hỏi chi trời', 'mình không có chị', 'có chị đâu mà hỏi', 'có nhé', 'chưa luôn', 'mới vừa 18', '2', 'có', 'bé hơn 3 tuổi', '50 tuổi', 'có', 'làm nghề buôn bán', 'hai', 'làm nghề buôn bán', 'hai', 'có 5 người', 'đang làm ăn', 'có', 'trên 21 tuổi', 'đi làm', 'bố mẹ mình ở nha trang', 'gia đình mình có 4 người', 'mình có chị', 'gia đình mình có nhiều họ hàng lắm', 'con một', 'có', 'không có', '50 tuổi', 'có', 'gia đình mình có 5 người', 'họ hàng của mình có ở gần', 'mình có 2 em ruột', 'không có', 'tớ có một em gái', 'em gái tớ hiện đang học lớp 7', 'ba tớ sinh năm 1973 48 tuổi', 'mẹ tớ năm nay 41 tuổi', 'ba tớ là nhân viên văn phòng', 'khó nói lắm bot ơi', 'có 5 người', 'đang làm ăn', 'có', 'trên 21 tuổi', 'đi làm', 'hầu hết là thiên chúa giáo nha bạn', 'hiện tại thì không', 'lụm ngoài sọt rác ấy bạn trước má tôi nói vậy', 'mình cháu nội đít tôn của ông trump', 'bố mình là tài xế mẹ mình làm nữ công gia chánh', 'hiện nhà mình đang có 4 thành viên', 'mình bố mẹ chị gái', 'nay bố cháu đi làm cháu ở nhà với mẹ', 'anh mình cũng đỡ rồi khoảng 2 ngày nữa sẽ khỏi hẳn', 'tuần này bố em đi làm suốt tuần', 'hiện mình đang không ở chung với ông bà', 'hiện mình chỉ ở có 2 người chị mình với mình', 'nhà mình có 4 người', 'nhà mình trung bình thôi ạ', 'dũng mai thuần an', 'em mình 16 tuổi', 'ba mẹ mình làm kinh doanh', 'tôi còn đang độc thân', 'nhà tôi có 2 anh em và tôi là anh cả', 'em tôi là con trai nhé', 'ba tôi hiện tại đang kinh doanh', 'mẹ tôi cũng đang kinh doanh nhỏ', 'đó là một ý kiến hay', 'mình làm gì có chị gái bạn à nên mình chắc chắn là không rồi', 'giàu lắm ạ', 'đoán xem', 'có chứ', 'đoán tiếp đi', 'gần nhà á', 'có nhe', 'buôn bán', 'gia đình mình có 6 thành viên', 'có', 'buôn bán', 'gia đình mình có 6 thành viên', 'có', 'nhà tui 4 người', 'ba má tui với chị tui', 'công an đó ông', 'công chức nhà nước á', '1 chồng 1 con rồi ông', 'không trả lời được đâu', 'giám đốc ngân hàng', 'mình có chị', 'rất là gần', 'đang chuẩn bị', 'mình có đầy đủ', 'nhà mình 6 người', 'mình có nhiều lằm', 'rất hạnh phúc', 'anh mình có rồi', 'ăn bám', 'có', 'có', 'rất tuyệt', 'không', 'báo tại gia', 'làm phi hành gia', 'ko', 'ko', 'n a', 'tui có 1 em gái', 'cóa chứ', '8 tuổi đó', 'ba tui 45 má tui 44', 'khỏe chứ ông', 'mình thuê khoảng 3 tr một tháng', 'nhà mình có 7 người', 'không nhà mình ở thảo điền', 'giá hơi mắc nên mình đã chuyển đi rồi đó bạn 5 triệu 1 tháng nhưng không đáng với giá tiền đó', 'à mình chuyển trọ để gần nơi đi làm ở quận 7 đường huỳnh tấn phát á bạn', 'để cho việc tìm trọ thuận lợi thì mình khuyên bạn nên lên facebookk tìm những bài post hoặc google để search các nhà trọ có ảnh địa chỉ rõ ràng nhưng bạn phải cẩn thận khi lại ký hợp đồng nhớ đọc kỹ vì dạo này lừa tiền cọc trên sài gòn rất phổ biến', 'khi thuê trọ bạn phải đóng tiền cọc xong khi chuyển đến bạn phải làm sổ tạm trú bằng cách khai thông tin vào giấy khai', 'mình hơi khó tính nên ở 1 mình mình cảm thấy bình thường không vui cũng không buồn bất tiện thì không có', 'hiện tại mình đang ở nhà trọ', 'không mình ở nhà trọ với một số người bạn của mình', 'đôi lúc mình cũng nhớ nhà lắm', 'không mình thường với bạn ra ngoài ăn', 'cũng không mắc lắm vì tụi mình chia sẻ tiền nhà với nhau mà', 'nhà trọ mình cũng khá là gần trường', 'nhà trọ cách trường mình 5 phút đi bộ', 'mình thuê phòng ở đường lê văn lương quận 7', 'chi phí 1 tháng 4 triệu bao luôn phí tiền điện nước', 'mình đang ở phòng 3 người', 'bạn cùng phòng của mình cũng vui tính', 'nơi mình ở cách chợ 2 km', 'mình ở cũng khá xa trường', 'mình cảm thấy rất vui khi ở đó', 'bạn có thể ghé qua phòng mình chơi vào những lúc rãnh', 'không gian có cửa sổ thoáng mát nên rất thoải mái', 'tơ hiê n ta i đang ơ nha riêng', 'pho ng ô c nha tôi không rô ng ra i lă m', 'pho ng riêng cu a tôi co ma y la nh', 'gia đi nh tôi hiê n đang sô ng vơ i tôi', 'nha tôi co trô ng cho thêm ngươ i va o ơ', 'mình đang thuê trọ một mình cậu ơi', 'mình thuê trọ ở quận 7 vừa gần trường vừa gần lũ bạn', 'ở đây thích lắm cậu ạ thích làm gì thì làm', 'tầm 1 triệu rưỡi đỗ lại thôi rất thích hợp cho sinh viên nghèo haha', 'phòng rộng đủ để ngủ nấu ăn với sinh hoạt nè', 'chỉ cần không làm phiền ai và đóng tiền đủ là ok hết', 'thoải mái phơi đỗ rất nhanh khô và có chỗ để xe cho mỗi người nhé', 'dĩ nhiên khi nào tới bao trước với mình một câu là được', 'gần làng đại học á nhà bè', 'tầm 2 triệu đến gần 4 triệu á mà tùy phòng số lượng người ở', 'với thằng chung phòng ktx cũ', 'có tao ở trọ gần tuyến xe bus luôn đi bộ khoảng 200m', 'nhà bè thì ít lắm chỗ đó ngoại ô rồi', 'tầm 40k đổ xuống xem khuyến mãi từng app thì ít hơn nhiều', 'vào khoảng 1 triệu 2 đó bạn', 'ở đây cho nấu tùy ý nha bạn', 'siêu thị thì không có nhưng có 2 cửa hàng tiện lợi ở đây', 'gần lắm bạn chỉ cần 5 phút đi bộ là tới à', 'theo mình nghĩ thì lợi ích lớn nhất là tiết kiệm thời gian', 'được ở ghép nhưng tối đa chỉ có 3 người thôi bạn', 'mình đang thuê bên chỗ quận 7', 'cũng không mắc lắm đâu', 'bên mình an ninh an toàn lắm', 'mình ở với bạn mình', 'tiền điện bên mình 3 nghìn rưỡi 1kw', 'bạn có thể kiếm phòng ở nhà bè', 'an ninh ổn ít trộm cắp', 'không quá xa trường tdtu', 'giá cả ưa đãi cho sinh viên', 'ở ghép thì bạn đỡ tiền thuê nhà nhiều phần', 'nơi thoáng mát yên tĩnh', 'mình ở ghép á bạn', 'phòng mình ở 800k bạn nhé', 'có bạn nhé', 'cô chú hơi khó chịu á bạn', 'có bạn nhé', 'mình thuê nhà ở nhà bè nha', 'cá nhân mình thấy cũng ổn', 'chỗ mình trọ 2 triệu một tháng', 'mình ở trọ một mình', 'chỗ mình trọ không có bao ăn nah', 'đúng rồi mình cũng học với bạn', 'mình ở với gia đình ở quận bình tân', 'mình cũng đang có ý định đó mà chưa biết giá cả sao nữa', 'ồ để mình suy nghĩ thêm nhưng mà tầm giá đó ổn với mình đó', 'được rồi mình sẽ liên lạc lại nhanh nhất có thể', 'mình thuê nhà ở gần trường gần nơi làm việc để dễ dàng cho việc đi lại', 'trải nghiệm của mình là mình ký hợp đồng với chủ nhà và đặt cọc nhớ chú ý các điều khoản trong hợp đồng tránh rắc rối nhé', 'mình đang ở chung với 4 bạn bọn mình chia sẻ tiền phòng và phí sinh hoạt với nhau', 'này mình không chắc chắn nhưng theo quan điểm mình thì tầm 3 đến 4 triệu dành cho 3 hay 4 người ở là một con số hợp lý đối sinh viên bọn mình', 'được chứ ở một mình trong căn nhà riêng sẽ tôi luyện tính tự lập và còn có cả không gian riêng tư nữa nên thích lắm', 'nhà mình ở 18 nguyễn hữu thọ', 'mình sống cùng ba mẹ và một em gái', 'nhà mình ở quận 7', 'gần nhà mình có trung tâm mua sắm với đầy đủ các điểm vui chơi giải trí', 'mình sống ở đó từ lúc sinh ra tới bây giờ', 'mình thuê phòng ở đường nguyễn oanh quận gò vấp', 'mình đã đi tham quan rồi nơi đó rất đẹp lại gần công viên gia định nữa', 'mình thuê phòng có giá là 4 triệu đồng', 'khu mình sống rất an ninh yên tĩnh không có các tiêu cực tệ nạn xã hội', 'mỗi phòng đều có toilet riêng và được dọn dẹp sạch sẽ bởi các cô lao công', 'ùm mình hiện tại đang sinh sống và làm việc tại sài gòn nhưng mình không sống chung với gia đình', 'mình làm cho công ty nên công ty lo chỗ ở cho mình nên mình không cần phải lo chỗ ở', 'hiện tại mình ở chung với đồng nghiệp may mắn thay đồng nghiệp của mình cũng đồng thời là bạn của mình', 'hiện tại mình ở căn hộ ở bên quận 2 ấy mình quên mất tên', 'nói thiệt thì mình cũng không rõ do công ty mình lo về vấn đề này nhưng điều kiện ở rất tốt và mình khá hài lòng', 'đúng rồi con', '1tr2 nha con chưa tính tiền nước tiền điện', 'có thể đủ cho 2 người nha con', 'có thể dọn vào ở vào tuần sau nha con', 'không về khuya quá 11 giờ không nhậu nhẹt không tệ nạn nha', 'đặt trước 1 tháng là được rồi', 'mình thuê nhà ở nhà bè trước đây thì ở quận 7', 'tùy từng chỗ nếu chỗ đó cơ sở vật chất tốt thì sẽ đắt hơn', 'mình ở 3 người', 'phòng mình giá 3 triệu', 'mình ở chung cư', 'rất an ninh', 'mình đang thuê nhà ở huyện nhà bè', 'mình thuê một triệu rưỡi mỗi tháng', 'hiện tại mình ở một mình nhé', 'có rất nhiều tiện nghi cơ bản như các cửa hàng tiện lợi hồ bơi phòng tập gym', 'mình đi khoảng 5 đến 10 phút là đến trường', 'phòng này mình cho thuê cọc một tháng nha bạn', 'bên mình cố định thu mỗi tháng 200k nha', 'lê văn lương á đoạn gần nguyễn thị thập', 'chỗ ở thì okiela lắm nha an nình trật tự ổn định phòng sáng sủa sạch sẽ giá thì 4 triệu rưỡi 1 phòng ở được khoảng 3 hoặc 4 người', 'phòng tao đang thiếu 1 người mà bà chị chung phòng tao bả hơi khó tính sợ mày không chịu được bả á', 'bà chủ trọ thì khó dụ giờ giấc lắm 11h bả đóng cửa rồi mà nếu mày nói bả đi làm thì lúc làm về chịu khó gọi điện kêu bả xuống mở cửa', 'tao thấy bả không dễ cũng không khó mày muốn dắt bạn về qua đêm thì phải nói cho bà chủ biết', 'mình hiện tại thuê nhà tại nhà bè', 'theo mình thì rất tốt', 'thì phòng mình hai triệu rưỡi 1 tháng và ở 2 người', 'mình ở với bạn học của mình', 'điện thì 20k 1m3 còn nước thì 3k', 'cậu có thể dễ dàng tìm nhà thuê tại trên các con đường như lê văn lương huỳnh tấn phát hoặc khu vực trong quận 7 quận 8 quận 4 và huyện nhà bè', 'mức giá thấp nhất mình từng biết là từ 1 5 triệu đến cao nhất 5 triệu tùy phòng lớn hay nhỏ ở nhiều người hay ít người ở càng nhiều người giá càng thấp', 'cậu có thể liên hệ với các bạn sinh viên tdtu sinh viên nguyễn tất thành sinh viên tài chính marketing', 'mình nghĩ tốt nhất và an toàn nhất là ở kí túc xá trường nhưng sẽ phải tuân theo vài quy định về giờ giấc và vệ sinh nếu thuê trọ mình nghĩ tiền nào của nấy và bạn nên tham khảo thêm các hội nhóm sinh viên để có cái nhìn khách quan và thực tế nhất', 'ở thành phố hồ chí minh mình nghĩ chi phí ở quận 1 và quận 7 là sẽ đắt nhất vì mức sống ở đây cao nhất', 'bạn có thể tìm ở xung quanh trường trên đường tôn đản quận 4 hay chợ ẩm thực hồ thị kỷ quận 10', 'bạn có thể tìm đến tiệm net xung quanh trường nếu thích chơi game hoặc cầu ánh sao nếu thích đi dạo cresent mall vivo city nếu thích mua sắm và vui chơi tổng hợp', 'mình nghĩ nơi lí tưởng nhất để đọc sách là thư viện trường vì ở đó yên tĩnh tuyệt đối không gian rộng rãi có bàn ghế luôn sẵn sàng phục vụ', 'cậu cần lưu ý khi ra cổng 3 nhớ cẩn thận tư trang và điện thoại di động vì hay có móc túi vào thang máy nhớ xếp hàng không được xả rác bừa bãi gặp người lớn và giáo viên trong trường phải gật đầu chào hỏi', 'mình định thuê ở gần trường', 'đa số các chủ nhà đều hiểu hoàn cảnh sinh viên nên giảm giá nhiều lắm', 'thì ở với mấy bạn ở ghép chung với mình', 'có có lotte mart với vivo gần đó lắm', 'tiện thì tiện nhưng vì gần nên hay chủ quan xong đi học trễ ấy', 'mình ở quận 8', 'đúng rồi', 'mình thuê 3 triệu 1 tháng', 'mình ở với gia đình', 'theo mình bạn nên chọn trọ ở quận 7 nhà bè hoặc bạn có thể ở ký túc xá của trường', 'nhà mình thuê có điều hoà bếp ga máy giặt đầy đủ', 'nhà trọ mình cách trung tâm thành phố khá xa', 'gần nhà mình có một số quan ăn nhưng cũng không ngon lắm ăn được thôi', 'mình đang sống với bạn cảu mình', 'em đăng ký theo form để xét ở ktx nhé', 'em tuân thủ theo nội quy ktx và tham gia hoạt động thể dục để xét ở lại ktx nhé', 'ktx gửi xe theo học kì em đăng ký và đóng tiền đầy đủ nhé', 'em thuê trọ gần trường để tiện đi lại', 'em đến trường mất tầm 10 phút đi xe', 'em đến bằng xe máy', 'trường có đăng ký vé theo tháng em nhé', 'sao mày chuyển trọ vậy', 'ok chỗ tao đang ở có phòng trống nè giá cả hợp lý phòng đẹp nữa', '3tr5 1 tháng nha mày', 'điện nước tính chung rồi đó', 'máy giặt tự trang bị nha', 'ok', 'không có gì đâu', 'sao mày chuyển trọ vậy', 'ok chỗ tao đang ở có phòng trống nè giá cả hợp lý phòng đẹp nữa', '3tr5 1 tháng nha mày', 'điện nước tính chung rồi đó', 'máy giặt tự trang bị nha', 'ok', 'không có gì đâu', 'mình ở trọ', 'mình trọ ở bên lê văn lương quận 7', 'mình ở chung với 3 bạn khác', 'khoảng 1 1tr5 mỗi tháng', 'mình không biết', 'lúc đầu cũng có 1 vài bất tiện', 'đúng vậy mình ở đồng nai', 'mình thuê trọ ở gần phía lotte quận 7', 'cũng khá rẻ 1 triệu 8 trăm ngàn đồng 1 tháng chưa tính điện nước', 'mình ở ghép cùng với 2 bạn nữa nên khá dễ chịu', 'chỗ mình kế bên công an phường', 'thường kẹt vào sáng sớm và vào giờ tan tầm buổi chiều', 'có 2 bạn học cùng trường và 1 bạn học tài chính marketing', 'có khoảng đâu đó 80 là các bạn sinh viên', 'hàng tuần khi có thời gian rảnh mình sẽ về vì quên mình kahs gần thành phố', 'không tiền trọ và sinh hoạt đều do ba mẹ mfinh gửi từ quê lên', 'tôi thuê ở gần trường còn trống một phòng ông có muốn thuê chung không', 'hình như cái mới xây ở gần trường có đó bả thử qua đó hỏi thử xem', 'hình như không nếu có thì tui báo lại cho', 'chỉ bao điện nước thôi ông', 'chỗ tui còn trống nè bà muốn ở chung với tui không', 'mình ở trọ', 'minh ở trọ khu c của làng đại học', 'phòng mình ở là 3 triệu 1 tháng', 'có mình ở chung với 3 thằng bạn', 'có rất là an nình', 'lên google mà kiếm đi bạn ơi sao lại hỏi mình', 'mình thấy chỗ đường số 5 ngay gần trường tôn đức thắng có mấy chỗ cho thuê trọ sinh viên á', 'ở với gia đình mình', 'mình cũng không biết hay bạn thử search google đi', 'mình thấy bạn nên ở ngoài sẽ tiện hơn vì không bị gò bó thời gian có thể đi làm thêm ở bên ngoài', 'à nếu chưa tính tiền điện nước thì 3 triệu một tháng á con', '2 triệu rưỡi 1 tháng', 'chỗ tôi có 4 người rồi', 'chỗ tôi có 3 người rồi', 'được lắm nha có cả lò vi sóng luôn', 'an ninh lắm nên cứ yên tâm', 'có nha bạn và mình ở quận 7 gần trường cho tiên cho việc đi lại', 'mình ở một mình', 'mình cảm thấy thoải mái nhà trọ có đầy đủ tiện nghi và hàng xóm cũng khá hiền', 'căn nhà này rất rộng nhé bạn', 'giá thuê của căn nhà này khá là ổn nhé bạn', 'căn nhà này an ninh rất tốt nhé bạn', 'chủ nhà này rất hiền bạn nhé', 'đường từ ngồi nhà này đến trường tdtu chỉ có 1km thôi bạn nhé', 'xung quanh đây có rất nhiều siêu thị bạn nhé', 'quê mình ở tiền giang', 'tớ đang ở thành phố hồ chí minh', 'mình hiện không sống cùng gia đình', 'quê nội mình ở tiền giang', 'quê ngoại mình ở tiền giang', 'không mình sống với ba má', 'nhà mình ở quận 8', 'có mình sống với ba má', 'nhà mình có 2 lầu', '4 phòng ngủ', 'mình không biết mình chưa đo', 'nhà mình là nhà cấp 4', 'mình chưa có đo', 'mình chưa có đo', 'mình chưa có đo', 'không mình ở trong hẻm', 'không nhà mình nghèo lắm', 'không nhà mình nghèo lắm', 'mình cũng không thường xuyên dọn lắm', 'không nhà mình nghèo lắm', 'không mình sống với ba má', 'nhà mình ở quận 11', 'có mình sống với ba má', 'nhà mình chung cư', '2 phòng ngủ', 'mình cũng không nhớ', 'nhà mình là chung cư', 'mình chưa có đo', 'mình chưa có đo', 'mình chưa có đo', 'có mặt tiền', 'không có', 'không có', 'không có', 'không có', 'mình ở penthouse tầng thượng landmark 81', '', '', '', '', '', '', '', '', 'nhà mình ở đường trần quang khải', 'gia đình mình ở thành phố hồ chí minh', 'mình đang sống tại căn biệt thự ở quận 3 tp hcm', 'nhà mình gồm 4 thành viên sống hạnh phúc với nhau', 'ở tphcm nha', 'that s right', 'mình có', 'mình ở chung cư cách trung tâm tphcm vài ki lô nét', 'có chớ không thích dọn đi rồi', 'tùy tình hình nha', 'nhà mình ở đắk lắk', 'gia đình mình có tổng cộng 19 người', 'mình sống ở thành phố hồ chí minh', 'mình sống với gia đình', 'mình sống ở quận 11', 'nhà mình ở quận 11', 'có mình đang ở với gia đình', 'gia dình mình sống ở thành phố hồ chí minh', 'mình ở sài gòn cùng gia đình từ nhỏ', 'nhà mình ở tân bình nên khá xa', 'mình ở cùng gia đình', 'quê mi nh ơ tiê n giang', 'mi nh sô ng ơ quâ n 7 tp hô chi minh', 'hiện tại mình đang làm chuyên viên chăm sóc sức khỏe cho thú cưng của con trai tổng thống ở nhà trắng', 'quê mình là vùng nước mặn đất đai cằn cỗi gò công', 'cơ sở chính của trường mình là số 2 đường nguyễn hữu thọ quận 7', 'mình chưa có công việc nhất định nhưng đối với partjob thì mình đang làm gia sư', 'mình đang ở nhà bè á', 'gia đình mình đang sống ở nhơn trạch đồng nai', 'mình đang ở thành phố hồ chí minh', 'gia đình mình ở chung với mình', 'mình đang sinh sống tại thành phố hồ chí minh', 'gia đình mình ở chung với nhau hạnh phúc', 'nhà ở bình tân', 'gia đình tôi ở bình tân luôn', 'người yêu tôi ở quận 7 bạn êyyy', 'tui mới chuyển hộ khẩu vào trong tim ông á', 'có tui đang sống trong tim ông mà', 'mình đang ở cùng gia đình ở quận 6', 'quê mình ở phú thọ', 'mình cũng không biết nhiều lắm vì mình ít khi được về quê', 'không có mọi người ở quanh đó ít giao tiếp với nhau lắm', 'nhà mình ở đường số 19 nguyễn hữu thọ phường tân phong tp hồ chí minh', 'nhà tớ ở bờ sông trần xuân soạn', 'nhà tớ rộng 1000 mét vuông có 2 hồ bơi và 100 hecta đất nuôi vịt', 'gia đình tớ là tài phiệt ở hà nội', 'nộng trại nhà tớ ở côn đảo', 'đúng rồi', '', '', '', '', '', 'nhà mình quận 7', 'gia đình có 4 người', 'mình đang là việt nam', 'mình đang sống với gia đình', 'mình sống ở thành phố', 'miền trung nhá', 'mình đi làm nên ở riêng rồi', 'chi vậy bạn', 'quê mình ở bắc giang', 'tp hcm', 'đang ở thành phố luôn', 'còn chứ', 'đi vài lần rồi', 'mình cũng chả nhớ nhiều lắm đà nẵng đà lạt phan thiết nha trang vũng tàu', 'miền trung nhá', 'mình đi làm nên ở riêng rồi', 'chi vậy bạn', 'quê mình ở bắc giang', 'ở thành phố hcm', 'quận 4', 'tp hồ chí minh', '243 tôn đản p8 q4', 'tôn đản', 'sống tại quận 7', 'tôi sống với gia đình', 'sống tại quận 7', 'tôi sống với gia đình', 'quảng nam', 'ở dưới quê', 'quê mình ở nha trang', 'mình ở trọ', 'mình ở quận 8', 'quận 5', 'quận 5', 'tp hcm', '80 nguyễn trãi', 'nguyễn trãi', 'nhà mình ở biên hòa', 'mình và gia đình đang sống chung', 'mình không đi làm thêm', 'tớ hiện đang sống ở thành phố hồ chí minh', 'gia đình tớ đang ở cùng tớ', 'tớ ở quận bình thạnh', 'quê tớ ở long an gần tphcm', 'tớ nghĩ là không hiện tại cuộc sống tớ đang ổn định', 'nhà tuôi tọa lạc đâu đó á bot tự tìm iii', 'hiện tại thì sống ở đây thôi bot à', 'đồng nai nha cưng', 'quảng nam', 'ở dưới quê', 'không bạn ơi cuộc sống là nhiều khi không nên biết quá nhiều điểu về nhau', 'việt nam nhá bạn', 'hiện tại mình đang ở với gia đình', 'địa chỉ nhà mình là 3xx đường y moal phường tân lợi tp buôn ma thuột tỉnh đắklắk', 'đường rộng thênh thang nhiều quán trà sữa ăn vặt đặc biệt là nhiều ninja nhiều người mua đường và nhiều dân chơi', 'nhà anh đi bộ qua là tới trung tâm thành phố nha', 'không rồi mình ở khá xa', 'hiện tại gia đình mình đang sống ở quê mình và chị đang ở thành phố', 'em giao ở trường đại học tôn đức thắng cổng 1 giúp chị nha', 'ngày mai mình đi ăn ở hokkaido nhe', 'quê mình ở sài gòn', 'mình sống ở quận tân bình', 'mình sống ở thành phố vũng tàu', 'mình ở ngay trung tâm luôn', 'hiện tại tôi đang ở 380 81 lê văn lương hôm nào rảnh bạn ghé nhà tôi chơi nha', 'quê tôi ở tiền giang nè bạn', 'cơ sở chính của trường là số 2 đường nguyễn hữu thọ quận 7', 'tôi nghĩ ở đường lê văn lương gần trường đó bạn', 'tây ninh thì tất nhiên là bánh tráng và muối tôm rồi', 'bến tre', '4', 'trong tim cún á', 'đường vào tim cún', 'toàn gái và gái', 'of course', 'black pink in my area', 'long an', 'đang ở dưới quê', 'có nha bạn', 'long an', 'đang ở dưới quê', 'có nha bạn', 'mình ở một căn nhà thuê nha bạn', 'mình ở quận bình thạnh nha bạn', 'mình đến từ thành phố phan rang', 'mình có chuyển đến quận 6 quận 3 và quận 8', 'nếu có cơ hội mình muốn đện 7 sinh sống', 'có chi không', 'mình ở gần chợ', 'khoảng 3km', 'có nhiều', 'mình sống chung với gia đình', 'mình đang ở texas', 'mình không ở chung', 'đúng rồi bạn', 'mình tính xây ở việt nam', 'mặt tiền', '22 tấm', 'hcm', 'không', 'yup', 'q7', 'q7', 'yup', 'dữ liệu cá nhân không trả lời được', 'yes', 'tầm rất xa', 'không có', 'tự lập là dở rồi', 'dữ liệu cá nhân xin lỗi không thể tiết lộ', 'tại sao là muốn chứ', 'ở cao lãnh', 'tui ở quận 8 ông', 'tp hồ chí minh', '143 nguyễn thị tần', 'mới nói ở trên đó', 'họ và tên của mình là hà công thành', 'mình năm nay 22 tuổi', 'mình đang học tại trường đại học tôn đức thắng', 'mình cao 1 mét 63', 'sở thích của mình là chơi game và xem phim', 'mình tên là cường', 'mình quê ở thái bình', 'mình hiện tại 22 tuổi rồi', 'mình đang học tại trường đại học tôn đức thắng', 'mình hiện tại đang ở 108 4 trần mai ninh phường 12 quận tân bình thành phố hcm', 'số điện thoại của tớ là 0938410364', 'tớ học nghành khoa học máy tinh', 'tớ học khoa công nghệ thông tin', 'tớ học ở trường đại học tôn đức thắng và tớ thuộc khoá 21', 'tên của tớ là khoa', 'tớ sinh năm 1999', 'tớ 21 tuổi', 'tớ tên phạm thị lan anh', 'mình tên phạm thị lan anh', 'tớ 22 tuổi', 'nhà tớ ở trái đất', 'tớ tên là lan anh', 'tớ đang ở nhật', 'tớ rất khỏe', 'tớ tên phạm thị lan anh', 'mình tên phạm thị lan anh', 'tớ 22 tuổi', 'nhà tớ ở trái đất', 'tớ tên là lan anh', 'tớ đang ở nhật', 'tớ rất khỏe', 'vũ', '19', '5', 'quận 7', 'kí túc xá', 'mình tên là hiếu', 'số điện thoại của mình là 0123456789', 'nhà mình ở số x đường y phường z quận t thành phố a', 'mình 20 tuổi', 'gia đình mình có 5 thành viên', 'mình là sinh viên năm 4', 'mình học it', 'mình đi rồi', 'có bạn cần ielts 5 5', 'mình học trường đại học tôn đức thắng', 'trường mình nằm ở số 19 nguyễn hữu thọ phường tân phong quận 7 thành phố hồ chí minh', 'mình tên là tuấn', 'mình quê ở ninh thuận', 'mình hiện tại 22 tuổi rồi', 'mình đang học tại trường đại học tôn đức thắng', 'mình hiện tại đang ở 1041 62 20 trần xuân soạn tân hưng quận 7 thành phố hồ chí minh', 'mình tên là hưng', 'mình 21 tuổi', 'mình đang đi học', 'mình là sinh viên đại học tôn đức thắng', 'tớ đang học công nghệ thông tin', 'tớ ở quảng nam', 'à tớ ở kí túc xá', 'tớ có xài facebook nhen', 'okay nick face của tớ là nxhung0405', 'okay cậu', 'số điện thoại của tớ là 0917234872', 'tớ tên nguyễn ngọc trâm', 'mình tên nguyễn ngọc trâm', 'tớ 22 tuổi', 'nhà tớ ở việt nam', 'tớ tên là ngọc trâm', 'tớ đang ở mỹ', 'tớ khỏe', 'tên tớ là cường', 'mình mới tròn 21', 'mình cao 1m8', 'mình là nam nhưng tên cường', 'một công việc và gia đình hạnh phúc', 'khoảng 9h', 'tên tớ là lan', 'mình năm nay là 22 tuổi rồi', 'mình đang học ở ton duc thang university', 'mình đang học ở ton duc thang university', 'ước mơ của mình là làm lập trình viên về web', 'tên tui là thanh', 'tôi đến từ khoa công nghệ thông tin', 'tháng sau tôi tròn 22 tuổi á', 'nếu không có vấn đề gì thì năm sau tao ra trường', 'chắc tao đi du lịch để nghỉ xả hơi', 'có em gái mà nó có bồ rồi mày tính làm em rể tao à', 'tên tớ là trí', 'tớ sống ở thành phố hồ chí minh', 'tớ đang là sinh viên trường tôn đức thắng', 'tớ vào làm 2 năm rồi', '0123456789', 'không có gì', 'tên tớ là lan', 'mình năm này 20 tuổi', 'nhà mình có 5 người nha bạn', 'mình có nhiều bạn bè lắm đó', 'nhà mình ở quận 4 thành phố hồ chí minh đó bạn', 'mình năm này học đại học năm 4 ấy bạn', 'nhà mình không có anh chị em ruột nhưng mình đang sống với anh chị họ đấy', 'có nha bạn học vui lắm', 'mình học đội tuyển học sinh giỏi môn hóa đó bạn', 'mình có rồi nha mình tính sau này sẽ theo học khối ngành về kinh tế', 'mình thì thường sẽ đọc sách và nghe nhạc ngoài ra mình cũng thích tập thể dục lắm', 'mình thích lắm coi xong lại cảm thấy tinh thần sảng khoái', 'hiện tại thì mình đang theo ngành công nghê thông tin nha', 'mình đang sống ở sài gòn', 'mình ở bình thuận lên sài gòn làm việc', 'mình sinh năm 1999', 'tên tớ là lan', 'tớ năm nay 21 tuổi', 'hiện tại tớ đang ở quận 7 tp hcm', 'tớ ở trọ tại đường lê văn lương', 'quê tớ ở lai châu', 'mình tên là tiến', 'hiện tại mình được 22 tuổi', 'quê của mình ở đồng tháp', 'số điện thoại của mình là p 0792240342', 'gia đình mình hiện tại có 7 người', 'chào hiếu bạn sinh năm mấy ấy', 'à vậy mình bằng tuổi nhau đó', 'okie bạn chuyện đơn giản thôi', 'tên tớ là dân chơi', 'họ và tên đầy đủ của tớ là nguyễn dân chơi', 'mình năm nay 21 tuổi', 'quê mình ở hà nội', 'gia đình mình có tổng cộng 4 người', 'mình là con út trong nhà', 'mình cao 1 mét 9', 'mình nặng 65kg', 'skype của mình la danchoi', 'tớ tên hùng', 'mình sinh năm 2001', 'tui cao 1 mét 5', 'mình hiện nay là sinh viên trường đại học tôn đức thắng', 'tui có nhiều sở thích như đá banh xem phim nghe nhạc đi chơi', 'tui muốn trở thành người tốt có công ăn việc làm ổn định có điều kiện kinh tế thời gian và sức khỏe để chăm sóc cho gia đình', 'mình sinh năm 1999 hiện nay 22 tuổi con mèo', 'mình tên là lan', 'mình sinh năm 2002', 'mình năm nay 19 tuổi', 'minh ở hà nội', 'nhà mình có 3 anh chị em', 'mình là con út trong gia đình', 'mình có sở thích đọc sách', 'mình đang học tại trường đại học tôn đức thắng', 'mình thần tượng ca sĩ sơn tùng mtp', 'mình biết chơi guitar', 'mình tên là huyền', 'sắp tới sẽ là sinh nhật 21 tuổi của mình', 'minh đang là sinh viên năm 3 trường đại học tôn đức thắng', 'mình học ngành mạng máy tính và truyền thông dữ liệu thuộc khoa công nghệ thông tin của trường', 'mình có thích chơi đàn và hiện tại vẫn đang luyện tập', 'tớ tên hà', 'mình sinh năm 2000', 'tôi tên cươ ng', 'tôi hiê n ta i đang đô c thân', 'sô điê n thoa i cu a tôi la 0925632541', 'không tôi không pha i la ho c sinh', 'tôi hiê n ta i 30 tuô i rô i', 'tớ tên hùng', 'mình sinh năm 2001', 'tớ thuộc cung song tử', 'tớ sống ở hà nội', 'tớ thuộc khoa công nghệ thông tin', 'tớ cao 1 mét 7', 'tớ xin phép từ chối trả lời nha', 'mình tên là hiếu', 'mình năm nay 22 tuổi', 'quê mình ở cà mau', 'mình đang là sinh viên', 'mình sinh viên trường tôn đức thắng', 'mình học công nghệ thông tin', 'mình ở quận 7', 'mình nặng 75 kí', 'mình 1 mét 75', 'nhà mình có 4 người', 'mình tên duy', 'mình sinh năm 2000', 'mình 21 tuổi', 'mình đang học đại học', 'mình học trường tôn đức thắng', 'mình quê ở tiền giang', 'mình đang ở thành phố hồ chí minh', 'mình tên là bình', 'mình sinh năm 2001 nhé', 'minh đang học ngành kỹ thuật phần mềm', 'mình đang là sinh viên năm 3', 'vâng mình đang học tại tôn đức thắng', 'tớ tên hùng', 'mình sinh năm 2001', 'mình hiện tại ở hồ chí minh', 'không mình là sinh viên và đang đi học', 'mình là con một', 'chào bạn mình tên long', 'mình năm nay 21 tuổi', 'ừm mình sinh viên năm 3 của trường đh tôn đức thắng', 'mình ở với gia đình bên bình tân', 'mình tới trường bằng xe máy', 'tên mình là nguyễn thành tiến', 'mình sinh vào năm 2000', 'mình đang là sinh viên tại trường đại học tôn đức thắng', 'mình thích nhất là được nghiên cứu đọc sách cải thiện bản thân', 'mình thì là học tập thật tốt nỗ lực thật nhiều', 'đúng rồi mình sinh sống trong nam từ thuở còn nhỏ', 'tất nhiên là có rồi sách là thứ giúp mình hiểu thêm về rất nhiều điều mới', 'mình đang học ngành khoa học máy tính chuyên ngành tính toán thông minh thuộc khoa công nghệ thông tin', 'tớ tên khoa', 'mình sinh năm 2000', 'mình cao 1m79', 'mình sống ở 18 nguyễn hữu thọ', 'mình là con đầu trong gia đình và có một em gái', 'mình tên là lan', 'mình năm nay là 21 tuổi', 'mình sinh sống tại đồng nai', 'cảm ơn vậy mình cũng rất vui khi được làm bạn với hùng', 'mình hiện tại đang bán hàng tại một shop quần áo gần siêu thị lotte mart', 'tớ tên hùng', 'mình sinh năm 2001', 'mình tên là bảo', 'mình sinh năm 2001', 'mình sinh ra ở thành phố hồ chí minh và cũng lớn lên ở đây', 'mình là sinh viên của trường đại học tôn đức thắng', 'hiện tại thì mình cao 1m7', 'mình đang ở 26 19 57 6 lâm hoành phường an lạc quận bình tân', 'mình tên trần thanh duy', 'mình sinh năm 2000', 'quê mình ở trà vinh', 'mình đang học đại học', 'mình học trường đại học tôn đức thắng', 'mình học khoa công nghệ thông tin ngành mạng máy tính và truyền thông dữ liệu', 'mình đang ở tp hồ chí minh', 'mình đang học công nghệ thông tin', 'mình sống một mình', 'tớ tên hưng', 'mình sinh năm 2001', 'mình làm ở lotte mart quận 7 nhưng hiện tại đủ người rồi', 'hiện tại thì mình đang độc thân', 'nếu có thể mình sẽ thử sức với việc đi du học', 'gia đình mình đang làm ruộng bạn nha', 'tớ tên hùng', 'mình sinh năm 2001', 'mình tên lợi', 'mình sinh năm 1999', 'mình sinh ra ở phan thiết bình thuận', 'nhà mình gồm 4 thành viên', 'mình thích chơi game nghe nhạc', 'mình thường xuyên bơi lội', 'mình đang ở thành phố hcm và học công nghệ thông tin tại trường đại học tôn đức thắng', 'mình tên ly', 'mình sinh năm 2001', 'mình được 19 tuổi rồi ấy bạn', 'mình sinh ngày 1 tháng 9', 'tên mình là nguyễn thị ly ly', 'mình cao 1 mét 68', 'mình 45kg nha bạn', 'mình tên mèo', 'nhà mình ở quận 7', 'mình năm nay 20 tuổi', 'chiều cao của mình là 1m6', 'mình có thể nói được 1 ngôn ngữ', 'tớ tên lễ', 'mình sinh năm 2000', 'mình học ngành công nghệ thông tin', 'sở thích của mình là nghe nhạc chơi game du lịch thích được yêu sự giàu có ghét sự nhòm ngó yêu hòa bình', 'chưa bạn nghe nói nhóm 3 người', 'ok vậy bạn cho mình vào nhóm nha', 'à bạn khi nào thuyết trình vậy', 'có kế hoạch gì chưa', 'ok vậy bạn lên kế hoạch rồi có gì gửi vào nhóm nha', 'chưa bạn nghe nói nhóm 3 người', 'ok vậy bạn cho mình vào nhóm nha', 'à bạn khi nào thuyết trình vậy', 'có kế hoạch gì chưa', 'ok vậy bạn lên kế hoạch rồi có gì gửi vào nhóm nha', 'tớ tên đức', 'mình 21 tuổi', 'mình sinh ngày 5 tháng 3', 'mình sinh năm con rồng', 'mình chưa có người yêu', 'nhà mình có 4 người', 'mình có 1 chị', 'mình tên nguyên', 'quê mình ở thành phố hồ chí minh', 'mình là sinh viên khóa 22', 'mình học ngành công nghệ thông tin', 'minh học chuyên ngành khoa học máy tính', 'mình thường xuyên mua hàng online', 'mình thường mua trên shopee', 'mình hay mua đồ thời trang nhưng không thường mua đồ điện tử', 'mình thường mua ở yame zara biti s', 'mình thường mặc quần short và sơ mi tay ngắn phối cùng với giày lười', 'mình thấy các dòng asus nitro và msi khá tốt trong tầm giá đó', 'mình mua ở xgear', 'đúng rồi bạn mình học ở đó bạn cũng học tôn đức thắng hả', 'mình làm ở phúc long nhưng hiện tại đủ người rồi', 'à mình là người ở đây', 'hiện tại thì mình đang độc thân', 'mình chưa biết nữa nhưng nếu có cơ hội thì mình muốn đi du học', 'tớ tên hùng', 'mình sinh năm 2001', 'tớ tên hùng', 'mình sinh năm 2001', 'mình tên là huy', 'mình năm nay 22 tuổi', 'tớ tên hùng', 'mình sinh năm 2001', 'tôi đang học công nghệ thông tin', 'tôi đang học tài chính ngân hàng', 'tôi đang học ngôn ngữ anh', 'tôi đang học quản trị kinh doanh', 'tôi đang học điện', 'tôi đang học công nghệ sinh học', 'tớ tên hùng', 'mình sinh năm 2001', 'tớ thích đọc sách tham gia các hoạt động ngoài trời', 'bình thường', 'mình thường đọc sách chơi game', 'mình đang học tại đại học tôn đức thắng', 'quê hương của mình ở bến tre', 'mình muốn làm ca sĩ', 'tớ tên hùng', 'mình sinh năm 1999', 'mình sinh ra ở cà mau', 'mình học ở sài gòn', 'mình đang làm phục vụ quán nước', 'mình đang độc thân nhé', 'tớ tên thịnh nguyễn đan ni ô thịnh', 'tớ sinh năm 1999', 'tớ cao 175cm', 'tớ nặng 67kg', 'mình thuộc giới tinh nam', 'mình thuộc nhóm máu o', 'mình tên là khải', 'mình cao 1 mét sáu mươi chín', 'mình nặng gần 80 ký', 'mình chưa có người yêu mình còn đang sợ ế đây này', 'lương tháng mình 2 triệu', 'nhà mình ở quận 8', 'chắc bạn nhìn nhầm rồi đó', 'nhà mình có 5 người', 'không mình là còn thứ', 'đúng rồi mình trúng được 50 ngàn', 'không mình học bình bình', 'số điện thoại mình là 090 0000 0000', 'mình làm gì đã có người yêu mình còn đang sợ ế đây này', 'mình tên là tài', 'mình cao 1 mét bảy mươi lăm', 'mình nặng gần 95 ký', 'mình chưa có người yêu', 'mình chưa đi làm', 'nhà mình ở quận 11', 'mình còn đang ế đây này', 'nhà mình có 3 người', 'đúng vậy', 'mình có mua vé số bao giờ', 'mình học bình bình', 'số điện thoại mình 0707336606', 'mình độc thân', 'tớ tên dân mọi người hay gọi tớ là dân chơi', 'tớ sinh năm 2003', 'mình tên khá bảnh', 'mình sinh năm 1991', 'bình thường mình cao 1m5 khi uống thuốc tăng đề kháng mình cao 2m', 'bình thường mình nặng 80kg uống thuốc tăng đề kháng mình còn 40kg', 'mình bị dị ứng với cái nghèo', 'tớ tên hùng phạm mạnh hùng', 'mình sinh năm 200', 'quê mình ở floria', 'mình ở tp hcm', 'không mình là game thủ', 'mình tên đăng võ nguyễn hải đăng', 'tớ tên hùng phạm mạnh hùng', 'mình sinh năm 2001', 'tên đầy đủ của mình là thạch nguyễn khang huy', 'tháng 5 này là mình tròn 22 tuổi', 'lê thành an', 'tui sinh 1999', '21 tuổi rồi', 'tui cao 3 mét bẻ đôi', 'xấp xỉ 100 kí lô', 'i am in the middle huh', 'mình dân tộc kinh', 'tớ tên hùng nguyễn thanh hùng', 'mình sinh năm 2007', 'mình cao 1m50 nha bạn', 'mình nặng 1 tạ hơn nha bạn', 'mình sinh ra và lớn lên ở đắk lắk', 'mình tên minh thư', 'mình nặng 52 kí', 'mình đang 20 tuổi', 'tên mình là đạt', 'tên mình là đạt', 'mình năm nay 20 tuổi', 'mình cao 1 mét 50', 'mình nặng 45 kí', 'tui tên nam nguyễn hoàng nam', 'tui năm nay 20 tuổi', 'tui cao 1m75', 'mi nh tên pha t', 'mi nh nho m ma u ab', 'thi ch xem stream', 'mi nh nă ng 65kg', 'mi nh cao 1m7', 'mi nh 22 tuô i', 'mình tên là khanh đẹp trai sđt 0832840 nhà ở vinhome quốc tịch mỹ', 'mình sinh năm 2000', 'mình nặng 65kg', 'mình không sử dụng mxh', 'email cá nhân của mình là khanhduynguyen170900 gmail com còn mail trong công ty là giamdockhanhnguyen vin vn', 'tớ tên lý gia bảo', 'mình vừa mới chào đời ngày hôm qua ahihi', 'do bạn chưa chơi đồ đấy bạn ơi', 'tớ tên thụy thụy bean', 'mình sinh năm 2000', 'tớ tên thụy đỗ quang thụy', 'bố m sinh năm 2000', 'mình tên bảo', 'mình sinh năm 1999', 'mình cao 1m68', 'mình nặng 50kg', 'tui cao 2m', '90 60 100', 'mình tên loan', 'mình sinh năm 2000', 'mình cao tầm 1m67', 'tớ tên tín nguyễn trung tín', 'mình sinh năm 2000', 'tớ tên tùng nguyễn thanh tùng', 'mình sinh năm 2000', 'tớ nặng 150kg', 'quê tớ ở quảng nam', 'tớ là người dân tộc hmong', '', '', '', '', '', '', 'mình tên jang jam', 'mình 20 tuổi', 'mình cao 1m76', 'mình nặng 70kg', 'mình họ đào', 'tớ tên hùng phạm mạnh hùng', 'mình sinh năm 2001', 'mình tên là nhơn', 'mình được 20 tuổi rồi', 'minh cao 1m8', 'minh nặng 70kg', 'mình tên chupi', 'mới 20', 'không biết hỏi chi', 'tao nặng nhiêu kệ tao chứ', 'mình cung bạch dương 12 04', 'chắc 1m7 gì ấy', 'hiếu đẹp trai', 'huỳnh trần trung hiếu', '2000', 'nam', 'mình tên chupi', 'mới 20', 'không biết hỏi chi', 'tao nặng nhiêu kệ tao chứ', 'tớ tên đông', 'mình sinh năm 2000', 'mình cao 1m72', 'mình nặng 60kg', 'hải', '2000', 'hải', '2000', 'vũ đức anh khoa', '21 tuổi', '1m8', '70kg', 'tớ tên hùng phạm mạnh hùng', 'mình sinh năm 2001', 'mình tên nguyễn trần nhật đức', 'mình 20 tuổi', 'mình nặng 40kg', 'mình cao 1m68', 'lian', '2k', '1m7', '50 kí', 'mình tên đức', 'quê mình ở nghệ an', 'mình 21 tuổi', 'minh cao trên 1m5', 'mình nặng 72kg', 'không có nha', '01 01 2000', 'tớ tên là bot automatic robot', 'mình sinh năm 2020', 'tớ đến từ việt nam', 'mình được lập trình từ rất nhiều ngôn ngữ nhưng phần lớn là java', 'mình được 1 tuổi', 'corgi', '2000', '1m70', '74kg', 'chơi game nghe nhạc', 'chubby', 'chơi game nghe nhạc xem phim', 'tớ tên hùng phạm mạnh hùng', 'mình sinh năm 2001', 'vũ đức anh khoa', '21 tuổi', '1m8', '70kg', 'mình tên là duy trương bùi quốc duy', 'mình sinh năm 2000', 'mình cao 1m70', 'mình nặng 80kg ạ', 'nhóm máu của mình là b', 'mình cận 3 5f tiêu cự ạ', 'mình cung song tử', 'minh theo thiên chúa giáo', 'minh tên nguyễn thị thu huyền', 'mình sinh năm 22 02 2000', 'mình cao 1m59 nặng 51kg', 'số điện thoại mình là 0782513xxx', 'có biệt danh của mình là mắm', 'mình cao 1 mét 70', 'mình tuổi con rồng', 'năm nay em 20 tuổi', 'mình gặp ở manwah vincom đồng khởi', 'số điện thoại mình là 0334xxxxxx', 'mình tên nguyễn thị bưởi bưởi', 'mình sinh ngày 22 02 2000', 'mình cao lắm có 2 mét thôi ạ', 'khối lượng cơ thể của mình là 50kg', 'mình 20 tuổi rồi', 'tôi tên tài dương trọng tài', 'tôi cũng 20 luôn nè bạn', 'tôi cao 1m68 à bạn ơi', 'tôi ăn rồi nha còn bạn', '20', 'tất nhiên là không mình là hiếu', 'mình tên mai dễ thương', '2003 á bạn', 'gầy lắm bạn ơi mình chỉ có 45kg à', 'mình cao tận 1m57 lận', 'mình mới 18 à', 'nguyễn thành phát', 'năm 2000', 'cao 1m7 nặng 54kg', 'nguyễn thành phát', 'năm 2000', 'cao 1m7 nặng 54kg', 'tớ tên minh trần phạm thanh minh', 'mình sinh năm 2000', 'mình cao 1m60', 'mình nặng 80kg nha', 'mình tuổi con rồng', 'mình tên nam ạ', 'mình 20 tuổi', 'mình 72kg', 'mình cao 1m73', 'mình được 12 12', 'mình tên khoa', 'mình sinh 2002', 'mình 100 kg', 'mình cao 170cm', 'mình bị khùng', 'không cho', 'thành khang', '2k', 'ma kết', '21', '100', '170', 'mình tên hạnh', 'tầm 20 tuổi', '52kg', '1m7', 'tớ tên lộc nguyễn tấn lộc', 'mình sinh năm 2000', 'tui cỡ 75kg', '1m72 ông', 'có cận 3 độ mỗi mắt', 'tớ tên hùng phạm mạnh hùng', 'mình sinh năm 2001', 'tên tớ là lan', 'mình sống ở thành phố hồ chí minh', 'nhà mình có 3 anh em mình là anh cả và có 2 đứa em gái', 'mẹ mình là cô giáo', 'ba mình là công an', 'mình có rồi', 'tháng sau ba mình mua cho mình', 'tên tớ là lan', 'mình sinh năm 1999', 'mình quê ở vũng tàu á', 'mình tên quang', 'mình sinh năm 2001', 'năm nay mình 20 tuổi', 'mình đến từ thành phố hồ chí minh', 'hiện tại mình là sinh viên năm 2', 'mình học ngành khoa học máy tính', 'mình đang học tại đại học tôn đức thắng', 'mình thấy ngành mình theo học khá nặng và khó', 'mình hiện tại thì sống với ba mẹ của mình', 'mình cũng ít khi đi du lịch với gia đình vì ba mẹ mình khá bận', 'nhà tôi ở quận bình tân', 'khoảng cách từ nhà tối đến trường tầm 13km', 'thông thường tốn khoảng 30 đến 40 phút', 'củng khá ngán nhưng cũng phải ráng thôi', 'ở nhà mình chủ yếu chơi game lâu lâu cũng làm các project nhỏ chơi cho vui', 'không mình thích tự học khi có chủ đề hứng thú hơn', 'tên mình là vân', 'năm nay mình 21 tuổi', 'mình đang sống ở thành phố hồ chí minh', 'mình thuộc cung song ngư', 'mình đang là sinh viên năm 3', 'mình đang học ở trường đại học tôn đức thắng', 'tên tớ là lan', 'mình quê ở sài gòn nhé bạn', 'mình mới 20 tuổi nhé bạn', 'mình tròn 21 tuổi á bạn', 'hiện tại mình đang là sinh viên nhé bạn mà mình cũng không biết chăc nữa vì mình học ở học viện âm nhạc thành phố hồ chí minh đó bạn', 'ừm mình cũng nghĩ vậy', 'đúng rồi âm nhạc là đam mê của mình đó bạn', 'hmm mình hay nghe nhạc âu mỹ á bạn những loại nhạc country music vân vân và mây mây nữa', 'oh có chứ bạn mình cực kỳ thích luôn đó bạn thể loại nhạc đó nghe rất là nhẹ nhàng', 'mình đang học tại trường đại học tôn đức thắng', 'hiện tại là sinh viên năm 04 và sắp ra trường rồi', 'mình rất quan tâm tới thời trang', 'hiện tại mình đang độc thân', 'mình đặc biệt yêu thích bộ môn cầu lông', 'mình tên kỳ', 'mình 21 tuổi rồi', 'mình ở quận', 'đúng rồi bạn', 'mình đang học ở trường đại học tôn đức thắng', 'mình là sinh viên công nghệ thông tin', 'mình học kỹ thuật phần mềm', 'mình năm 4 rồi', 'hết năm nay mình sẽ ra trường', 'quê mình ở ninh thuận', 'tên mình là nam', 'mẹ mình tên ngân', 'ba mình tên thắng', 'mình 20 tuổi', 'mình nhà ở bình dương', 'quê mình ở quảng bình', 'nhà mình có 4 người', 'mình học trường đại học tôn đức thắng', 'mình học khoa công nghệ thông tin', 'mình khóa 21', 'mình tên quang', 'năm nay 21 tuổi rồi', 'mình sinh ra ở thành phố hồ chí minh', 'hiện tại mình là lập trình viên', 'mình chỉ mới thực tập thôi', 'cũng thú vị lắm', 'mình thích trải nghiệp những việc khó', 'mình thích nhất là trà lipton', 'rau muống xào tỏi là món mình thất nhất', 'tên tớ là lan', 'mình tên hồng', 'à mình 20', '0977736413', 'mình học tại trường đh tđt', 'mình học cntt', 'tui tên cường còn bạn', 'tao quê tam kỳ', 'tao 25', 'đh tôn đức thắng á', 'tui học cntt', 'tôi mình là lan', 'mình hiện đang là sinh viên năm 4', 'sau khi ra trường mình sẽ đi du học và làm ở bên đó', 'hiện tại mình đang tập trung cho sự nghiệp', 'mình có học thêm toiec để cải thiện tiếng anh', 'mình ở quận 9', 'mình sắp 22 rồi', 'mình mãi mãi tuổi 18 nhé', 'mình học ngành kỹ thuật phần mềm', 'mình học ở quận 7', 'nhà tớ ở đồng tháp', 'năm nay mình được 22 tuổi rồi bạn', 'nhà mình có tổng cộng 4 người', 'mình học trường đại học tôn đức thắng', 'mình học ngành khoa học máy tính', 'mình là sinh viên khoa công nghệ thông tin', 'mình sinh năm 1999', 'hiện tại mình sử dụng căn cước', 'mình ở quận gò vấp', 'mình dùng mạng viettel', 'tên tớ là lan', 'ok được chứ', 'mình ở nhà', 'đúng rồi tụi mình là bạn', 'ok luôn 0123456789', 'mình tên dương', 'mình 21 tuổi rồi', 'mình ở quận 7', 'đúng rồi bạn', 'mình đang học ở trường đại học tôn đức thắng', 'mình là sinh viên công nghệ thông tin', 'mình học kỹ thuật phần mềm', 'mình năm 4 rồi', 'hết năm nay mình sẽ ra trường', 'quê mình ở quảng ngãi', 'hùng', '20', 'ho chi minh', 'gia dinh', 'khong', 'hùng', '20', 'ho chi minh', 'gia dinh', 'khong', 'chị tên là nhi', 'hihi chị sinh năm 1999', 'ở biên hoà đồng nai ă em', 'chị còn đi học ă', 'đại học tôn đức thắng nè chị năm cuối rồi', 'chị học công nghệ thông tin nha em', 'chào bạn mình tên là hùng', 'mình sinh năm 2002 là sinh viên năm nhất', 'mình là sinh viên khoa công nghệ thông tin', 'mình hiện đang học về ngành khoa học máy tính chuyên ngành hệ thống thông tin', 'mình thích chơi đá banh bóng rổ cầu lông bơi lội', 'mình sẽ xem xét thời khóa biểu nếu rãnh thì mình sẽ tham gia', 'mình ổn không sao đâu', 'chào bạn tên mình là nam', 'mình cao 184cm nhé', 'uhm mình thích chơi bóng chuyền nè', 'mình nặng 58kg bạn nhé', 'tên tớ là lan', 'mình vừa tròn 20 rồi á', 'được chứ sao không nhưng để làm gì thế', 'mình ở bình thạnh ấy bạn', 'mình đi làm nhiều năm rồi bạn ơi', 'tên mình là lan', 'mình hiện đang là sinh viên năm 4', 'sau khi ra trường mình sẽ đi du học và làm ở bên đó', 'hiện tại mình đang tập trung cho sự nghiệp', 'mình có học thêm toiec để cải thiện tiếng anh', 'tên tớ là tuấn', 'tớ 20 tuổi', 'tớ cao 1m7', 'tớ nặng 60kg', 'quê tở khánh hòa', 'tớ học công nghệ thông tin', 'tên tớ là lan', 'tên tớ là nam', 'ngày sinh của tớ là 30', 'ngày sinh của tớ là 29', 'tháng sinh của tớ là tháng 4 april', 'tháng sinh của tớ là tháng 4 april', 'năm sinh của tớ là 2001', 'năm sinh của tớ giống cậu ấy', 'số điện thoại cá nhân của tớ là 0123456798', 'số điện thoại của tớ là 0234567891', 'tên mình là nhân', 'mình quê ở sài gòn nhé bạn', 'mình 20 tuổi rồi', 'hiện tại mình đang là sinh viên nhé bạn', 'mình rất thích', 'mình thích nhạc rap', 'vâng mi nh thuô c khoa công nghê thông tin', 'mi nh sinh nă m 1999', 'quê mi nh ơ câ n giơ tphcm', 'tdtu', 'nha bao viê c', 'ho i vâ y chi vâ y ba', 'hiếu', '22', 'nam', 'tdtu', '0902622737', 'chưa mình đang thất nghiệp', 'rồi mình đang làm việc cho một công ty', 'mình đã đi làm rồi', 'hiện tại mình làm ở fpt software', 'ở khu công nghệ cao', 'mình đang là kĩ sư phần mêm', 'mình rất vui và phấn chấn khi được làm việc ở đây', 'đồng nghiệp rất hòa đồng và tốt bụng', 'sếp làm việc rất chuyên nghiệp và rất vui tính', 'tôi rất thích môi trường làm việc này', 'mình định theo hướng phát triễn website', 'tớ cảm thấy đồng nghiệp của mình vui tính và hoà đồng', 'tớ không thường đem công việc về làm', 'ở nơi làm mọi người có hay họp để giải quyết vấn đề', 'ở nơi làm tớ có hoà đồng với đồng nghiệp', 'ở nơi làm tớ có không hoà đồng với đồng nghiệp', 'em ổn', 'còn anh', 'đào bới nhau trong những cuộc họp', 'khó tính và thường gắt gỏng', 'cũng không đau lắm ạ', 'em ổn', 'còn anh', 'đào bới nhau trong những cuộc họp', 'khó tính và thường gắt gỏng', 'cũng không đau lắm ạ', 'đang đi học', 'ở quận 7', 'không', 'hay', '2 ca', 'mình làm giáo viên dạy anh văn', 'mình làm việc ở quận 1 thành phố hcm', 'mình đã đi làm rồi', 'hiện tại mình làm ở fpt software', 'ở khu công nghệ cao', 'mình đang là kĩ sư phần mêm', 'mình rất vui và phấn chấn khi được làm việc ở đây', 'đồng nghiệp rất hòa đồng và tốt bụng', 'sếp làm việc rất chuyên nghiệp và rất vui tính', 'tôi rất thích môi trường làm việc này', 'mình định theo hướng phát triển website và các ứng dụng mobile', 'ở đâu', 'mày thấy chỗ đó như thế nào', 'ý là cảm xúc vị trí thái độ của đồng nghiệp á mày', 'em ổn ạ', 'còn anh vẫn vậy hả', 'nói qua nói lại rồi đào bới nhau trong những cuộc họp', 'khó tính và thường gắt gỏng', 'cũng không đau lắm ạ', 'đang lên chức đó', 'mình sẽ cố gắng để lên chức', 'có chứ', 'khi đó mình 16 tuổi', 'mình rất vui và hạnh phúc', 'có hiện tại mình đang đi dạy thêm lập trình cho các học sinh cấp 2 cấp 3', 'mình đang làm ở học viện công nghệ teky', 'chắc chắn là có rồi làm việc mình thích cơ mà', 'từ sếp lớn cho tới các bạn giảng viên ai cũng dễ thương', 'lương cũng đủ để tiêu vặt', 'tao đang làm cho một agency marketing nổi tiếng', 'hiện công ty có 3 chi nhánh và tao đang làm tại quận 1', 'công việc vất vả lắm mày ơi đi sớm về khuya tăng ca liên tục', 'nhiều lắm mày mà toàn trên tuổi tao nên ngắm thôi chứ không húp được', 'không mày ơi bộ phận nào làm việc nấy nhưng cần gì theo sang giúp đỡ cho xong việc chứ không chia phe gì cả', 'tao thấy ổng cứ sao sao ấy', 'bữa giờ tao cũng hơi quạo ổng', 'chịu thôi có con a nói chuyện với ổng hợp vãi', 'hên là tao với mày nói chuyện hợp nhau', 'tết đang cận kề nên công việc cũng bị hối thúc khá là stress em à', 'không thể nào đâu em à đây là tình hình chung rồi chúng ta đành phải sống chung với lũ thôi', 'tình hình này chắc chỉ có bán hàng online là nhiều em à em thử tìm hiểu xem', 'anh cũng không biết nhưng chỉ biết trông mong thôi em à', 'mình đang làm ở quận 7', 'mình đang làm bên mảng it', 'các đồng nghiệp rất hòa đồng với nhau', 'mình rất vui vì được nhận vào làm', 'mình đang đi làm công ty thôi', 'mình làm công ty bên cộng hòa quận tân bình á', 'công việc ổn định cũng tốt lắm', 'vui lắm cậu đồng nghiệp thoải mái hòa đồng lắm', 'tớ làm ngày 8tiếng đôi ngày có tăng ca thêm 4 tiếng', 'công việc hiện tại của mình rất ổn', 'hiện tại mình đang làm dev', 'mình đang làm việc tại quận 10', 'phúc lợi của công ty rất tốt', 'quan hệ của mình với mọi người rất tốt', 'tao thấy ổng cứ sao sao ấy', 'bữa giờ tao cũng hơi quạo ổng', 'chịu thôi có con a nói chuyện với ổng hợp vãi', 'hên là tao với mày nói chuyện hợp nhau', 'ổn lắm bạn ơi', 'mình làm bên mảng devops bạn', 'nó dễ vl bạn ơi', 'sếp dễ lắm bạn ơi', 'bọn nó vui vãi bạn', 'mình đang là sinh viên', 'mình không', 'mình mong muốn làm đúng ngành công nghệ thông tin', 'mình đang ăn hại', 'không hiện tại ngành mình làm không phải là ngành mình thích', 'cũng có một chút đôi khi deadline đến quá nhanh khiến mình không kịp thích ứng', 'chắc chắn rồi chẳng công việc nào mà không yêu cầu lương tâm của người làm việc cả', 'có công ty mình yêu cầu sự bảo mật', 'mức lương của mình cũng ổn cũng đủ ăn đủ xài', 'mình đang ăn hại', 'không hiện tại ngành mình làm không phải là ngành mình thích', 'cũng có một chút đôi khi deadline đến quá nhanh khiến mình không kịp thích ứng', 'chắc chắn rồi chẳng công việc nào mà không yêu cầu lương tâm của người làm việc cả', 'có công ty mình yêu cầu sự bảo mật', 'mức lương của mình cũng ổn cũng đủ ăn đủ xài', 'mình đang thất nghiệp', 'nghề nào có nhiều tiền là mình thích hết', 'mình', '', '', 'mình đang àm giáo viên dạy tin học ở kase edu', 'mình thích công việc nhàn nhạ và lương cao', 'khá là tốt khi mình có rất nhiều lớp dạy', 'mình vẫn đang học đại học và làm diễn viên tự do', 'không hẳn', 'bán vé số dạo', 'rửa xe thay nhớt', 'bán trà đá vỉa hè', 'đủ mua nhà', 'mình có', 'thường xuyên tiếp xúc nhiều người', 'có chớ', 'mình có đang đi làm đi vào mỗi tối khuya muộn', 'mình đang đi làm thêm', 'mình đang làm nhân viên pha chế', 'mình chủ yếu pha chế thức uống theo công thức đã có và một số theo yêu cầu của khách hàng', 'mình không có đi làm thêm', 'mình đang làm thiết kế trang web', 'mình rất thích công việc đang làm', 'mình thích nghề thiết kế trang web', 'đi học và phụ bán hàng tại nhà', 'cũng được nhưng chủ yếu part time', 'cũng tạm tạm thôi', 'la m di vu tro ng phu ng', 'nu cươ i luôn ơ trên môi nhưng tôi chưa bao giơ ô n', 'mình đang làm giảng viên đại học cho trường đh tôn đức thắng', 'mình muốn trở thành nhà thơ hoặc họa sĩ', 'mình đang học sinh thôi bạn ei', 'mình hay ra ngô gia tự kiếm thêm thu nhập á bạn', 'mình đang đi học và chưa đi làm', 'mình muốn trở thành giáo sư trong ngành công nghệ thông tin', 'có nha bạn tôi', 'từ quận 7 đến các quận trong tphcm', 'bí mật', 'bạn còn không gấp tôi gấp làm gì', 'đóng phim', 'cả 2', 'có', 'no idea', 'mình không làm gì hết vì mình còn đang là sinh viên', 'mình muốn thành da hoặc qa', 'mình chưa có đi làm nên mình cũng không biết trả lời sao nữa', 'mình đang làm doanh nhân triệu đô', 'tớ đang là lập trình viên cho gameloft', 'cũng được tới hài lòng', 'rất ổn định nha', 'có nhất là cô bạn gái đồng nghiệp', 'sếp tớ vừa xinh vừa quan tâm tớ', '', '', '', '', 'mình là sinh viên', 'mình chưa đủ kinh nghiệm để đi làm', 'học cũng tạm ổn', 'minh đang làm full stack', 'mình khá là hứng thú với công ty của mình', 'công việc của mình khá là ổn đỉnh', 'mình thích làm biếng', 'lương mình khá là nhiều số không và đặc biệt là không thấy', 'tui đang làm ở công ty tui hihi', 'tao làm web', 'cũng được đủ ăn đủ mặc', 'công ty tao không có hệ số lương', 'không tao thích công ty đây', 'không biết nữa mỗi người mỗi khác tao thì 6 tháng một lần', 'tao không biết nữa mày lên coi liên hệ phòng nhân sự thử', 'chưa biết nữa', 'đang là sinh viên đại học', 'chưa đi làm cùng lắm là phụ gia đình', 'chưa có đi làm', 'có thể tương lai nếu có đường ra', 'tui đang làm ở công ty tui hihi', 'tao làm web', 'cũng được đủ ăn đủ mặc', 'công ty tao không có hệ số lương', 'không tao thích công ty đây', 'không biết nữa mỗi người mỗi khác tao thì 6 tháng một lần', 'tao không biết nữa mày lên coi liên hệ phòng nhân sự thử', 'đi học', 'sinh viên', 'làm it', 'ổn', '5000', 'shipper', 'quản lí doanh nghiệp', 'shipper', 'quản lí doanh nghiệp', 'có', 'làm nghề kiếm tiền', 'làm nghề gì mà nhiều tiền', 'đang làm công dân việt nam', 'có mình đang đi làm tại fpt', 'có mình thích công việc hiện tại này của mình', 'mình làm côg việc liên quan về ngành của mình', 'công việc của mình lương khá ổn', 'được hơn 1 năm rồi', 'không', 'đi học', 'it', 'ổn', 'còn học', 'mình muốn làm hacker', 'tớ đang là lập trình viên', 'tớ còn thích làm ca sĩ hoặc nghề nào đó liên quan đến nghệ thuật', 'công việc của tớ khá ổn rất thoải mái', 'tớ chịu khá nhiều áp lực trong công việc', 'lương tháng của mình khoảng 30 triệu', 'có', 'làm nghề kiếm tiền', 'làm nghề gì mà nhiều tiền', 'đang làm công dân việt nam', 'ăn bám', 'ăn ngủ đi học', 'chinh phục mặt trời là định hướng cuối cùng của mình', 'công việc hiện tại của mình rất ổn mình đang sống dưới gầm cầu', 'mình hiện đang là sinh viên ngoài ra mình còn có công việc bán thời gian là phục vụ', 'mình muốn làm dược sĩ', 'lương sau khi ra trường của mình khoảng nghìn đô', 'tính tới hiện tại chỉ cảm thấy đang làm đúng với ngành mình chọn', 'sếp anh quản lý nhân sự bằng cách', 'công việc ước mơ của bé sau này là làm phi công', 'hiện tại công việc cháu không ảnh hưởng quá nhiều do được xếp làm việc online tại nhà', 'mình là sinh viên', 'mình thích làm kinh doanh', 'tất nhiên là không', 'tất nhiên là có', 'lập trình viên kinh doanh marketing', 'tôi thích trở thành một nghệ sĩ chuyên nghiệp trong lĩnh vực âm nhạc', 'tôi muốn sau này ra trường có thể trở thành một lập trình viên', 'tôi muốn vừa đi làm ban ngày ban đêm có thể đứng trên sân khấu biểu diễn', 'lập trình full stack website nha bạn', 'việc làm cuối của bạn là gì', 'tôi là một họa sĩ', 'tôi đã bị cho nghỉ việc vì không có việc làm', 'có sắp bị sa thải ở nơi này không', 'làm người yêu cún đó', 'kìm nén cảm xúc', 'làm người yêu cún sao phải áp lực chứ', 'làm bồ cún', 'cún lo được mà', 'không làm gì hết', 'nghề nào có tiền thì làm trừ nghề bậy bạ', 'ở nhà nằm ngủ', 'không làm gì hết', 'nghề nào có tiền thì làm trừ nghề bậy bạ', 'ở nhà nằm ngủ', 'tui đi còn đi học ông ơi', 'mở quán coffee đó', 'i t á', 'đam mê đó ông hehe', 'mình làm coach', 'mình đang đi học', 'mình không thích', 'dĩ nhiên là có', 'mình chạy xe', 'chưa cho lắm', 'có', 'có', 'có', 'có', 'có', 'tui đi học', 'học sinh sinh viên có là 1 nghề không', 'mở quán net', 'không ổn lắm', '4 tháng 19tr500', 'tôi đang làm lập trình viên', 'tôi làm ở fpts', 'lương cũng khá ổn đó ông khá cao so với mặt bằng chung', 'được thưởng tháng 13 nói chung là cũng được thưởng khá nhiều', 'tính đến nay thì cũng được ba năm rồi ông', 'chuẩn rồi ông', 'có ông đôi lúc hơi phiền phức', 'đúng rồi á', 'mình đang làm tester á', 'mình rất vui vì được làm á', 'rất tốt á', 'hiện tại mình làm ở quán cây khế', 'mình đang làm quản lý quán', 'mình cảm thấy ở đó môi trường rất vui và luôn tràn ngập năng lượng', 'mình thấy họ rất hòa đồng và luôn giúp đỡ mình trong công việc', 'mình cũng thường xuyên gặp những tình huống khó xử', 'cũng bình thường thôi mình do dỡ marketing bản thân chỉ kiếm được một chổ làm ở một quán net', 'mình làm kỹ thuật trong tiệm đó và đây là một quán net khá hiện đại', 'quan net ở đây đưa tất cả dữ liệu cần thiết của các máy tập trung lại trên một máy chủ chính', 'tất cả ứng dụng và hệ điều hành cách thiết lặp hệ điều hành đều được lưu trữ trên máy chủ khi một máy con được khỏi động máy con sẽ thông qua đường mạng lan và lấy những thứ cần thiết về để khỏi động', 'mình đang làm nhân viên văn phòng', 'mình đang làm bán thời gian ở highlands coffee', 'mình muốn trở thành tiếp viên hàng không', 'mình cảm thấy mãn nguyện với công việc của mình', 'mình nghĩ là có', 'mình đang là lập trình web tại công ty vietnam', 'minh làm tại công ty quốc tế dvs tại chi nhánh hcm', 'đủ sống thôi bạn ạ', 'mình làm tại đây cách đây vài tháng mà cứ ngỡ là nhân viên lâu năm không à', 'quá dễ luôn ấy chứ', 'mình làm kỹ sư phần mềm', 'mình làm backend', 'mình làm ở quận 3', 'mình làm được gần 1 năm rồi', 'công ty mình tầm 100 người', 'mình làm lập trình viên', 'mình làm ở quận 9', 'mình làm ở công ty fpt software', 'mình làm về erp', 'công ty mình môi trường chuyên nghiệp', 'lương mình 20 củ khoai', 'một tuần mình làm 5 ngày', 'công ty mình làm ở tân bình', 'mình là lập trình viên', 'thấy được và vui lắm', 'mặc dù chơi quen nhưng cũng học hỏi được nhiều điều', 'có chứ mình có quen được gần hết người trong tổ', 'chế độ khá tốt mình thấy các anh rất chuyên nghiệp trong công việc', 'tớ làm ở cửa hàng tiện lợi á', 'vinmart á cậu cách nhà tớ 2 km', 'chưa chỉ mới hai tháng à', 'vẫn ổn đấy cậu ạ tháng này tớ được thưởng nè', 'tết nè được có 1 tháng lương à', 'cũng bình thường', 'không cao lắm đủ xài à', 'tui làm ngoài quận 1', 'khó nhưng mà ổng tốt lắm', 'tui đi code dạo thôi', 'à tao đang làm bên fpt nè', 'tao làm thiết kế với phát triển web', 'đi làm ở đó không có lương mà còn không có giám sát hướng dẫn nữa', 'mấy anh mentor bên đây hướng dẫn nhiệt tình lắm', 'thực tập khoảng 3 tháng người ta sẽ xét duyệt', 'mình đang làm ở quận 3', 'mình làm cũng gần 2 năm rồi', 'mình đang làm ba business analyst', 'google đi bạn', 'cũng ok đang có nhiều dự án lắm', 'mình đang làm việc cho công ty fpt', 'đồng nghiệp của mình rất hòa đồng và tốt bụng', 'mình cảm thấy vô cùng thoải mái khi làm việc ở đây vì công ty mình luôn luôn hỗ trợ nhân viên hết mình', 'không hẵn thế nhưng làm một thời gian thì đúng là như vậy', 'công việc của mình vô cùng thuận lợi', 'deadline của tớ khá nhiều nhưng cũng không mệt lắm', 'mình nghĩ là ổn', 'cũng không hẳn anh ấy rất thân thiện và giúp đỡ nhân viên', 'à không công ty cách nhà mình khoản 2km đi xe', 'dạ rồi cô ơi con làm ở abc', 'dạ cũng được con mới vào cũng không biết nhiều', 'cách chỗ con ở tầm 15p đi xe ạ', 'dạ hihi', 'mình làm kỹ sư phần mềm', 'mình làm backend', 'mình làm ở quận 3', 'mình làm được gần 1 năm rồi', 'công ty mình tầm 100 người', 'rồi cậu làm từ hồi đợt thực tập tới giờ', 'tớ đang làm ở cyberlogitec việt nam trên đường cộng hòa', 'tớ làm part time nên việc cũng nhẹ không căng thẳng dồn dập gấp gút lắm', 'anh leader bên tớ dễ tính tính lắm thoải mái không có làm khó hay yêu cầu cao gì', 'đúng rồi mình vừa được nhận vào làm hôm qua', 'à mình làm phục vụ thôi', 'mình làm ở quán nước nằm trên đường lê văn lương', 'cũng hơi mệt thôi chắc từ từ sẽ quen', 'không anh ấy cũng khá dễ tính', 'công ty abc', 'ừm nó đó', 'đủ sống à', 'chạy grab', 'làm lính à', 'tớ đang là sinh viên', 'trường đại học tôn đức thắng', 'ngành công nghệ thông tin đó cậu', 'cũng khá vui nếu cậu chịu khó học', 'khá khó hiểu nếu cậu không tập trung', 'mọi người đều khá là dễ mến', 'cũng ổn lắm ây cậu', 'không câụ ơi cũng thường thường à cậu', 'không cậu ơi chắc khoảng 3 tháng thôi cậu nếu cậu có kiến thức nền', 'được chứ cậu cớ sao không', 'tớ cảm thấy rất là hứng khởi khi làm công việc này', 'mình đang học ở tdtu á bạn', 'mình là sinh viên năm 2 rồi', 'mi nh vâ n co n la m', 'sao vâ y ba n kê mi nh nghe đi', 'mă ng gi', 'đang la m ba o ca o', 'da ô n me a', 'it', 'dvs', 'developer api facebook', 'không', '20', '700k', 'tất nhiên rồi nhưng mình sẽ ăn gì', 'mình nghĩ đó là ý kiến hay', 'chúng ta sẽ ăn ở kfc', 'xin lỗi mình đã mang theo cơm trưa rồi', 'xin lỗi mình đang có việc bận', 'okk đi ăn thôi', 'mình định đi ăn lẩu hoặc món nướng', 'mình định đi ăn ở aka house tân sơn nhì', 'buffet có 3 loại giá 199 299 và 399', 'mình đã từng ăn 1 lần trước đây rồi', 'rất hợp khẩu vị của mình', 'nhân viên làm việc rất chuyên nghiệp và nhiệt tình', 'mình đị rủ tuấn phát an theo cùng', 'tớ thường đi ăn chung với bạn bè', 'tớ thường đi ăn chung với gia đình', 'món ăn ưa thích của tớ là gà rán', 'món ăn ưa thích của tớ là bánh trán trộn', 'món ăn mà tớ ghét là món bánh canh', 'món ăn mà tớ ghét là cá kho', 'ăn cơm mẹ nấu', 'chúng mình ăn chỗ quen đi', 'ok', 'ăn cơm mẹ nấu', 'chúng mình ăn chỗ quen đi', 'ok', 'rảnh', 'có', 'cháo lòng', 'đúng rồi', '11 giờ', 'tại quán đường ntt', 'ok mình đi', 'quán mì cay ở đầu đường lê văn lương với nguyễn thị thập', '', 'có chứ cuối tuần là thời gian rảnh rỗi nhất', 'mình định đi ăn lẩu hoặc món nướng', 'mình định đi ăn ở aka house quận', 'buffet có 3 loại giá 199 299 và 399', 'mình đã từng ăn 1 lần trước đây rồi', 'rất hợp khẩu vị của mình', 'nhân viên làm việc rất chuyên nghiệp và nhiệt tình', 'mình sẽ rủ những người bạn cùng lớp đi ăn với nhau', 'cũng hơi đói đói á cậu', 'okay vậy cũng được', 'tớ sao cũng được cho cậu chọn ấy', 'okay vậy cũng được', 'cậu thử kiếm ăn quán nào gần gần trường thử xem', 'bạn muốn ăn hủ tiếu gì nào hủ tiếu khô hủ tiếu bình thường', 'okay để tớ đi gọi', 'ừ tớ cũng thấy vậy', 'ăn cơm ở nhà', 'chúng mình ăn chỗ quán cũ đi', 'ok', 'mình muốn ăn bobayes', 'cũng thường', 'ok nhưng phải thêm thịt nha', 'ok luôn', 'hình như thứ 4', 'hut đi', 'mình thích ăn sushi nhất', 'mình nghĩ nên ăn ở dookki hoặc busan', 'ok thôi mình nên đi ăn lẩu ở kichi kichi quận 7 đi', 'mình đang thèm gà sốt mật ong hoặc gà sốt cay', 'mình đi ăn sushi ở quận 5 đi', 'ăn gì cũng được á anh', 'tao nghĩ đi ăn chỗ cũ lúc trước tao với mày hay ăn đó', 'ok để tao sắp xếp công việc cái đã rồi báo lại mày nhé', 'của chùa sao không đi cho được đợi tí lên đồ cái qua rước tao đi', 'ok để tao rủ tụi kia đi chung luôn ha', 'được đó gì chứ cơm tấm mà ngon thì đi', 'ừ mình biết quán này bán phở ngon lắm', 'trên đường phạm thế hiển quận 8 đó', 'vậy cũng được', 'được đó', 'mình nghĩ là chúng ta nên qua nhà của cậu đi để còn có dịp sử dụng dàn karaoke siêu xịn', 'chắc là mình mang ít thôi tầm 2 chai rượu là đủ rồi còn lại mình uống bia cho nhẹ bụng', 'chắc chắn rồi ông tiệc càng đông càng vui mà', 'mình đang rãnh nha', 'mình chọn hủ tiếu', 'mình thích ăn phở nhất', 'mình thường ra chợ để ăn', 'mình ăn lâu rồi nên rất vệ sinh', 'tớ đang rảnh', 'quán về gì nó ở đâu thế', 'oh vậy tớ đi ăn cùng với', 'tớ sao cũng được', 'tớ nghĩ tới quán luôn nhé', '12 giờ trưa nhé', 'đúng lúc mình đang thèm được thôi', 'mình sẽ sang ngay', 'mình mua ngay trên đường sang nhà bạn', 'tất nhiên rồi', 'được mình sẽ rủ them bạn', 'ừ ốc trên đường nat ngon đó', 'mày quên là tao trùm ăn ốc à', 'okie mày chốt đơn', 'ok đi bạn', 'ăn gà rán đi bạn', 'ăn gần trường đi bạn', 'để mình rủ thêm mấy đứa trong lớp', 'khá ngon đó bạn', 'ăn combo đi bạn', 'nhiều lắm bạn ơi', 'có 2 loại đặc biệt nha bạn', 'không bạn ơi', 'ừm đi', 'gần trường mình có quán cơm ngon lắm', 'giá sinh viên bạn ơi', 'có luôn bạn ơi', 'ok luôn bạn ơi', 'đi ăn gì nè', 'ừm được á', 'ừm được mà', 'được á', 'hay là đi ăn lẩu bò đi', 'gần trường có quán mới mở đó gặp nhau ở trường rồi qua quán luôn', 'để tui rủ thêm máy đứa chung phòng trọ', 'hay đi ăn gì ngọt ngọt đi', 'được đó vậy ăn chè đi', 'vậy qua quán chè gần nhà tui đi ăn cũng được lắm', 'có giờ nghĩ trưa không đi ăn thì cũng ngồi một góc ngủ', 'chắc là đi ăn cơm tắm', 'biết giờ mình đi thẳng rồi quẹo phải ở ngã tư đi một chút là sẽ có một quán cơm tắm ở tay phải bán cũng khá ngon và giá cũng rẽ nữa', 'mình thích nhất món bún đậu', 'mình đi ăn bún đậu đi', 'mình nghe nói bún đậu tiến hải là ngon nhất', 'tối nay mình bận việc nhà rồi', 'được thôi', 'được nhé bạn tối nay mình cũng đang rảnh', 'mình thích ăn nhà hàng kiểu nhật nhé bạn', 'mình nghĩ là mình thích ăn shushi nhé bạn', 'oke bạn hẹn gặp lại bạn vào tối nay', 'có bạn ạ fastfood', 'không bạn ạ', 'mình hay ăn tại mcdonald s', 'tại 2 2a đ trần hưng đạo phường phạm ngũ lão quận 1 thành phố hồ chí minh 700000', 'mình hay đi cùng với bạn bè', 'ăn gì cũng được miễn đi chung là được', 'ở đây mình thấy không biết', 'mình đi qua quận 10 đi', 'mình đi ăn bò nhé', 'mình ăn ở thị trấn bò nha', 'mai mình rảnh', 'ok đi đâu ăn chơi', 'lát mình đi ăn bò nướng đi', 'có cửa hàng mới mở gần đây nè', 'có đôi lúc cũng có ăn', 'có lát mình sẽ rủ vài đứa bạn', 'đương nhiên rồi mình lại thèm gà rán quá đi', 'kfc thì ngon hết sảy ấy cậu thấy sao', 'ôi không giờ đó mình học chưa ra chúng mình đi 7h nhé', 'ừ mình sẽ đợi cậu tại công viên gần nhà nhé', 'ok cậu tí nữa mình mang', 'ok bún đậu đi', 'gà rán thì sao', 'tao không biết', 'ok bạn', 'khoản 9h tối á', 'hay là mình ăn vặt đi', 'mình biết quán dì lan ở quận 1 ngon lắm', 'vâng', 'buổi tối mình hay đi ăn đồ nướng panda ở quận 7', 'ok mình cũng thích ăn mì cay lắm', 'không mình ngán gà rán lắm', 'mình thích ăn chuối chiên', 'bạn đón mình ở chổ cũ nha', 'mình không ăn được nấm', 'mình thích đồ uống ít ngọt', 'mình thích ăn những món như là canh gà tiềm thịt nướng lẩu', 'món ăn mà mình thích nhất là món thịt sườn nướng', 'mình ăn ở nhà hàng đối diện đi', 'xin lỗi mai mình bận nên không đi được', 'mình hay đi với bạn vào cuối tuần', 'ok chúng ta hẹn nhau vào 2h chiều nhé', 'gì cũng được', 'thôi không ăn bún đâu', 'cơm béo lắm', 'anh chán cơm thèm phở à', 'gì cũng được', 'ăn gì cũng được miễn đi chung là được', 'ở đây mình thấy không biết', 'mình đi qua quận 10 đi', 'mình đi ăn bò nhé', 'mình ăn ở thị trấn bò nha', 'trưa nay mình cũng chưa có ai ăn cùng hay mình đi chung nhé', 'hihi', 'mình nghĩ là ở quận 7 ik cậu cho gần chỗ làm hihi', 'okkie mình đồng ý', 'cũng được ă mình cũng thích uống cafe', 'hihi okkk nha', 'chưa còn sớm mà cậu tớ đang làm vài trận game', 'cũng được tớ đang thèm đồ nướng', 'được đấy nghe mấy thằng bạn tớ bảo ngon lắm', 'đâu cũng được cậu ơi', 'okay cậu ơi', 'chưa mình chưa ăn gì luôn', 'không bạn ơi mình đi cùng bạn gái rồi', 'mình vừa ăn xong lúc nãy', 'mình ăn ở quán bà 6 kế tiệm thuốc tây', 'chưa bạn ơi', 'mình không biết bạn bạn đi ra điii', 'đói quá mình đi ăn thôi', 'ăn nghêu sò nữa nhe', 'thấy cũng nhiều người khen đò ăn ngon đi thử xem sao', 'để tao kêu thằng em tao di cùng cho vui', 'bao thì uống à hổng từ chối đâu', 'ok', 'đâu cũng được', 'gì cũng được', 'ai cũng được', 'ok', 'ăn cơm tấm đi', 'ra đường mà ăn', 'ok', 'ra lê văn lương quận 7 đi', 'app now đang có khuyến mãi', 'cậu nên ăn thử lẩu chay làng đại học', 'tớ có', 'tớ có', 'tớ nghĩ bọn bọn mình đi ăn bánh xèo hoặc là đi ăn lẩu', 'cũng được', 'quán anh ba giá cả oke lăm cậu phù hợp với túi tiền của sinh viên học sinh lắm cậu', 'quán sạch lắm cậu họ lấy đồ ăn từ nhà của họ nuôi và trồngn hay là lấy từ các trang trại chăn nuôi trong vùng', 'được nhé bạn tối nay mình cũng đang rảnh', 'mình thích ăn nhà hàng kiểu nhật nhé bạn', 'mình nghĩ là mình thích ăn shushi nhé bạn', 'oke bạn hẹn gặp lại bạn vào tối nay', 'uhm thê mi nh đi ăn ơ đâu', 'ok ba n mi nh cu ng đang đo i', 'nê u ba n bao thi mi nh đi', 'ok ba n quy ho a qua', 'thâ t không vâ y giơ đi ăn đi', 'ok', 'đâu cũng được', 'gì cũng được', 'ai cũng được', 'không', 'ok', 'tớ học đại học tôn đức thắng', 'tớ học ngành kỹ thuật phần mềm', 'ngành tớ học thuộc khoa công nghệ thông tin', 'tớ là sinh viên năm cuối', 'tớ học chương trình chất lượng cao', 'học phí tớ thấy xứng đáng với chất lượng học tập', 'tớ sẽ cố gắng ra trường đúng hạn vào hè này', 'tớ có', 'tớ học lực khá', 'tớ có', 'mình học trường tôn đức thắng', 'trường mình ở quận 7', 'mình học ngành kỹ thuật phần mềm', 'có hiện tại nợ vài môn', 'mình học về công nghệ thông tin', 'trường mình là hơi bị bự luôn', 'trường mình top 500 thế giới á', 'mình học trường tôn đức thắng', 'trường mình ở quận 7', 'mình học ngành kỹ thuật phần mềm', 'có hiện tại nợ vài môn', 'mình học về công nghệ thông tin', 'trường mình là hơi bị bự luôn', 'trường mình top 1000 thế giới á', 'tớ học không giỏi', 'ngành dinh dưỡng đó bạn', 'trường đời bạn ạ', 'quận cam đó bạn', 'mình học như lên voi xuống chó ý hihi', 'mình nợ cũng không nhiều đâu trên dưới 10 môn thôi', 'rẻ lắm bạn ạ nhưng bạn phải giàu 1 tí', 'mình đang học đại học fpt', 'tất nhiên là không', 'mình học rất là cực khổ', 'mình sẽ bảo lưu 1 năm', 'mình đang học công nghệ thông tin', 'mình đang học tại trường đại học tôn đức thắng', 'mình học ngành công nghệ thông tin', 'thật sự nhiều lúc khá áp lực nhưng mình hài lòng về ngành học này', 'tui học ngôn ngữ trung', 'ở tphcm đó', 'cầu vừa đủ xài nha', 'tầm 4 năm thì phải', 'có trung văn nè', 'chửi nhau bằng tiếng trung coi phim trung không cần sub', 'of coures có chớ', 'có nha thích thì học mà không thích cũng phải học', 'thoi ở đây sướng hơn', 'có chớ tiền học phí nè', 'mình đang học chuyên ngành môi giới bất động sản', 'mình học ở thái lan', 'mình rớt cũng nhiều bạn ạ', 'mình đang học môn ngôn ngữ tự nhiên', 'mình học bình thường', 'mình học ở trường đại học tôn đức thắng', 'mình học trường đại học tôn đức thắng', 'trường mình ở 19 nguyễn hữu thọ quận 7', 'mình học ngành khoa học máy tính', 'mình học năm 3', 'mình đang học 5 môn', 'hiện tại tui đang học tại trường đại học tôn đức thắng', 'hiện tại mình học ngành khoa học máy tính', 'ngành này khó và mới nên cũng là 1 xu hướng hot', 'minhf thích ngành này lắm', 'mi nh ho c ơ đa i ho c tôn đư c thă ng', 'mi nh ho c công nghê thông tin', 'mình học ngành ngôn ngữ việt nam học', 'mình học trường đại học tôn đức thắng', 'mình rất thích môn ngôn ngữ học vì mình có thể hiểu được cái gọi là công cụ giao tiếp cơ bản của con người cuốn sách mình đang theo đọc đó chính là sơ khảo ngữ pháp chức năng của khao xuân hạo', 'mình đang học làm con gái ahihi', 'ahihi mình học ở ngay đường ngô gia tự á', 'mình chỉ trang điểm thật đẹp rồi cầm nón ra đứng yên thôi ahhi', 'mình đang học công nghệ thông tin', 'mình đang học tại đại học tôn đức thắng', 'mình thấy cũng được', 'mình đang học đại học', 'mình đang theo học tại trường tôn đức thắng', 'hơi nhạy cảm', 'it bạn nha', 'mình ở tphcm', '8 0 bạn êyyyy', 'dammn', 'hôm nay tui chưa làm bài tập về nhà', 'không ông nhắc tui mới nhớ', 'không rảnh', 'mình còn đi học chứ mình học đại học', 'mình học ở đh tôn đức thắng', 'mình học ngành cntt', 'mình học cũng ổn thôi à học kì trước mình loại khá', 'quá nhiều deadline với lại mình cũng không giỏi code lắm', 'tôi ngu kệ tôi', 'tớ là sinh viên đại học tôn đức thắng', 'tớ học trường mầm non hoa sen', 'tớ đang học lớp 12', 'năm nào tớ cũng được học sinh giỏi', 'tớ đạt được danh hiệu học sinh giỏi cấp quốc gia', '', '', '', '', '', '', 'mình học khoa học máy tính', 'trường mình học tân phong', 'mình học bình thường', 'mình rớt nlp rồi', 'mình học trường tôn đức thắng', 'lớp đại học', 'mình đang học ở đại học tdt', 'minh cảm thấy cũng đam mê phết', 'học mỹ thuật công nghiệp', 'tao không học đại học', 'có học đâu mà có', 'năm 12 t 8 7', 't đang học ở tdt', 'ngành quản trị kinh doanh', 'quá tốt luôn', 'trường đại học kinh tế quốc gia', 'mình chỉ học theo sách giáo khoa', 'thực tập thì chưa', 'tây thạnh nhá', 'học mỹ thuật công nghiệp', 'tao không học đại học', 'có học đâu mà có', 'năm 12 t 8 7', 't đang học ở tdt', 'mình học công nghệ thông tin', 'ở quận 7', 'rất giỏi', 'năm 3', 'ở trường tôn đức thắng', 'công nghệ thông tin', 'tôn đức thắng', 'bình thường', 'công nghệ thông tin', 'tôn đức thắng', 'bình thường', 'it', 'ở đâu còn lâu mới nói', 'học bình thường', 'mình học ở trường đại học tôn đức thắng', 'mình học khoa học máy tính', 'mình là học sinh giỏi ở trường', 'mình có đi học thêm tiếng anh bên ngoài', 'mình thích java nhất', 'mình bị rớt 2 môn rồi', 'cntt', 'ở trường đại học', 'không', 'năm 3', 'tôn đức thắng', 'mình đang học tại đại học tôn đức thắng', 'mình là sinh viên năm 3', 'mình chưa rớt môn nào', 'mình đang học môn phương pháp lập trình', 'tớ hiểu bằng cách mã hóa ngôn ngữ bằng hệ thống', 'tớ học ở trường đại học tôn đức thắng cơ sở tân phong', 'tớ học khá giỏi tớ giỏi nhất là môn khai phá tri thức', 'không tớ thấy khả năng mình khá tốt', 'trường mình giảng dạy và có cơ sở vật chất rất tốt', 'đại học tôn đức thắng', 'sinh viên năm thứ 3', 'công nghệ thông tin chuyên ngành khoa học máy tính', 'ai', '6 4', 'tất nhiên là có nhất là khi vào mùa deadline hoặc mùa thi', 'tuôi đang học ở đại học tôn đức thắng', 'nó ở sát vách khu nhà giàu đó cưng', 'rớt môn tràn lan qua môn đếm trên đầu ngón tay', 'do mình thi vừa đủ để vào đây', 'đơn giản nhất vì nó gần nhà phức tạp hơn đỡ mất công đi xe buýt tốn 60k cả tuần thay vì đi xe máy chỉ tốn 50k tuần', 'it', 'ở đâu còn lâu mới nói', 'học bình thường', 'mình đang học ở phòng a703 môn mẫu thiết kế', 'chuyên ngành khoa học máy tính', 'mình đang học đại học nè hỏi ngu vậy', 'đã bảo bố mày đang học đại học mà troll cái gì', 'không bạn ơi nhưng vẫn có vui', 'áp lực thật sự', 'code dạo bạn ơi', 'ở nhà và ở trường', 'chơi game call team với anh em các kiểu', 'cũng khá áp lực nhưng cảm thấy trưởng thành hơn rất nhiều', 'môn thể chất', 'hiện mình là sinh viên trường đại học buôn ma thuột', 'hiện mình đang học ngành dược học', 'mình thích nhất là môn dược liệu', 'môn hóa sinh mình học vất vả nhất', 'mình đang học ngành công nghệ thông tin', 'em tính sau này sẽ đăng kí vào đại học tôn đức thắng', 'học kì này con được 8 23 cả năm', 'ngày mai mình học môn nlp ở d0502 a', 'môn học này được nghỉ tối đa 3 buổi nha em', 'mình đang học làm người', 'mình học dở môn toán lắm', 'mình thích học môn xử lý ngôn ngữ tự nhiên nhất', 'hồi đó mình học dở môn văn lắm', 'mình sinh viên năm 3', 'mình học đại học rồi', 'tôi học ngành công nghệ thông tin á', 'tôi thường học ở toà d', 'tôi học khoa học máy tính', 'tôi là sinh viên năm 3 rồi', 'cũng có đấy là mơ ước của tôi đó', 'mình học cũng được thôi', 'tùy trường hợp hên thì đúng tiến độ còn nếu không sẽ ra trễ xíu', 'tdtu', 'computer science', 'district 7', 'normal', 'nope', 'nope', 'normal', 'math', 'g2', 'nope', 'trường đại học tôn đức thắng', 'ở quận 7', 'công nghệ thông tin', 'trường đại học tôn đức thắng', 'ở quận 7', 'công nghệ thông tin', 'mình học đại học tôn đức thắng', 'trường của mình ở trên đường nguyễn hữu thọ quận 7 nha', 'mình thường bỏ ra 4 tiếng một ngày cho việc học', 'mình học khoa học máy tính nha bạn', 'mình thật sự không thích cho lắm', 'mình học đại học', 'mình học tdt', 'trường ở q7', 'cũng tầm trung', 'rất tốt', 'có nhiều', 'mình học ở mỹ', 'mình học ngu lắm', 'mình học lớp 12', 'không có nha', 'lớp 15', 'xuất sắc', 'cs', 'tdt', 'hông nói', 'nlp', 'rồi', 'không có', 'rmit', 'không rất tốt', 'tp hcm', 'học khá giỏi', '20 người', 'câu hỏi không rõ ràng không trả lời', 'áp lực do mình sinh ra', 'khi bạn muốn làm gì nhưng lại gặp áp lực mà khi áp lực thì làm gì', 'ko có nhiều', 'ấn tượng', 'phòng máy', 'tương lai của nhân loại', 'mình học công nghệ thông tin', 'mình học ở tdtu nha', 'giỏi chứ', 'năm 3 5 rồi', 'ở quận 7 ông', 'chắc rồi nhưng ta sẽ đi đâu', 'tuyệt vời mình cũng muốn đi đà nẵng', 'chúng ta sẽ đi khi hè đến', 'tớ nghĩ chúng ta cần tầm 10 triệu', 'chúng ta sẽ đi bằng máy bay đến đó', 'mình có dự định đi vũng tàu', 'mình tính đi vào hè', 'mình sẽ đi những nơi có biển như vũng tàu', 'mình thường đi du lịch bằng xe máy', 'mình hiếm khi đi du lịch bằng máy bay', 'mình thường đi du lịch với bạn mình', 'mình ít khi đi du lịch với gia đình', 'lần cuối tớ đi du lịch ở đà nẵng', 'hiện tớ không có dự đi du lịch ở đâu', 'hiện tớ có dự đi du lịch ở vũng tàu', 'tớ chưa đi du lịch ở hà nội', 'tớ đã đi du lịch ở đà nẵng', 'tớ chưa đi du lịch ở cà mau', 'tớ chưa đi du lịch ở nước ngoài', 'đi về nhà', 'đi về nhà', 'đi về nhà', 'đi về nhà', 'đi về nhà', 'đi về nhà', 'đi về nhà', 'xem phim ở cgv', 'đi về nhà', 'đi về nhà', 'đi về nhà', 'đi về nhà', 'đi về nhà', 'đi về nhà', 'đi về nhà', 'xem phim ở cgv', 'có', 'nha trang', 'tớ có áo tắm rồi', '3 ngày 2 đêm', 'tùy mày', 'mình có dự định đi vũng tàu', 'mình tính đi vào hè hoặc là cuối năm sau', 'mình sẽ đi những nơi có biển hoặc là yên tĩnh để thư giãn', 'cậu muốn đi chung không', 'tầm thi giữa kì xong tớ định là đi đà lạt với vài người á', 'vậy đi chung luôn nha', 'đi về quê chơi', 'chắc là mùng 2 tết', 'đi với gia đình', 'qua tết mình lên', 'mình rất vui lòng', 'mình muốn sang mỹ', 'nếu được thì cả hai', 'theo mình thì chính là ẩm thực', 'không mình sẽ về quê', 'mình có đi đà lạt hồi noel 2020', 'mình đi với nhóm bạn thân ở trên đại học', 'mình đi 4 ngày 3 đêm ở trên đà lạt', 'có vì lên đà lạt chủ yếu là đi ăn với đi cà phê nên sẽ tổn một khoảng lớn', 'à tao vừa đi sapa về lạnh vãi linh hồn nhưng được cái gái vùng cao xinh dã man', 'nếu còn dư slot thì đi dạo này hơi chán muốn đi đâu đó để giải tỏa', 'để xem nếu được thì đi bà nà chơi đi cho biết với người ta', 'có chứ mới rủ được bé kia đi chơi noel tao đang nôn tới ngày đó quá', 'hay thế chốt kèo vậy đi nào gần đi hú tao chuẩn bị đồ nha', 'nha trang gì giờ này ba', 'đi với ai đấy', 'liên quan gì tao nó có bồ rồi mà', 'ồ vậy thì đi', 'okie', 'là cụ thể đi đâu ông ơi', 'mình thấy cũng được đấy cho mình đi với nha', 'ngoài bắc đang bùng dịch nên mình nghĩ mọi người chắc đang hạn chế', 'mình vừa mới hết tiền mất rồi', 'tầm tết dương lịch này thì mình rãnh đó', 'năm nay mình muốn ở nha nên không đi', 'mình muốn ơ nhà với ba mẹ', 'mình tính đi về miền tây du lịch', 'mình đi với gia đình', 'mình đi trước tết', 'mình thích đi đà lạt', 'thế á có tớ đi với', 'tớ muốn đi du lịch sapa', 'tớ có sẵn áo ấm rồi không phải mua nhiều nữa', 'theo tớ thì 5ngày 4đêm đi', 'ok cậu cậu rủ đi', 'sau tết mình rảnh chứ', 'ồ tất nhiên rối', 'mình muốn rủ bạn đi đà lạt', 'hiện tại có 6 người đồng ý đi', 'mình đã đặt 4 phòng 2 người rồi', 'nha trang gì giờ này ba', 'đi với ai đấy', 'liên quan gì tao nó có bồ rồi mà', 'ồ vậy thì đi', 'okie', 'đi bạn ơi', 'đà lạt đi bạn', 'tầm lễ 30 tháng 4 đi bạn', 'đi cắm cắm trại bạn', 'đi chụp hình ăn uống nữa', 'có chứ ông', 'tôi đi đà lạt', 'không ông ơi đi với gia đình', 'đi bằng xe khách á ôn', 'tận hưởng cái không khí thôi', 'được chứ', 'ok', 'mình cũng ít đi du lịch', 'hiện tại thì mình có dự định đi nha trang', 'mình dự định sẽ đi nhân dịp nghỉ hè', 'mình đi khoảng 2 tuần', 'không mình thuộc hướng nội thích ở nhà hơn', 'covid 19 tùm lum thì đi đâu với lại đi để làm gì ở nhà chơi vẫn vui như thường mà', 'đâu cần phải đi đến nơi mới biết có thể tìm thông tin trên mạng được mà với lại biết nhiều để làm gì', 'có đi một số nơi rồi như vũng tàu phan thiết đã nẵng ngoài ra mình cũng có một số bạn bè ở các nước khác nhau kể về nơi ở của họ', 'mình sẽ đi đà lạt', 'mình không thích đi đà lạt chơi cho lắm', 'mình thích đi biển nha trang', 'mình thích đi nhật', 'mình đã đi rồi', 'oh được chứ bạn', 'hmm bạn cho ý kiến đi', 'mình đi ở đó nhiều quá chán rồi bạn ạ huhu', 'được chứ bạn thế thì thật tuyệt vời', 'mình hay đi nước ngoài', 'vào các dịp tết nguyên đán vì thời gian đó lịch nghỉ cũng khá dài và cũng là thời điểm thích hợp cho việc đi du lịch nữa', 'mình hay đi với gia đình', 'tầm 7 9 ngày đổ xuống á', 'haha để xem', 'mình tính đi đà lạt', 'mình tính đi vào tháng 6', 'mình tính đi chắc khoảng 1 tuần', 'mình lên đó tránh nóng sài gòn thôi', 'mình hay đi biển hoài à', 'mình thích đi chùa cuối năm', 'mình thích đi vũng tàu', 'ở nước ngoài mình thích đi du lịch ở nhật', 'thôi leo núi mệt lắm', 'mình định rủ bạn bè đi uống coffee thôi', 'đi chứ mình đi du lịch đến đó bao giờ', 'thích chứ mình thích đi nhiều nơi lắm', 'mình thích đi ngoài nước cậu ạ', 'mình thích nước anh vì có tháp bigben', 'năm sau mình sẽ đi nè', 'không mình chỉ đi một mình thôi', 'đương nhiên rồi mình sẽ mua thật nhiều mà', 'vũng tàu đi mọi người', 'tao từng đi singapore tháng trước', 'khoản 6 tháng tui đi 1 lần', 'vịnh hạ long đẹp lắm á', 'tao hết tiến rồi', 'tết này đi ăn tất niên nhà lan đi', 'ok để tao sắp xếp thời gian', 'mang tầm 4 bộ đi để có gì dơ thì thay', 'ok đi luôn', 'mày dậy nổi thì quất à', 'mình thích có một chuyến đi hà giang', 'mình xem video của khoai lang thang thấy hà giang rất đẹp và đặc biệt', 'mình đã đi phượt vũng tàu đà lạt cùng với khoảng 10 người thân', 'mình thường đi vào dịp tết và nghỉ hè', 'dịch bệnh đang hoành hành mình nghỉ nên ở nhà cho an toàn', 'mình thường đi du lịch và những dịp nghỉ lễ như là tết quốc khánh và noel', 'mình thường hay đi du lịch ở đà lạt nha trang đà nẵng và hà nội', 'có những lúc không kịp deadline nhưng mọi người lại không có ai giúp đỡ mình', 'đó là đà lạt mộng mơ', 'mình sẽ dẫn họ đi đến đà lạt', 'tớ biết thêm được lối sống của địa phương đó lịch sử cũng như các phong cảnh mới', 'cuối tuần này có thể mình sẽ đi được thú vị đấy', 'mình vẫn chưa nghĩ ra nhưng chắc có lẽ sẽ đi đến một số địa điểm nổi tiếng tại đà lạt', 'à mình mới mua được 2 tháng nay', 'dĩ nhiên rồi mình hẹn nhau ở đâu bạn nhỉ', 'ổn đấy nhớ mời mình vào nhé', 'nghe hay đấy đi đâu nào', 'thôi đà lạt đông lắm ai cũng kéo nhau đi', 'nghe được đấy', 'nhưng mà hết tiền rồi bạn êi', 'mình tính đi đà lạt', 'mình tính đi vào tháng 6', 'mình tính đi chắc khoảng 1 tuần', 'mình lên đó tránh nóng sài gòn thôi', 'mình hay đi biển hoài à', 'toi muon tim mot noi de du lich', 'mot noi gan bien', 'noi gan nhat la dau nhi', 'tp ho chi minh', 'di du lich khong', 'bien', 'noi gan nhat', 'tp ho chi minh', 'tớ đang tính đi du lịch vùng tây bắc', 'tớ đặt tour tham quan mộc châu với sapa', 'tớ sẽ đi máy bay từ sài gòn đến hà nội sau đó đi xe khách lên mộc châu chơi 2 ngày tiếp tục lên sapa chơi 2 ngày rồi về hà nội chơi 1 ngày', 'tour du lịch khoảng 10 triệu á cậu', 'không chi phí chỉ gồm tiền thuê khách sạn và vé máy bay thôi cậu mình tự chủ động trong việc ăn uống', 'không bạn ơi', 'năm nay sợ dịch quá nên chắc tết ở nhà luôn', 'um đúng rồi mình tính đi nha trang', 'mình không rõ nữa chắc hè mới đi', 'tết này dịch quá nên mình hơi ngại nên dời sang hè vậy', 'vote đà lạt', 'ngủ mát mà', 'hì hì', 'cũng ok đó', 'đi sớm sớm đi', '20 tết', 'tớ định đi du lịch nha trang', 'sau tết rồi đi', 'cậu có thể thử mực và ốc', 'tham quan vinpearl', 'tớ thích cảm giác sáng sớm đi dạo ở biển hoặc là buổi đêm cũng được', 'khá là an ninh buổi đêm', 'có cậu ơi', 'oke cậu ơi', 'có cậu ơi mình thích lắm', 'có cậu mình thích trung quốc lắm', 'có cậu mình thích ăngcovat ở bên cap lắm', 'oh được chứ bạn', 'hmm bạn cho ý kiến đi', 'mình đi ở đó nhiều quá chán rồi bạn ạ huhu', 'được chứ bạn thế thì thật tuyệt vời', 'ok cu ng đươ c vâ y mi nh se đi đâu nhi', 'ok anh vi nh ha long cu ng đe p đâ y a', 'ohm vâ y ha nhân di p na y mi nh la m chuyê n du li ch luôn thôi', 'ok ma y đi luôn ne ma y qua chơ tao đi', 'ok da o na y tao hơi nghiê p mi nh đi chu a la m phươ c pho ng sanh đi', 'phan thiết', 'mùng 3 tết', 'tụi mình', 'rồi', 'trắng đen', 'mình thích bạn nữ tóc dài da trắng và xinh xắn', 'mình chưa có nhưng mình đang thích 1 bạn cùng lớp', 'vì bạn ấy dễ thương và xinh xắn bạn ấy cũng học rất giỏi', 'mình và bạn ấy nói chuyện với nhau mỗi ngày', 'có bạn ấy nói chuyện với mình rất tự nhiên và thoải mái', 'có tết này mình sẽ cùng bạn ấy về quê mình chơi', 'mình thường đi cùng bạn ấy và nhóm bạn đại học', 'mình thích ăn uống xem phim thể thao', 'mình thích the avenger endgame', 'mình thích bóng đá', 'mình chọn cả 2', 'mình có', 'mình thích chơi lol', 'mình có một chút thích chơi thể thao', 'mỗi tuần mình sẽ đi đánh cầu lông 1 lần', 'mình khá thích môn này', 'thực sự thì mình đúng là người lười vận động', 'mình có một chút thích chơi thể thao', 'mỗi tuần mình sẽ đi đánh cầu lông mỗi ngày 1 lần', 'mình khá thích môn này', 'thực sự thì mình đúng là người siêng vận động và siêng ăn uống', 'mình thích cơm gà', 'tất nhiên là có', '', '', '', '', '', '', '', '', 'mình thích mua sắm những cái đẹp', 'mình thích những thứ đẹp đẽ và thiên về màu sắc nhiều', 'sau những giờ học mệt mỏi thường mình sẽ chơi game để giải tỏa căng thẳng', 'mình có chơi một vài môn nhưng không nhiều lắm đặt biệt mình thích chơi bóng', 'mình thích phim kinh dị mặc dù mình rất sợ ma', 'chelsea nè', 'tui thường đọc sách', 'đọc sách nha', 'không có luôn', 'mình thích thể lệ huyền huyễn nha', 'kinh maybe', 'tại hạ nghe nhiều nhưng không nhớ tên ca sĩ', 'game là gì nhỉ', 'mình thích xem phim ở nhà', 'có chớ', 'ở nước ngoài nha', 'nơi nào có đồ ăn ngon thì thích à', 'bóng bàn nè chơi không', 'nồ nố nô', 'có đọc nhiều lắm', 'trinh thám huyền huyễn kiếm hiệp bla bla', 'mình thích xem phim và chơi thể thao', 'mình thích chơi đá bóng và billard', 'mình thích xem phim kinh dị', 'mình thích học môn iot', 'mình không chơi thể thao', 'mình không thích thể loại cụ thể nào', 'mình thích đọc truyện', 'mình rất thích xem phim', 'mình thích thể loại hài hước', 'không', 'mình thường chơi cầu lông', 'có', 'mình thường chơi thể loại rpg', 'có', 'mình thích thể loại tình cảm', 'tác giả mình thích là tom', 'lúc rảnh mình thường đọc truyện', 'sở thích của mình là đá banh và điện tử', 'có chứ', 'johny deep', 'justin bieber', 'edm rap r b pop', 'edm', 'có chứ', 'bóng đá', 'mi nh thi ch lord of the ring', 'mi nh thi ch xem phim kinh di', 'sở thích của mình là đóng phim hành động', 'rất nhiều lần đó nhưng không phải trong rạp chiếu phim', 'mình rất yêu thể thao mỗi tuần mình đá bóng 2 lần', 'đi mấy lần nữa là nhà mình phải cầm chiếc mes luôn á bạn', 'mình thường nghe nhạc với cô hàng xóm', 'mình thích hát thể loại nhạc mình thích nghe đó chính là nhạc lính nhạc cách mạng của đan nguyên trường vũ chế linh', 'sở thích của mình là chơi bd và học lập trình', 'mình thích hút thuốc và ăn vặt', 'hình hay hút thuốc thủ đô', 'mình không biết film đó', 'mình thích đá bóng', 'mình thích phim hành động và phim hoạt hình', 'ăn đồ ăn ngon', 'có lúc mình ở một mình', 'có lúc mình đang nhạy cảm', 'nope', 'tui thích thể loại phim tình cảm', 'người yêu', 'tui thích cả hai', 'có', 'tui thích ăn ông hơn', 'sở thích của mình là đi mua đồ', 'mình không có thích xem phim nên mình cũng không có để ý lắm', 'cầu lông với cờ vua á', 'đam mê của mình là đi mua đồ', 'vào lúc rãnh rỗi mình thường đọc sách nghe nhạc chơi game trí tuệ cùng bạn mình', 'tớ thích manchester united', 'tớ hay chơi tennis với mấy sếp', 'tớ thường đi bơi với bạn gái tớ', 'tớ là wibu tớ thích coi anime', '', '', '', '', 'mình thích gái', 'tại mình là con trai', 'mình tán tỉnh những con bé học chung', 'mình thích thể thao', 'minh cũng có chơi game', 'minh đang chơi lol', 'minh chơi với team', 'minh chơi thể loại chiến thuật', 'đi chơi', 'đi chơi thể thao chứ xem phim tốn tiền lắm', 'thích coi phim', 'có chứ nhưng mà ít khi đọc lắm', 'tao thích chơi cầu lông với đá banh', 'có hai con mèo ngồi bên cửa sổ biết cuốn đó không', 'nhạc cổ điển đồng quê trung quốc nhật bản anh mỹ', 'không rap được', 'thích gái đẹp', 'chắc có lẽ là phim avatar', 'mình thích tập gym', 'đi chơi', 'đi chơi thể thao chứ xem phim tốn tiền lắm', 'thích coi phim', 'có chứ nhưng mà ít khi đọc lắm', 'tao thích chơi cầu lông với đá banh', 'có hai con mèo ngồi bên cửa sổ biết cuốn đó không', 'phim hành động', 'thích gái', '18', 'gái', 'bóng rổ', 'ngủ chơi game', 'bóng đá', 'ăn gà', 'ngủ chơi game', 'bóng đá', 'ăn gà', 'không thích', 'không thích rồi mà còn hỏi nữa', 'hỏi nhây vậy', 'chơi với bạn', 'mình thích xem nhiều loại phim lắm', 'mình thích chơi bóng đá', 'có mình thường hay đi chơi thể thao vào lúc rảnh', 'mình chơi ở sân bóng đá', 'không mình không chơi những môn thể thao mạo hiểm', 'trinh thám', 'bóng rổ', 'ngôn tình', 'pho', 'bóng rổ', 'sở thích của mình là học', 'mình không thích đọc sách', 'tớ thích xem phim nghe nhạc du lịch đá bóng', 'phim tớ thích nhất là transformers', 'tớ thích nhất là isaac', 'tớ thích nhất là manchester united', 'tớ thích đi du lịch ở đà lạt', 'không thích', 'không thích rồi mà còn hỏi nữa', 'hỏi nhây vậy', 'chơi với bạn', 'lulu 005 rảnh vào xem nha', 'jav animation', 'gánh team mệt vai', 'mình rất thích ăn uống', 'mặc dù mình mập thù lù lười vận động nhưng mình vẫn thích chơi thể thao', 'mình rất thích chơi cầu lông', 'món nào nào ngon là mình thích', 'có mình rất thích coi phim', 'đó là phim điều tuyệt vời nhất của chúng ta with you', 'mình rất thích cặp đôi nhân vật chính là dư hoài và cảnh cảnh', '', 'trong đội tuyển việt nam mình có ấn tượng nhất với châu tuyết vân vì học cùng trường với mình', 'dạo này chị nghe nhạc của blackpink rất nhiều', 'đây là món mà mẹ em thích ăn nhất thậm chỉ có thể tự làm ra nó', 'em mặc bộ này hợp đó 10 điểm', 'bất cứ khi nào mình thấy view đó đẹp', 'môn thể thao mà mình thích nhất là cầu lông', 'mình thường coi phim nghe nhạc', 'mình thích ăn nhất là chả giò cơm tấm', 'sở thích của tôi là nghe nhạc', 'tôi đi đá bóng mỗi thứ 3 hàng tuần', 'tôi thích thể thao nhưng bóng rổ tôi không biết chơi', 'tôi vừa đi đà lạt với đám bạn hồi tháng 6', 'tôi thường xem phim nghe nhạc và học một số nhạc cụ', 'đây cũng là một trong những đam mê của tôi tôi thích nghe nhạc và phân tích từng cấu tạo âm thanh trong một bản nhạc', 'mình không thích bún bò lắm món mình thích nhất là phở nha', 'tôi cũng vậy', 'tình cảm ngôn tình và hoạt hình', 'phim t coi là hay hết nhe', 'nhạc chill lofi accoustic cover', 'liz kim cường', 'ít lắm huhu', 'yoga cầu long', 'ăn ngủ xem phim nghe nhạc', 'chơi thể thao', 'có', 'đá banh', 'ăn ngủ xem phim nghe nhạc', 'chơi thể thao', 'có', 'đá banh', 'tui thích xem phim', 'có chứ ông', 'môn nào cũng chơi hết ông', 'chắc là phin gia đình', 'thích chứ', 'chơi thể thao', 'rất thích', 'thích kinh dị nhất', 'mình rất thích', 'có nhiều lắm', 'mình thích coi phim 18', 'mình rất thích', 'tại vì nó vui', 'mình đi tập thể dục', 'mình không bao giờ nghĩ', 'mavel', 'chạy', 'mèo', 'ngủ', 'yup', 'yes', 'yes', 'thích chứ ông', 'tui thích đọc truyện', 'sách đời sống đó ông', 'tui thích thịt luộc chấm mắm nêm', 'tui môn nào cũng chơi', 'em thường không làm gì cả', 'em chỉ nghe lúc em muốn thôi', 'ghét nhất là phải làm bài tập về nhà', 'mình thích hãng phim marvel nhất', 'mình thích thể loại phim hành động viễn tưởng', 'mình rất thích ca sĩ noo phước thịnh', 'mình không muốn cờ bạc', 'tất nhiên rồi mình rất muốn', 'cuối tuần này mình rãnh', 'dĩ nhiên là muốn rồi', 'xin lỗi mai mình có việc bận rồi', 'không hiện tại mình chưa có dự định gì', 'tớ thích xem phim thể loại hành động', 'tớ không hay đi chơi ở đâu hết', 'tớ thích xem phim kỳ nghỉ nhớ đời', 'tớ thường đi xem phim chung với bạn bè', 'tớ không thích xem phim kinh dị', 'tớ thích ăn bổng ngô khi đang xem phim', 'phim cgv hay đấy chứ', 'ừ nãy coi ở cgv hồi hộp thật', 'ok coi ở rạp cgv nha', 'tùy cậu mình chỉ muốn coi ở cgv', 'ok cậu', 'ở cgv đi', 'phim cgv hay đấy chứ', 'ừ nãy coi ở cgv hồi hộp thật', 'ok coi ở rạp cgv nha', 'tùy cậu mình chỉ muốn coi ở cgv', 'ok cậu', 'ở cgv đi', 'không rảnh', 'xem phim', 'phim kinh dịp', '3 giờ', 'mình', 'ok mình đi', 'xin lỗi hôm nay mình bận rồi', 'xin lỗi mình bận rồi', 'cuối tuần này mình rãnh', 'dĩ nhiên là muốn rồi', 'xin lỗi mai mình có việc bận rồi', 'không hiện tại mình chưa có dự định gì', 'tớ thích đi xem phim nha', 'tớ thích kiểu phim siêu anh hùng giống marvel hay dc comic á', 'ừ tớ biết sao á', 'okay cậu cậu muốn đi luôn chiều nay hay sao', 'okay', 'tớ vừa mới tới rồi nè', 'tớ cũng thấy cậu rồi', 'okay đi', 'phim ấy hay đấy chứ', 'ừ phim này coi ở cgv hồi hộp thật', 'ok coi ở rạp bhd nha', 'tùy cậu mình chỉ muốn coi ở hbd', 'ok cậu', 'ở bhd đi', 'hôm nay có phim của marvel mới ra', 'là endgame đấy', 'ồ nó là siêu phẩm bom tấn đấy', 'tập hợp những siêu anh hùng giải cứu thế giới khỏi thanos', 'mê nhất là doremon', 'say no spoiler', 'chắc chắn là có rồi', 'series phim của marvel', 'mình thích phim hành động gay cấn và hài hước', 'có mình chơi game mỗi tối luôn', 'có mình chơi game mỗi tối luôn', 'mình hay chơi liên minh huyền thoại với csgo', 'dạo này dịch đang bùng phát trở lại nên chắc mình sẽ không đi đâu', 'ok được chứ chọn phim đi anh yêu', 'xin lỗi nay nhà tao có việc bận không đi được rồi', 'hình như tói nay tui có lịch hẹn trước rồi', 'đi chứ kèo gam với se hay vậy sao không đi được', 'đánh giao hữu thôi nha chứ tao lười hard lắm', 'ok được đó lâu rồi không có dịp đi bơi vận động cho khỏe người mới được', 'mấy giờ đi vậy', 'sao trễ quá vậy', '19h nha', 'mà đi quán nào', 'hay đi tch bên nat đi', 'bạn có thể cho mình đi cùng với nha', 'minh nghe đâu đấy hình như là lừa đểu gặp lừa đảo đấy bạn', 'mình thấy tình hình dịch có vẻ tiến triển xấu chắc sẽ phải dời tới tháng ba năm 2021 đó', 'ở đây tụi mình có 5 bạn không biết tham gia chung được không cậu', 'có vẻ như sáng thứ bảy mình phải ở nhà phụ việc nhà mất rồi nên chắc không đi được với cậu', 'xin lỗi nha mình đang bận', 'ngày mai mình mới rãnh', 'hẹn gặp bạn ngày mai ở rạp nha', 'được nha đi càng đông càng vui', 'mình cũng không biết nữa', 'mình chọn phim hành động nha', 'không nha mình chỉ thích xem phim hành động thôi', 'cuối tuần này mình rảnh', 'ok tớ muốn đi xem phim', 'tớ muốn xem phim hành động', 'bạn đặt vé trước cho tớ luôn nhé', 'tớ nghĩ bốn 4 giờ là thích hợp', 'được chứ', 'tụi mình xem ở hùng vương plaza nhé', 'mình thích thể loại kinh dị', 'mình muốn ăng bắp rang bơ', 'cảm ơn bạn', 'không chỉ mình thôi', 'dạ okie anh mấy giờ anh nhỉ', 'okie anh vừa đúng lúc em đi học về', 'vậy cũng được anh', 'được mình đi với bạn', 'ok bạn', 'mình xem phim gì cũng được tùy bạn', 'ok bạn', 'ok bạn', 'đi đâu cũng được bạn', 'ok bạn', 'tớ hay đọc sách nấu ăn thỉnh thoảng thì dọn dẹp nhà cửa hoặc ngủ à tớ cũng hay nghe nhạc nữa', 'ngoài việc học ra thì hiện tại tớ cũng có làm thêm', 'hiện tại tớ đang làm thêm tại một nhà hàng món thái ở quận 7', 'nhà hàng nơi tớ làm một ca làm là 5 tiếng một ngày 2 ca từ 9 giờ đến 14giờ và từ 17 giờ đến 22 giờ 30', 'ở tôn đức thắng thì một ca học tương đương 3 tiết học và tổng thời gian học là 2 tiếng 15 phút', 'tớ nghĩ cậu nên thử xin hoặc năn nỉ giám thị nếu không được thì chỉ còn cách kí tên vào biên bản thôi', 'nếu bị mất thẻ sinh viên thì cậu phải liên hệ phòng a003 nhanh nhất có thể để được cấp thẻ tạm và đăng kí làm lại thẻ với mức phí 50 nghìn', 'theo tớ thấy thì sinh viên trường ăn mặc rất hiện đại và có phong cách mỗi ngày đến trường đều có thể coi như là một lễ hội thời trang', 'dù vô tình hay cố ý thì mỗi ngày đều sẽ kẹt xe đều cả 4 ca và thang máy cũng thế', 'mình nghĩ đặc biệt nhất là thư viện được đầu tư xây dựng với 129 tỉ 5 lầu khang trang với đủ mọi đầu sách sức chưa tối đa 3000 người cùng lúc', 'mình có đi chơi thường xuyên', 'mình cũng đi khá thường xuyên', 'mình hay đi phố đi bộ hồ con rùa cầu ánh sao', 'mình đi cùng các bạn trên đại học', 'có mình thường đến các show rap', 'mình đã mua vé nhưng đang bị hoãn do dịch covid 19', 'không mình ở nhà vì tổ quốc', 'có nhưng phải theo dõi tình hình dịch bệnh', 'không mình không có sở thích chơi game', 'mình rất thích đọc sách và thường hay đọc mỗi khi có thời gian', 'ok bạn', 'đi xe khách đi bạn cho an toàn', 'mình biết nhà xe thành bưởi', 'mình có đi một vài lần', 'với gia đình mình', 'được chứ mình đi', 'mình đi xem phim trạng tí nha', 'ừm vậy thứ 7 gặp nha', 'để mình xem lại thời khóa biểu trên trường coi rãnh không', 'ok vậy hẹn mai gặp', 'ok cảm ơn bạn nha', 'mình không xem phim nhiều lắm', 'tùy lâu lâu bộ movie nhưng thường là anime hoặc đọc manga và light novel hơn là xem phim', 'tùy thôi nếu là light novel hay thì mình đọc cả ngày cũng không chán nếu không thì mình đọc lướt qua là buồn ngủ ngay', 'dạo này mình thường chơi game online như world of warships genshin impact minecraft còn game offline thì mình chơi tùm lum hết thích game nào là chơi game đó', 'các game mình thích như mount and blade the witcher 3 kerbal space program phasmophobia', 'không mình không còn chơi liên minh nữa', 'world of warships là game bằn tàu 2016 chơi vui chứ 2021 mình càng chơi càng thấy teo não', 'cyberpunk2077 có cốt truyện được viết khá tốt nhân vật chính có cá tính thật nhưng ngoài 2 cái đó ra thì cyberpunk2077 khá là nhàm chán', 'mặc định thì kerbal space program là game nói về việc khám phá các hành tinh trong hệ mặt trời của game bạn có thể thiết kế tên lữa tàu bay space shuttle để bay lên quỹ đạo và từ đó đi khám phá', 'phasmophobia là game coop bắt ma một mình bạn hoặc nhóm người cùng nhau khám phá một màn kiếm thông tin về con ma để nhận diện con ma đó thuộc loại gì nếu tìm kiếm quá lâu con ma có thể nổi giận và đi săn người chơi và giết họ', 'ngày mai mình bận học rồi', 'vâng', 'mình thích xem phim hành động', 'mình thích thể loại phim kinh dị', 'mình thích đi thảo cầm viên', 'mình thường đi nhà sách', 'cũng được nhé bạn', 'tớ nghe bảo phim này khá là hay vậy chúng ta cùng đi xem phim này nào', 'thôi mình nghĩ mình muốn đi riêng với bạn thôi', 'tối nay lúc 7h30 nhé mình thấy có 1 suất giờ đó mà mình cũng rảnh giờ đó nữa', 'mình hay đi xem tại cgv', 'có chứ phim avengers biệt đội siêu anh hùng', 'marvel studios ấy bạn', 'iron man bạn ạ', 'robert downey jr', 'mình thích xem phim khoa học viễn tưởng', 'mình hay đi xem ở rạp cgv', 'có chứ', 'mình chơi liên minh huyền thoại', 'mình hay chơi với bạn mình', 'mình muốn chứ', 'mình muốn đi xem phim prison break', 'ừm mình rảnh', 'ok mình đi chung', 'mình thích phim có drama', 'mình cũng hay chơi game lắm', 'mình thích nhất thể loại kinh dị', 'được luôn mai mình sẽ qua', 'đi chứ tối mai mình khá rảnh', 'mình coi phim hoạt hình đi mình thích phim doraemon ấy', 'cũng được nè mình chọn combo 2 tặng 1 nhé', 'ừm thế mua ở lotte ha', 'à không đâu sinh viên được giảm giá còn 50k nha', 'tao hết tiền rồi', 'tao thấy cũng bình thường', 'mày bao thì đi', 'đi xem phim đi', 'không biết nữa', 'mình hay coi phim kinh dị với phim hài', 'mình có hay đi chung với gia đình và bạn', 'vậy hẹn bạn cuối tuần 6h tối mình gặp ở bhd 3 tháng 2', 'nhà mình ở trọ gần trường mình học á', 'vâng vậy cũng được', 'mình nghĩ ở nhà coi netflix sướng hơn', 'mình không chơi game', 'mình đang ở quận 3 á', 'mình không thích xem phim dài tập', 'đó là phim minh lan truyện', 'mình thích các thể loại phim như hành động hài kịch phim ma và tu tiên', 'phim mình thích nhất là phim hoạt hình doremon', 'mình thích đến những nơi như quán nước và những khu vực ngắm cảnh', 'nếu là thứ 6 thì mình có thể đi cùng bạn', 'mình không thích xem phim kinh dị', 'ok mình rãnh lúc 8h', 'có mình thích chơi lmht', 'có đó là môn thể thao mình hâm mộ', 'mình chỉ xem và không hâm mộ ai cả', 'ok', 'được chứ nghe hay đấy', 'gì cũng được miễn là xem cùng cậu hihi', 'rạp nào có ghế đôi nhé', 'mình thích xem phim khoa học viễn tưởng', 'mình hay đi xem ở rạp cgv', 'có chứ', 'mình chơi liên minh huyền thoại', 'mình hay chơi với bạn mình', 'o dau', 'may gio', 'o dau', 'may gio', 'được chiều mình rãnh nha', 'tối nay ư được ă tối nay mình rãnh', 'ok cậu mình sẽ đến đúng giờ', 'biết ă mình cũng đã từng chơi hồi lúc còn đi học ă', 'tớ đang nằm nhà bấm điện thoại', 'đợi tí tớ xem trailer đã được duyệt phim hay đấy', 'cậu chọn đi tớ xem lúc nào cũng được đang rãnh mà', 'okay cậu', 'okay luôn nhá', 'không bạn ơi mình đang rảnh', 'được chứ mình không phiền đâu', 'xin lỗi mình không xem cùng bạn được rồi', 'lúc đó mình xem phim cùng người yêu rồi', 'ok thế chì hôm sau nhé', 'kím chỗ đi rồi cùng nhau đi', 'tui định xem ở gò vấp á', 'ok để giờ nhắn tin rủ thêm người', 'thấy trailer hay lắm đi liền', 'mình hay coi phim kinh dị với phim hài', 'mình có hay đi chung với gia đình và bạn', 'vậy hẹn bạn cuối tuần 6h tối mình gặp ở bhd 3 tháng 2', 'nhà mình ở trọ gần trường mình học á', 'vâng vậy cũng được', 'tớ thích phim thể loại hành động có chút yếu tố kinh dị', 'phim the saw khá hay', 'phim kẻ hủy diệt hay đó', 'phim crash landing on you khá nổi tiếng', 'phim extracurricular của hàn quốc cực hay', 'phim avengers nổi tiếng lắm', 'tớ có', 'phim bọn mình chuẩn bị xem là avendture', 'bộ phim bắt đầu lúc 9 giờ', 'tớ có thích', 'tớ có', 'tớ nghĩ bọn mình sẽ đi đầm sen park', 'đầm sen park ở đường hoà bình quận 11', 'oke bạn', 'mình thích xem phim tình cảm', 'mình nghĩ chỉ chúng ta thôi', 'chiều nay 17h nhé', 'phim gi vâ y ba n', 'phim đo hay lă m ba n đa nh nhau hay lă m', 'pha i chi thor nhă m va o đâ u thanos', 'đươ c ba n thê khi na o mi nh đi', 'ok đi chơi đi buô n qua ne', 'ok', 'đi', 'ok', 'không cậu có thể xem 2 lần mà', 'tớ thì không', 'mình rất thích bạn', 'thỉnh thoảng mình vẫn thích', 'bạn đưa số tài khoản cho mình đi', 'ok tôi nay hẹn bạn 10h', 'cảm ơn bạn', 'ok mình đồng ý', 'mình chứ còn ai nữa', 'mình chỉ muốn thơm má bạn thôi', 'mình không biết', 'chưa mình chưa ăn cơm', 'chưa ăn lấy gì mà no', '10h mấy rồi không dậy chứ ngủ tiếp là mập đó', 'có chỗ bàn làm việc của mình có nhiều gấu bông lắm', 'chưa mình chưa ăn cơm', 'chưa ăn lấy gì mà no', '10h mấy rồi không dậy chứ ngủ tiếp là mập đó', 'có chỗ bàn làm việc của mình có nhiều gấu bông lắm', 'trông bạn rất đẹp trai nhưng không bằng tôi', 'sáng nay mình ăn rồi', 'mình sợ hề lắm', 'mình biết đấy anh ta rất hề', 'mình thích lắm', 'mình thích lắm', 'mình là mẫu người khá đơn giản', 'em nào nhầm trà xanh nào rồi', 'chạy xe bốc đầu', 'nà ní', 'chưa đi tàu ngầm thì đi rồi', 'mình đẹp nhưng mình chảnh lắm bạn nên mình không có người yêu', 'mình chưa bao giờ ngủ ở trong lớp vì mình học luôn học hành rất đàng hoàng', 'chưa', 'mi nh hay chơi game', 'ngu rô i sao tra lơ i', 'có bồ đâu mà mình bị cắm sừng', 'mình hay đi dã ngoại vào cuối tuần', 'macbook pro full option nha bạn', 'mình sẽ lên chùa quét lá đa tìm chân lý của cuộc sống', 'mình thích ở chung cư ngoài không khí sạch sẽ an ninh thì dịch vụ của họ cũng rất tốt', 'không mình thích con trai', 'nếu là con gái thì okey', 'thỉnh thoảng', 'no', 'happy', 'money no honey', 'trời hơi nắng', 'em ăn cơm gòi', 'em chưa ạ em đã có người yêu đâu em còn đang sợ ế đây này', 'tớ có em gái nuôi', 'đúng rồi đấy hi hi', 'ok bạn', 'tớ làm gì có tăng cân tớ còn đang sợ gầy đây này', 'tớ rất hâm mộ chị hải tú', '', '', '', '', '', 'vì mình thích vậy', 'khi mình biết yêu', 'mình ăn rồi', 'sao bạn nhạt quá vậy', 'sao bạn nhạt quá vậy', 'sao bạn nhạt quá vậy', 'chắc hè tao mới về', 'chưa', 'uk nó bỏ tao rồi', 'không hỏi làm cái gì', 'mai mấy giờ mày học', 'ok mai đi tao gọi mày', 'con lan nào dị', 'tiền đâu mua trời', 'chắc hơn 30', 'chưa em', 'cũng được', 'con chủ tịch thì chả việc gì ngồi đây', 'mắc covid thì chả việc gì ngồi đây', 'chắc hè tao mới về', 'chưa', 'uk nó bỏ tao rồi', 'không hỏi làm cái gì', 'mai mấy giờ mày học', 'ok mai đi tao gọi mày', 'con lan nào dị', 'tiền đâu mua trời', 'bạn nói nhiều vậy', 'có', '', 'tui thích bạn', 'rồi', 'làm tháng 10000', 'không', 'không', 'tất nhiên là không', 'search google dự báo thời tiết hôm nay đi', 'không là mày ngu', '1 1 còn hỏi thì mày ngu', 'python tạo ra tao', 'không đâu', 'chắc được cỡ 8đ', 'chắc có', 'sao lại không sợ gì chơi đi', 'cũng có tao thấy thằng lý lý anh hay rủ cúp học nên bị lôi kéo', 'no thanks', 'có', 'đang ngủ', '', 'tui thích ton lộc', 'rồi', 'ai biết', 'chưa', 'rồi', 'không', 'bận', 'có', 'có', 'chưa', 'không', 'có', 'bạn tuổi gì', 'tuần nào mình cũng về', 'qua tết thầy mới dạy', 'chắc là không', 'cũng được', '', 'bé lê zăn đạt là aiiii', 'gái nhựt đó mề ta nư sề ề ê ế', 'ổng thấy mệt', 'thôi người yêu tớ ghen', 'không nhà tớ không có', 'tất nhiên là không', 'kệ mẹ bạn', 'đi chứ ngu gì không đi', 'dằn thì nói mình dơ mà rút lỡ quác nó nói mình ngu', '11h rồi mà chưa ăn hơi uổng', 'thôi mất công dọn bàn nữa', 'bảnh như anh khá', 'đạo hàm', 'tại cô có số má', 'có chứ nhưng tao đói lắm', 'mày biến bàn thắng thành cơ hội người ta chưa chửi mày là may rồi', 'ủa chết sao lại bị cấm thi ta tui đi học đầy đủ mà', 'mình có chương trình 24 giờ challenge code mà', 'chắc tùy khẩu vị mỗi người hoặc do ông viết công thức thích ngọt', 'theo mình là dằn dơ', 'chai nước thì làm luôn', 'nguyễn thị bạch mai á', 'bạn chỉ cần hét to mình thích bạn gì đó trước trường', 'tim long', 'tôi có 20k', 'tôi đã xài hết tiền rồi', 'không nha vì nghỉ tết xong là thi giữa kỳ rồi nên làm gì có tết', 'chấp trước bạn 10 điểm quánh 50 điểm ô kê không', 'bạn không đủ tuổi để mình bận tâm', 'chắc chứ', 'uk', 'tôi ổn còn ba n thì sao', 'không long yêu híu thui d', 'mai dễ thương như trư bát giới', 'ngày nào mai cũng xinh nhe', 'vì để gặp anh', 'mình là mai angle', 'đói', 'không nha bạn', 'lại càng không nha bạn', 'không nha bạn', 'lại càng không nha bạn', 'có mày khùng', 'chắc có', 'màu phân chó', 'chơi', '1 triệu ngày', 'có hehe', 'cũng khỏe', 'blade ghẻ', 'asus nhoa', 'dô mày sợ mày hã', 'ai rãnh đâu ba', 'quá trời luôn', 'tao còn cặp thận', 'sao biết hay vậy mày', 'chơi mình đi mày', 'dách được thì dách', 'đi đi tao thích lắm', 'thua banh hả ba', 'có', 'có', 'có', 'có', 'có', 'mới ăn hồi trưa', 'hỏi làm cái lol gì', 'tầm 7 củ', 'nếu bạn tặng tui cái ai drew thì tui sẵn sàng tặng bạn bất cứ cái áo nào 2tr', 'tui không có bị dại tui bị điên', '3 cây chụm lại đi lên đà lạt', 'cờ bạc người không chơi là người không thắng', 'bạn chơi gay không', 'tại tui chờ bạn', 'thích', 'thích', 'không hề tui chỉ mê esport thôi', 'hỏi chi', 'này là cái gì', 'không tui chơi gay', 'rồi nha', 'kiếm tiền', 'mình có người yêu rồi', 'tớ và người yêu đã quen nhau được 1 năm rồi', 'không tớ và người yêu đang sống với gia đình', 'mình nghĩ nó thật ngại khi nói ra nên mình sẽ không trả lời câu hỏi này', 'chúng tớ hẹn hò 2 đến 3 lần 1 tuần', 'vào tháng 10 năm 2020', 'có mình có crush một người', 'đó là một bí mật', 'nếu có thì mình sẽ chọn đà lạt', 'tớ chưa có người yêu', 'tớ chưa có crush với ai hết', 'chưa', 'không', 'cảm ơn anh', 'chưa', 'không', 'cảm ơn anh', 'rồi', 'tên oanh', '20 tuổi', 'khoa tcnh', 'xinh gái dễ thương', 'dạ 6 giờ sáng ạ', 'dạ chưa anh', 'dạ ok anh', 'ok em chờ anh 15 phút nữa anh tới', 'dạ vui lắm anh', 'thì tớ chỉ hỏi chơi chơi vậy thôi à', 'chưa á nhưng mà tớ đang crush một người', 'con nhỏ ở chỗ tớ đang đi làm thêm', 'ừ cậu', 'mình chưa có', 'cũng được', 'cảm ơn anh nha', 'mình chưa hề có người yêu', 'ừa mình tin là thế', 'đẹp', 'đẹp', 'giỏi', 'mình đã có người yêu rồi nha', 'đó là bí mật nên mình sẽ không nói đâu', 'mình thích người yêu của mình bây giờ', 'là mẫu người yêu của mình bây giờ', 'em đang ngồi nhắn tin với anh hoy à', 'cuối cùng bạn tao cũng mắc vào lưới tình rồi', 'là gì vậy anh em tò mò quá đi', 'để em sắp xếp rồi cho anh hay ha', 'thôi đừng buồn ăn gì không tao mời', 'sao nữa vậy', 'ủa vậy bị giận là xứng đáng quá còn gì', 'bên mày thế nào được ai mượn có bồ rồi mà còn này kia chi', 'thôi thôi không cần biết yep hay gì lo mà đi làm hòa với con người ta đi', 'thì ai biết mày xem nói ngọt dỗ con bé thử', 'mình chưa có ai thương hết ấy', 'mình hiện đã có bạn gái rồi nha bạn', 'đó là một bí mật mình sẽ không bật mí đâu', 'người yêu mình là một người con gái cực kì dễ thương và chu đáo', 'đôi lúc mình vẫn nhớ tới người yêu cũ nhưng thương thì chắc không còn', 'mình có rồi nha', 'mình quen cũng được 1 năm rồi bạn', 'mình đang crush một bạn', 'bạn có quen nha', 'không được nha bí mật', 'tớ chưa có tớ đang còn độc thân', 'à hihi mình đang crush bạn kia', 'crush của tớ 21 tuổi luôn bằng tuổi bọn mình', 'bạn ấy học cùng trường luôn khoa cntt á', 'crush của tớ nhỏ nhắn xinh xắn và hiền lắm', 'đúng vậy mình đang crush một bạn', 'tụi mình đang học chung lớp trong học kì này', 'mình đã bắt chuyện rồi', 'bạn ấy rất vui tính', 'bạn ấy vẫn còn đang độc thân', 'sao nữa vậy', 'ủa vậy bị giận là xứng đáng quá còn gì', 'bên mày thế nào được ai mượn có bồ rồi mà còn này kia chi', 'thôi thôi không cần biết yep hay gì lo mà đi làm hòa với con người ta đi', 'thì ai biết mày xem nói ngọt dỗ con bé thử', 'mình nghe nè bạn ơi', 'mình không có', 'mình bận tập trung học tập', 'mình học để giúp đất nước sánh vai với cường quốc năm châu', 'mình muốn giúp dân tộc người dân tốt hơn', 'mình còn muốn giúp nhân loại tiến lên có cuộc sống tốt hơn', 'nhiều lắm bạn ơi', 'mình chưa có', 'mình thích người cũng thích mình', 'mình không muốn trả lời', 'mình yêu nhất là bạn trinh', 'mình rất thích', 'mình rất cởi mở', 'mình không', 'mình không', 'mình có', 'mình chưa xác định', 'gặp nhau là duyên phận xa nhau cũng là duyên phận', 'mình đang độc thân', 'mình đang độc thân', 'đừng hãm là được', 'chưa có người yêu nên chưa biết', 'chưa có người yêu nên chưa biết', 'chưa có người yêu nên chưa biết', 'chưa có người yêu nên chưa biết', 'gặp nhau là duyên phận', 'mình đang độc thân', 'mình đang độc thân', 'đừng hãm là được', 'chưa có người yêu nên chưa biết', 'chưa có người yêu nên chưa biết', 'chưa có người yêu nên chưa biết', 'chưa có người yêu nên chưa biết', 'tất nhiên là chưa', 'một lát nữa', '', '', '', '', '', 'mình có rùi', 'mình rất là hạnh phúc nhen', 'là 2 người luôn dành cho nhau sự tôn trọng dùm bọc và sẵn sàng hi sinh vì nhau', 'à hiện mình có vợ và 2 con rồi', 'chu đáo với gia đình', 'cả hai thấu hiểu nhau', 'mình còn ế đây nè', 'khi nào làm chủ tài chính', 'hiểu chuyện là đủ', 'cả 2 luôn được không', 'mình chưa có người yêu và mình đang sợ ế đó', 'chỉ cần là con gái là được', 'mình chưa có người yêu', 'mình chưa có người yêu', 'mình chưa có người yêu', 'mình chưa có người yêu', 'người yêu mình là người rất rộng lượng', 'mình đã có rồi', 'mình và người yêu mình quen nhau được 4 năm rồi', 'người yêu mình là một người ấm áp dễ thương', 'dễ thương biết cảm thông', 'mi nh chưa co ngươ i yêu', 'mi nh chưa co ngươ i yêu', 'người yêu thì mnhf chưa có và mình chưa cần', 'cao ráo đẹp trai', 'tình yêu là nguồn cảm hứng làm thơ của xuân diệu và là nguồn sống của mình', 'mình sẽ buồn và đi bộ đội', 'mình có người yêu rồi người yêu mình tên duy body 7 múi hấp dẫn lắm', 'mình chưa có bạn ơi', 'độc thân', 'đã bảo là đang độc thân', '1 night stand', 'là ông á', 'troai', 'mình có người yêu rồi', 'người yêu của mình rất là perfect luôn bạn đó lớn hơn mình 7 tuổi nên rất là cưng mình luôn mình muốn cái gì cũng cho hết luôn á', 'là giống như người yêu của mình hiện tại', 'có chứ bạn đó luôn luôn làm cho mình vui mình quen biết bạn đó đến nay cũng 6 7 năm rồi đó nhưng bạn đó chưa bao giờ quát hay nói nặng với mình câu nào', 'không thể được nha bạn iu', 'tớ có rồi', 'bạn gái tới tên linh nha', 'đúng rồi bọn tớ đã có 2 con', 'đúng rồi bọn tớ đang quen nhau đấy', 'ok mình là anh em tốt mà', '', '', '', '', '', 'tất nhiên là hông rồi', 'hiện tại không có', 'mình trãi qua 23 mối tình', 'mình cảm thấy gò bó', 'chỉ cần là khác phái là', 'mối tình của mình lâu nhất là 1 năm mẫu giáo', 'tất nhiên là được rồi', 'vì nãy mình cho thằng bạn mượn người yêu', 'minh chưa có người yêu', 'mình có đâu mà hỏi', 'bạn hỏi hơi nhiều rồi đấy', 'bạn nhờn với mình à', 'quan điểm là có thể yêu là được', 'người yêu người ta mà hỏi', 'nhỏ hơn tao 2 tuổi', 'tao thích người như người yêu tao', 'cũng lâu rồi chắc 3 năm', 'ở trường hay sao đó không nhớ nữa', 'mơ đi', 'chưa có người yêu', 'mình thích kiểu người nhẹ nhàng tâm lý', '30 chưa phải là tết', 'không nếu hơn 40 mà chưa cuối thì tu luôn', 'chưa có bạn gái nữa là', 'người yêu người ta mà hỏi', 'nhỏ hơn tao 2 tuổi', 'tao thích người như người yêu tao', 'cũng lâu rồi chắc 3 năm', 'ở trường hay sao đó không nhớ nữa', 'mơ đi', '100', 'đúng như quậy', 'lý anh', 'chưa', 'hiền biết suy nghĩ cho gia đình', 'chưa', 'hiền biết suy nghĩ cho gia đình', 'có rồi', 'ốm', 'thỏa mái về việc gì', 'chọn người đẹp', 'mình có người yêu rồi', 'người yêu mình học ở trường đại học nguyễn tất thành', 'mình thích người yêu chung thủy và không cầu kì', 'mình quen khá lâu rồi', 'bạn hỏi tên người yêu mình làm gì', 'rồi', 'tỏ tình rồi quen', '10 người', 'đúng', 'ngọc hạnh', 'gái', 'mình có người yêu rồi', 'mình có người yêu rồi mà', 'đẹp gái', 'tớ có người yêu rồi', 'người yêu tớ rất xinh và tâm lí', 'quan điểm của tớ trong tình yêu là sự chân thành', 'người yêu tớ ở quận 7', 'quê người yêu mình ở đồng tháp', 'có rồi', 'ốm', 'thỏa mái về việc gì', 'chọn người đẹp', 'cho vào nồi nước sôi', 'ví bạn dày như tui là được', 'rất quan trọng', 'phải có tiền', 'phải to chắc bền già gân', 'mình có người yêu rồi', 'cao nhưng không to đen nhưng không hôi', 'đối với mình về tình yêu là không quá ràng buộc nhưng phải rõ ràng', 'anh chưa', 'khả năng cao là có và khả năng bị kiểm soát luôn quỹ đen là rất cao', 'gu người yêu của mình chỉ cần dễ thương là được', 'mình dự tính khoảng 27 tuổi mình sẽ tính tới chuyện hôn nhân', 'anh chọn cả 2 lúc em cần anh sẽ có mặt lúc em buồn anh sẽ rủ em chơi game', 'người đó tốt xinh giỏi là được', 'khi yêu chúng ta không nên cắm sừng nhau là được', 'theo mình là cả hai', 'theo mình là cả hai luôn', 'tất nhiên là mình', 'mình chỉ yêu bản thân', 'huhuhuhuhu', 'tôi có người yêu rồi', 'không cần xinh đẹp tôi chỉ cần thật lòng là được', 'tình yêu bền vững khi một trong hai biết cách nhẫn nhịn', 'tôi sẽ đi mua trà sữa cho cô ấy', 'có', 'đoán xem', 'đoán xem', 'có không giữ mất đừng tìm điều gì đáng trân trọng thì không nên từ bỏ', 'đã từng', 'có là bị cạo đầu đó', 'rồi', 'cao và ốm', 'cái nào đúng là đúng sai là sai', 'rồi', 'cao và ốm', 'cái nào đúng là đúng sai là sai', 'có rồi ông', 'lâu rồi ông', 'chia tay rồi', 'có chứ', 'rõ ràng', 'mình chưa', 'không vui đâu', 'mình không muốn', 'người con gái xinh đẹp giỏi giang', 'có rất nhiều', 'mình rất muốn', 'mệt dữ lắm', 'có', 'hông', 'có', 'có', 'không', 'có rồi ông xinh lắm', 'học chung trường chung lớp nhà gần nhau á', 'nhiều quá không đếm được', 'tui đang có bồ đó ông', 'hỏi làm chi vậy', 'tui gay', 'có rồi bạn', 'chưa bạn', 'vì sợ bị từ chối', 'vậy ư', 'ok bạn ơi cảm ơn bạn nhiều', 'hôm nay em đi làm thấy vui chứ không mệt', 'dạ em chưa ăn', 'dạ mà ăn gì ạ', 'dạ', 'dạ vậy em chuẩn bị trước', 'mình đã có người yêu được 2 tháng rồi', 'cô ấy năm nay 23 tuổi', 'cô ấy học ngành ngôn ngữ anh', 'chưa mình từ bỏ rồi bay giờ máy desktop ở nhà là bạn đời của mình', 'có thì tốt nếu không được thì thôi mình không quan trọng hóa việc này', 'mình đang độc thân', 'có nhưng mình xin không tiết lộ hihi', 'mình đang để mắt đến một bạn cùng lớp', 'mình hi vọng thế', 'mình đã trải qua vô số mối tình rồi', 'rất tiếc là không có huhu', 'một người mang trong mình một tâm hồn mỏng manh', 'có chứ hát hay là đằng khác', 'mình không rõ nữa', 'mình thấy cũng được', 'mình chưa nữa', 'mình có rồi', 'tụi mình quen được 6 tháng rồi', 'không bạn đó lớn hơn mình', 'không tụi mình ở cùng khu trọ', 'bạn gái mình quê ở cà mau', 'mình chưa có người yêu', 'tại mình nghèo', 'mình không có crush ai', 'tại mình không rảnh', 'mình chưa có cậu ơi', 'thật mà không nghĩ tới luôn', 'chia tay rồi nên buồn lắm', 'có mỗi tháng đều có đi mua sắm mà', 'thì dẫn đi ăn là được', 'có rồi thì thấy cũng khá vui', 'đâu có vì t chưa tìm được gu t thích thôi', 't theo kiểu tây m ạ mũi phải cao dáng phải cao da trắng cơ', 'không đâu m ạ thôi từ từ để t kiếm', 'đương nhiên rồi không có thì làm khổ nhau à', 'còn phải nói sao hhihi', 'cho tao xin info với', 'ừ tao biết rồi', 'nó nói gì á', 'nó đồng ý không', 'chưa tao chưa có', 'vừa chia tay 2 tuần rồi', 'hiện tại có crush một bạn trong lớp anh văn', 'chỉ cần cao 1m6 gương mặt dễ nhìn là được', 'chưa hỏi thăm gì nhiều mới nói vài câu à', 'nó nhỏ hơn mình 2 tuổi', 'mình quen cũng gần 3 năm rồi', 'mình đã trải qua 3 mối tình', 'vì hiện tại mình chưa có người yêu', 'mình có thích một người', 'còn lâu tui mới nói', 'đương nhiên là mình có thể tâm sự với bạn rồi', 'bạn hãy chủ động mua quà tặng hay dẫn bạn ấy đi ăn rồi chủ động làm hòa', 'anh phải tăng ca trên công ty nên không nhắn tin được', 'điện thoại anh bị mất sóng nên không nhận được thông báo cuộc gọi', 'mình phải ở lại trường để làm bài tập với bạn nên về hơi trể', 'bệnh nhẹ rồi nhưng chưa khỏi hẵn ạ', 'mình đã ăn cơm rồi', 'tớ vẫn còn độc thân', 'hihi tớ chỉ xem cậu là bạn', 'thú vị đấy có lẽ tớ sẽ đi cùng cậu', 'không sao ạ sự nghiệp vẫn là quan trọng hơn cả', 'ok anh nghe cũng được đấy', 'đà lạt anh nhé', 'em kó', 'mình có rồi', 'tụi mình quen được 6 tháng rồi', 'không bạn đó lớn hơn mình', 'không tụi mình ở cùng khu trọ', 'bạn gái mình quê ở cà mau', 'hihi bọn mình quen nhau được 6 năm rồi ă cậu', 'hihi tất nhiên rồi người yêu tớ mà', 'cô ấy năm nay 20t ă', 'đúng rồi nhà cô ấy cũng khá ă cậu', 'bọn tớ cũng nói chuyện đi chơi với nhau bình thường thôi', 'có trong tuần với cuối tuần ngày nào rãnh cũng đi', 'bọn tớ thường đi ăn nhiều hơn', 'bọn tớ cũng xem các blog post về đồ ăn trên instagram thấy ngon rồi tìm địa chỉ thôi', 'tớ hay chở người yêu đi dạo phố với vô các trung tâm thương mại', 'thì bạn ấy cũng dễ thương hiền lành dễ tính cũng có chung sở thích', 'còn sớm giờ này thì còn hơi ngại nhưng cũng sắp', 'mình chưa mình còn đang sợ ế đây nè', 'mình cũng như bạn thôi đã có người yêu đâu', 'trông cũng xinh xắn cá tính đấy', 'cái này tui thua bạn ơi tui còn đang ế đây này', 'chắc bạn làm gì khiến em ấy giận rồi', 'bồ đâu mà bồ crush thôi mày ơi', 'méo cho bí mật', 'giận miết chán ghê', 'yêu đương gì tầm này', 'ngại lắm', 'nồ nố nô', 'lan chứ gì', 'nhìn là biết', 'ừm', 'ừm', 'ra vậy', 'mình có rồi', 'tớ đang thích xxx', 'mình chưa có', 'tạm thời thì chưa có', 'mình quen nhau được 2 năm rồi', 'chưa biết', 'tớ có cậu', 'tớ chưa câuk ơi', 'mình còn á ngày nào mình cũng ngắm bạn ấy hết', 'cũng được tầm 3 4 năm rồi ấy cậu', 'do mình thiếu can đảm và tự tin ấy cậu', 'tớ ấy hả tớ với người yêu tớ vẫn vậy à', 'ít lắm cậu ơi tụi mình 2 tuần mới đi chơi một lần', 'thi đi dư đa m cươ i chu c mư ng chư sao', 'hmm chă c ta i mă t ma y mu n', 'đe p trai ta i gio i va gia u', 'ba n pha i tha nh đa t trươ c đa', 'vâ y thi ha y phâ n đâ u theo đuô i cô â y', 'lan chứ gì', 'nhìn là biết', 'ừm', 'ừm', 'ra vậy']\n"
          ],
          "name": "stdout"
        }
      ]
    },
    {
      "cell_type": "code",
      "metadata": {
        "id": "8IXzqamIvz08"
      },
      "source": [
        "questions_cleaned = truncated_questions\n",
        "answers_cleaned = truncated_answers"
      ],
      "execution_count": 112,
      "outputs": []
    },
    {
      "cell_type": "markdown",
      "metadata": {
        "id": "Ad-SRi6Quu2l"
      },
      "source": [
        "remove rare word\n"
      ]
    },
    {
      "cell_type": "code",
      "metadata": {
        "id": "Hn6f2sLluxDd"
      },
      "source": [
        "# Create a word count dictionary for question and answer vocabulary to find the rarely occuring words\n",
        "count_mapping_dict = dict()\n",
        "def data_imporvement(text):\n",
        "    for word in text.split():\n",
        "        if word not in count_mapping_dict:\n",
        "            count_mapping_dict[word] = 1\n",
        "        else:\n",
        "            count_mapping_dict[word] += 1"
      ],
      "execution_count": 113,
      "outputs": []
    },
    {
      "cell_type": "code",
      "metadata": {
        "id": "jGithlVSu1J4"
      },
      "source": [
        "# find the question vocab counts\n",
        "for text in questions_cleaned:\n",
        "    data_imporvement(text)"
      ],
      "execution_count": 114,
      "outputs": []
    },
    {
      "cell_type": "code",
      "metadata": {
        "id": "ILUwKSspuWpd"
      },
      "source": [
        "# find the answers vocab counts\n",
        "for text in answers_cleaned:\n",
        "    data_imporvement(text)"
      ],
      "execution_count": 115,
      "outputs": []
    },
    {
      "cell_type": "code",
      "metadata": {
        "id": "g0Qk8lK9vHcn"
      },
      "source": [
        "# Creating threshold to filter out less frequent words\n",
        "# Filter out words from vocabulary whose count is less than the threshold\n",
        "# create a words to int dictionary for question words\n",
        "threshold = 40\n",
        "questionwords2int ={}\n",
        "word_number = 0\n",
        "for word, count in count_mapping_dict.items():\n",
        "         if count > threshold:\n",
        "            questionwords2int[word] =  word_number\n",
        "            word_number += 1"
      ],
      "execution_count": 116,
      "outputs": []
    },
    {
      "cell_type": "code",
      "metadata": {
        "colab": {
          "base_uri": "https://localhost:8080/"
        },
        "id": "gH4xRsN5vMPR",
        "outputId": "876b421f-6766-4932-f238-a1de8f5f3e19"
      },
      "source": [
        "# Verify the length of mapping dict or the number of words in the question vocabulary\n",
        "len(questionwords2int)"
      ],
      "execution_count": 117,
      "outputs": [
        {
          "output_type": "execute_result",
          "data": {
            "text/plain": [
              "372"
            ]
          },
          "metadata": {
            "tags": []
          },
          "execution_count": 117
        }
      ]
    },
    {
      "cell_type": "code",
      "metadata": {
        "id": "9BEUcTnFvQgl"
      },
      "source": [
        "\n",
        "# Creating threshold to filter out less frequent words\n",
        "# Filter out words from vocabulary whose count is less than the threshold\n",
        "# create a words to int dictionary for answer words\n",
        "threshold = 40\n",
        "answerwords2int = {}\n",
        "word_number = 0\n",
        "for word, count in count_mapping_dict.items():\n",
        "         if count > threshold:\n",
        "            answerwords2int[word] =  word_number\n",
        "            word_number += 1"
      ],
      "execution_count": 118,
      "outputs": []
    },
    {
      "cell_type": "code",
      "metadata": {
        "colab": {
          "base_uri": "https://localhost:8080/"
        },
        "id": "eFFXPEcCvUWY",
        "outputId": "5d155767-e06b-4634-a659-b2aad700f6c8"
      },
      "source": [
        "len(answerwords2int)"
      ],
      "execution_count": 119,
      "outputs": [
        {
          "output_type": "execute_result",
          "data": {
            "text/plain": [
              "372"
            ]
          },
          "metadata": {
            "tags": []
          },
          "execution_count": 119
        }
      ]
    },
    {
      "cell_type": "code",
      "metadata": {
        "id": "X9boPTWpvWiX"
      },
      "source": [
        "# <SOS> Start of string\n",
        "# <EOS> End of String\n",
        "# <PAD> for maintaining the length of input\n",
        "# <OUT> for words not used while training(filter out)\n",
        "tokens = ['<PAD>', '<EOS>', '<OUT>', '<SOS>']\n",
        "\n",
        "# adding token and corresponding integer mapping to existing word to integer mapping for questions\n",
        "for token in tokens:\n",
        "    questionwords2int[token] = len(questionwords2int)"
      ],
      "execution_count": 120,
      "outputs": []
    },
    {
      "cell_type": "code",
      "metadata": {
        "id": "5vBue65gva0D"
      },
      "source": [
        "\n",
        "# adding token and corresponding integer mapping to existing word to integer mapping for answers\n",
        "for token in tokens:\n",
        "    answerwords2int[token] = len(answerwords2int)"
      ],
      "execution_count": 121,
      "outputs": []
    },
    {
      "cell_type": "code",
      "metadata": {
        "colab": {
          "base_uri": "https://localhost:8080/"
        },
        "id": "8BfeQFQCvfcd",
        "outputId": "4f2da6c2-6496-407e-da4f-553770cbc20e"
      },
      "source": [
        "# create an inverse dictionary of answers2int for decoder so that after predicting the owrd index we can create the words\n",
        "int2answerwords = {i:w for w,i in answerwords2int.items()}\n",
        "print(int2answerwords)"
      ],
      "execution_count": 122,
      "outputs": [
        {
          "output_type": "stream",
          "text": [
            "{0: 'trường', 1: 'mình', 2: 'không', 3: 'cô', 4: 'có', 5: 'ngành', 6: 'nào', 7: 'quan', 8: 'về', 9: 'bạn', 10: 'ở', 11: 'nhà', 12: 'trọ', 13: 'hay', 14: 'thấy', 15: 'còn', 16: 'gì', 17: 'khoa', 18: 'những', 19: 'máy', 20: 'tính', 21: 'vậy', 22: 'cho', 23: 'hỏi', 24: 'học', 25: 'phí', 26: 'của', 27: 'từng', 28: 'với', 29: 'ạ', 30: 'khi', 31: 'cần', 32: 'phải', 33: 'thì', 34: 'sẽ', 35: 'đến', 36: 'phòng', 37: 'để', 38: 'giờ', 39: 'động', 40: 'vào', 41: 'khoảng', 42: 'thời', 43: 'gian', 44: 'ơi', 45: 'muốn', 46: 'yêu', 47: 'cầu', 48: 'trong', 49: 'thân', 50: 'sinh', 51: 'viên', 52: 'tại', 53: 'y', 54: 'bằng', 55: 'bao', 56: 'nhiêu', 57: 'ra', 58: 'mặc', 59: 'đồng', 60: 'như', 61: 'thế', 62: 'o', 63: 'ng', 64: 'c', 65: 'thứ', 66: 'mấy', 67: 'cơ', 68: 'sở', 69: 'chất', 70: 'nghe', 71: 'nói', 72: 'rất', 73: 'i', 74: 'cao', 75: 'u', 76: 'mi', 77: 'nh', 78: 'co', 79: 'gia', 80: 'n', 81: 'em', 82: 'kinh', 83: 'a', 84: 't', 85: 'tôi', 86: 'đâu', 87: 'được', 88: 'tôn', 89: 'đức', 90: 'thắng', 91: 'một', 92: 'vài', 93: 'thông', 94: 'tin', 95: 'chứ', 96: 'hàng', 97: 'năm', 98: 'là', 99: 'bình', 100: 'tiền', 101: 'chỉ', 102: 'ngoài', 103: 'các', 104: 'môn', 105: 'chuyên', 106: 'khác', 107: 'tham', 108: 'bộ', 109: 'bóng', 110: 'đá', 111: 'nhau', 112: 'đại', 113: '1', 114: 'tháng', 115: 'vui', 116: 'dễ', 117: 'người', 118: 'công', 119: 'nghệ', 120: 'trung', 121: 'đủ', 122: 'cuối', 123: 'làm', 124: 'mới', 125: 'tốt', 126: 'nghiệp', 127: 'đúng', 128: 'khó', 129: 'bên', 130: 'bán', 131: 'đi', 132: 'thể', 133: 'mẫu', 134: 'đó', 135: 'tự', 136: 'sao', 137: 'giá', 138: 'từ', 139: 'lâu', 140: 'xin', 141: 'luôn', 142: 'chị', 143: 'biết', 144: 'chỗ', 145: 'ok', 146: 'ổn', 147: 'nhiều', 148: 'á', 149: 'mà', 150: 'đồ', 151: 'lắm', 152: 'chủ', 153: 'nay', 154: 'qua', 155: 'xem', 156: 'cậu', 157: 'đang', 158: 'phim', 159: 'nha', 160: 'uống', 161: 'thành', 162: 'ăn', 163: 'do', 164: 'rảnh', 165: 'cái', 166: 'mua', 167: 'thích', 168: 'ai', 169: 'chưa', 170: 'con', 171: 'trai', 172: 'nếu', 173: 'nghĩ', 174: 'đầu', 175: 'quen', 176: 'nên', 177: 'chơi', 178: 'robot', 179: 'tui', 180: 'hơn', 181: 'tết', 182: 'này', 183: 'mày', 184: 'quê', 185: 'an', 186: 'đẹp', 187: 'tao', 188: 'trên', 189: 'phố', 190: 'nhỏ', 191: 'sự', 192: 'tình', 193: 'bảo', 194: 'việc', 195: 'hồ', 196: 'dạ', 197: 'đặc', 198: 'biệt', 199: 'trình', 200: 'xe', 201: 'bị', 202: 'nhỉ', 203: 'số', 204: 'mỗi', 205: 'thao', 206: 'anh', 207: 'chính', 208: 'cũng', 209: 'bố', 210: 'tiếng', 211: 'lúc', 212: 'tuần', 213: 'dự', 214: 'định', 215: 'theo', 216: 'thường', 217: 'nhất', 218: 'hiện', 219: 'hình', 220: 'loại', 221: 'quần', 222: 'áo', 223: 'hành', 224: 'sản', 225: 'điểm', 226: 'nổi', 227: 'ta', 228: '4', 229: 'đà', 230: 'lạt', 231: 'trang', 232: 'thêm', 233: 'tiện', 234: 'lên', 235: 'ít', 236: 'chọn', 237: 'tất', 238: 'cả', 239: 'nhân', 240: 'tìm', 241: 'sách', 242: 'quận', 243: '7', 244: 'và', 245: 'nơi', 246: 'ấy', 247: 'trước', 248: 'à', 249: 'nước', 250: 'lớn', 251: 'rồi', 252: 'dịch', 253: 'dụng', 254: 'quốc', 255: 'ý', 256: '2', 257: 'đây', 258: 'sống', 259: 'mai', 260: 'crush', 261: 'cùng', 262: 'bè', 263: 'dạo', 264: 'chung', 265: 'dịp', 266: 'lễ', 267: 'hệ', 268: 'cảm', 269: 'ngày', 270: 'quán', 271: 'tập', 272: 'gái', 273: 'rãnh', 274: 'nhạc', 275: 'đã', 276: 'tới', 277: 'game', 278: 'la', 279: 'm', 280: 'nhưng', 281: 'đọc', 282: 'tâm', 283: 'lý', 284: 'chuyện', 285: 'lại', 286: 'xinh', 287: 'thôi', 288: 'nữa', 289: 'nó', 290: 'tối', 291: 'nghỉ', 292: 'đấy', 293: 'tụi', 294: 'vì', 295: 'coi', 296: 'đường', 297: 'ngủ', 298: 'nhé', 299: 'nội', 300: 'thương', 301: 'du', 302: 'lịch', 303: 'gặp', 304: 'lan', 305: 'tên', 306: 'quá', 307: 'chi', 308: 'cách', 309: 'món', 310: 'xa', 311: 'hai', 312: 'nè', 313: 'xong', 314: 'hơi', 315: 'tuổi', 316: 'thử', 317: 'lần', 318: 'chắc', 319: 'nhiên', 320: 'lớp', 321: 'ông', 322: 'mọi', 323: 'hôm', 324: 'địa', 325: 'hợp', 326: 'ba', 327: 'giới', 328: 'sau', 329: 'đình', 330: 'gần', 331: 'rủ', 332: 'việt', 333: 'nam', 334: '3', 335: '6', 336: 'giúp', 337: 'đất', 338: 'minh', 339: 'hết', 340: '5', 341: 'mặt', 342: 'chào', 343: 'chí', 344: 'họ', 345: 'sài', 346: 'gòn', 347: 'tầm', 348: 'vẫn', 349: '20', 350: 'chúng', 351: 'mẹ', 352: 'tớ', 353: 'nhớ', 354: 'ty', 355: 'ngon', 356: 'khá', 357: 'điện', 358: 'thoại', 359: 'laptop', 360: 'shop', 361: 'size', 362: 'nặng', 363: 'hãng', 364: 'triệu', 365: 'cơm', 366: 'nguyễn', 367: 'nghề', 368: 'hoặc', 369: 'thuê', 370: 'lương', 371: 'tùy', 372: '<PAD>', 373: '<EOS>', 374: '<OUT>', 375: '<SOS>'}\n"
          ],
          "name": "stdout"
        }
      ]
    },
    {
      "cell_type": "markdown",
      "metadata": {
        "id": "s9r_dGPDy4__"
      },
      "source": [
        "addd tag"
      ]
    },
    {
      "cell_type": "code",
      "metadata": {
        "colab": {
          "base_uri": "https://localhost:8080/"
        },
        "id": "Thd4PCC2wuB7",
        "outputId": "19ff7524-0c77-47a6-eb1c-07b328c2f555"
      },
      "source": [
        "for i in range(len(answers_cleaned)):\n",
        "    answers_cleaned[i] = '<SOS> '+ answers_cleaned[i] + ' <EOS>'\n",
        "print(answers_cleaned[:3])"
      ],
      "execution_count": 123,
      "outputs": [
        {
          "output_type": "stream",
          "text": [
            "['<SOS> quá sạch là đằng khác <EOS>', '<SOS> nghiêm lắm ý <EOS>', '<SOS> có trường mình có khoa chuyên về này <EOS>']\n"
          ],
          "name": "stdout"
        }
      ]
    },
    {
      "cell_type": "markdown",
      "metadata": {
        "id": "zQcfQFbXvoCX"
      },
      "source": [
        "translate"
      ]
    },
    {
      "cell_type": "code",
      "metadata": {
        "id": "qH2ZvBfYw5-N"
      },
      "source": [
        "# Converting question setences to integer encoding\n",
        "question_to_int = []\n",
        "for question in questions_cleaned:\n",
        "    ints = []\n",
        "    for word in question.split():\n",
        "        if word not in questionwords2int:\n",
        "            ints.append(questionwords2int['<OUT>'])\n",
        "        else:\n",
        "            ints.append(questionwords2int[word])\n",
        "    question_to_int.append(ints)"
      ],
      "execution_count": 124,
      "outputs": []
    },
    {
      "cell_type": "code",
      "metadata": {
        "id": "27a_v5BFw7ml"
      },
      "source": [
        "# Converting answer setences to integer encoding\n",
        "answer_to_int = []\n",
        "for answer in answers_cleaned:\n",
        "    ints = []\n",
        "    for word in answer.split():\n",
        "        if word not in answerwords2int:\n",
        "            ints.append(answerwords2int['<OUT>'])\n",
        "        else:\n",
        "            ints.append(answerwords2int[word])\n",
        "    answer_to_int.append(ints)"
      ],
      "execution_count": 125,
      "outputs": []
    },
    {
      "cell_type": "code",
      "metadata": {
        "colab": {
          "base_uri": "https://localhost:8080/"
        },
        "id": "Eu6KeQF6w-Ru",
        "outputId": "9d2713f5-7c61-42e4-ca73-c568237b4b86"
      },
      "source": [
        "# Calculate the length of longest question to be used for encode model input\n",
        "question_sequence_length = max([len(question) for question in question_to_int])\n",
        "question_sequence_length"
      ],
      "execution_count": 126,
      "outputs": [
        {
          "output_type": "execute_result",
          "data": {
            "text/plain": [
              "93"
            ]
          },
          "metadata": {
            "tags": []
          },
          "execution_count": 126
        }
      ]
    },
    {
      "cell_type": "code",
      "metadata": {
        "colab": {
          "base_uri": "https://localhost:8080/"
        },
        "id": "9v2W5UF_xCGR",
        "outputId": "be957e8a-ca5e-4838-c5af-e5954aba2bb4"
      },
      "source": [
        "# Calculate the length of longest answer to be used for decoder model input\n",
        "answer_sequence_length = max([len(answer) for answer in answer_to_int])\n",
        "answer_sequence_length"
      ],
      "execution_count": 127,
      "outputs": [
        {
          "output_type": "execute_result",
          "data": {
            "text/plain": [
              "158"
            ]
          },
          "metadata": {
            "tags": []
          },
          "execution_count": 127
        }
      ]
    },
    {
      "cell_type": "code",
      "metadata": {
        "colab": {
          "base_uri": "https://localhost:8080/"
        },
        "id": "KjlPBXOSxEqx",
        "outputId": "7d4dd050-b326-4dbe-e352-81766efd2bdc"
      },
      "source": [
        "# Create the LSTM based Encoder-Decoder model using Keras Functional API\n",
        "# dimension of embedding layer\n",
        "EMBED_HID_DIM = 100\n",
        "\n",
        "# dimension of LSTM unit\n",
        "latent_dim = 100\n",
        "\n",
        "# Size of questions and answers vocab\n",
        "vocab_questions = len(questionwords2int)\n",
        "vocab_answers = len(answerwords2int)\n",
        "\n",
        "# Encoder Model creationS\n",
        "# Define an input shape.\n",
        "encoder_inputs = Input(shape=(None,))\n",
        "\n",
        "# Define the embedding layer\n",
        "inputs_embed = Embedding(input_dim=vocab_questions, output_dim=EMBED_HID_DIM, input_length=question_sequence_length)\n",
        "encoder_embed = inputs_embed(encoder_inputs)\n",
        "\n",
        "# DEFINE THE LSTM layer\n",
        "encoder = LSTM(latent_dim, return_state=True)\n",
        "encoder_outputs, state_h, state_c = encoder(encoder_embed)\n",
        "\n",
        "# create the encoder model\n",
        "model = Model(encoder_inputs, encoder_outputs)\n",
        "\n",
        "\n",
        "# We discard `encoder_outputs` and only keep the states.\n",
        "encoder_states = [state_h, state_c]\n",
        "\n",
        "# Set up the decoder, using `encoder_states` as initial state.\n",
        "\n",
        "#decoder input shape\n",
        "decoder_inputs = Input(shape=(None,))\n",
        "\n",
        "# define decoder embedding layer\n",
        "decode_inputs_embed = Embedding(input_dim=vocab_answers, output_dim=EMBED_HID_DIM, input_length=answer_sequence_length)\n",
        "decoder_embed = decode_inputs_embed(decoder_inputs)\n",
        "\n",
        "# We set up our decoder to return full output sequences,\n",
        "# and to return internal states as well. We don't use the \n",
        "# return states in the training model, but we will use them in inference.\n",
        "decoder_lstm = LSTM(latent_dim, return_sequences=True, return_state=True)\n",
        "decoder_outputs, _, _ = decoder_lstm(decoder_embed,\n",
        "                                     initial_state=encoder_states)\n",
        "\n",
        "# Final classifier layer Dense and softmax activated\n",
        "decoder_dense = Dense(vocab_answers, activation='softmax')\n",
        "decoder_outputs = decoder_dense(decoder_outputs)\n",
        "\n",
        "# Define the model that will turn\n",
        "# `encoder_input_data` & `decoder_input_data` into `decoder_target_data`\n",
        "model = Model([encoder_inputs, decoder_inputs], decoder_outputs)\n",
        "model.summary()"
      ],
      "execution_count": 128,
      "outputs": [
        {
          "output_type": "stream",
          "text": [
            "Model: \"model_7\"\n",
            "__________________________________________________________________________________________________\n",
            "Layer (type)                    Output Shape         Param #     Connected to                     \n",
            "==================================================================================================\n",
            "input_7 (InputLayer)            [(None, None)]       0                                            \n",
            "__________________________________________________________________________________________________\n",
            "input_8 (InputLayer)            [(None, None)]       0                                            \n",
            "__________________________________________________________________________________________________\n",
            "embedding_4 (Embedding)         (None, None, 100)    37600       input_7[0][0]                    \n",
            "__________________________________________________________________________________________________\n",
            "embedding_5 (Embedding)         (None, None, 100)    37600       input_8[0][0]                    \n",
            "__________________________________________________________________________________________________\n",
            "lstm_4 (LSTM)                   [(None, 100), (None, 80400       embedding_4[0][0]                \n",
            "__________________________________________________________________________________________________\n",
            "lstm_5 (LSTM)                   [(None, None, 100),  80400       embedding_5[0][0]                \n",
            "                                                                 lstm_4[0][1]                     \n",
            "                                                                 lstm_4[0][2]                     \n",
            "__________________________________________________________________________________________________\n",
            "dense_2 (Dense)                 (None, None, 376)    37976       lstm_5[0][0]                     \n",
            "==================================================================================================\n",
            "Total params: 273,976\n",
            "Trainable params: 273,976\n",
            "Non-trainable params: 0\n",
            "__________________________________________________________________________________________________\n"
          ],
          "name": "stdout"
        }
      ]
    },
    {
      "cell_type": "code",
      "metadata": {
        "id": "xi9B1SIqxLSz"
      },
      "source": [
        "# Compile the Keras model\n",
        "model.compile(optimizer='adam', loss='categorical_crossentropy', metrics='acc')"
      ],
      "execution_count": 129,
      "outputs": []
    },
    {
      "cell_type": "markdown",
      "metadata": {
        "id": "QOMrdw0sxQQ3"
      },
      "source": [
        "data preparetion\n"
      ]
    },
    {
      "cell_type": "code",
      "metadata": {
        "id": "Ii92fafnxSp3"
      },
      "source": [
        "# Padding of Integer coded question and answers with <PAD> sequence\n",
        "def padding(encoder_sequences, decoder_sequences):\n",
        "    \n",
        "    encoder_input_data = pad_sequences(encoder_sequences, maxlen=question_sequence_length, dtype='int32', padding='post', truncating='post', value= questionwords2int['<PAD>'])\n",
        "    decoder_input_data = pad_sequences(decoder_sequences, maxlen=answer_sequence_length, dtype='int32', padding='post', truncating='post', value= answerwords2int['<PAD>'])\n",
        "  \n",
        "    return encoder_input_data, decoder_input_data\n",
        "\n",
        "encoder_input_data, decoder_input_data = padding(question_to_int, answer_to_int)"
      ],
      "execution_count": 130,
      "outputs": []
    },
    {
      "cell_type": "code",
      "metadata": {
        "colab": {
          "base_uri": "https://localhost:8080/"
        },
        "id": "1QBeNe2_xYv3",
        "outputId": "bcbeefa8-c06d-4932-a44d-6d2107a60152"
      },
      "source": [
        "# Verify encoder input shape\n",
        "encoder_input_data.shape"
      ],
      "execution_count": 131,
      "outputs": [
        {
          "output_type": "execute_result",
          "data": {
            "text/plain": [
              "(5855, 93)"
            ]
          },
          "metadata": {
            "tags": []
          },
          "execution_count": 131
        }
      ]
    },
    {
      "cell_type": "code",
      "metadata": {
        "colab": {
          "base_uri": "https://localhost:8080/"
        },
        "id": "8ytEy6WLxbHR",
        "outputId": "448e375f-42ad-4733-c57f-c0fe4f438ebe"
      },
      "source": [
        "# Verify encoder input shape\n",
        "decoder_input_data.shape"
      ],
      "execution_count": 132,
      "outputs": [
        {
          "output_type": "execute_result",
          "data": {
            "text/plain": [
              "(5855, 158)"
            ]
          },
          "metadata": {
            "tags": []
          },
          "execution_count": 132
        }
      ]
    },
    {
      "cell_type": "code",
      "metadata": {
        "id": "7ky6umbpxetx"
      },
      "source": [
        "# Function to generate batch of training data based on batch size becuase dataset is too big to fit in memory\n",
        "# encoder_input_data = as is it\n",
        "# decoder_input data = as it is\n",
        "# decoder_target_data = offset by one timestep\n",
        "\n",
        "max_source_length = question_sequence_length\n",
        "max_target_length = answer_sequence_length\n",
        "num_decoder_tokens = vocab_answers\n",
        "\n",
        "def generate_batch(X , y , batch_size = 128):\n",
        "    ''' Generate a batch of data '''\n",
        "    while True:\n",
        "        for j in range(0, len(X), batch_size):\n",
        "\n",
        "            encoder_input_data = np.zeros((batch_size, max_source_length),dtype='int32')\n",
        "            decoder_input_data = np.zeros((batch_size, max_target_length),dtype='int32')\n",
        "            decoder_target_data = np.zeros((batch_size, max_target_length, num_decoder_tokens),dtype='int32')\n",
        "\n",
        "            for i, (input_seq, target_seq) in enumerate(zip(X[j:j+batch_size], y[j:j+batch_size])):\n",
        "                for t, word in enumerate(input_seq):\n",
        "                    encoder_input_data[i, t] = word\n",
        "                for t, word in enumerate(target_seq):\n",
        "                    if t<len(target_seq)-1:\n",
        "                        decoder_input_data[i, t] = word # decoder input seq\n",
        "                    if t>0:\n",
        "                        # decoder target sequence (one hot encoded)\n",
        "                        # does not include the START_ token\n",
        "                        # Offset by one timestep\n",
        "                        #print(word)\n",
        "                        decoder_target_data[i, t - 1, word] = 1.\n",
        "\n",
        "\n",
        "            yield([encoder_input_data, decoder_input_data], decoder_target_data)"
      ],
      "execution_count": 133,
      "outputs": []
    },
    {
      "cell_type": "code",
      "metadata": {
        "id": "Vy9YfUISxikE"
      },
      "source": [
        "# Model training configuration\n",
        "train_samples = len(question_to_int) # Total Training samples\n",
        "batch_size = 128\n",
        "epochs = 25"
      ],
      "execution_count": 158,
      "outputs": []
    },
    {
      "cell_type": "code",
      "metadata": {
        "id": "w3jT0nBIxli8"
      },
      "source": [
        "X_train = encoder_input_data\n",
        "y_train = decoder_input_data"
      ],
      "execution_count": 159,
      "outputs": []
    },
    {
      "cell_type": "code",
      "metadata": {
        "colab": {
          "base_uri": "https://localhost:8080/"
        },
        "id": "ddj-LLm_xoRc",
        "outputId": "835aaeb2-d8d5-455e-fb8a-eba3cc0467d1"
      },
      "source": [
        "# Model fit\n",
        "model.fit(generate_batch(X_train, y_train, batch_size = batch_size),\n",
        "                    steps_per_epoch = train_samples//batch_size, epochs=epochs)"
      ],
      "execution_count": 160,
      "outputs": [
        {
          "output_type": "stream",
          "text": [
            "Epoch 1/25\n",
            "45/45 [==============================] - 39s 855ms/step - loss: 0.2756 - acc: 0.9466\n",
            "Epoch 2/25\n",
            "45/45 [==============================] - 38s 846ms/step - loss: 0.2741 - acc: 0.9400\n",
            "Epoch 3/25\n",
            "45/45 [==============================] - 38s 845ms/step - loss: 0.2674 - acc: 0.9421\n",
            "Epoch 4/25\n",
            "45/45 [==============================] - 38s 842ms/step - loss: 0.2649 - acc: 0.9421\n",
            "Epoch 5/25\n",
            "45/45 [==============================] - 38s 845ms/step - loss: 0.2643 - acc: 0.9420\n",
            "Epoch 6/25\n",
            "45/45 [==============================] - 38s 843ms/step - loss: 0.2622 - acc: 0.9422\n",
            "Epoch 7/25\n",
            "45/45 [==============================] - 38s 846ms/step - loss: 0.2593 - acc: 0.9425\n",
            "Epoch 8/25\n",
            "45/45 [==============================] - 38s 851ms/step - loss: 0.2614 - acc: 0.9421\n",
            "Epoch 9/25\n",
            "45/45 [==============================] - 43s 947ms/step - loss: 0.2612 - acc: 0.9421\n",
            "Epoch 10/25\n",
            "45/45 [==============================] - 43s 951ms/step - loss: 0.2588 - acc: 0.9424\n",
            "Epoch 11/25\n",
            "45/45 [==============================] - 43s 945ms/step - loss: 0.2588 - acc: 0.9423\n",
            "Epoch 12/25\n",
            "45/45 [==============================] - 42s 940ms/step - loss: 0.2592 - acc: 0.9420\n",
            "Epoch 13/25\n",
            "45/45 [==============================] - 43s 956ms/step - loss: 0.2582 - acc: 0.9420\n",
            "Epoch 14/25\n",
            "45/45 [==============================] - 43s 953ms/step - loss: 0.2569 - acc: 0.9421\n",
            "Epoch 15/25\n",
            "45/45 [==============================] - 44s 970ms/step - loss: 0.2565 - acc: 0.9422\n",
            "Epoch 16/25\n",
            "45/45 [==============================] - 43s 950ms/step - loss: 0.2546 - acc: 0.9427\n",
            "Epoch 17/25\n",
            "45/45 [==============================] - 41s 919ms/step - loss: 0.2547 - acc: 0.9428\n",
            "Epoch 18/25\n",
            "45/45 [==============================] - 41s 913ms/step - loss: 0.2532 - acc: 0.9432\n",
            "Epoch 19/25\n",
            "45/45 [==============================] - 41s 907ms/step - loss: 0.2542 - acc: 0.9431\n",
            "Epoch 20/25\n",
            "45/45 [==============================] - 40s 899ms/step - loss: 0.2536 - acc: 0.9433\n",
            "Epoch 21/25\n",
            "45/45 [==============================] - 41s 905ms/step - loss: 0.2544 - acc: 0.9431\n",
            "Epoch 22/25\n",
            "45/45 [==============================] - 40s 900ms/step - loss: 0.2526 - acc: 0.9434\n",
            "Epoch 23/25\n",
            "45/45 [==============================] - 42s 943ms/step - loss: 0.2511 - acc: 0.9437\n",
            "Epoch 24/25\n",
            "45/45 [==============================] - 42s 925ms/step - loss: 0.2507 - acc: 0.9437\n",
            "Epoch 25/25\n",
            "45/45 [==============================] - 41s 915ms/step - loss: 0.2505 - acc: 0.9438\n"
          ],
          "name": "stdout"
        },
        {
          "output_type": "execute_result",
          "data": {
            "text/plain": [
              "<tensorflow.python.keras.callbacks.History at 0x7f059ecd3950>"
            ]
          },
          "metadata": {
            "tags": []
          },
          "execution_count": 160
        }
      ]
    },
    {
      "cell_type": "code",
      "metadata": {
        "id": "oDvgVQI4zutk"
      },
      "source": [
        "# Save the model to disk\n",
        "model.save('model/LSTM_chatbot.h5')"
      ],
      "execution_count": 161,
      "outputs": []
    },
    {
      "cell_type": "code",
      "metadata": {
        "id": "EUZZlO6Ez5qY"
      },
      "source": [
        "# Encode the input sequence to get the \"Context vectors\"\n",
        "encoder_model = Model(encoder_inputs, encoder_states)\n",
        "\n",
        "# Decoder setup\n",
        "\n",
        "# Below tensors will hold the states of the previous time step\n",
        "decoder_state_input_h = Input(shape=(latent_dim,))\n",
        "decoder_state_input_c = Input(shape=(latent_dim,))\n",
        "decoder_state_input = [decoder_state_input_h, decoder_state_input_c]\n",
        "\n",
        "# Get the embeddings of the decoder sequence\n",
        "dec_emb2 = decode_inputs_embed(decoder_inputs)\n",
        "\n",
        "# To predict the next word in the sequence, set the initial states to the states from the previous time step\n",
        "decoder_outputs2, state_h2, state_c2 = decoder_lstm(dec_emb2, initial_state=decoder_state_input)\n",
        "decoder_states2 = [state_h2, state_c2]\n",
        "\n",
        "# A dense softmax layer to generate prob dist. over the target vocabulary\n",
        "decoder_outputs2 = decoder_dense(decoder_outputs2)\n",
        "\n",
        "# Final decoder model\n",
        "decoder_model = Model(\n",
        "    [decoder_inputs] + decoder_state_input,\n",
        "    [decoder_outputs2] + decoder_states2)"
      ],
      "execution_count": 162,
      "outputs": []
    },
    {
      "cell_type": "code",
      "metadata": {
        "id": "ISKmv0Rrz-zo",
        "colab": {
          "base_uri": "https://localhost:8080/",
          "height": 374
        },
        "outputId": "6231dc0f-7ae4-4475-b8d8-ef8d6fd2152f"
      },
      "source": [
        "# Function to decode the sequence from a decoder given the input sequence\n",
        "# input_seq = input()\n",
        "def decode_sequence(input_seq):\n",
        "        # Encode the input as state vectors.\n",
        "        states_value = encoder_model.predict(input_seq)\n",
        "        \n",
        "        # Generate empty target sequence of length 1.\n",
        "        target_seq = np.zeros((1,1))\n",
        "        \n",
        "        # Populate the first character of \n",
        "        #target sequence with the start character.\n",
        "        target_seq[0, 0] = answerwords2int['<SOS>']\n",
        "        \n",
        "        # Sampling loop for a batch of sequences\n",
        "        # (to simplify, here we assume a batch of size 1).\n",
        "        stop_condition = False\n",
        "        decoded_sentence = ' '\n",
        "        \n",
        "        while not stop_condition:\n",
        "            output_tokens, h, c = decoder_model.predict([target_seq] + states_value)\n",
        "            \n",
        "            # Sample a token\n",
        "            sampled_token_index = np.argmax(output_tokens[0, -1, :])\n",
        "            sampled_word =int2answerwords[sampled_token_index]\n",
        "            decoded_sentence += ' '+ sampled_word\n",
        "            \n",
        "            # Exit condition: either hit max length\n",
        "            # or find stop character.\n",
        "            if (sampled_word == '<EOS>' or len(decoded_sentence.split()) > 25):\n",
        "                stop_condition = True\n",
        "        \n",
        "            # Update the target sequence (of length 1).\n",
        "            target_seq = np.zeros((1,1))\n",
        "            target_seq[0, 0] = sampled_token_index\n",
        "            \n",
        "            # Update states\n",
        "            states_value = [h, c]\n",
        "        return decoded_sentence\n",
        "# decode_sequence(input_seq)\n",
        "# print(states_value)"
      ],
      "execution_count": 186,
      "outputs": [
        {
          "output_type": "stream",
          "text": [
            "bạn là ai\n"
          ],
          "name": "stdout"
        },
        {
          "output_type": "error",
          "ename": "IndexError",
          "evalue": "ignored",
          "traceback": [
            "\u001b[0;31m---------------------------------------------------------------------------\u001b[0m",
            "\u001b[0;31mIndexError\u001b[0m                                Traceback (most recent call last)",
            "\u001b[0;32m<ipython-input-186-ff9fc38222df>\u001b[0m in \u001b[0;36m<module>\u001b[0;34m()\u001b[0m\n\u001b[1;32m     37\u001b[0m             \u001b[0mstates_value\u001b[0m \u001b[0;34m=\u001b[0m \u001b[0;34m[\u001b[0m\u001b[0mh\u001b[0m\u001b[0;34m,\u001b[0m \u001b[0mc\u001b[0m\u001b[0;34m]\u001b[0m\u001b[0;34m\u001b[0m\u001b[0;34m\u001b[0m\u001b[0m\n\u001b[1;32m     38\u001b[0m         \u001b[0;32mreturn\u001b[0m \u001b[0mdecoded_sentence\u001b[0m\u001b[0;34m\u001b[0m\u001b[0;34m\u001b[0m\u001b[0m\n\u001b[0;32m---> 39\u001b[0;31m \u001b[0mdecode_sequence\u001b[0m\u001b[0;34m(\u001b[0m\u001b[0minput_seq\u001b[0m\u001b[0;34m)\u001b[0m\u001b[0;34m\u001b[0m\u001b[0;34m\u001b[0m\u001b[0m\n\u001b[0m\u001b[1;32m     40\u001b[0m \u001b[0mprint\u001b[0m\u001b[0;34m(\u001b[0m\u001b[0mstates_value\u001b[0m\u001b[0;34m)\u001b[0m\u001b[0;34m\u001b[0m\u001b[0;34m\u001b[0m\u001b[0m\n",
            "\u001b[0;32m<ipython-input-186-ff9fc38222df>\u001b[0m in \u001b[0;36mdecode_sequence\u001b[0;34m(input_seq)\u001b[0m\n\u001b[1;32m      3\u001b[0m \u001b[0;32mdef\u001b[0m \u001b[0mdecode_sequence\u001b[0m\u001b[0;34m(\u001b[0m\u001b[0minput_seq\u001b[0m\u001b[0;34m)\u001b[0m\u001b[0;34m:\u001b[0m\u001b[0;34m\u001b[0m\u001b[0;34m\u001b[0m\u001b[0m\n\u001b[1;32m      4\u001b[0m         \u001b[0;31m# Encode the input as state vectors.\u001b[0m\u001b[0;34m\u001b[0m\u001b[0;34m\u001b[0m\u001b[0;34m\u001b[0m\u001b[0m\n\u001b[0;32m----> 5\u001b[0;31m         \u001b[0mstates_value\u001b[0m \u001b[0;34m=\u001b[0m \u001b[0mencoder_model\u001b[0m\u001b[0;34m.\u001b[0m\u001b[0mpredict\u001b[0m\u001b[0;34m(\u001b[0m\u001b[0minput_seq\u001b[0m\u001b[0;34m)\u001b[0m\u001b[0;34m\u001b[0m\u001b[0;34m\u001b[0m\u001b[0m\n\u001b[0m\u001b[1;32m      6\u001b[0m \u001b[0;34m\u001b[0m\u001b[0m\n\u001b[1;32m      7\u001b[0m         \u001b[0;31m# Generate empty target sequence of length 1.\u001b[0m\u001b[0;34m\u001b[0m\u001b[0;34m\u001b[0m\u001b[0;34m\u001b[0m\u001b[0m\n",
            "\u001b[0;32m/usr/local/lib/python3.7/dist-packages/tensorflow/python/keras/engine/training.py\u001b[0m in \u001b[0;36mpredict\u001b[0;34m(self, x, batch_size, verbose, steps, callbacks, max_queue_size, workers, use_multiprocessing)\u001b[0m\n\u001b[1;32m   1606\u001b[0m           \u001b[0muse_multiprocessing\u001b[0m\u001b[0;34m=\u001b[0m\u001b[0muse_multiprocessing\u001b[0m\u001b[0;34m,\u001b[0m\u001b[0;34m\u001b[0m\u001b[0;34m\u001b[0m\u001b[0m\n\u001b[1;32m   1607\u001b[0m           \u001b[0mmodel\u001b[0m\u001b[0;34m=\u001b[0m\u001b[0mself\u001b[0m\u001b[0;34m,\u001b[0m\u001b[0;34m\u001b[0m\u001b[0;34m\u001b[0m\u001b[0m\n\u001b[0;32m-> 1608\u001b[0;31m           steps_per_execution=self._steps_per_execution)\n\u001b[0m\u001b[1;32m   1609\u001b[0m \u001b[0;34m\u001b[0m\u001b[0m\n\u001b[1;32m   1610\u001b[0m       \u001b[0;31m# Container that configures and calls `tf.keras.Callback`s.\u001b[0m\u001b[0;34m\u001b[0m\u001b[0;34m\u001b[0m\u001b[0;34m\u001b[0m\u001b[0m\n",
            "\u001b[0;32m/usr/local/lib/python3.7/dist-packages/tensorflow/python/keras/engine/data_adapter.py\u001b[0m in \u001b[0;36m__init__\u001b[0;34m(self, x, y, sample_weight, batch_size, steps_per_epoch, initial_epoch, epochs, shuffle, class_weight, max_queue_size, workers, use_multiprocessing, model, steps_per_execution)\u001b[0m\n\u001b[1;32m   1110\u001b[0m         \u001b[0muse_multiprocessing\u001b[0m\u001b[0;34m=\u001b[0m\u001b[0muse_multiprocessing\u001b[0m\u001b[0;34m,\u001b[0m\u001b[0;34m\u001b[0m\u001b[0;34m\u001b[0m\u001b[0m\n\u001b[1;32m   1111\u001b[0m         \u001b[0mdistribution_strategy\u001b[0m\u001b[0;34m=\u001b[0m\u001b[0mds_context\u001b[0m\u001b[0;34m.\u001b[0m\u001b[0mget_strategy\u001b[0m\u001b[0;34m(\u001b[0m\u001b[0;34m)\u001b[0m\u001b[0;34m,\u001b[0m\u001b[0;34m\u001b[0m\u001b[0;34m\u001b[0m\u001b[0m\n\u001b[0;32m-> 1112\u001b[0;31m         model=model)\n\u001b[0m\u001b[1;32m   1113\u001b[0m \u001b[0;34m\u001b[0m\u001b[0m\n\u001b[1;32m   1114\u001b[0m     \u001b[0mstrategy\u001b[0m \u001b[0;34m=\u001b[0m \u001b[0mds_context\u001b[0m\u001b[0;34m.\u001b[0m\u001b[0mget_strategy\u001b[0m\u001b[0;34m(\u001b[0m\u001b[0;34m)\u001b[0m\u001b[0;34m\u001b[0m\u001b[0;34m\u001b[0m\u001b[0m\n",
            "\u001b[0;32m/usr/local/lib/python3.7/dist-packages/tensorflow/python/keras/engine/data_adapter.py\u001b[0m in \u001b[0;36m__init__\u001b[0;34m(self, x, y, sample_weights, sample_weight_modes, batch_size, shuffle, **kwargs)\u001b[0m\n\u001b[1;32m    648\u001b[0m         \u001b[0mbatch_size\u001b[0m\u001b[0;34m=\u001b[0m\u001b[0mbatch_size\u001b[0m\u001b[0;34m,\u001b[0m\u001b[0;34m\u001b[0m\u001b[0;34m\u001b[0m\u001b[0m\n\u001b[1;32m    649\u001b[0m         \u001b[0mshuffle\u001b[0m\u001b[0;34m=\u001b[0m\u001b[0mshuffle\u001b[0m\u001b[0;34m,\u001b[0m\u001b[0;34m\u001b[0m\u001b[0;34m\u001b[0m\u001b[0m\n\u001b[0;32m--> 650\u001b[0;31m         **kwargs)\n\u001b[0m\u001b[1;32m    651\u001b[0m \u001b[0;34m\u001b[0m\u001b[0m\n\u001b[1;32m    652\u001b[0m   \u001b[0;32mdef\u001b[0m \u001b[0mget_dataset\u001b[0m\u001b[0;34m(\u001b[0m\u001b[0mself\u001b[0m\u001b[0;34m)\u001b[0m\u001b[0;34m:\u001b[0m\u001b[0;34m\u001b[0m\u001b[0;34m\u001b[0m\u001b[0m\n",
            "\u001b[0;32m/usr/local/lib/python3.7/dist-packages/tensorflow/python/keras/engine/data_adapter.py\u001b[0m in \u001b[0;36m__init__\u001b[0;34m(self, x, y, sample_weights, sample_weight_modes, batch_size, epochs, steps, shuffle, **kwargs)\u001b[0m\n\u001b[1;32m    271\u001b[0m     \u001b[0minputs\u001b[0m \u001b[0;34m=\u001b[0m \u001b[0mpack_x_y_sample_weight\u001b[0m\u001b[0;34m(\u001b[0m\u001b[0mx\u001b[0m\u001b[0;34m,\u001b[0m \u001b[0my\u001b[0m\u001b[0;34m,\u001b[0m \u001b[0msample_weights\u001b[0m\u001b[0;34m)\u001b[0m\u001b[0;34m\u001b[0m\u001b[0;34m\u001b[0m\u001b[0m\n\u001b[1;32m    272\u001b[0m \u001b[0;34m\u001b[0m\u001b[0m\n\u001b[0;32m--> 273\u001b[0;31m     \u001b[0mnum_samples\u001b[0m \u001b[0;34m=\u001b[0m \u001b[0mset\u001b[0m\u001b[0;34m(\u001b[0m\u001b[0mint\u001b[0m\u001b[0;34m(\u001b[0m\u001b[0mi\u001b[0m\u001b[0;34m.\u001b[0m\u001b[0mshape\u001b[0m\u001b[0;34m[\u001b[0m\u001b[0;36m0\u001b[0m\u001b[0;34m]\u001b[0m\u001b[0;34m)\u001b[0m \u001b[0;32mfor\u001b[0m \u001b[0mi\u001b[0m \u001b[0;32min\u001b[0m \u001b[0mnest\u001b[0m\u001b[0;34m.\u001b[0m\u001b[0mflatten\u001b[0m\u001b[0;34m(\u001b[0m\u001b[0minputs\u001b[0m\u001b[0;34m)\u001b[0m\u001b[0;34m)\u001b[0m\u001b[0;34m.\u001b[0m\u001b[0mpop\u001b[0m\u001b[0;34m(\u001b[0m\u001b[0;34m)\u001b[0m\u001b[0;34m\u001b[0m\u001b[0;34m\u001b[0m\u001b[0m\n\u001b[0m\u001b[1;32m    274\u001b[0m     \u001b[0m_check_data_cardinality\u001b[0m\u001b[0;34m(\u001b[0m\u001b[0minputs\u001b[0m\u001b[0;34m)\u001b[0m\u001b[0;34m\u001b[0m\u001b[0;34m\u001b[0m\u001b[0m\n\u001b[1;32m    275\u001b[0m \u001b[0;34m\u001b[0m\u001b[0m\n",
            "\u001b[0;32m/usr/local/lib/python3.7/dist-packages/tensorflow/python/keras/engine/data_adapter.py\u001b[0m in \u001b[0;36m<genexpr>\u001b[0;34m(.0)\u001b[0m\n\u001b[1;32m    271\u001b[0m     \u001b[0minputs\u001b[0m \u001b[0;34m=\u001b[0m \u001b[0mpack_x_y_sample_weight\u001b[0m\u001b[0;34m(\u001b[0m\u001b[0mx\u001b[0m\u001b[0;34m,\u001b[0m \u001b[0my\u001b[0m\u001b[0;34m,\u001b[0m \u001b[0msample_weights\u001b[0m\u001b[0;34m)\u001b[0m\u001b[0;34m\u001b[0m\u001b[0;34m\u001b[0m\u001b[0m\n\u001b[1;32m    272\u001b[0m \u001b[0;34m\u001b[0m\u001b[0m\n\u001b[0;32m--> 273\u001b[0;31m     \u001b[0mnum_samples\u001b[0m \u001b[0;34m=\u001b[0m \u001b[0mset\u001b[0m\u001b[0;34m(\u001b[0m\u001b[0mint\u001b[0m\u001b[0;34m(\u001b[0m\u001b[0mi\u001b[0m\u001b[0;34m.\u001b[0m\u001b[0mshape\u001b[0m\u001b[0;34m[\u001b[0m\u001b[0;36m0\u001b[0m\u001b[0;34m]\u001b[0m\u001b[0;34m)\u001b[0m \u001b[0;32mfor\u001b[0m \u001b[0mi\u001b[0m \u001b[0;32min\u001b[0m \u001b[0mnest\u001b[0m\u001b[0;34m.\u001b[0m\u001b[0mflatten\u001b[0m\u001b[0;34m(\u001b[0m\u001b[0minputs\u001b[0m\u001b[0;34m)\u001b[0m\u001b[0;34m)\u001b[0m\u001b[0;34m.\u001b[0m\u001b[0mpop\u001b[0m\u001b[0;34m(\u001b[0m\u001b[0;34m)\u001b[0m\u001b[0;34m\u001b[0m\u001b[0;34m\u001b[0m\u001b[0m\n\u001b[0m\u001b[1;32m    274\u001b[0m     \u001b[0m_check_data_cardinality\u001b[0m\u001b[0;34m(\u001b[0m\u001b[0minputs\u001b[0m\u001b[0;34m)\u001b[0m\u001b[0;34m\u001b[0m\u001b[0;34m\u001b[0m\u001b[0m\n\u001b[1;32m    275\u001b[0m \u001b[0;34m\u001b[0m\u001b[0m\n",
            "\u001b[0;32m/usr/local/lib/python3.7/dist-packages/tensorflow/python/framework/tensor_shape.py\u001b[0m in \u001b[0;36m__getitem__\u001b[0;34m(self, key)\u001b[0m\n\u001b[1;32m    887\u001b[0m       \u001b[0;32melse\u001b[0m\u001b[0;34m:\u001b[0m\u001b[0;34m\u001b[0m\u001b[0;34m\u001b[0m\u001b[0m\n\u001b[1;32m    888\u001b[0m         \u001b[0;32mif\u001b[0m \u001b[0mself\u001b[0m\u001b[0;34m.\u001b[0m\u001b[0m_v2_behavior\u001b[0m\u001b[0;34m:\u001b[0m\u001b[0;34m\u001b[0m\u001b[0;34m\u001b[0m\u001b[0m\n\u001b[0;32m--> 889\u001b[0;31m           \u001b[0;32mreturn\u001b[0m \u001b[0mself\u001b[0m\u001b[0;34m.\u001b[0m\u001b[0m_dims\u001b[0m\u001b[0;34m[\u001b[0m\u001b[0mkey\u001b[0m\u001b[0;34m]\u001b[0m\u001b[0;34m.\u001b[0m\u001b[0mvalue\u001b[0m\u001b[0;34m\u001b[0m\u001b[0;34m\u001b[0m\u001b[0m\n\u001b[0m\u001b[1;32m    890\u001b[0m         \u001b[0;32melse\u001b[0m\u001b[0;34m:\u001b[0m\u001b[0;34m\u001b[0m\u001b[0;34m\u001b[0m\u001b[0m\n\u001b[1;32m    891\u001b[0m           \u001b[0;32mreturn\u001b[0m \u001b[0mself\u001b[0m\u001b[0;34m.\u001b[0m\u001b[0m_dims\u001b[0m\u001b[0;34m[\u001b[0m\u001b[0mkey\u001b[0m\u001b[0;34m]\u001b[0m\u001b[0;34m\u001b[0m\u001b[0;34m\u001b[0m\u001b[0m\n",
            "\u001b[0;31mIndexError\u001b[0m: list index out of range"
          ]
        }
      ]
    },
    {
      "cell_type": "code",
      "metadata": {
        "id": "ZXVi32pe0DNj"
      },
      "source": [
        "# Create a batch generator for batch size 1\n",
        "train_gen = generate_batch(X_train, y_train, batch_size = 1)\n",
        "k=2"
      ],
      "execution_count": 181,
      "outputs": []
    },
    {
      "cell_type": "code",
      "metadata": {
        "id": "t6A3AOlC0xCz",
        "colab": {
          "base_uri": "https://localhost:8080/",
          "height": 1000
        },
        "outputId": "f14c719e-7b81-4d38-ee53-d1974a7518fb"
      },
      "source": [
        "while (True):\n",
        "  input_seq = input(\"You: \")\n",
        "  if (input_seq == \"exit\"):\n",
        "    break\n",
        "  for i in range(0,len(questions_cleaned)-1) :\n",
        "    if(input_seq == questions_cleaned[i]):\n",
        "      decoded_sentence = decode_sequence(input_seq)\n",
        "      print(\"Ans: \",decoded_sentence)\n",
        "      \n",
        "    else:\n",
        "      print(\"Ans: \")\n",
        "      \n",
        "len(questions_cleaned)     "
      ],
      "execution_count": 192,
      "outputs": [
        {
          "output_type": "stream",
          "text": [
            "You: bạn là ai\n",
            "Ans:   quá sạch là đằng khác \n",
            "Ans:   nghiêm lắm ý \n",
            "Ans:   có trường mình có khoa chuyên về này \n",
            "Ans:   mình ở ktx \n",
            "Ans:   còn thiếu mình học nữa \n",
            "Ans:   trường có khoa công nghệ thong tin chuyên về máy tính nha \n",
            "Ans:   ở học kì đầu tiên thì khoảng 10 triệu đồng học kì tiếp theo cũng khoảng 10 triệu từ năm 2 trở đi thì tự chọn môn nên học phí nhiều hay ít liên quan tới đăng ký môn nhiều hay ít \n",
            "Ans:   à có khi là văn phòng khoa hoặc phòng tư vấn học đường nhưng để thuận tiện thì bạn hãy gọi điện thoại cho đỡ phải xếp hàng nhé \n",
            "Ans:   mỗi ngày trừ chủ nhật hằng tuần từ 7h30 11h30 1h 17h30 \n",
            "Ans:   về việc ở ký túc xá bạn phải làm đơn khi được duyệt rồi thì sẽ đóng phí với lại phải đảm bảo vệ sinh chỗ của mình \n",
            "Ans:   thầy cô rất thân thiện với sinh viên \n",
            "Ans:   học phí tại trường mình dao động từ 10 triệu tới 20 triệu mỗi học kì \n",
            "Ans:   trường mình không có dạy ngành y \n",
            "Ans:   mình cần bằng toeic 550 để có thể tốt nghiệp ra trường \n",
            "Ans:   trường không chỉ rộng mà còn có nhiều cây xanh nữa \n",
            "Ans:   nữ sẽ mặc áo dài hồng nam mặc áo sơ mi trắng \n",
            "Ans:   o tru o ng tđt ma c đo ng phu c thứ 2 và thứ 5 \n",
            "Ans:   cơ sở vật chất của trường tđt đạt chuẩn 5 5 sao theo qs star anh quốc đảm bảo cho sự phát triển toàn diện của sinh viên \n",
            "Ans:   là trường công lập nên học phí được thu theo quy định của nhà nước và không thêm bất kì khoảng phí phát sinh nào \n",
            "Ans:   tâ t nhiên la đươ c nê u ba n co yêu câ u gia ha n \n",
            "Ans:   khoa qua n tri kinh doanh co như ng chuyên nga nh kinh tê \n",
            "Ans:   thâ y cô co chuyên môn râ t tô t \n",
            "Ans:   trươ ng mi nh co pho ng lab nghiên cư u nha \n",
            "Ans:   câ u co thê đê n pho ng e001 đê đươ c tư vâ n \n",
            "Ans:   đúng rồi bạn \n",
            "Ans:   văn phòng luôn hỗ trợ bạn mọi vấn đề liên quan đến trường nhé \n",
            "Ans:   tầm 20 triệu áp dụng cho hệ đào tạo chính quy và 40 triệu cho hệ chất lượng cao nhé bạn \n",
            "Ans:   khoảng 700 nghìn tùy thuộc vào môn học \n",
            "Ans:   ngoài chuyên ngành ra trường yêu cầu bạn phải có bằng tiếng anh quốc tế các môn thể chất và các bộ môn chính trị \n",
            "Ans:   trường có thư viện phục vụ cho nhu cầu học tập của sinh viên bạn nhé \n",
            "Ans:   trường hỗ trợ cho sinh viên nội trú trong ký túc xá trong vòng 2 năm đầu \n",
            "Ans:   trường mở đa dạng các câu lạc bộ giúp cho sinh viên giao lưu với nhau bao gồm cả bóng đá \n",
            "Ans:   tùy vào ngành trong trường và tùy vào hệ tiêu chuẩn hoặc chất lượng cao \n",
            "Ans:   lên google search nha bạn tại gần đây không biết có mở thêm ngành nào không do trường mình đa ngành \n",
            "Ans:   cũng hơi rộng lần đầu đi dễ lạc lắm ấy \n",
            "Ans:   có 4 tòa nha ở thoải mái \n",
            "Ans:   tùy vào tòa bạn ở theo mình nhớ thì ở tòa i và h thì 250k tháng còn k và l thì 600k nếu ở phòng dịch vụ thì đắt hơn \n",
            "Ans:   trường mình hay tổ chức văn nghệ đi chơi thì vui thôi \n",
            "Ans:   dễ nếu như bạn biết sửa ống nước với là một người may mắn \n",
            "Ans:   dạy hay á thầy cô khá là nice \n",
            "Ans:   tùy vào số tín chỉ một học kì em đăng kí mà học phí cao hay thấp \n",
            "Ans:   trung bình 1 năm thì rơi vào khoảng 30 000 000đ \n",
            "Ans:   3 hoặc 4 tín 1 môn \n",
            "Ans:   em tích lũy đủ 132 tín là tốt nghiệp trường được \n",
            "Ans:   em có thể thay thế bằng cách học 12 chỉ thay cho luận án nha \n",
            "Ans:   em nghe lời thầy cô với chăm chỉ học tập là khó cũng thành dễ thôi \n",
            "Ans:   có nha bên em có rất nhiều mẫu váy thích hợp để đi biển \n",
            "Ans:   tất nhiên rồi chị đây là 40 mẫu váy thích hợp đây ạ \n",
            "Ans:   dạ đúng rồi tất cả đều là mẫu váy do chính shop thiết kế và đặt may ạ \n",
            "Ans:   mình có thể tham khảo mẫu voan mỏng vừa mát vừa giúp thân hình thanh mảnh nhé \n",
            "Ans:   tùy vào chất liệu và dáng váy mà có giá từ 200 000đ đến 2 000 000đ ạ \n",
            "Ans:   vì nó là voan nên mình nên nhẹ tay khi giặt nếu có thể thì giặt tay càng tốt nha ạ \n",
            "Ans:   váy dài trên đầu gối thì 500 000đ ngang bắp chân thì 700 000đ còn qua mắt cá thì 900 000đ ạ \n",
            "Ans:   khoảng 2 3 ngày là tới nha \n",
            "Ans:   vì chị ngoài tỉnh thành thành phố hồ chí minh nên phí là 35k chị nha \n",
            "Ans:   em đang ở gần lotte mart á em thấy ở đó ok \n",
            "Ans:   ổn lắm chị còn yên tĩnh nữa nên ok lắm \n",
            "Ans:   em không chắc nhưng hôm bữa thì còn khoảng 4 phòng á chị \n",
            "Ans:   giá phòng thì khoảng 1 800 000đ đến 4 000 000đ á chị \n",
            "Ans:   vậy thì chị có thể tham khảo phòng 2 000 000đ á em thấy rộng rãi \n",
            "Ans:   không đâu chị chú chủ nhà dễ thương lắm hay cho tụi em trái cây ăn \n",
            "Ans:   được á chị chiều thường chú không đi đâu qua gọi em \n",
            "Ans:   sao cậu biết hay vậy dạo này có mấy bộ phim mới ra hay lắm \n",
            "Ans:   đúng rồi đó phim hay cực luôn mình xem mà ghiền xiên ghiền vẹo \n",
            "Ans:   thường thì mình hay ra ngoài chơi với bạn á \n",
            "Ans:   trời ơi không đi uống trà sữa là một thiệt thòi lớn luôn á nghen \n",
            "Ans:   có luôn mình thích ăn còn hơn uống trà sữa nữa nhất là đi ăn lẩu đó \n",
            "Ans:   yes đó là những điều không thể thiếu nếu cậu đang stress rồi \n",
            "Ans:   mình có nhiều shop tủ lắm nhưng hầu như nó nằm ngay quận 1 đó \n",
            "Ans:   haha chuẩn luôn rồi cậu ơi \n",
            "Ans:   ok cậu luôn nha mình rất thích gần tết nữa đi mua là hợp lý rồi \n",
            "Ans:   có rồi á em mà hồi đó lâu lắm rồi đến bây giờ thì chị chưa thích ai khác nữa \n",
            "Ans:   chị thích con trai trưởng thành một chút chị không quá coi trong ngoại hình \n",
            "Ans:   có thể nói là như vậy vì anh đó lớn hơn chị 5 tuổi lận \n",
            "Ans:   chị thích đi vòng ngắm thành phố la cà ăn đây đó vì chị thích ăn lắm \n",
            "Ans:   cũng thích chị thích ở nhà bật phim xem rồi ăn uống gì đó hơn là ra rạp phim xem \n",
            "Ans:   chị thì sẽ đi uống trà sữa rồi ngồi nói chuyện cho hiểu đối phương \n",
            "Ans:   dạ robot 23 nghe rõ trả lời chị đây ạ \n",
            "Ans:   em chưa tự khám phá được nhưng mà theo dữ liệu thống kê thì em trả lời là bầu trời ạ \n",
            "Ans:   không á mày ơi dạo này dịch quá chắc năm sau tao về á \n",
            "Ans:   đúng rồi giờ ra đó đang lạnh lắm ra là thở ra khói đó \n",
            "Ans:   không có tuyết nhưng mà lúc mày nói chuyện là khói bay phà phà như hút thuốc lào á \n",
            "Ans:   ở chỗ tao là vùng nông thôn nên nhiều ruộng rồi trâu rồi bò lắm \n",
            "Ans:   được chứ về đi tao cho mày biết lội ruộng bắt ốc với chăn trâu là như thế nào \n",
            "Ans:   trường mình học quân sự tại trường cơ sở bảo lộc hoặc cơ sở nha trang nha em \n",
            "Ans:   khoa có 3 chuyên ngành chính nha em \n",
            "Ans:   thầy cô trường mình giảng dạy nhiệt tình tận tâm với nghề nha em \n",
            "Ans:   các khoa trường mình năm nào cũng có tổ chức nhiều hoạt động cho sinh viên nha \n",
            "Ans:   kí túc xá ok lắm nhưng kỷ luật cao \n",
            "Ans:   học ở đây vui lắm nha \n",
            "Ans:   trường mình có 39 ngành đào tạo nha \n",
            "Ans:   các thầy cô trong trường rất nhiệt tình trong giảng dạy và hỗ trợ sinh viên bạn nhé \n",
            "Ans:   đại học tôn đức thắng đảm bảo 99 phần trăm cơ hội việc làm cho các bạn sinh viên ra trường nha \n",
            "Ans:   cơ sở vật chất trường mình đạt 5 sao theo tiêu chuẩn quốc tế luôn nha \n",
            "Ans:   thư viện trường mình được xem là một trong những thư viện tốt nhất đông nam á nha \n",
            "Ans:   các bạn sinh viên tôn đức thắng rất thân thiện với nhau vì các bạn luôn tuân theo các quy chuẩn đạo đức của trường đặt ra \n",
            "Ans:   được bạn nha nhưng mình phải có sự đồng ý của bảo vệ và có thẻ khách tham quan của trường \n",
            "Ans:   trường mình có tổng cộng 2 hồ bơi nha \n",
            "Ans:   trường mình có rất nhiều câu lạc bộ thuộc nhiều lĩnh vực khác nhau để các bạn sinh viên có thể tham gia \n",
            "Ans:   thầy cô rất tâm huyết với sinh viên \n",
            "Ans:   trường mình có thư viện tốt nhất nước \n",
            "Ans:   trường có 3 kí túc xá riêng \n",
            "Ans:   phòng học đầy đủ tiện nghi ánh sáng tới máy lạnh không thiếu gì cả \n",
            "Ans:   có 3 hệ chương trình ở tdtu \n",
            "Ans:   trường mình có wifi nhé em \n",
            "Ans:   trường mình không bị kẹt xe em nhé \n",
            "Ans:   trường mình học phí cũng bình thường thôi em \n",
            "Ans:   thầy cô trường mình có trình độ chuyên môn cao em nhé \n",
            "Ans:   trường mình có cơ sở vật chất tốt em nhé \n",
            "Ans:   đúng rồi em nhé \n",
            "Ans:   trường mình có một sân golf rất lớn nha \n",
            "Ans:   học phí trường tdt là 50 triệu một năm nha \n",
            "Ans:   có chứ mình rất yêu trường \n",
            "Ans:   ừ mình cũng thấy gửi xe rất lâu \n",
            "Ans:   hiện tại gồm 39 ngành theo chất lượng tiêu chuẩn \n",
            "Ans:   gồm 1320 giảng viên \n",
            "Ans:   thư viện của trường tự hào là một trong những thư viện hiện đại và đầy đủ tài liệu nhất của tp hồ chí minh \n",
            "Ans:   mỗi năm dao động từ 40 50 triệu và có nhiều chính sách học bổng \n",
            "Ans:   trường mình có nhà thi đấu hồ bơi sân tennis sân bóng rổ đều có thể dùng để rèn luyện thể thao nhé \n",
            "Ans:   trường mình có các tòa lớn chính như tòa a b c d e f g và các tòa ký túc xá như h i còn một số nữa mà anh chợt không nhớ \n",
            "Ans:   khoa công nghệ thông tin có các ngành như khoa học máy tính kỹ thuật phần mềm mạng máy tính và truyền thông dữ liệu \n",
            "Ans:   dưới mỗi tòa lớn đều có các nhà gửi xe em nha tòa a là tòa đặc biệt dành cho giảng viên và còn các nhà gửi xe ngoài trời và cũng như dưới nhà thi đấu \n",
            "Ans:   tất nhiên là có rồi em các anh chị giám thị đều đảm nhiệm từng tầng trong các tòa lớp em để ý sẽ thấy các anh chị sẽ ngồi ở các bàn \n",
            "Ans:   mỗi tòa nhà thường thì sẽ có các nhà vệ sinh các nhà vệ sinh ở các tầng trệt và gần trệt thường thì sẽ là các nhà vệ sinh dành cho giảng viên ở mỗi tầng đều có các nhà vệ sinh \n",
            "Ans:   có 3 ngành chính khoa học máy tính kỹ thuật phần mềm truyền thông và mạng máy tính \n",
            "Ans:   trường tôn đức thắng phải mặc đồng phục vào thứ 2 và thứ 5 hằng tuần hoặc trong các buổi lễ quan trọng bạn nữ mặc áo dài truyền thống nam thì mặc áo sơ mi trắng quần tây \n",
            "Ans:   trường cần bằng toeic ielts pet tùy theo khóa sẽ có số điểm tối thiểu khác nhau để ra trường bạn nhé \n",
            "Ans:   có nhé bạn bạn hãy theo dõi trang của trường để cập nhật thông tin mới nhất về việc xét học bạ vào trường \n",
            "Ans:   trường tdtu có nhiều môn thể thao do trường tổ chức bạn có thể tham gia vào các nhóm có nhiều bộ môn thể thao như cầu lông tenis và cả bóng đá \n",
            "Ans:   thư viện tdtu mở của vào 7 giờ am và kết thúc lúc 5 giờ am làm việc từ thứ hai đến thứ bảy hàng tuần trừ các ngày lễ \n",
            "Ans:   trường tổng cộng có 4 căn tin căn tin nhà d căn tin thư viện căn tin dãy f căn tin tại khu ký túc xá mở phục vụ các bạn có thể ăn uống tại đây \n",
            "Ans:   trường có 4 chỗ gửi xe cho các bạn có thể gửi giá vé gửi xe là 2 nghìn vnd sinh viên đi học đông có thể có kẹt xe \n",
            "Ans:   cảm ơn bạn quan tâm hiện tại trường có khoa công nghệ thông tin với nhiều ngành cho các bạn chọn lựa như khoa học máy tính chuyên ngành mạng hệ thống thông tin vv \n",
            "Ans:   ngành mình học là ngành khoa học máy tính \n",
            "Ans:   ngành mình học học phí trung bình khoảng 20 triệu 1 năm \n",
            "Ans:   ngành mình trung bình sẽ là 4 năm nhưng tuỳ vào người học có thể sớm hơn hoặc trễ hơn \n",
            "Ans:   thường thì trường mình có mức học phí giao động từ 20 24 triệu mỗi năm \n",
            "Ans:   cơ sở vật chât khỏi chê trường có có thư viện xin nhất trong các trường đại học \n",
            "Ans:   có thể nói trong thời đại 4 0 thì các ngành liên quan đên công nghệ như it điện điện tử đang trở nên hot \n",
            "Ans:   các thầy cô đều có kiến thức chuyên môn cao tận tình trong việc giảng dạy và tận tụy với nghề \n",
            "Ans:   nếu em có học lực từ 8 0 trở lên và có điểm hoạt động trên 80 thì em có thể hoàn toàn nhận được học bổng \n",
            "Ans:   cái này thì em lên trang chủ của trường học lên fanpage trên facebook để cập nhật thông tin chính xác nha \n",
            "Ans:   có trường mình có đến 2 khu ký túc xá \n",
            "Ans:   xét tuyển bằng học bạ và xét tuyển bằng điểm thi tốt nghiệp em nhé \n",
            "Ans:   có trường mình với tiêu chí bắt buộc học qua môn bơi mới được ra trường \n",
            "Ans:   có em nhé trường mình có rất nhiều phong trào đoàn hội \n",
            "Ans:   tùy vào hệ tiêu chuẩn hay là chất lượng cao sẽ có mức học phí khác nhau \n",
            "Ans:   bán đồ điện tử bao gồm máy tính các loại và có cả điện thoại \n",
            "Ans:   bán rất nhiều loại gồm có asus msi apple acer lenovo \n",
            "Ans:   có cửa hàng mình bán cả áo thun của các nhãn hàng asus msi \n",
            "Ans:   có bên mình hỗ trợ nâng cấp ram ổ cứng và sửa chữa \n",
            "Ans:   có các gói bảo hành 6 tháng 12 tháng đến 3 năm \n",
            "Ans:   nhân viên bên mình sẽ đến tận nhà để lắp đặt cho sản phẩm của bạn \n",
            "Ans:   trường mình nổi bật nhất là có thư viện 129 tỷ rất hiện đại em nhé \n",
            "Ans:   sinh viên của tdtu có 5 đặc điểm nhận dạng đó là kỉ luật lễ phép chuyên nghiệp sáng tạo phụng sự \n",
            "Ans:   vì mỗi phòng học đều có nhiều máy lạnh và bắt 24 24 bạn nhé \n",
            "Ans:   tùy thuộc vào từng ngành mà sẽ quy định số lượng tín chỉ tối thiểu để tốt nghiệp em nhé \n",
            "Ans:   có em nhé nam áo sơ mi trắng nữ áo dài vào thứ 2 và thứ 5 \n",
            "Ans:   16 khoa á em \n",
            "Ans:   bên trường mình có 3 chương trình chính tiêu chuẩn chất lượng cao và tiêu chuẩn \n",
            "Ans:   tiêu chuẩn thì khoảng 22 triệu clc và tiêu chuẩn thì khoảng 50 triệu \n",
            "Ans:   thầy cô trường mình vui lắm em giảng bài dễ hiểu lắm đi học như đi chơi á \n",
            "Ans:   tiện nghi lắm em gì cũng có \n",
            "Ans:   chị học cntt con gái học ngành này cũng thú vị lắm chị cũng có những người bạn tốt luôn giúp đỡ nhau trong học tập nên thấy cuộc sống đại học khá là thú vị nếu em thích học toán và đam mê công nghệ đam mê tìm kiếm cái mới thì thử tìm hiểu về cntt nhé \n",
            "Ans:   haha với mọi người thì đúng chứ với chị thì không \n",
            "Ans:   nhóm chị 8 người có mình chị là nữ thôi em \n",
            "Ans:   không em tụi nó xem chị giống như con trai vậy \n",
            "Ans:   chị học bình thương thôi em \n",
            "Ans:   tại chị rớt công an \n",
            "Ans:   các thầy cô rất thân thiện và nhiệt tình với sinh viên \n",
            "Ans:   ngoài căn tin và ký túc xá thì trường còn cung cấp các quán nước phòng gym hồ bơi sân bóng và còn nhiều thứ khác nữa \n",
            "Ans:   cái này tùy vào từng người nhưng mình thường nghe mọi người bảo đắt \n",
            "Ans:   em cần 4 năm và trong 4 năm đó em phải hoàn thành tổng cộng 138 tín chỉ và nhiều yêu cầu khác \n",
            "Ans:   chương trình tiêu tuẩn gồm 40 ngành là chương trình đào tạo các kỹ sư cử nhân kiến trúc sử dược sĩ \n",
            "Ans:   hiện tại trường đại học tôn đức thắng đang đào tạo tổng cộng 17 khối ngành bao gồm công nghệ thông tin mỹ thuật công nghiệp kỹ thuật công trình điện điện tử tài chính ngân hàng toán thống kê quản trị kinh doanh kế toán giáo dục quốc tế khoa học ứng dụng luật khoa học thể thao dược khoa học xã hội nhân văn ngoại ngữ môi trường bảo hộ lao động lao động công đoàn \n",
            "Ans:   đối với chương trình tiêu chuẩn là từ 8 triệu trở lên một học kì còn với chương trình chất lượng cao là từ 20 triệu trở lên một học kì \n",
            "Ans:   đại học tôn đức thắng tdtu cung cấp nhiều chương trình giáo dục bậc đại học đào tạo trong các lĩnh vực kinh tế quản trị xã hội học du lịch ngôn ngữ học kỹ thuật hóa học công nghệ sinh học công nghệ thông tin luật mỹ thuật công nghiệp dược toán thống kê xây dựng kiến trúc điện điện tử khoa học thể thao nhằm đào tạo nguồn nhân lực đáp ứng thị trường lao động và xu hướng hội nhập toàn cầu người học có thể chọn học đại học tại tdtu với chương trình tiêu chuẩn chương trình chất lượng cao chương trình đại học bằng tiếng anh hoặc chương trình du học luân chuyển campus liên kết quốc tế \n",
            "Ans:   giảng viên tại tdtu đều là những người có chuyên môn cao lịch sự vui vẻ và tận tình với sinh viên và với công việc chuyên môn \n",
            "Ans:   trường đại học tôn đức thắng tự hào là trường có thư viện to nhất việt nam với tổng chi phí đầu tư là 127 tỉ gồm 5 lầu và rất nhiều đầu sách đủ mọi chủ đề từ văn học đến công nghệ khuôn viên trường rộng rãi thoáng mát sạch sẽ với nhiều cây xanh che bóng mát phòng học được trang bị máy chiếu và máy lạnh hiện đại giúp trãi nghiệm học tập của người học tốt hơn và hiệu quả hơn canteen trường có nhiều món ngon và phù hợp với túi tiền của sinh viên \n",
            "Ans:   sinh viên trường tôn đức thắng nổi tiếng năng động và tài năng với nhiều giải thưởng từ trong nước đến quốc tế điểm nổi bật là tính tự giác và ý thức cao như không xả rác trong khuôn viên trường xếp hàng khi ra vào thang máy \n",
            "Ans:   đội ngũ công nhân viên của trường luôn luôn thân thiện vui vẻ và trách nhiệm với công việc và với sinh viên \n",
            "Ans:   trường đại học tôn đức thắng tự hào là một trong những trường đại học hiện đại nhất nước với cơ sở vật chất hiện đại khang trang và sạch sẽ \n",
            "Ans:   mình tin dùng các hãng quần áo từ trong đến ngoài nước như yame uniqlo adidas đôi khi mình cũng hay săn đồ secondhand đồ đã qua sử dụng ở hội chợ hay các lễ hội mua sắm \n",
            "Ans:   đối với giày dép thì mình đặt biệt chú trọng chất lượng thế nên yame uniqlo nike luôn là lựa chọn hàng đầu của mình về chất lượng cũng như giá cả \n",
            "Ans:   cậu có thể chọn các nhãn hàng lớn với chuỗi cửa hàng trãi dài từ nam ra bắc như phong vũ thế giới di động fpt shop hay cũng có thể chọn nhà phân phối nhỏ hơn như gearvn \n",
            "Ans:   cậu có thể tìm đến chuỗi nhà sách nguyễn văn cừ có mặt tại khắp các quận ở thành phố hồ chí minh hoặc trong các trung tâm mua sắm lớn như lotte vivo city cresent mall siêu thị bigc \n",
            "Ans:   cậu có thể dễ dàng xin việc vào các chuỗi cửa hàng tiện lợi lớn ở hcm như seven eleven circle k family mart hoặc các chuỗi quán cà phê lớn như the coffee house cộng cà phê phúc long starbuck \n",
            "Ans:   trường mình có 40 ngành nha bạn \n",
            "Ans:   thư viện trường mình 129 tỷ nha bạn \n",
            "Ans:   đúng là như vậy đó bạn \n",
            "Ans:   trường mình là trường công lập đó bạn \n",
            "Ans:   ở địa chỉ 19 nguyễn hữu thọ phường tân phong quận 7 nha bạn \n",
            "Ans:   trường tdtu có rất nhiều clb bổ ích để rèn luyện bản thân như là clb thể thao clb học thuật của các khoa clb múa clb hát clb nhảy \n",
            "Ans:   trường mình phải mặc đồng phục vào thứ 2 và thứ 5 hàng tuần bạn nữ thì mặc áo dài đồng phục bạn nam thì mặc áo sơ mi trắng và quần tây \n",
            "Ans:   trường mình có 4 tòa ký túc xá 2 tòa cho sinh viên nam và 2 tòa cho sinh viên nữ tòa h và i thì được đưa vào sử dụng từ năm 2010 còn ký túc xá mới k và l được đưa vào sử dụng năm 2019 \n",
            "Ans:   mọi học sinh trong tdtu phải học môn bơi để được ra trường \n",
            "Ans:   bao gồm khoa học máy tính mạng và truyền thông nhé \n",
            "Ans:   chuẩn đầu ra toeic 550 em nhé \n",
            "Ans:   lớp tiếng anh có thầy cô nước ngoài em nhé \n",
            "Ans:   giang viên trường được thỉnh giảng và giáo viên cơ hữu trường \n",
            "Ans:   thư viện trường phục vụ hàng nghìn sinh viên và tài liệu theo học em nhé \n",
            "Ans:   trường đào tạo đại trà và chất lượng cao em nhé \n",
            "Ans:   chất lượng cao học phí cao hơn và chất lượng sẽ tốt hơn nhiều em nhé \n",
            "Ans:   em tìm hiểu form đăng ký xét ở ktx em nhé form được đăng trên page của trường \n",
            "Ans:   em đóng theo hướng dẫn trên hệ thống thông tin sinh viên trường nhé \n",
            "Ans:   em lên quầy dịch vụ để nộp tiền vào tài khoản nha \n",
            "Ans:   lầu 3 nha em \n",
            "Ans:   em vào trang hệ thống thông tin vào mục học phí để xem nha em \n",
            "Ans:   1 giờ sử dụng máy tính là 3000 nha em \n",
            "Ans:   em lên quầy dịch vụ để nộp tiền vào tài khoản nha \n",
            "Ans:   lầu 3 nha em \n",
            "Ans:   em vào trang hệ thống thông tin vào mục học phí để xem nha em \n",
            "Ans:   1 giờ sử dụng máy tính là 3000 nha em \n",
            "Ans:   mình không biết \n",
            "Ans:   mạng máy tính và truyền thông dữ liệu kỹ thuật phần mềm khoa học máy tính \n",
            "Ans:   dược điện điện tử kế toán tài chính marketing \n",
            "Ans:   học phí trường mình khoảng 10 15 tr tùy vào ngành học \n",
            "Ans:   trường mình có nhiều câu lạc bộ như bóng rổ bỏng đá ca hát \n",
            "Ans:   mỗi phòng học đều được trang bị máy lạnh em nhé \n",
            "Ans:   có em nhé học quốc phòng thì chúng ta sẽ được học tại trường \n",
            "Ans:   tùy thuộc vào từng ngành mà sẽ quy định số lượng tín chỉ tối thiểu để tốt nghiệp em nhé \n",
            "Ans:   theo quy định của nhà trường thì trung bình điểm rèn luyện của em phải từ 50 điểm trở lên mới được cấp bằng tốt nghiệp nhé \n",
            "Ans:   minh sinh viên năm 4 \n",
            "Ans:   cơ sở vật chất trường mình rất tốt \n",
            "Ans:   thư viện trường mình rất rộng và hiện đại \n",
            "Ans:   nằm ở khu hành chính tòa nhà màu cam \n",
            "Ans:   tùy ngành nhé bạn mà trung bình chắc là khoảng 50 triệu 1 năm \n",
            "Ans:   có nhé bạn \n",
            "Ans:   trước hết là bạn phải học đủ chỉ ngoài ra bạn phải có chứng chỉ quốc phòng bơi và đạt đủ điều kiện tiếng anh nhé \n",
            "Ans:   tất nhiên là có rồi không chỉ có mà có tận 3 hầm gửi xe luôn \n",
            "Ans:   thật chứ không tin thì cứ tra google sẽ rõ \n",
            "Ans:   rất ổn luôn là đằng khác trường có tổ chức thực tập cho các bạn sinh viên năm cuối thì các doanh nghiệp rất ưng ý luôn \n",
            "Ans:   tốt chứ bạn không tốt thì sao mà đạt chuẩn quốc tế được \n",
            "Ans:   trường có mức học phí tầm trung hợp lý không quá cao \n",
            "Ans:   trường có hồ bơi sân tập quốc phòng thư viện rất hiện đại và nhiều bãi giữ xe đáp ứng nhu cầu \n",
            "Ans:   chị học công nghệ thông tin á em \n",
            "Ans:   em nên học xử lí ngôn ngữ tự nhiên chị thấy nó là một môn rất đáng để học \n",
            "Ans:   không cao lắm đâu em mà nó cũng phụ thuộc vào ngành mình học nữa \n",
            "Ans:   đúng tiến độ thì 4 năm nhưng sớm hơn hay trễ hơn cũng còn phụ thuộc vào việc em học thế nào nữa \n",
            "Ans:   không á em \n",
            "Ans:   đâu có dễ lắm em chịu khó một tí là biết bơi thôi hà \n",
            "Ans:   khoa mình bị chị uốn sắp cong hết rồi em ơi đẹp xấu gì nữa \n",
            "Ans:   có chuyên môn trong việc dạy học và rất tân tâm nha bạn \n",
            "Ans:   học phí trường mình tầm trung nhé \n",
            "Ans:   trường mình là trường đại học tôn đức thắng \n",
            "Ans:   trường mình có gần 20 tòa nhà \n",
            "Ans:   trường mình bao nhiều cảnh đẹp bạn nhé \n",
            "Ans:   trường mình chỗ nào cũng có thể chụp hình bạn nhé \n",
            "Ans:   ngon nhà vô \n",
            "Ans:   chấp lun 2 mạng đầu \n",
            "Ans:   mai bận học rồi \n",
            "Ans:   mai học ca 3 \n",
            "Ans:   còn chết liền \n",
            "Ans:   11 00 rồi \n",
            "Ans:   1 tháng rồi \n",
            "Ans:   mình có rồi \n",
            "Ans:   khoảng 10 năm \n",
            "Ans:   có rồi huhu \n",
            "Ans:   chưa cưới mà nào cưới thì hết thôi \n",
            "Ans:   mình đang còn ế đây này \n",
            "Ans:   rảnh thì rũ không thì thôi \n",
            "Ans:   à tui thích xem phim đọc truyện và đặc biệt là đi chơi qua đêm cùng bạn bè vì điều đó đem lại cảm giác hạnh phúc \n",
            "Ans:   nơi tui thích đi chơi cùng với bạn bè đó chính là karaoke mọi người cùng nhau hò hét rất vui \n",
            "Ans:   mình không thích hút thuốc vì nó làm hại phổi và răng \n",
            "Ans:   thật ra học bài đối với mình là chuyện thường xuyên có những lúc mình thích có những lúc mình không thích lắm \n",
            "Ans:   mình bơi hơi dở chỉ ngồi coi mấy bạn mình bơi nên không thích lắm \n",
            "Ans:   buồn lắm bạn à crush unfriend trên facebook tui rồi giờ tôi muốn nhắn tin với crush cũng k được nữa \n",
            "Ans:   hì hì cũng may lắm bạn ơi tui tỏ tình xong crush mặt đỏ lên tui biết vận may đến rồi crush bảo mình làm anh trai mưa á bạn \n",
            "Ans:   mình rất kén chọn con gái dễ thương 1 mét 7 nhà giàu là được \n",
            "Ans:   bình thường mình sẽ tặng hoa son nhưng có lúc mình tặng bánh do chính mình làm \n",
            "Ans:   mình sẽ nhắn tin vào mỗi sáng đêm thì call video kể về hôm nay đã làm gì lâu lâu buổi trưa thì đợi cô ấy tan làm chở đi ăn \n",
            "Ans:   mình thường xem phim lúc rảnh \n",
            "Ans:   mình cũng thường hay đi chơi thể thao \n",
            "Ans:   mình hay đi đá banh với bạn vào tối t7 mỗi tuần \n",
            "Ans:   mình hay đi uống cà phê tại quán cộng \n",
            "Ans:   mình thích đọc sách \n",
            "Ans:   mình đã làm gì có người yêu mình còn đang sợ ế đây này \n",
            "Ans:   không crush mình không biết mình thích bạn đó \n",
            "Ans:   chúng mình hay đi chơi ở phố đi bộ quận 1 \n",
            "Ans:   mình thường đi cafe với bạn bè khi rãnh \n",
            "Ans:   chỉ thỉnh thoảng mình mới nghe nhạc \n",
            "Ans:   mình thường đi quán cafe phúc long ở gần nhà \n",
            "Ans:   mình đi với 1 người bạn cấp 3 của mình \n",
            "Ans:   mình thích mẫu người con trai ấm áp thông minh \n",
            "Ans:   mình thích đi những nơi náo nhiệt \n",
            "Ans:   chúng mình chỉ thỉnh thoảng mới đi \n",
            "Ans:   mình chưa có người yêu \n",
            "Ans:   mình đang thích thầm một bạn nam lớp bên \n",
            "Ans:   cậu ấy rất thông minh \n",
            "Ans:   mình chưa tự tin để tỏ tình cậu ấy \n",
            "Ans:   tôi râ t thi ch chơi game khi ra nh \n",
            "Ans:   tơ thươ ng ti m chô ăn uô ng khi ra nh \n",
            "Ans:   nâ u ăn không hê thư gia n mô t chu t na o \n",
            "Ans:   bi nh thươ ng tôi chi đo c sa ch mô t lu c thôi \n",
            "Ans:   chă c la tôi se nghe mô t i t nha c khi cha n \n",
            "Ans:   câ u se không thi ch ngươ i lơ n tuô i qua đâu \n",
            "Ans:   ai cu ng câ n như ng giây phu t he n ho â m a p ma \n",
            "Ans:   câ u nên thư mơ i biê t đươ c \n",
            "Ans:   tơ thi ch mô t ngươ i â m a p va tâm li \n",
            "Ans:   điê u đo co n tuy câ u co muô n hay không \n",
            "Ans:   không mình đang làm một số bài tập \n",
            "Ans:   một số bài tập nhỏ thôi mà một chút là xong \n",
            "Ans:   giống như cậu hỏi xem phim hoặc có thể đọc sách nghe nhạc chơi thể thao \n",
            "Ans:   mình hay đọc sách về văn học nghệ thuật truyện một ít tiểu thuyết nữa \n",
            "Ans:   mình không quan tâm cho lắm nên không đụng tới \n",
            "Ans:   có tìm hiểu những cái cần thiết \n",
            "Ans:   mình thích đọc ở nhà hơn vì một mình yên tĩnh dễ tập trung \n",
            "Ans:   cuốn nào mình không đang đọc mình có thể cho bạn mượn \n",
            "Ans:   đang chán đời cậu ơi muốn giải tỏa \n",
            "Ans:   cũng gần như thất tình vậy \n",
            "Ans:   một bạn nữ trong lớp rất chi là xinh \n",
            "Ans:   tính tình nó dễ thương chăm chỉ học giỏi nữa hiền khô à \n",
            "Ans:   chưa biết cách nào để tỏ tình thôi \n",
            "Ans:   tao chưa nói gì với nó nên nó chưa biết được \n",
            "Ans:   vài ngày nữa nếu lên kế hoạch thành công \n",
            "Ans:   lý thuyết bàn tay phải tao đang ở trong phòng gym \n",
            "Ans:   tùy tâm trạng nữa có ngày cũng không có chơi tao cũng chả biết nói sao \n",
            "Ans:   ok ở nhà cũng chán \n",
            "Ans:   mấy giờ thế \n",
            "Ans:   tao về rồi mất công bị cách li chặn đường không cho về \n",
            "Ans:   tao tin nó xảy ra như trong phim á \n",
            "Ans:   tầm 5 đến 7 đứa tao chả nhớ nữa \n",
            "Ans:   tao đang lo nghĩ về số phận đen tối trong tương lai mù mịt \n",
            "Ans:   không nha tui ở nhà ngủ \n",
            "Ans:   mình còn bài tập nhiều lắm không có thời gian đi \n",
            "Ans:   chắc không đâu bạn mình không muốn đi lắm \n",
            "Ans:   cuối tuần mình chỉ ở nhà xem phim thôi \n",
            "Ans:   mới đầu tháng có tiền nên mình định đi mua sắm \n",
            "Ans:   tui định đi du lịch mà chưa quyết định được địa điểm cụ thể \n",
            "Ans:   có chứ sao không lâu lâu mới có dịp mà \n",
            "Ans:   mình hay nghe nhạc để thư giãn lắm \n",
            "Ans:   lúc rảnh thì mình hay chơi với mèo nhà mình tụi nó dễ thương lắm \n",
            "Ans:   mình nghĩ bạn nên quên nó đi và tập trung vào việc khác \n",
            "Ans:   chắc có đó bạn đối tốt với bạn ấy vậy mà \n",
            "Ans:   tui nghĩ bạn nên tìm cách gây ấn tượng tốt với crush \n",
            "Ans:   nếu theo hướng tốt thì nên ngược lại thì bạn nên là chính mình nha \n",
            "Ans:   đương nhiên là có rồi bạn ấy cũng chưa có người yêu mà \n",
            "Ans:   mình nghĩ là tìm những chủ đề mà nó thích để bắt chuyện cũng được đó \n",
            "Ans:   bạn đừng buồn có lẽ là do bạn không phải mẫu người bạn ấy thích thôi \n",
            "Ans:   mình nghĩ bạn nên từ bỏ nó đi sau đó đi crush người khác \n",
            "Ans:   mình thường chơi game hoặc xem phim \n",
            "Ans:   mình thích nhất phim hành động nha \n",
            "Ans:   bộ phim hay nhất mà mình từng được coi là avengers end game \n",
            "Ans:   có thi thoảng mình có chạy xe ra ngoài đường chơi \n",
            "Ans:   có mình thường đi chơi với bạn bè mình \n",
            "Ans:   bạn cứ thể hiện mình là người mà bạn ấy có cảm giác an tâm khi giao tiếp \n",
            "Ans:   bạn nên nói chuyện về những sở thích mà cả 2 đều có hứng thú \n",
            "Ans:   mình với người yêu hay đi ăn rồi đi xem phim hay đi ra các điểm mà tụi mình thích \n",
            "Ans:   mình thích kiểu người tự lập \n",
            "Ans:   không mình chỉ muốn chung thủy với một người khi yêu \n",
            "Ans:   mình thường đi chơi \n",
            "Ans:   mình thường đi chơi net \n",
            "Ans:   có mình thường đi chơi với bạn bè \n",
            "Ans:   mình đọc truyện xem phim \n",
            "Ans:   mình xem bài học cho ngày mai \n",
            "Ans:   có mình hay đi ăn với bạn bè \n",
            "Ans:   mình chưa có crush \n",
            "Ans:   mình thích người hiền lành \n",
            "Ans:   là người hoạt bát vui vẻ hiền lành \n",
            "Ans:   khi mình học xong \n",
            "Ans:   mình thích con gái \n",
            "Ans:   mình hay chơi game \n",
            "Ans:   mình không hay đi cafe nhé \n",
            "Ans:   lúc rãnh mình cũng hay đi \n",
            "Ans:   mình thích chơi game hơn á bạn \n",
            "Ans:   mình hay đi uống cafe ở phúc long \n",
            "Ans:   có bạn ạ \n",
            "Ans:   mình hay đi shopping với người yêu \n",
            "Ans:   có bạn nhé \n",
            "Ans:   chưa đi bao giờ á bạn \n",
            "Ans:   có á bạn \n",
            "Ans:   mình thường hay chơi game điện tử khi có thời gian rãnh \n",
            "Ans:   mình lâu lâu mới đi chơi thôi \n",
            "Ans:   cá nhân mình không thích đọc sách lắm \n",
            "Ans:   tất nhiên rồi lúc rãnh mình cũng thường đi ngủ \n",
            "Ans:   mình không đi đâu mình có việc rồi \n",
            "Ans:   mẫu người yêu lý tưởng của mình là một phụ nữa đẹp \n",
            "Ans:   mình hiện tại chưa có người yêu nha \n",
            "Ans:   tất nhiên rồi mình nghĩ người đó sẽ là bạn \n",
            "Ans:   mình không thích quen người khác vì điều kiện kinh tế nha \n",
            "Ans:   mình thật sự thích con trai hà nội \n",
            "Ans:   tao hả tao thường hay ngủ hoặc chơi game nghe nhạc \n",
            "Ans:   tao thường hay chơi ở nhà là chủ yếu khi nào chán thì tao sẽ ra quán net \n",
            "Ans:   tao thường hay chơi ở s2m ở gần trường đó bạn bè của tao ngoài đó cũng đông nữa \n",
            "Ans:   oke vậy khi nào mày rảnh nào \n",
            "Ans:   oke vậy ngày mai có gì gọi cho tao \n",
            "Ans:   quỳnh thích ăn bánh tráng trộn \n",
            "Ans:   chắc là trà tắc hoặc là sữa tươi trân châu đường đen \n",
            "Ans:   sao mày hỏi về cái quỳnh vậy \n",
            "Ans:   á à thì ra mày crush quỳnh phải không \n",
            "Ans:   oke khi nào nên đôi thì báo đáp ân tình cho tao nhá \n",
            "Ans:   mình thì sẽ đọc sách hoặc học thêm thứ mới đôi khi thì sẽ chơi game với bạn bè \n",
            "Ans:   mình rất ít khi đi nhưng mà nếu có thì mình nghĩ sẽ là một quán ăn tiệm cà phê hoặc công viên để thư giãn bản thân \n",
            "Ans:   thật sự là có nhưng mà chơi game nhiều mình cảm thấy rất là phí hoài thời gian của bản thân \n",
            "Ans:   mình thích nhất là các quyển sách chuyên ngành tâm lý hoặc các quyển sách có thể giúp mình cải thiện các khía cạnh của bản thân mình \n",
            "Ans:   đôi khi là có nhưng một mình tận hưởng những giây phút thoải mái cũng rất vui mà \n",
            "Ans:   mình thích sự yên bình thoải mái trong tình yêu \n",
            "Ans:   một người siêng năng chịu khó và có ước mơ một ngoại hình xinh đẹp nữa thì là nhất rồi \n",
            "Ans:   tất nhiên là có rồi chứ mình nghĩ mình cũng có kha khá crush nhưng phần lớn là không thành \n",
            "Ans:   đi du lịch đó đây nếu thời gian đủ dài cải thiện lẫn nhau \n",
            "Ans:   mình sẽ suy nghĩ rất lâu về lý do bạn đó thích mình nhưng biện pháp tốt nhất là mình nên nói chuyện với bạn đó \n",
            "Ans:   tình yêu vui lắm mình đã có những khoảng thời gian không thể quên đối với những người mình yêu \n",
            "Ans:   đi chứ đi du lịch với người yêu của mình để trải nghiệm đó đây và biết thêm về người yêu mình \n",
            "Ans:   mình nghĩ là khi bạn rất hay để ý người đó đang làm gì hay nhìn người đó và đôi khi không thể tập trung vào việc của mình khi người đó bên cạnh \n",
            "Ans:   không đâu mình nghĩ bạn sẽ tìm được ai đó thôi hiện tại không thể nhưng tương lai có thể \n",
            "Ans:   nếu bạn yêu người yêu mình thì người khác có tốt đến mấy thì người yêu bạn cuối cùng sẽ tốt hơn vì trong tình yêu cả hai cải thiện lẫn nhau \n",
            "Ans:   mình thường chơi game hoặc nghe nhạc \n",
            "Ans:   có chứ thỉnh thoảng mình vẫn hay đi xem phim \n",
            "Ans:   mình hay xem phim ở rạp chiếu phim cgv \n",
            "Ans:   mình thường chơi game liên minh huyền thoại \n",
            "Ans:   mình thích nghe thể loại nhạc rap \n",
            "Ans:   người ta thường nói muốn thì tìm cách không muốn thì tìm lí do đó \n",
            "Ans:   mình nghĩ là con gái thích ăn vặt và uống trà sữa \n",
            "Ans:   mình nghĩ là đi cả hai sau khi đi trung tâm mua sắm ăn uống thì đi vòng vòng ngoài phố hóng mát \n",
            "Ans:   mọi người đều biết trừ crush mình bạn ơi \n",
            "Ans:   những món quà hào nhoáng có thể mang đến niềm vui trong phút giây nhưng sự quan tâm chân thành sẽ khiến một đời cảm động \n",
            "Ans:   mình thường đi cafe tại the coffee house với bạn bè khi rãnh \n",
            "Ans:   mình thỉnh thoảng mới nghe nhạc \n",
            "Ans:   mình đi với nhóm người bạn của mình \n",
            "Ans:   mình cũng rảnh vậy tụi đi xem phim chung nhé \n",
            "Ans:   ok mình sẽ chờ ở đó \n",
            "Ans:   mình thích mẫu người con trai ấm áp thông minh \n",
            "Ans:   mình thích đi những nơi náo nhiệt \n",
            "Ans:   chúng mình chỉ thỉnh thoảng mới đi \n",
            "Ans:   mình chưa có người yêu \n",
            "Ans:   mình xin lỗi mình chưa đủ tự tin để làm người yêu cậu \n",
            "Ans:   bình thường thì mình sẽ nghe nhạc ngủ hoặc đi uống café với bạn bè của mình \n",
            "Ans:   thường thì mình thích ngồi những quán lề đường để cảm nhận nhịp sống của sài gòn \n",
            "Ans:   mình thường hay đi quán the banned 1 usd hoặc café tươi mới \n",
            "Ans:   bản thân mình là con trai nên việc chơi game thì cũng có nhưng mình đã bỏ game từ năm lớp 11 rồi nên hiện tại mình rất ít chơi game vào lúc rảnh \n",
            "Ans:   thể thao cũng là một hình thức giải trí lành mạnh nhưng bản thân mình thì lại thích ngồi nói chuyện với bạn của mình hơn \n",
            "Ans:   người ta có câu thích là phải nói cũng như đói là phải ăn tiến tới đi thà mở lời để biết kết quả chứ không mở lại sao biết thành hay bại được \n",
            "Ans:   bản thân mình muốn mối quan hệ của mình là một mối quan hệ linh hoạt mình muốn cả 2 đều chủ động \n",
            "Ans:   thật ra không vế nào tốt hơn vế nào đâu cũng sẽ có niềm vui nỗi buồn trong đó tình yêu chỉ trọn vẹn khi người mình thích cũng thích mình \n",
            "Ans:   thiệt sự mà nói thì bản thân mình không có một tiêu chuẩn nào về phụ nữ mình yêu theo cảm tính nhìn thích thì mình sẽ thích khi thích một người thì họ chính là gu của mình \n",
            "Ans:   bạn thấy rất có lỗi với họ vì mình không thể đáp lại tình cảm của họ giành cho mình nhưng tình yêu mà nếu mình đáp lại hết thì khác nào mình là một người con trai tệ bạc \n",
            "Ans:   tao làm nhiều việc lắm \n",
            "Ans:   à thì xem tivi rồi chơi game rồi nghe nhạc \n",
            "Ans:   cái đó thì bạn rủ tao mới đi chứ thường tao ở nhà không à \n",
            "Ans:   tao hỏi để làm khảo sát cho tập dữ liệu của môn tao đang học \n",
            "Ans:   ok cảm ơn bạn hiền \n",
            "Ans:   tao đang rảnh nên cũng được \n",
            "Ans:   cái này thì dễ mà \n",
            "Ans:   bạn đó học ở khoa lao động công đoàn \n",
            "Ans:   tao gặp lúc học môn thái độ sống 3 chung với nguyên và mày đó \n",
            "Ans:   chưa luôn mới gặp mặt thôi à \n",
            "Ans:   mình rảnh thì mình sẽ chơi game và nghe nhạc \n",
            "Ans:   chắc chắn là ở nhà vì mình thích ở nhà \n",
            "Ans:   ngoài ra mình còn thích nấu ăn \n",
            "Ans:   đúng rồi \n",
            "Ans:   có mình thường rủ bạn bè ra ngoài ăn \n",
            "Ans:   học bài thì mình nghĩ là bận rồi \n",
            "Ans:   mình hay nghĩ về gia đình \n",
            "Ans:   mình thích đi ăn cùng người yêu \n",
            "Ans:   mình với người yêu hay đi ăn lẩu hoặc các món lề đường \n",
            "Ans:   có nhưng gần đây thì ít có lẽ do dịch \n",
            "Ans:   theo mình biết là hoa hồng \n",
            "Ans:   theo mình biết là không có đôi lúc hay giận dỗi \n",
            "Ans:   mình thường đi uốn nước cùng bạn bè thỉnh thoảng chơi một vài ván game \n",
            "Ans:   à mình thỉnh thoảng cũng có đi bơi \n",
            "Ans:   có mình hay chơi đấu trường chân lý game do riot phát hành \n",
            "Ans:   mình hay đi phượt xa thường là đà lạt \n",
            "Ans:   có mình nay sưu tầm lego \n",
            "Ans:   có mình thích nấu ăn và mình cũng hay nấu ăn khi rãnh rỗi \n",
            "Ans:   chúng mình có điểm chung là rất thích đi phượt đến những nơi xa \n",
            "Ans:   có chứ chúng mình rất hay ăn đêm cùng nhau \n",
            "Ans:   ừ hôm qua mình mới tỏ tình với crush và bị cô ấy từ chối \n",
            "Ans:   tùy mỗi người nhưng hợp nhau tự nhiên sẽ đến được với nhau thôi \n",
            "Ans:   không có đâu chúng mình chỉ là bạn bình thường thôi \n",
            "Ans:   có chứ mình thường hay tâm sự với những người bạn cùng phòng \n",
            "Ans:   xem phim đọc sách đi nhà sách \n",
            "Ans:   thường thì tao hay xem phim chiếu rạp phim lẻ tại xem phim bộ dài lắm \n",
            "Ans:   đi ra highland coffee gần nhà mình uống nước kìa có anh nhân viên cực kì đẹp trai mới tới làm \n",
            "Ans:   đi liền nhé \n",
            "Ans:   có phim mới ra hay lắm đi xem \n",
            "Ans:   cũng được mà kiếm chỗ rẻ rẻ nhen chứ đừng như bữa đi ăn hết 250k á \n",
            "Ans:   tiêu chuẩn của mình thì mũm mĩm cao và học giỏi \n",
            "Ans:   tại mình mũm mĩm \n",
            "Ans:   hiện tại thì chưa mình lo học \n",
            "Ans:   chắc vài năm nữa \n",
            "Ans:   mình không quan trọng quá vấn đề này mình nghĩ hơn nhau 1 2 tuổi cũng được \n",
            "Ans:   mình nghĩ cntt hoặc bác sĩ \n",
            "Ans:   mình nghĩ mình thích hiền dễ thương biết lắng nghe và hiểu chuyện \n",
            "Ans:   mình thường đọc truyện xem videos và chơi game \n",
            "Ans:   mình thường ra quán cà phê \n",
            "Ans:   đôi khi mình sẻ đi bơi với bạn của mình \n",
            "Ans:   ở hồ bơi gần nhà nhất nếu ở quê thì sẻ là biển \n",
            "Ans:   ngoài sách giáo khoa thì mình chưa đọc bao giờ \n",
            "Ans:   mình nghỉ sẻ có nhưng không phải lúc này vì mình chưa tìm được cuốn sách truyền cảm hứng \n",
            "Ans:   nếu bạn nghỉ nó phù hợp với mình thì mình rất sẳn lòng \n",
            "Ans:   hiện tại mình đã có người yêu rồi \n",
            "Ans:   chả ai yêu người xấu cả nếu có thì ít nhất trong mắt đối phương họ là người đẹp nhất \n",
            "Ans:   bọn mình quen nhau được 2 năm rồi \n",
            "Ans:   thường thì sẻ ăn uống và nói chuyện với nhau \n",
            "Ans:   nếu cả 2 không thay đổi thì đó là chuyện đương nhiên \n",
            "Ans:   à mình có cảm thấy say nắng bạn kia \n",
            "Ans:   mình crush bạn ấy cũng lâu rồi khoảng 3 tháng \n",
            "Ans:   thật ra tính cách mình cũng hơi nhát với lại mình cũng chưa biết cậu ấy có thích mình hay không nên mình chưa dám tỏ tình \n",
            "Ans:   mình cũng không biết nữa chắc do tính cách mình như vậy \n",
            "Ans:   với mình thì tình yêu nên được xây dựng từ sự tôn trọng của cả hai phía bên cạnh đó khi yêu nhau cũng cần biết để ý đến cảm xúc của nhau nghĩ cho nhau một cách tinh tế \n",
            "Ans:   trong mắt mình thì cô ấy cao ráo xinh đẹp nhưng lại hơi ngây thơ so với độ tuổi của cô ấy \n",
            "Ans:   chuyện đó thì mình cũng không biết nữa \n",
            "Ans:   crush mình được cái dễ ăn món gì ngon là ăn à \n",
            "Ans:   cô ấy cực ghét đồ ngọt và rau xanh cô ấykhông biết ăn gần như là tất cả các loại rau \n",
            "Ans:   cô ấy có thói quen ngủ nhiều cô ấy có thể ngủ hơn mười tiếng lận đấy \n",
            "Ans:   nhà crush tớ cũng ở củ chi luôn nè cách nhà tớ khoảng 15 phút đi xe \n",
            "Ans:   tớ thường tỉnh giấc vào lúc 8 giờ sáng \n",
            "Ans:   tớ thường lên giường ngủ lúc 12 giờ đêm \n",
            "Ans:   mình rất thích đi ăn cùng người yêu vì mình rất ghét đi ăn một mình \n",
            "Ans:   được thôi mình đi ăn lẩu teokbokki nha \n",
            "Ans:   ừ đúng rồi cái game ấy chơi vui lắm \n",
            "Ans:   mình cũng định học nhưng sau đó toàn kết thúc bằng việc lấy đàn ra gảy được hai ba cái xong lại cất vào \n",
            "Ans:   mình không thích nấu ăn bạn ơi \n",
            "Ans:   mình dạo này đang thích bộ mr queen á \n",
            "Ans:   mình và thể thao là hai đường thẳng song song bạn nha \n",
            "Ans:   mình nghe nhạc hoặc ngủ \n",
            "Ans:   mình thích nghe nhạc hoặc xem phim đôi khi là chơi game nha bạn \n",
            "Ans:   mình thích vẽ tranh nhưng mình vẽ xấu lắm nên mình không vẽ để bảo vệ con mắt của mình và người khác bạn nhé \n",
            "Ans:   mình thích đi ăn hoặc đi xem phim hoặc là đi du lịch cùng nhau hoặc nơi nào cũng được miễn là cùng nhau \n",
            "Ans:   miễn là cùng người yêu thì làm gì cũng thích \n",
            "Ans:   đâu cũng được nếu được thì đi du lịch vòng quanh thế giới \n",
            "Ans:   chạy deadline còn chưa xong thì crush ai hả bạn \n",
            "Ans:   là người quan tâm và yêu thương mình \n",
            "Ans:   mình hay đi chơi \n",
            "Ans:   minh đi chơi ở tiệm game \n",
            "Ans:   có và mình đang ở master rank 12 sắp lên 13 rồi \n",
            "Ans:   tất nhiên rồi \n",
            "Ans:   có \n",
            "Ans:   người minh thương \n",
            "Ans:   thì là người đó đó \n",
            "Ans:   bạn ntna đấy \n",
            "Ans:   mình mến bạn ấy được 1 năm rồi \n",
            "Ans:   mình xem một vài bộ phim hài hước nhẹ nhàng để thư giãn \n",
            "Ans:   mình đi ăn ở những nơi có thật nhiều đồ ăn ngon \n",
            "Ans:   mình muốn đi du lịch với gia đình nếu có nhiều tiền và cả gia đình mình đều rảnh không đơn giản chỉ cần về nhà với ba mẹ thôi \n",
            "Ans:   mình rất thích chơi với động vật khi rảnh như chó mèo vì chúng rất dễ thương và khi ngắm chúng đùa nghịch mình thấy thoải mái vui vẻ \n",
            "Ans:   mình có chơi game khi rảnh đôi khi chơi một vài game với bạn bè thì thấy thời gian trôi rất nhanh \n",
            "Ans:   khi crush thích bạn crush sẽ rep tin nhắn của bạn nhanh và luôn quan tâm đến bạn \n",
            "Ans:   người bạn thích là người bạn luôn nhớ đến và nghĩ xem giờ họ đang làm gì có nhớ đến bạn không \n",
            "Ans:   quà vật chất có thể quan trọng nhưng thêm một vài chi tiết như là làm một số đồ handmade sẽ giúp crush thấy được tấm lòng của bạn \n",
            "Ans:   tùy vào năng khiếu của bạn có thể là làm một tấm thiệp nhỏ xinh xắn hoặc nếu bạn và người đó thân nhau thì có thể thêm một tấm ảnh xinh xắn của bạn và crush kèm theo vài sticker xinh xẻo \n",
            "Ans:   có thể vào một ngày nắng đẹp bạn đi vứt rác \n",
            "Ans:   cần điểm rèn luyện để xét tốt nghiệp nhé \n",
            "Ans:   bạn cần theo dõi fanpage trường để đăng ký tham gia hoạt động \n",
            "Ans:   trường có thông báo cụ thể trên hệ thống thông tin sinh viên đó \n",
            "Ans:   thỉnh thoảng sẽ đi làm thêm \n",
            "Ans:   tôi đi làm tại quán cà phê hoặc chạy grab \n",
            "Ans:   có đi tham quan cảng nhà rồng được điểm rèn luyện \n",
            "Ans:   thình thoảng cũng có chơi game \n",
            "Ans:   tôi hay chơi game mobile \n",
            "Ans:   mình còn độc thân lấy đâu người yêu \n",
            "Ans:   có crush rồi trường mình toàn trai sinh gái đẹp không \n",
            "Ans:   cuộc thi rất hay nhưng có dịch bệnh \n",
            "Ans:   dịch đang khắc phục dự kiến cuối tháng là tổ chức rồi \n",
            "Ans:   mình không đủ tự tin về sắc đẹp bản thân \n",
            "Ans:   phim hay thì nhiều nhưng mày thích xem thể loại gì \n",
            "Ans:   mày thích xem phim lẻ hay phim bộ \n",
            "Ans:   mày xem phim người đẹp và quái vật đi hay lắm \n",
            "Ans:   xem đi tao kể cho mày xong thì còn gì xem nữa \n",
            "Ans:   xem xong đi tao giới thiệu cho vài bộ nữa hay lắm \n",
            "Ans:   sao vậy nè có gì kể tao nghe với \n",
            "Ans:   có phải mày đang thất tình phải không \n",
            "Ans:   trời tao mà bạn thân lâu năm sao không biết được \n",
            "Ans:   mày đã nhắn tin làm quen chưa \n",
            "Ans:   thích người ta thì phải mạnh dạn lên mà giờ người ta có người yêu rồi \n",
            "Ans:   có gì đâu mà buồn kiếm đứa khác thui lấy đó làm động lực phấn đấu đi \n",
            "Ans:   ok \n",
            "Ans:   phim hay thì nhiều nhưng mày thích xem thể loại gì \n",
            "Ans:   mày thích xem phim lẻ hay phim bộ \n",
            "Ans:   mày xem phim người đẹp và quái vật đi hay lắm \n",
            "Ans:   xem đi tao kể cho mày xong thì còn gì xem nữa \n",
            "Ans:   xem xong đi tao giới thiệu cho vài bộ nữa hay lắm \n",
            "Ans:   sao vậy nè có gì kể tao nghe với \n",
            "Ans:   có phải mày đang thất tình phải không \n",
            "Ans:   trời tao mà bạn thân lâu năm sao không biết được \n",
            "Ans:   mày đã nhắn tin làm quen chưa \n",
            "Ans:   thích người ta thì phải mạnh dạn lên mà giờ người ta có người yêu rồi \n",
            "Ans:   có gì đâu mà buồn kiếm đứa khác thui lấy đó làm động lực phấn đấu đi \n",
            "Ans:   ok \n",
            "Ans:   mình thường chơi game \n",
            "Ans:   mình có chơi bóng rổ \n",
            "Ans:   hồi trước mình có tập chơi nhưng giờ ít chơi rồi \n",
            "Ans:   mình thường chơi ở gần nhà hoặc ở trường \n",
            "Ans:   mình thường chơi vào thứ 3 và thứ 5 \n",
            "Ans:   mình chưa yêu ai bao giờ \n",
            "Ans:   mình chưa có người yêu \n",
            "Ans:   mình có từng thích một người \n",
            "Ans:   xinh đẹp đáng yêu \n",
            "Ans:   mình đã từng tỏ tình với 1 bạn nữ \n",
            "Ans:   chơi pubg với tụi tui nè đang thiếu 1 slot \n",
            "Ans:   tui thường chơi gần trường cũng rẻ lắm \n",
            "Ans:   ở gần nhà tui có một chỗ để tui nhắn địa chỉ cho ông \n",
            "Ans:   gần đây có quán karaoke nè hay qua đó đi \n",
            "Ans:   ok tại sao không \n",
            "Ans:   ừ hôm qua tui mới tỏ tình xong thì bị từ chối \n",
            "Ans:   thôi mua tốn tiền lắm mình đi ăn là được rồi \n",
            "Ans:   thiệt hả tui cũng có cảm tình với bạn đó mà chưa dám ngỏ lời \n",
            "Ans:   có đâu tụi tui chỉ là bạn thôi \n",
            "Ans:   gì tính cua người ta à người ta là hoa đã có chủ rồi \n",
            "Ans:   lúc rảnh thì mình đi chơi game \n",
            "Ans:   mình chơi game liên minh huyền thoại \n",
            "Ans:   minh chơi ở tiệm net 269 \n",
            "Ans:   có mình cũng thích đá banh \n",
            "Ans:   mình đá với lớp mình \n",
            "Ans:   người yêu thì mình chưa có nhưng crush thì mình có rồi \n",
            "Ans:   crush của mình rất là dễ thương \n",
            "Ans:   crush mình học khoa luật \n",
            "Ans:   tụi mình cũng đang trong giai đoạn tìm hiểu á \n",
            "Ans:   đang nhắn tin với bạn đó thôi \n",
            "Ans:   mình đang ở công viên 3 tháng 2 đây \n",
            "Ans:   biết chứ biết nhiều là đằng khác \n",
            "Ans:   không những nghe vào lúc rảnh mà nghe mọi lúc luôn \n",
            "Ans:   tôi thường chạy bộ vào những lúc rảnh rỗi \n",
            "Ans:   tôi làm gì có người yêu mà đi xem phim \n",
            "Ans:   biết một ít à \n",
            "Ans:   mình thường hẹn hò ở hồ con rùa \n",
            "Ans:   mình thích những người hoạt bát vui vẻ hòa đồng \n",
            "Ans:   đếm trên đầu ngón tay à bạn do mình là người sống hơi nội tâm \n",
            "Ans:   mình sẽ dẫn người yêu đi xem phim \n",
            "Ans:   không mình rất nhút nhát trong chuyện tình cảm nên mình muốn tìm một người chủ động để yêu \n",
            "Ans:   đối với mình chuyện đó cũng nhứ bình thường thôi \n",
            "Ans:   mình đang crush một bạn bạn có thể chỉ mình cách làm quen với bạn đó được không \n",
            "Ans:   mình cũng không nhớ rõ chắc là khoảng năm mình học lớp 11 \n",
            "Ans:   mình thường đọc tiểu thuyết và nghe nhạc \n",
            "Ans:   mình thường ở nhà \n",
            "Ans:   tao định đi xem phim với người yêu ở vivo city \n",
            "Ans:   tao định đi phượt xuống miền tây \n",
            "Ans:   đi luôn gửi địa chỉ cho tôi đi \n",
            "Ans:   ở đâu cho xin cái địa chỉ đi \n",
            "Ans:   chơi chứ ai sợ ai \n",
            "Ans:   tao vô game sẵn rồi chờ mày thôi \n",
            "Ans:   cũng được đó nhưng mà không phải gu của tao \n",
            "Ans:   đẹp hiền với vui tính là được \n",
            "Ans:   thôi mày ơi yêu đương gì tầm này \n",
            "Ans:   giờ tao cũng chưa biết nói chung có tiền đã \n",
            "Ans:   tao hay ăn đồ nướng rồi đi xem phim \n",
            "Ans:   mình thưởng giải trí bằng việc ngồi ở nhà choi game với bạn bè nhưng cũng có lúc mình đi ra ngoài giải trí \n",
            "Ans:   lúc rảnh rỗi thì mình thường chơi game \n",
            "Ans:   mình chơi game liên minh huyền thoại nhé \n",
            "Ans:   mình chơi game ở nhà nhé vì mình có máy tính xịn \n",
            "Ans:   mình là vua trò chơi bạn nhé \n",
            "Ans:   mình thường hay chơi môn đá bóng nhé bạn \n",
            "Ans:   mình rất hay chạy bộ tập thể dục với bạn bè \n",
            "Ans:   mình thường xuyên nghe nhạc nhé \n",
            "Ans:   mình chưa có người yêu bạn nhé \n",
            "Ans:   mình có crush rồi ạ \n",
            "Ans:   crush của mình xinh nhất thế giới nhé \n",
            "Ans:   dĩ nhiên là không rồi bạn \n",
            "Ans:   mình thường hay hẹn hò ở công viên bạn nhé \n",
            "Ans:   mình thường đi ăn uống nhé \n",
            "Ans:   mình thường đi xem phim nhé \n",
            "Ans:   crush của mình hơn mình lên đến tận 5 tuổi rưỡi \n",
            "Ans:   mình có \n",
            "Ans:   mình có \n",
            "Ans:   mình có \n",
            "Ans:   mình thích cả hai \n",
            "Ans:   mình ít khi quan tâm đến \n",
            "Ans:   bạn bè mình cũng ít khi quan tâm đến \n",
            "Ans:   mình có khá nhiều bạn thân \n",
            "Ans:   mình nghĩ sẽ thật tuyệt \n",
            "Ans:   mình không có nhiều bạn \n",
            "Ans:   mình có 3 người bạn thân \n",
            "Ans:   bạn bè bình thường thôi \n",
            "Ans:   em dành cả thanh xuân cho anh anh dành cả thanh xuân cho em chúng ta dành cả thanh xuân cho nhau mà không hề nghĩ suy \n",
            "Ans:   tùy vào tình huống của buổi đi chơi đó \n",
            "Ans:   mình không có nhiều bạn \n",
            "Ans:   mình có 1 người bạn thân \n",
            "Ans:   bạn bè bình thường thôi \n",
            "Ans:   mình không thích cái đó \n",
            "Ans:   quẩy hết mình \n",
            "Ans:   là bạn đấy \n",
            "Ans:    \n",
            "Ans:    \n",
            "Ans:    \n",
            "Ans:    \n",
            "Ans:    \n",
            "Ans:    \n",
            "Ans:   mình có những người bạn rất là vui \n",
            "Ans:   bạn bè thì phải luôn giúp đỡ lẫn nhau không làm trò hề \n",
            "Ans:   rất là tốt \n",
            "Ans:   có chứ mình có rất nhiều bạn bè xung quanh \n",
            "Ans:   tình bạn là san sẻ thấu hiểu nhau giúp đỡ nhau khi gặp khó khăn \n",
            "Ans:   mình sẽ chia sẽ cho bạn bè và họ sẽ cho mình những lời khuyên \n",
            "Ans:   đủ xài bạn ei \n",
            "Ans:   đi ăn uống nè đi du lịch nè vân vân \n",
            "Ans:   ăn là chính \n",
            "Ans:   mình thích thì mình kết bạn thôi \n",
            "Ans:   bạn đó tên thanh \n",
            "Ans:   hơn 10 năm nha \n",
            "Ans:   có mỗi quý một lần \n",
            "Ans:   nhiều tiền bao mình ăn nói chơi thôi thích thì chơi à \n",
            "Ans:   mình thấy bạn của mình toàn những đứa điên điên khùng khùng \n",
            "Ans:   đám bạn mình là chuyên gia cáu bẩn \n",
            "Ans:   bạn của mình tên đạt \n",
            "Ans:   mình chơi chung cũng khá lâu rồi \n",
            "Ans:   bạn đó hiền \n",
            "Ans:   mình có nhiều bạn \n",
            "Ans:   theo mình bạn bè là người thân \n",
            "Ans:   cũng nhiều \n",
            "Ans:   thích chứ \n",
            "Ans:   bạn thân mình học ở nhiều trường khác \n",
            "Ans:   ba n thân mi nh tên ba o \n",
            "Ans:   ăn sashimi \n",
            "Ans:   mình không thích ra đường nhiều nên 1 tuần mình chỉ đi chơi với bạn bè 8 lần \n",
            "Ans:   mình có gì để bạn bè lợi dụng ngoài chất xám \n",
            "Ans:   mình sẽ buồn \n",
            "Ans:   mình sẽ dùng machine learning để tính toán xem người ấy có đủ khả năng chi trả tiền vốn lẫn lời không \n",
            "Ans:   tiền bạc à theo quan điểm cá nhân mình thì tiền bạc cũng chính là một phần trong sợi dây ràng buộc giữa tình bạn đó bởi vậy nếu bạn muốn tiến xa với mối quan hệ nào thì cứ thoải mái cho người ấy mượn tiền nhưng hãy nhớ sử dụng thuật toán ml xem bạn của bạn có đủ sức trả tiền không nhé \n",
            "Ans:   mình và bạn bè thường dạo quanh thành phố vào ban đêm khi phố lên đèn \n",
            "Ans:   bạn bè là đồng chí là những người đồng hành cùng chúng ta trên cuộc đời \n",
            "Ans:   quan điểm của mình thì mình rất thích mqh kiểu như thế này không ràng buộc như người yêu và cũng không nhàm chán như tình bạn \n",
            "Ans:   mình cũng có khá nhiều bạn bè á hí hí \n",
            "Ans:   bạn bè của mình toàn dân chơi đồ với lại chăn rau thôi \n",
            "Ans:   bạn của mình quê ở nhơn trạch á \n",
            "Ans:   mình có rất ít bạn bè \n",
            "Ans:   mình cũng không biết nữa \n",
            "Ans:   mình thấy vui cho nó vì nó đã được giải thoát khỏi cuộc đời này \n",
            "Ans:   quan hệ của mình cũng tương đối rộng \n",
            "Ans:   đối với mình một người bạn tốt là người anh em chia nhau điếu thuốc bẻ nhau miếng bánh \n",
            "Ans:   thỉnh thoảng \n",
            "Ans:   vui vẻ hứng thú \n",
            "Ans:   bạn bè là những người luôn bên cạnh mình mọi lúc mọi nơi \n",
            "Ans:   mọi người ngoại trừ tên bảo \n",
            "Ans:   không \n",
            "Ans:   mình cảm thấy bình thường như mọi ngày \n",
            "Ans:   bạn thân nhất đang là người yêu của mình \n",
            "Ans:   ước mơ của mình là code giỏi thôi \n",
            "Ans:   mình chưa có được đi du lịch ở nước ngoài bao giờ nhưng trong nước thì mình cũng đi được nhiều rồi \n",
            "Ans:   mình chưa \n",
            "Ans:   hôm nay mình vẫn ổn cho tới khi mình trả lời câu hỏi này \n",
            "Ans:   cảm ơn bọn tớ đang có dự định kết hôn \n",
            "Ans:   tớ thích bạn ấy rồi đấy \n",
            "Ans:   có nó đẹp trai lắm \n",
            "Ans:   có tớ quen cả khoa luôn \n",
            "Ans:    \n",
            "Ans:    \n",
            "Ans:    \n",
            "Ans:    \n",
            "Ans:    \n",
            "Ans:   bạn thân mình tên trường \n",
            "Ans:   chỉ cần tốt là được \n",
            "Ans:   mình cảm thấy vui \n",
            "Ans:   bạn bè mình chưa có ai lập gia đình \n",
            "Ans:   mình vẫn còn liên lạc với bạn cũ \n",
            "Ans:   quan điểm của mình là không biết \n",
            "Ans:   mình cũng thường xuyên gặp bạn \n",
            "Ans:   không ít à \n",
            "Ans:   hỏi chi \n",
            "Ans:   có 4 người \n",
            "Ans:   những người vui vẻ biết lắng nghe \n",
            "Ans:   bình thường \n",
            "Ans:   ở chắc ít người nhưng thân \n",
            "Ans:   quá nhiều luôn nhưng rất ít bạn thân \n",
            "Ans:   bạn thân của tôi khang \n",
            "Ans:   đó là mình chứ ai \n",
            "Ans:   hướng nội trầm lắng sâu lắng \n",
            "Ans:   hướng nội \n",
            "Ans:   không ít à \n",
            "Ans:   hỏi chi \n",
            "Ans:   có 4 người \n",
            "Ans:   những người vui vẻ biết lắng nghe \n",
            "Ans:   bình thường \n",
            "Ans:   ở chắc ít người nhưng thân \n",
            "Ans:   có \n",
            "Ans:   rất có \n",
            "Ans:   có nhều bạn \n",
            "Ans:   rất nhiều \n",
            "Ans:   là bạn cấp 3 \n",
            "Ans:   là bạn hay chơi với tôi \n",
            "Ans:   có não \n",
            "Ans:   là bạn hay chơi với tôi \n",
            "Ans:   có não \n",
            "Ans:   15 năm \n",
            "Ans:   mình cũng không biết nữa \n",
            "Ans:   khùng điên \n",
            "Ans:   thường đi cà phê \n",
            "Ans:   mình có nhiều bạn bè ở trường chơi chung lắm \n",
            "Ans:   ai mình cũng thích chơi cả \n",
            "Ans:   bạn thân của mình tên là anh \n",
            "Ans:   có các môn học trên trường mình thường đăng ký chung với bạn mình \n",
            "Ans:   có mình thường xuyên đi chơi với bạn bè mình \n",
            "Ans:   có \n",
            "Ans:   có \n",
            "Ans:   nhiều \n",
            "Ans:   có \n",
            "Ans:   ton lộc \n",
            "Ans:   mình có nhiều bạn bè \n",
            "Ans:   bạn bè của mình ít chơi thể thao \n",
            "Ans:   nhiều bạn của mình bị dở người lắm \n",
            "Ans:   tớ có rất nhiều bạn \n",
            "Ans:   tớ chơi thân nhất với tom \n",
            "Ans:   tớ quan trọng lòng tin trong tình bạn \n",
            "Ans:   tớ cảm thấy khá ổn với các mối quan hệ \n",
            "Ans:   đa số bạn của tớ đều học chung trường với tớ \n",
            "Ans:   15 năm \n",
            "Ans:   mình cũng không biết nữa \n",
            "Ans:   khùng điên \n",
            "Ans:   thường đi cà phê \n",
            "Ans:   anh phạm văn truân \n",
            "Ans:   cao to đen hôi \n",
            "Ans:   trên tình bạn dưới tình yêu \n",
            "Ans:   để ăn bám là chủ yếu \n",
            "Ans:   đối với mình bạn bè chơi với nhau phải uy tín \n",
            "Ans:   mình không có nhiều bạn ở đại học nhưng chơi rất vui \n",
            "Ans:   hôm nay là một ngày khá vui với mình \n",
            "Ans:   mình chỉ chơi thân với tommy trong gta vice city thôi \n",
            "Ans:   bạn giải vậy là ổn quá rồi \n",
            "Ans:   mai mình ở nhà cả ngày bạn có muốn ra ngoài chill tí không \n",
            "Ans:   mình xem rồi nha \n",
            "Ans:   chắc do gen bạn đó \n",
            "Ans:   bạn mai béo như heo luôn chứ gầy gì trời \n",
            "Ans:   thường là những người thân thiện vui tánh \n",
            "Ans:   tụi mình thường đi quán cà phê \n",
            "Ans:   không ạ \n",
            "Ans:   tôi có 2 người bạn thân \n",
            "Ans:   cũng thường xuyên 1 tuần tôi đi tầm 3 lần \n",
            "Ans:   tôi nghĩ tụi nó bị khùng hay giỡn nhây với tôi lắm \n",
            "Ans:   có đấy hơn nữa chúng tôi còn học chung lớp với nhau \n",
            "Ans:   tôi nghĩ là chưa đâu \n",
            "Ans:   chúng tôi hay đi cà phê với nhau \n",
            "Ans:   tuy chúng nó hay chọc ghẹo tôi nhưng tôi vẫn rất quý bọn nó \n",
            "Ans:   tôi quan điểm chỉ cần trung thực với nhau là đủ \n",
            "Ans:   theo cảm nhận riêng thì mình thấy bạn là một người có thể tin tưởng để làm bạn được vì chúng ta có cùng sở thích \n",
            "Ans:   4 \n",
            "Ans:   sống cho bản thân không phải sống vì người khác mặc kệ lời thiên hạ nói \n",
            "Ans:   cày phim \n",
            "Ans:   hong có huhu \n",
            "Ans:   hong luôn huhu \n",
            "Ans:   đoán xem \n",
            "Ans:   đại học là học đại \n",
            "Ans:   đại học là học đại \n",
            "Ans:   cũng nhiều đó \n",
            "Ans:   cũng vui được cái rủ đi chơi quài không đi \n",
            "Ans:   đứa ở cà mau vài đứa sài gòn mấy đứa nữa ở miền tây \n",
            "Ans:   buồn lắm hehe \n",
            "Ans:   mất dạy \n",
            "Ans:   nhiều lắm \n",
            "Ans:   không bao giờ \n",
            "Ans:   có nhậu \n",
            "Ans:   chơi hàng tuần \n",
            "Ans:   có nhiều lắm \n",
            "Ans:   có nhiều lắm \n",
            "Ans:   có hang ngày \n",
            "Ans:   khùng khùng điên điên \n",
            "Ans:   hông nói \n",
            "Ans:   không chơi ma túy \n",
            "Ans:   có \n",
            "Ans:   tuyệt \n",
            "Ans:   chơi game \n",
            "Ans:   tâm sự \n",
            "Ans:   nhiều \n",
            "Ans:   khá cá tính \n",
            "Ans:   ko \n",
            "Ans:   xa lắm ông \n",
            "Ans:   cũng hơi nhiều \n",
            "Ans:   mười mấy 2 3 đứa \n",
            "Ans:   rủ quài không ai đi \n",
            "Ans:   là tui \n",
            "Ans:   hơn m được rồi phải không \n",
            "Ans:   ơ chia buồn cùng bạn bạn hãy sớm vượt qua đi nhé bạn rất tốt nhưng tui rất tiếc \n",
            "Ans:   mình không ghi được vì vô cực tràn bộ nhớ \n",
            "Ans:   mình chẳng những chơi búp bê mà còn quất khủng long siêu nhân gao \n",
            "Ans:   từ thời xa xưa 1 ngón với 1 ngón sẽ là 2 ngón \n",
            "Ans:   không sao rồi mọi chuyện sẽ qua thôi \n",
            "Ans:   không mình chỉ biết làm thơ mà thôi để mình đọc cho bạn nghe một đoạn thơ nhé \n",
            "Ans:   mình không biết hát nhưng mình có thể giới thiệu một số bài hát hay cho bạn \n",
            "Ans:   kiến thức là vô tận mình vẫn còn cần phải học nhiều lắm \n",
            "Ans:   1 với 1 là 2 \n",
            "Ans:   1 người với 1 người là một cặp đôi \n",
            "Ans:   mình đang trả lời những câu hỏi của bạn \n",
            "Ans:   1 2010 bằng 2011 \n",
            "Ans:   mình biết di chuyển làm việc nhà \n",
            "Ans:   câ u nên thôi bâ n tâm đê n no \n",
            "Ans:   tơ nghi câ u co thê đo c thêm sa ch \n",
            "Ans:   co le câ u câ n mô t giâ c ngu â m a p \n",
            "Ans:   mô t nô i lâ u co thê la y hay \n",
            "Ans:   tôi nghi câ u nên tra google \n",
            "Ans:   chào bạn tôi chưa có thông tin gì về bạn \n",
            "Ans:   dĩ nhiên là không rồi hãy hỏi câu hỏi khác \n",
            "Ans:   kết quả cho câu hỏi của bạn là 6 \n",
            "Ans:   kết của cho câu hỏi của bạn 45 25 20 \n",
            "Ans:   đà lạt là thành phố trực thuộc tỉnh lâm đồng \n",
            "Ans:   tôi chưa được học về rap nhưng có thể phát một vài bài nhạc \n",
            "Ans:   theo wikipedia đùa thôi chứ mình đây chưa có người yêu \n",
            "Ans:   tui không phải máy dự báo thời tiết nên không thể trả lời bạn được \n",
            "Ans:   không tính được mãi mãi không phải là đơn vị đo lường thời gian \n",
            "Ans:   tui không có tiền nên không bao được nha \n",
            "Ans:   không nha trà sữa không tốt cho sức khỏe bạn nên ăn trái cây đi \n",
            "Ans:   3 con \n",
            "Ans:   không ai ướt cả \n",
            "Ans:   9 cái nhà \n",
            "Ans:   cổ tay phải \n",
            "Ans:   cảm súc là khái niệm không thể định nghĩa với robot \n",
            "Ans:   mình thích con người \n",
            "Ans:   mình có thể giải đáp thắc mắc của bạn \n",
            "Ans:   mình tên là robotxyz \n",
            "Ans:   bạn đợi mình một lúc nhé \n",
            "Ans:   cũng không khó á bạn miễn bạn siêng là được \n",
            "Ans:   không đúng đâu bạn miễn bạn đẹp trai đẹp gái là được \n",
            "Ans:   rất hân hạnh ạ \n",
            "Ans:   mình nghĩ robot là người kiến tạo lên thế giới \n",
            "Ans:   mình thấy robot đáng tin mà \n",
            "Ans:   chắc chắn là được rồi bạn ạ \n",
            "Ans:   mình nghĩ mỹ là đất nước đầu ngành về robot \n",
            "Ans:   cách đây 1 năm trước tôi được xuất xưởng \n",
            "Ans:   tôi rất thích và rất muốn giúp đỡ con người \n",
            "Ans:   tôi muốn chứng minh bản thân \n",
            "Ans:   tôi chắc chắn chỉ cần cố gắng tôi có thể làm được \n",
            "Ans:   trong tác phẩm nghìn lẻ một đêm \n",
            "Ans:   robot rất chi là thông minh \n",
            "Ans:   người đang nói chuyện với mình chứ ai đây \n",
            "Ans:   robot thích alex của amazon nè \n",
            "Ans:   robot thích trò chuyện lắm bởi vì nó cải thiện được trí thông minh của robot \n",
            "Ans:   bài toán tám quân hậu có 12 lời giải khác nhau lời giải là a7 b1 c3 d8 e6 f4 g2 h5 \n",
            "Ans:   cờ vua có 32 quân cờ bao gồm vua hậu xe tượng mã tốt \n",
            "Ans:   trên thế giới có 6 châu lục và 5 đại dương \n",
            "Ans:   nam cực và bắc cực là hai nơi lạnh nhất trên trái đất nhưng nam cực lạnh hơn bắc cực vì bốn phía nam cực đều là đại dương \n",
            "Ans:   có 16 bịch bánh mà cô bé chưa ăn vì cô ăn hết 14 bịch \n",
            "Ans:   tuổi của an là 17 tuổi vì bình 6 tuổi thì an 3 tuổi \n",
            "Ans:   bạn sẽ đổi được 6 cái pizza vì 25 hộp pizza sẽ đổi được 5 hộp pizza mới và 5 hộp pizza mới đổi được thêm 1 một pizza \n",
            "Ans:   bạn đang xếp vị trí thứ 2 vì bạn đang thay thế vị trí người xếp thứ 2 \n",
            "Ans:   không vì 12h tối làm gì có nắng \n",
            "Ans:   mình biết tính toán cộng trừ nhân chia \n",
            "Ans:   ok bạn cho đề đi mình sẽ cố gắng thực hiện các phép tính cho bạn \n",
            "Ans:   đáp án tổng cộng của bạn là 11 nhé bạn còn hỏi gì nữa không \n",
            "Ans:   ôi tôi đã tính lại và kết quả không sai bạn xem kiểm tra lại xem \n",
            "Ans:   mình đang tiến hóa dần thuật toán có hạn mình chỉ làm các tác vụ cơ bản thôi cảm ơn \n",
            "Ans:   chào đô mình là karen \n",
            "Ans:   hiện tại bản thân mình chưa có thông tin nhiều về bạn bạn có thể cung cấp thông tin cho mình \n",
            "Ans:   theo thống kê thì đa số người việt nam sẽ dùng phúc long do giá thành rẻ hơn \n",
            "Ans:   rau là một thực phẩm rất tốt cho cơ thể nếu bạn không thích ăn thì bạn có thể dùng các thực phẩm chức năng để thay thế \n",
            "Ans:   thì là 2 chồng sách thôi \n",
            "Ans:   nếu bạn có che ô hay ngồi trong xe hơi thì không bị ướt \n",
            "Ans:   cần đem theo đồ bơi kính bơi và tiền mua vé vào hồ là được rồi \n",
            "Ans:   bạn nên làm những gì bạn cảm thấy thích để cải thiện việc khóc cũng là cách giải tỏa cảm xúc tốt \n",
            "Ans:   tất cả mọi lĩnh vực từ toán học đến cả sinh vật học \n",
            "Ans:   tất nhiên bạn là còn người \n",
            "Ans:   tôi có thể cảnh báo những nguy hiểm có thể xảy ra \n",
            "Ans:   chắc chắn là có \n",
            "Ans:   bất kỳ bài toán nào \n",
            "Ans:   nguyên liệu gồm có cánh gà nước mắm tiêu tỏi ớt đường \n",
            "Ans:   hai cộng ba bằng năm \n",
            "Ans:   điều anh luôn giữ kín trong tim của sơn tùng mtp \n",
            "Ans:   121 là số đối xứng \n",
            "Ans:   theo wikipedia thuyết tương đối miêu tả cấu trúc của không gian và thời gian trong một thực thể thống nhất là không thời gian cũng như giải thích bản chất của lực hấp dẫn là do sự uốn cong của không thời gian bởi vật chất và năng lượng thuyết tương đối gồm hai lý thuyết vật lý do albert einstein phát triển với thuyết tương đối đặc biệt công bố vào năm 1905 và thuyết tương đối tổng quát công bố vào cuối năm 1915 và đầu năm 1916 thuyết tương đối hẹp miêu tả hành xử của không gian và thời gian và những hiện tượng liên quan từ những quan sát viên chuyển động đều tương đối với nhau thuyết tương đối rộng tổng quát các hệ quy chiếu quán tính sang hệ quy chiếu chuyển động có gia tốc và bao gồm lực hấp dẫn giữa các khối lượng với nhau \n",
            "Ans:   gió bắt đầu từ áp suất khí quyển khi một sự khác biệt trong áp suất khí quyển tồn tại không khí di chuyển từ vùng có áp suất cao hơn đến các vùng áp suất thấp hơn dẫn đến những cơn gió có tốc độ khác nhau \n",
            "Ans:   chị như ạ \n",
            "Ans:   chị như luôn ạ \n",
            "Ans:   chính tôi robot nala \n",
            "Ans:   nắng vàng tươi ạ \n",
            "Ans:   hình cầu \n",
            "Ans:   bạn không thấy mục đích mình được tạo sao \n",
            "Ans:   bởi vì mình luôn rất tư tin với bản thân \n",
            "Ans:   chuyện nhỏ bạn có thể hỏi bất kỳ câu nào \n",
            "Ans:   chời dể quá 1 1 thì bằng 2 chứ mấy ba \n",
            "Ans:   có nếu bạn hiểu bạn sinh ra như thế nào \n",
            "Ans:   không tại những người thông minh sẻ không giao tiếp với người ngu và bạn đang giao tiếp với mình \n"
          ],
          "name": "stdout"
        },
        {
          "output_type": "error",
          "ename": "IndexError",
          "evalue": "ignored",
          "traceback": [
            "\u001b[0;31m---------------------------------------------------------------------------\u001b[0m",
            "\u001b[0;31mIndexError\u001b[0m                                Traceback (most recent call last)",
            "\u001b[0;32m<ipython-input-192-c7a73971793a>\u001b[0m in \u001b[0;36m<module>\u001b[0;34m()\u001b[0m\n\u001b[1;32m      5\u001b[0m   \u001b[0;32mfor\u001b[0m \u001b[0mi\u001b[0m \u001b[0;32min\u001b[0m \u001b[0mrange\u001b[0m\u001b[0;34m(\u001b[0m\u001b[0;36m0\u001b[0m\u001b[0;34m,\u001b[0m\u001b[0mlen\u001b[0m\u001b[0;34m(\u001b[0m\u001b[0mquestions_cleaned\u001b[0m\u001b[0;34m)\u001b[0m\u001b[0;34m-\u001b[0m\u001b[0;36m1\u001b[0m\u001b[0;34m)\u001b[0m \u001b[0;34m:\u001b[0m\u001b[0;34m\u001b[0m\u001b[0;34m\u001b[0m\u001b[0m\n\u001b[1;32m      6\u001b[0m     \u001b[0;32mif\u001b[0m\u001b[0;34m(\u001b[0m\u001b[0minput_seq\u001b[0m \u001b[0;34m==\u001b[0m \u001b[0mquestions_cleaned\u001b[0m\u001b[0;34m[\u001b[0m\u001b[0mi\u001b[0m\u001b[0;34m]\u001b[0m\u001b[0;34m)\u001b[0m\u001b[0;34m:\u001b[0m\u001b[0;34m\u001b[0m\u001b[0;34m\u001b[0m\u001b[0m\n\u001b[0;32m----> 7\u001b[0;31m       \u001b[0mdecoded_sentence\u001b[0m \u001b[0;34m=\u001b[0m \u001b[0mdecode_sequence\u001b[0m\u001b[0;34m(\u001b[0m\u001b[0minput_seq\u001b[0m\u001b[0;34m)\u001b[0m\u001b[0;34m\u001b[0m\u001b[0;34m\u001b[0m\u001b[0m\n\u001b[0m\u001b[1;32m      8\u001b[0m       \u001b[0mprint\u001b[0m\u001b[0;34m(\u001b[0m\u001b[0;34m\"Ans: \"\u001b[0m\u001b[0;34m,\u001b[0m\u001b[0mdecoded_sentence\u001b[0m\u001b[0;34m)\u001b[0m\u001b[0;34m\u001b[0m\u001b[0;34m\u001b[0m\u001b[0m\n\u001b[1;32m      9\u001b[0m \u001b[0;34m\u001b[0m\u001b[0m\n",
            "\u001b[0;32m<ipython-input-186-ff9fc38222df>\u001b[0m in \u001b[0;36mdecode_sequence\u001b[0;34m(input_seq)\u001b[0m\n\u001b[1;32m      3\u001b[0m \u001b[0;32mdef\u001b[0m \u001b[0mdecode_sequence\u001b[0m\u001b[0;34m(\u001b[0m\u001b[0minput_seq\u001b[0m\u001b[0;34m)\u001b[0m\u001b[0;34m:\u001b[0m\u001b[0;34m\u001b[0m\u001b[0;34m\u001b[0m\u001b[0m\n\u001b[1;32m      4\u001b[0m         \u001b[0;31m# Encode the input as state vectors.\u001b[0m\u001b[0;34m\u001b[0m\u001b[0;34m\u001b[0m\u001b[0;34m\u001b[0m\u001b[0m\n\u001b[0;32m----> 5\u001b[0;31m         \u001b[0mstates_value\u001b[0m \u001b[0;34m=\u001b[0m \u001b[0mencoder_model\u001b[0m\u001b[0;34m.\u001b[0m\u001b[0mpredict\u001b[0m\u001b[0;34m(\u001b[0m\u001b[0minput_seq\u001b[0m\u001b[0;34m)\u001b[0m\u001b[0;34m\u001b[0m\u001b[0;34m\u001b[0m\u001b[0m\n\u001b[0m\u001b[1;32m      6\u001b[0m \u001b[0;34m\u001b[0m\u001b[0m\n\u001b[1;32m      7\u001b[0m         \u001b[0;31m# Generate empty target sequence of length 1.\u001b[0m\u001b[0;34m\u001b[0m\u001b[0;34m\u001b[0m\u001b[0;34m\u001b[0m\u001b[0m\n",
            "\u001b[0;32m/usr/local/lib/python3.7/dist-packages/tensorflow/python/keras/engine/training.py\u001b[0m in \u001b[0;36mpredict\u001b[0;34m(self, x, batch_size, verbose, steps, callbacks, max_queue_size, workers, use_multiprocessing)\u001b[0m\n\u001b[1;32m   1606\u001b[0m           \u001b[0muse_multiprocessing\u001b[0m\u001b[0;34m=\u001b[0m\u001b[0muse_multiprocessing\u001b[0m\u001b[0;34m,\u001b[0m\u001b[0;34m\u001b[0m\u001b[0;34m\u001b[0m\u001b[0m\n\u001b[1;32m   1607\u001b[0m           \u001b[0mmodel\u001b[0m\u001b[0;34m=\u001b[0m\u001b[0mself\u001b[0m\u001b[0;34m,\u001b[0m\u001b[0;34m\u001b[0m\u001b[0;34m\u001b[0m\u001b[0m\n\u001b[0;32m-> 1608\u001b[0;31m           steps_per_execution=self._steps_per_execution)\n\u001b[0m\u001b[1;32m   1609\u001b[0m \u001b[0;34m\u001b[0m\u001b[0m\n\u001b[1;32m   1610\u001b[0m       \u001b[0;31m# Container that configures and calls `tf.keras.Callback`s.\u001b[0m\u001b[0;34m\u001b[0m\u001b[0;34m\u001b[0m\u001b[0;34m\u001b[0m\u001b[0m\n",
            "\u001b[0;32m/usr/local/lib/python3.7/dist-packages/tensorflow/python/keras/engine/data_adapter.py\u001b[0m in \u001b[0;36m__init__\u001b[0;34m(self, x, y, sample_weight, batch_size, steps_per_epoch, initial_epoch, epochs, shuffle, class_weight, max_queue_size, workers, use_multiprocessing, model, steps_per_execution)\u001b[0m\n\u001b[1;32m   1110\u001b[0m         \u001b[0muse_multiprocessing\u001b[0m\u001b[0;34m=\u001b[0m\u001b[0muse_multiprocessing\u001b[0m\u001b[0;34m,\u001b[0m\u001b[0;34m\u001b[0m\u001b[0;34m\u001b[0m\u001b[0m\n\u001b[1;32m   1111\u001b[0m         \u001b[0mdistribution_strategy\u001b[0m\u001b[0;34m=\u001b[0m\u001b[0mds_context\u001b[0m\u001b[0;34m.\u001b[0m\u001b[0mget_strategy\u001b[0m\u001b[0;34m(\u001b[0m\u001b[0;34m)\u001b[0m\u001b[0;34m,\u001b[0m\u001b[0;34m\u001b[0m\u001b[0;34m\u001b[0m\u001b[0m\n\u001b[0;32m-> 1112\u001b[0;31m         model=model)\n\u001b[0m\u001b[1;32m   1113\u001b[0m \u001b[0;34m\u001b[0m\u001b[0m\n\u001b[1;32m   1114\u001b[0m     \u001b[0mstrategy\u001b[0m \u001b[0;34m=\u001b[0m \u001b[0mds_context\u001b[0m\u001b[0;34m.\u001b[0m\u001b[0mget_strategy\u001b[0m\u001b[0;34m(\u001b[0m\u001b[0;34m)\u001b[0m\u001b[0;34m\u001b[0m\u001b[0;34m\u001b[0m\u001b[0m\n",
            "\u001b[0;32m/usr/local/lib/python3.7/dist-packages/tensorflow/python/keras/engine/data_adapter.py\u001b[0m in \u001b[0;36m__init__\u001b[0;34m(self, x, y, sample_weights, sample_weight_modes, batch_size, shuffle, **kwargs)\u001b[0m\n\u001b[1;32m    648\u001b[0m         \u001b[0mbatch_size\u001b[0m\u001b[0;34m=\u001b[0m\u001b[0mbatch_size\u001b[0m\u001b[0;34m,\u001b[0m\u001b[0;34m\u001b[0m\u001b[0;34m\u001b[0m\u001b[0m\n\u001b[1;32m    649\u001b[0m         \u001b[0mshuffle\u001b[0m\u001b[0;34m=\u001b[0m\u001b[0mshuffle\u001b[0m\u001b[0;34m,\u001b[0m\u001b[0;34m\u001b[0m\u001b[0;34m\u001b[0m\u001b[0m\n\u001b[0;32m--> 650\u001b[0;31m         **kwargs)\n\u001b[0m\u001b[1;32m    651\u001b[0m \u001b[0;34m\u001b[0m\u001b[0m\n\u001b[1;32m    652\u001b[0m   \u001b[0;32mdef\u001b[0m \u001b[0mget_dataset\u001b[0m\u001b[0;34m(\u001b[0m\u001b[0mself\u001b[0m\u001b[0;34m)\u001b[0m\u001b[0;34m:\u001b[0m\u001b[0;34m\u001b[0m\u001b[0;34m\u001b[0m\u001b[0m\n",
            "\u001b[0;32m/usr/local/lib/python3.7/dist-packages/tensorflow/python/keras/engine/data_adapter.py\u001b[0m in \u001b[0;36m__init__\u001b[0;34m(self, x, y, sample_weights, sample_weight_modes, batch_size, epochs, steps, shuffle, **kwargs)\u001b[0m\n\u001b[1;32m    271\u001b[0m     \u001b[0minputs\u001b[0m \u001b[0;34m=\u001b[0m \u001b[0mpack_x_y_sample_weight\u001b[0m\u001b[0;34m(\u001b[0m\u001b[0mx\u001b[0m\u001b[0;34m,\u001b[0m \u001b[0my\u001b[0m\u001b[0;34m,\u001b[0m \u001b[0msample_weights\u001b[0m\u001b[0;34m)\u001b[0m\u001b[0;34m\u001b[0m\u001b[0;34m\u001b[0m\u001b[0m\n\u001b[1;32m    272\u001b[0m \u001b[0;34m\u001b[0m\u001b[0m\n\u001b[0;32m--> 273\u001b[0;31m     \u001b[0mnum_samples\u001b[0m \u001b[0;34m=\u001b[0m \u001b[0mset\u001b[0m\u001b[0;34m(\u001b[0m\u001b[0mint\u001b[0m\u001b[0;34m(\u001b[0m\u001b[0mi\u001b[0m\u001b[0;34m.\u001b[0m\u001b[0mshape\u001b[0m\u001b[0;34m[\u001b[0m\u001b[0;36m0\u001b[0m\u001b[0;34m]\u001b[0m\u001b[0;34m)\u001b[0m \u001b[0;32mfor\u001b[0m \u001b[0mi\u001b[0m \u001b[0;32min\u001b[0m \u001b[0mnest\u001b[0m\u001b[0;34m.\u001b[0m\u001b[0mflatten\u001b[0m\u001b[0;34m(\u001b[0m\u001b[0minputs\u001b[0m\u001b[0;34m)\u001b[0m\u001b[0;34m)\u001b[0m\u001b[0;34m.\u001b[0m\u001b[0mpop\u001b[0m\u001b[0;34m(\u001b[0m\u001b[0;34m)\u001b[0m\u001b[0;34m\u001b[0m\u001b[0;34m\u001b[0m\u001b[0m\n\u001b[0m\u001b[1;32m    274\u001b[0m     \u001b[0m_check_data_cardinality\u001b[0m\u001b[0;34m(\u001b[0m\u001b[0minputs\u001b[0m\u001b[0;34m)\u001b[0m\u001b[0;34m\u001b[0m\u001b[0;34m\u001b[0m\u001b[0m\n\u001b[1;32m    275\u001b[0m \u001b[0;34m\u001b[0m\u001b[0m\n",
            "\u001b[0;32m/usr/local/lib/python3.7/dist-packages/tensorflow/python/keras/engine/data_adapter.py\u001b[0m in \u001b[0;36m<genexpr>\u001b[0;34m(.0)\u001b[0m\n\u001b[1;32m    271\u001b[0m     \u001b[0minputs\u001b[0m \u001b[0;34m=\u001b[0m \u001b[0mpack_x_y_sample_weight\u001b[0m\u001b[0;34m(\u001b[0m\u001b[0mx\u001b[0m\u001b[0;34m,\u001b[0m \u001b[0my\u001b[0m\u001b[0;34m,\u001b[0m \u001b[0msample_weights\u001b[0m\u001b[0;34m)\u001b[0m\u001b[0;34m\u001b[0m\u001b[0;34m\u001b[0m\u001b[0m\n\u001b[1;32m    272\u001b[0m \u001b[0;34m\u001b[0m\u001b[0m\n\u001b[0;32m--> 273\u001b[0;31m     \u001b[0mnum_samples\u001b[0m \u001b[0;34m=\u001b[0m \u001b[0mset\u001b[0m\u001b[0;34m(\u001b[0m\u001b[0mint\u001b[0m\u001b[0;34m(\u001b[0m\u001b[0mi\u001b[0m\u001b[0;34m.\u001b[0m\u001b[0mshape\u001b[0m\u001b[0;34m[\u001b[0m\u001b[0;36m0\u001b[0m\u001b[0;34m]\u001b[0m\u001b[0;34m)\u001b[0m \u001b[0;32mfor\u001b[0m \u001b[0mi\u001b[0m \u001b[0;32min\u001b[0m \u001b[0mnest\u001b[0m\u001b[0;34m.\u001b[0m\u001b[0mflatten\u001b[0m\u001b[0;34m(\u001b[0m\u001b[0minputs\u001b[0m\u001b[0;34m)\u001b[0m\u001b[0;34m)\u001b[0m\u001b[0;34m.\u001b[0m\u001b[0mpop\u001b[0m\u001b[0;34m(\u001b[0m\u001b[0;34m)\u001b[0m\u001b[0;34m\u001b[0m\u001b[0;34m\u001b[0m\u001b[0m\n\u001b[0m\u001b[1;32m    274\u001b[0m     \u001b[0m_check_data_cardinality\u001b[0m\u001b[0;34m(\u001b[0m\u001b[0minputs\u001b[0m\u001b[0;34m)\u001b[0m\u001b[0;34m\u001b[0m\u001b[0;34m\u001b[0m\u001b[0m\n\u001b[1;32m    275\u001b[0m \u001b[0;34m\u001b[0m\u001b[0m\n",
            "\u001b[0;32m/usr/local/lib/python3.7/dist-packages/tensorflow/python/framework/tensor_shape.py\u001b[0m in \u001b[0;36m__getitem__\u001b[0;34m(self, key)\u001b[0m\n\u001b[1;32m    887\u001b[0m       \u001b[0;32melse\u001b[0m\u001b[0;34m:\u001b[0m\u001b[0;34m\u001b[0m\u001b[0;34m\u001b[0m\u001b[0m\n\u001b[1;32m    888\u001b[0m         \u001b[0;32mif\u001b[0m \u001b[0mself\u001b[0m\u001b[0;34m.\u001b[0m\u001b[0m_v2_behavior\u001b[0m\u001b[0;34m:\u001b[0m\u001b[0;34m\u001b[0m\u001b[0;34m\u001b[0m\u001b[0m\n\u001b[0;32m--> 889\u001b[0;31m           \u001b[0;32mreturn\u001b[0m \u001b[0mself\u001b[0m\u001b[0;34m.\u001b[0m\u001b[0m_dims\u001b[0m\u001b[0;34m[\u001b[0m\u001b[0mkey\u001b[0m\u001b[0;34m]\u001b[0m\u001b[0;34m.\u001b[0m\u001b[0mvalue\u001b[0m\u001b[0;34m\u001b[0m\u001b[0;34m\u001b[0m\u001b[0m\n\u001b[0m\u001b[1;32m    890\u001b[0m         \u001b[0;32melse\u001b[0m\u001b[0;34m:\u001b[0m\u001b[0;34m\u001b[0m\u001b[0;34m\u001b[0m\u001b[0m\n\u001b[1;32m    891\u001b[0m           \u001b[0;32mreturn\u001b[0m \u001b[0mself\u001b[0m\u001b[0;34m.\u001b[0m\u001b[0m_dims\u001b[0m\u001b[0;34m[\u001b[0m\u001b[0mkey\u001b[0m\u001b[0;34m]\u001b[0m\u001b[0;34m\u001b[0m\u001b[0;34m\u001b[0m\u001b[0m\n",
            "\u001b[0;31mIndexError\u001b[0m: list index out of range"
          ]
        }
      ]
    },
    {
      "cell_type": "code",
      "metadata": {
        "colab": {
          "base_uri": "https://localhost:8080/"
        },
        "id": "jVjPgNVv0GpE",
        "outputId": "641a853d-4fb2-43ef-c063-94887f32342a"
      },
      "source": [
        "# Predict the target sentence and compare with the actual target sentence given a source sentence\n",
        "k+=1\n",
        "(input_seq, actual_output), target_output = next(train_gen)\n",
        "decoded_sentence = decode_sequence(input_seq)\n",
        "print('Input Source sentence:',questions_cleaned[k:k+1][0])\n",
        "print('Actual Target Sentence:', answers_cleaned[k:k+1][0][5:-5])\n",
        "print('Predicted Target Sentence:', decoded_sentence)"
      ],
      "execution_count": 190,
      "outputs": [
        {
          "output_type": "stream",
          "text": [
            "Input Source sentence: bạn thấy trường mình còn thiếu gì không\n",
            "Actual Target Sentence:  còn thiếu mình học nữa \n",
            "Predicted Target Sentence:   mình <OUT> <OUT> <OUT> <OUT> <OUT> <OUT> <OUT> <OUT> <OUT> <OUT> <OUT> <OUT> <OUT> <OUT> <OUT> <OUT> <OUT> <OUT> <OUT> <OUT> <OUT> <OUT> <OUT> <OUT> <OUT>\n"
          ],
          "name": "stdout"
        }
      ]
    }
  ]
}